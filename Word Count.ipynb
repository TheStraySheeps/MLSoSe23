{
 "cells": [
  {
   "cell_type": "code",
   "execution_count": 43,
   "id": "13c1c1dc",
   "metadata": {},
   "outputs": [],
   "source": [
    "import nbformat\n",
    "import re"
   ]
  },
  {
   "cell_type": "code",
   "execution_count": 44,
   "id": "ea3b5fa4",
   "metadata": {},
   "outputs": [],
   "source": [
    "def count_words_in_notebook(notebook_path):\n",
    "    with open(notebook_path) as f:\n",
    "        nb = nbformat.read(f, as_version=4)\n",
    "\n",
    "    word_count = 0\n",
    "\n",
    "    for cell in nb.cells:\n",
    "        if cell.cell_type == \"markdown\":\n",
    "            # Entfernen von HTML-Tags mit Regex\n",
    "            text_without_html = re.sub('<.*?>', '', cell.source)\n",
    "            word_count += len(text_without_html.split())\n",
    "\n",
    "    return word_count"
   ]
  },
  {
   "cell_type": "code",
   "execution_count": 45,
   "id": "3478b6f5",
   "metadata": {},
   "outputs": [
    {
     "data": {
      "text/plain": [
       "1879"
      ]
     },
     "execution_count": 45,
     "metadata": {},
     "output_type": "execute_result"
    }
   ],
   "source": [
    "count_words_in_notebook(\"whats_cooking.ipynb\")"
   ]
  },
  {
   "cell_type": "code",
   "execution_count": null,
   "id": "d070aa05",
   "metadata": {},
   "outputs": [],
   "source": []
  }
 ],
 "metadata": {
  "kernelspec": {
   "display_name": "Python 3",
   "language": "python",
   "name": "python3"
  },
  "language_info": {
   "codemirror_mode": {
    "name": "ipython",
    "version": 3
   },
   "file_extension": ".py",
   "mimetype": "text/x-python",
   "name": "python",
   "nbconvert_exporter": "python",
   "pygments_lexer": "ipython3",
   "version": "3.8.8"
  }
 },
 "nbformat": 4,
 "nbformat_minor": 5
}
