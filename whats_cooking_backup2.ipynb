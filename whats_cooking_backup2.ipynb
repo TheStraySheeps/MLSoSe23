{
 "cells": [
  {
   "cell_type": "markdown",
   "metadata": {},
   "source": [
    "<div style=\"background-color: #30475e; padding: 20px; color: white; border-radius: 15px;\">\n",
    "    <h1 style=\"color: #f8a07e;\"><center>Regionale Küche durch Zutaten erkennen</center></h1>\n",
    "    <hr style=\"border-color: #f8a07e;\">\n",
    "    <div style=\"font-size:20px; text-align: center;\">\n",
    "        <b style=\"color: #ece8d9;\">Verfasser:</b> Daniel Lange<br>\n",
    "        <b style=\"color: #ece8d9;\">Fach:</b> Machine Learning SoSe2023<br>\n",
    "        <b style=\"color: #ece8d9;\">Hochschule:</b> Fachhochschule Südwestfalen<br>\n",
    "        <b style=\"color: #ece8d9;\">Datum:</b> 06.08.2023<br>\n",
    "    </div>\n",
    "</div>\n"
   ]
  },
  {
   "cell_type": "markdown",
   "metadata": {},
   "source": [
    "<img src=\"lily-banse--YHSwy6uqvk-unsplash_image.jpg\"/>"
   ]
  },
  {
   "cell_type": "markdown",
   "metadata": {},
   "source": [
    "<div style=\"background-color: #30475e; padding: 20px; color: white; border-radius: 15px;\">\n",
    "    <h2 style=\"color: #f8a07e;\"><center>Inhaltsverzeichnis</center></h2>\n",
    "    <hr style=\"border-color: #f8a07e;\">\n",
    "    <div style=\"font-size:20px; text-align: left;\">\n",
    "        <a href=\"#section1\" style=\"color: #ece8d9;\">1. Einführung</a><br>\n",
    "        <a href=\"#section2\" style=\"color: #ece8d9;\">2. Datensatz</a><br>\n",
    "        <a href=\"#section3\" style=\"color: #ece8d9;\">3. Explorative Datenanalyse</a><br>\n",
    "        <a href=\"#section4\" style=\"color: #ece8d9;\">4. Iterative Modellentwicklung</a><br>\n",
    "        <a href=\"#section5\" style=\"color: #ece8d9;\">5. Diskussion und Interpretation der Ergebnisse</a><br>\n",
    "        <a href=\"#section6\" style=\"color: #ece8d9;\">6. Schlussfolgerung und zukünftige Arbeit</a><br>\n",
    "        <a href=\"#section7\" style=\"color: #ece8d9;\">7. Referenzen</a><br>\n",
    "    </div>\n",
    "</div>\n"
   ]
  },
  {
   "cell_type": "markdown",
   "metadata": {},
   "source": [
    "<a id=\"section1\"></a>\n",
    "<div style=\"background-color: #30475e; padding: 20px; margin-top: 140px; color: white; border-radius: 15px;\">\n",
    "    <h2 style=\"color: #f8a07e;\"><center>1. Einführung</center></h2>\n",
    "</div>"
   ]
  },
  {
   "cell_type": "markdown",
   "metadata": {},
   "source": [
    "<a id=\"section2\"></a>\n",
    "<div style=\"background-color: #30475e; padding: 20px; margin-top: 140px; color: white; border-radius: 15px;\">\n",
    "    <h2 style=\"color: #f8a07e;\"><center>2. Datensatz</center></h2>\n",
    "</div>"
   ]
  },
  {
   "cell_type": "markdown",
   "metadata": {},
   "source": [
    "Der Datensatz der in dieser Arbeit untersucht wird stammt aus dem \"What's Cooking\" Wettbewerb von der kompetetiven Data Science Plattform Kaggle. Bereitgestellt wurde er durch \"Yummly.com\". Die Plattform hat sich selber die Aufgabe gesetzt mit Big Data die intelligenteste und hilfreichste Plattform für Essen zu werden <a href=\"#section7\" style=\"color: #f8a07e;\">[1]</a>.\n",
    "\n",
    "Es wurden auf Kaggle zwei Dateien bereitgestellt: \"train.json\" und \"test.json\". Letztere enthält keine Zielspalte und ist nur für die Bewertung auf Kaggle interessant.\n",
    "\n",
    "Zu jedem Datenpunkt in der \"train.json\" gibt es drei Schlüssel:\n",
    "- 'id': Eine eindeutige Identifikationsnummer für das jeweilige Rezept\n",
    "- 'cuisine': Die Küche bzw. die Region welche die Herkunft des Rezepts angibt\n",
    "- 'ingredients': Die Liste der Zutaten, welche für das Rezept benötigt werden\n",
    "\n",
    "Insgesamt enthält der Datensatz 39.774 Einträge."
   ]
  },
  {
   "cell_type": "markdown",
   "metadata": {},
   "source": [
    "<a id=\"section3\"></a>\n",
    "<div style=\"background-color: #30475e; padding: 20px; margin-top: 140px; color: white; border-radius: 15px;\">\n",
    "    <h2 style=\"color: #f8a07e;\"><center>3. Explorative Datenanalyse</center></h2>\n",
    "</div>"
   ]
  },
  {
   "cell_type": "markdown",
   "metadata": {},
   "source": [
    "In diesem Abschnitt wird die Explorative Datenanalyse durchgeführt. Das Ziel davon ist es die Daten zu visualisieren und zusammenzufassen um eine Intuition für das Projekt aufzubauen <a href=\"#section7\" style=\"color: #f8a07e;\">[2]</a>. Es ist der erste Schritt in jedem Projekt, welches mit Daten zutun hat <a href=\"#section7\" style=\"color: #f8a07e;\">[2]</a>."
   ]
  },
  {
   "cell_type": "markdown",
   "metadata": {},
   "source": [
    "Zunächst werden alle benötigten Imports ausgeführt."
   ]
  },
  {
   "cell_type": "code",
   "execution_count": 48,
   "metadata": {},
   "outputs": [],
   "source": [
    "import pandas as pd\n",
    "import json\n",
    "from collections import Counter\n",
    "from itertools import chain\n",
    "import matplotlib.pyplot as plt\n",
    "import squarify\n",
    "import numpy as np\n",
    "import seaborn as sns\n",
    "import random\n",
    "from matplotlib import font_manager\n",
    "import dask.dataframe as dd\n",
    "from sklearn.model_selection import train_test_split\n",
    "from sklearn.linear_model import LogisticRegression\n",
    "from sklearn.metrics import accuracy_score\n",
    "from sklearn.base import BaseEstimator, TransformerMixin\n",
    "from sklearn.ensemble import RandomForestClassifier\n",
    "from sklearn.feature_selection import RFECV\n",
    "from sklearn.model_selection import StratifiedKFold\n",
    "from sklearn.feature_selection import VarianceThreshold, SelectKBest, chi2\n",
    "from sklearn.pipeline import Pipeline\n",
    "from sklearn.feature_extraction.text import CountVectorizer, TfidfVectorizer\n",
    "from sklearn.svm import SVC, LinearSVC\n",
    "from sklearn.ensemble import VotingClassifier\n",
    "from sklearn.pipeline import make_pipeline\n",
    "from sklearn.preprocessing import StandardScaler\n",
    "from sklearn.calibration import CalibratedClassifierCV\n",
    "import optuna\n",
    "import re"
   ]
  },
  {
   "cell_type": "markdown",
   "metadata": {},
   "source": [
    "\"Chained Assignment\" Warnungen werden als nächstes ausgestellt:"
   ]
  },
  {
   "cell_type": "code",
   "execution_count": 10,
   "metadata": {},
   "outputs": [],
   "source": [
    "pd.options.mode.chained_assignment = None"
   ]
  },
  {
   "cell_type": "markdown",
   "metadata": {},
   "source": [
    "In diesem Schritt wird die JSON Datei mit dem Datensatz eingelesen:"
   ]
  },
  {
   "cell_type": "code",
   "execution_count": 11,
   "metadata": {},
   "outputs": [],
   "source": [
    "with open('train.json') as raw_train:\n",
    "    train_json = json.load(raw_train)"
   ]
  },
  {
   "cell_type": "markdown",
   "metadata": {},
   "source": [
    "Die \"json_normalize\" Methode von Pandas kann verwendet werden um eine semi-strukturierte JSON Datei in ein flaches Dataframe zu konvertieren."
   ]
  },
  {
   "cell_type": "code",
   "execution_count": 12,
   "metadata": {},
   "outputs": [],
   "source": [
    "train = pd.json_normalize(train_json)"
   ]
  },
  {
   "cell_type": "markdown",
   "metadata": {},
   "source": [
    "## Explorative Datenanalyse"
   ]
  },
  {
   "cell_type": "markdown",
   "metadata": {},
   "source": [
    "Nach dem einlesen können die ersten 5 Zeilen des Dataframes ausgeben werden, um die Struktur des Datensatzes besser zu verstehen."
   ]
  },
  {
   "cell_type": "code",
   "execution_count": 5,
   "metadata": {},
   "outputs": [
    {
     "data": {
      "text/html": [
       "<div>\n",
       "<style scoped>\n",
       "    .dataframe tbody tr th:only-of-type {\n",
       "        vertical-align: middle;\n",
       "    }\n",
       "\n",
       "    .dataframe tbody tr th {\n",
       "        vertical-align: top;\n",
       "    }\n",
       "\n",
       "    .dataframe thead th {\n",
       "        text-align: right;\n",
       "    }\n",
       "</style>\n",
       "<table border=\"1\" class=\"dataframe\">\n",
       "  <thead>\n",
       "    <tr style=\"text-align: right;\">\n",
       "      <th></th>\n",
       "      <th>id</th>\n",
       "      <th>cuisine</th>\n",
       "      <th>ingredients</th>\n",
       "    </tr>\n",
       "  </thead>\n",
       "  <tbody>\n",
       "    <tr>\n",
       "      <th>0</th>\n",
       "      <td>10259</td>\n",
       "      <td>greek</td>\n",
       "      <td>[romaine lettuce, black olives, grape tomatoes...</td>\n",
       "    </tr>\n",
       "    <tr>\n",
       "      <th>1</th>\n",
       "      <td>25693</td>\n",
       "      <td>southern_us</td>\n",
       "      <td>[plain flour, ground pepper, salt, tomatoes, g...</td>\n",
       "    </tr>\n",
       "    <tr>\n",
       "      <th>2</th>\n",
       "      <td>20130</td>\n",
       "      <td>filipino</td>\n",
       "      <td>[eggs, pepper, salt, mayonaise, cooking oil, g...</td>\n",
       "    </tr>\n",
       "    <tr>\n",
       "      <th>3</th>\n",
       "      <td>22213</td>\n",
       "      <td>indian</td>\n",
       "      <td>[water, vegetable oil, wheat, salt]</td>\n",
       "    </tr>\n",
       "    <tr>\n",
       "      <th>4</th>\n",
       "      <td>13162</td>\n",
       "      <td>indian</td>\n",
       "      <td>[black pepper, shallots, cornflour, cayenne pe...</td>\n",
       "    </tr>\n",
       "  </tbody>\n",
       "</table>\n",
       "</div>"
      ],
      "text/plain": [
       "      id      cuisine                                        ingredients\n",
       "0  10259        greek  [romaine lettuce, black olives, grape tomatoes...\n",
       "1  25693  southern_us  [plain flour, ground pepper, salt, tomatoes, g...\n",
       "2  20130     filipino  [eggs, pepper, salt, mayonaise, cooking oil, g...\n",
       "3  22213       indian                [water, vegetable oil, wheat, salt]\n",
       "4  13162       indian  [black pepper, shallots, cornflour, cayenne pe..."
      ]
     },
     "execution_count": 5,
     "metadata": {},
     "output_type": "execute_result"
    }
   ],
   "source": [
    "train.head()"
   ]
  },
  {
   "cell_type": "markdown",
   "metadata": {},
   "source": [
    "Wie bereits beschrieben besteht der Datensatz aus den drei Spalten: 'id', 'cuisine' und 'ingredients'.\n",
    "Hierbei ist zu beachten das in 'ingredients' immer ein Listenobjekt mit den Zutaten ist."
   ]
  },
  {
   "cell_type": "markdown",
   "metadata": {},
   "source": [
    "Im nächsten Schritt wird ermittelt wie oft jede unterschiedliche Küche im Datensatz vorkommt."
   ]
  },
  {
   "cell_type": "code",
   "execution_count": 6,
   "metadata": {},
   "outputs": [
    {
     "name": "stdout",
     "output_type": "stream",
     "text": [
      "cuisine\n",
      "italian         7838\n",
      "mexican         6438\n",
      "southern_us     4320\n",
      "indian          3003\n",
      "chinese         2673\n",
      "french          2646\n",
      "cajun_creole    1546\n",
      "thai            1539\n",
      "japanese        1423\n",
      "greek           1175\n",
      "spanish          989\n",
      "korean           830\n",
      "vietnamese       825\n",
      "moroccan         821\n",
      "british          804\n",
      "filipino         755\n",
      "irish            667\n",
      "jamaican         526\n",
      "russian          489\n",
      "brazilian        467\n",
      "Name: count, dtype: int64\n"
     ]
    }
   ],
   "source": [
    "print(train['cuisine'].value_counts())"
   ]
  },
  {
   "cell_type": "markdown",
   "metadata": {},
   "source": [
    "Die italienische Küche ist mit 7838 Rezepten am stärksten vertreten. Danach folgt die mexikanische Küche mit 6438 Rezepten und Südamerikanische Küche mit 4320 Rezepten."
   ]
  },
  {
   "cell_type": "markdown",
   "metadata": {},
   "source": [
    "Mit der 'df.explode' Methode kann die Liste an Zutaten zerlegt und auf einzelne Zeilen aufgeteilt werden."
   ]
  },
  {
   "cell_type": "code",
   "execution_count": 7,
   "metadata": {},
   "outputs": [],
   "source": [
    "train_exploded = train.explode('ingredients')"
   ]
  },
  {
   "cell_type": "code",
   "execution_count": 8,
   "metadata": {},
   "outputs": [
    {
     "data": {
      "text/html": [
       "<div>\n",
       "<style scoped>\n",
       "    .dataframe tbody tr th:only-of-type {\n",
       "        vertical-align: middle;\n",
       "    }\n",
       "\n",
       "    .dataframe tbody tr th {\n",
       "        vertical-align: top;\n",
       "    }\n",
       "\n",
       "    .dataframe thead th {\n",
       "        text-align: right;\n",
       "    }\n",
       "</style>\n",
       "<table border=\"1\" class=\"dataframe\">\n",
       "  <thead>\n",
       "    <tr style=\"text-align: right;\">\n",
       "      <th></th>\n",
       "      <th>id</th>\n",
       "      <th>cuisine</th>\n",
       "      <th>ingredients</th>\n",
       "    </tr>\n",
       "  </thead>\n",
       "  <tbody>\n",
       "    <tr>\n",
       "      <th>0</th>\n",
       "      <td>10259</td>\n",
       "      <td>greek</td>\n",
       "      <td>romaine lettuce</td>\n",
       "    </tr>\n",
       "    <tr>\n",
       "      <th>0</th>\n",
       "      <td>10259</td>\n",
       "      <td>greek</td>\n",
       "      <td>black olives</td>\n",
       "    </tr>\n",
       "    <tr>\n",
       "      <th>0</th>\n",
       "      <td>10259</td>\n",
       "      <td>greek</td>\n",
       "      <td>grape tomatoes</td>\n",
       "    </tr>\n",
       "    <tr>\n",
       "      <th>0</th>\n",
       "      <td>10259</td>\n",
       "      <td>greek</td>\n",
       "      <td>garlic</td>\n",
       "    </tr>\n",
       "    <tr>\n",
       "      <th>0</th>\n",
       "      <td>10259</td>\n",
       "      <td>greek</td>\n",
       "      <td>pepper</td>\n",
       "    </tr>\n",
       "  </tbody>\n",
       "</table>\n",
       "</div>"
      ],
      "text/plain": [
       "      id cuisine      ingredients\n",
       "0  10259   greek  romaine lettuce\n",
       "0  10259   greek     black olives\n",
       "0  10259   greek   grape tomatoes\n",
       "0  10259   greek           garlic\n",
       "0  10259   greek           pepper"
      ]
     },
     "execution_count": 8,
     "metadata": {},
     "output_type": "execute_result"
    }
   ],
   "source": [
    "train_exploded.head()"
   ]
  },
  {
   "cell_type": "code",
   "execution_count": 9,
   "metadata": {},
   "outputs": [
    {
     "data": {
      "text/plain": [
       "(428275, 3)"
      ]
     },
     "execution_count": 9,
     "metadata": {},
     "output_type": "execute_result"
    }
   ],
   "source": [
    "train_exploded.shape"
   ]
  },
  {
   "cell_type": "markdown",
   "metadata": {},
   "source": [
    "Um zu zählen wie oft welche Zutat insgesamt vorkommt kann \"Chain\" von \"itertools\" verwendet werden:"
   ]
  },
  {
   "cell_type": "code",
   "execution_count": 10,
   "metadata": {},
   "outputs": [],
   "source": [
    "ingredient_list = list(chain.from_iterable(train['ingredients']))\n",
    "counter = Counter(ingredient_list)\n",
    "counts_df = pd.DataFrame.from_records(list(counter.items()), columns=['Ingredient', 'Count'])"
   ]
  },
  {
   "cell_type": "code",
   "execution_count": 11,
   "metadata": {},
   "outputs": [],
   "source": [
    "counts_df.sort_values(by='Count', ascending=False, inplace=True)"
   ]
  },
  {
   "cell_type": "code",
   "execution_count": 12,
   "metadata": {},
   "outputs": [
    {
     "data": {
      "text/html": [
       "<div>\n",
       "<style scoped>\n",
       "    .dataframe tbody tr th:only-of-type {\n",
       "        vertical-align: middle;\n",
       "    }\n",
       "\n",
       "    .dataframe tbody tr th {\n",
       "        vertical-align: top;\n",
       "    }\n",
       "\n",
       "    .dataframe thead th {\n",
       "        text-align: right;\n",
       "    }\n",
       "</style>\n",
       "<table border=\"1\" class=\"dataframe\">\n",
       "  <thead>\n",
       "    <tr style=\"text-align: right;\">\n",
       "      <th></th>\n",
       "      <th>Ingredient</th>\n",
       "      <th>Count</th>\n",
       "    </tr>\n",
       "  </thead>\n",
       "  <tbody>\n",
       "    <tr>\n",
       "      <th>11</th>\n",
       "      <td>salt</td>\n",
       "      <td>18049</td>\n",
       "    </tr>\n",
       "    <tr>\n",
       "      <th>54</th>\n",
       "      <td>olive oil</td>\n",
       "      <td>7972</td>\n",
       "    </tr>\n",
       "    <tr>\n",
       "      <th>35</th>\n",
       "      <td>onions</td>\n",
       "      <td>7972</td>\n",
       "    </tr>\n",
       "    <tr>\n",
       "      <th>29</th>\n",
       "      <td>water</td>\n",
       "      <td>7457</td>\n",
       "    </tr>\n",
       "    <tr>\n",
       "      <th>3</th>\n",
       "      <td>garlic</td>\n",
       "      <td>7380</td>\n",
       "    </tr>\n",
       "    <tr>\n",
       "      <th>...</th>\n",
       "      <td>...</td>\n",
       "      <td>...</td>\n",
       "    </tr>\n",
       "    <tr>\n",
       "      <th>5035</th>\n",
       "      <td>sauerkraut juice</td>\n",
       "      <td>1</td>\n",
       "    </tr>\n",
       "    <tr>\n",
       "      <th>5034</th>\n",
       "      <td>no-calorie sweetener</td>\n",
       "      <td>1</td>\n",
       "    </tr>\n",
       "    <tr>\n",
       "      <th>5033</th>\n",
       "      <td>Bob Evans Italian Sausage</td>\n",
       "      <td>1</td>\n",
       "    </tr>\n",
       "    <tr>\n",
       "      <th>5022</th>\n",
       "      <td>extra firm silken tofu</td>\n",
       "      <td>1</td>\n",
       "    </tr>\n",
       "    <tr>\n",
       "      <th>6713</th>\n",
       "      <td>crushed cheese crackers</td>\n",
       "      <td>1</td>\n",
       "    </tr>\n",
       "  </tbody>\n",
       "</table>\n",
       "<p>6714 rows × 2 columns</p>\n",
       "</div>"
      ],
      "text/plain": [
       "                     Ingredient  Count\n",
       "11                         salt  18049\n",
       "54                    olive oil   7972\n",
       "35                       onions   7972\n",
       "29                        water   7457\n",
       "3                        garlic   7380\n",
       "...                         ...    ...\n",
       "5035           sauerkraut juice      1\n",
       "5034       no-calorie sweetener      1\n",
       "5033  Bob Evans Italian Sausage      1\n",
       "5022     extra firm silken tofu      1\n",
       "6713    crushed cheese crackers      1\n",
       "\n",
       "[6714 rows x 2 columns]"
      ]
     },
     "execution_count": 12,
     "metadata": {},
     "output_type": "execute_result"
    }
   ],
   "source": [
    "counts_df"
   ]
  },
  {
   "cell_type": "markdown",
   "metadata": {},
   "source": [
    "Um festzustellen wie viele Zutaten mehr als ein mal im Datensatz vorkommen kann gefiltert werden."
   ]
  },
  {
   "cell_type": "code",
   "execution_count": 13,
   "metadata": {},
   "outputs": [
    {
     "data": {
      "text/html": [
       "<div>\n",
       "<style scoped>\n",
       "    .dataframe tbody tr th:only-of-type {\n",
       "        vertical-align: middle;\n",
       "    }\n",
       "\n",
       "    .dataframe tbody tr th {\n",
       "        vertical-align: top;\n",
       "    }\n",
       "\n",
       "    .dataframe thead th {\n",
       "        text-align: right;\n",
       "    }\n",
       "</style>\n",
       "<table border=\"1\" class=\"dataframe\">\n",
       "  <thead>\n",
       "    <tr style=\"text-align: right;\">\n",
       "      <th></th>\n",
       "      <th>Ingredient</th>\n",
       "      <th>Count</th>\n",
       "    </tr>\n",
       "  </thead>\n",
       "  <tbody>\n",
       "    <tr>\n",
       "      <th>11</th>\n",
       "      <td>salt</td>\n",
       "      <td>18049</td>\n",
       "    </tr>\n",
       "    <tr>\n",
       "      <th>54</th>\n",
       "      <td>olive oil</td>\n",
       "      <td>7972</td>\n",
       "    </tr>\n",
       "    <tr>\n",
       "      <th>35</th>\n",
       "      <td>onions</td>\n",
       "      <td>7972</td>\n",
       "    </tr>\n",
       "    <tr>\n",
       "      <th>29</th>\n",
       "      <td>water</td>\n",
       "      <td>7457</td>\n",
       "    </tr>\n",
       "    <tr>\n",
       "      <th>3</th>\n",
       "      <td>garlic</td>\n",
       "      <td>7380</td>\n",
       "    </tr>\n",
       "    <tr>\n",
       "      <th>...</th>\n",
       "      <td>...</td>\n",
       "      <td>...</td>\n",
       "    </tr>\n",
       "    <tr>\n",
       "      <th>1888</th>\n",
       "      <td>pandan extract</td>\n",
       "      <td>2</td>\n",
       "    </tr>\n",
       "    <tr>\n",
       "      <th>4492</th>\n",
       "      <td>Greek dressing</td>\n",
       "      <td>2</td>\n",
       "    </tr>\n",
       "    <tr>\n",
       "      <th>4215</th>\n",
       "      <td>chocolate chunks</td>\n",
       "      <td>2</td>\n",
       "    </tr>\n",
       "    <tr>\n",
       "      <th>4217</th>\n",
       "      <td>regular sour cream</td>\n",
       "      <td>2</td>\n",
       "    </tr>\n",
       "    <tr>\n",
       "      <th>1814</th>\n",
       "      <td>turbot</td>\n",
       "      <td>2</td>\n",
       "    </tr>\n",
       "  </tbody>\n",
       "</table>\n",
       "<p>4955 rows × 2 columns</p>\n",
       "</div>"
      ],
      "text/plain": [
       "              Ingredient  Count\n",
       "11                  salt  18049\n",
       "54             olive oil   7972\n",
       "35                onions   7972\n",
       "29                 water   7457\n",
       "3                 garlic   7380\n",
       "...                  ...    ...\n",
       "1888      pandan extract      2\n",
       "4492      Greek dressing      2\n",
       "4215    chocolate chunks      2\n",
       "4217  regular sour cream      2\n",
       "1814              turbot      2\n",
       "\n",
       "[4955 rows x 2 columns]"
      ]
     },
     "execution_count": 13,
     "metadata": {},
     "output_type": "execute_result"
    }
   ],
   "source": [
    "counts_df[counts_df['Count'] > 1]"
   ]
  },
  {
   "cell_type": "markdown",
   "metadata": {},
   "source": [
    "Als nächstes erfolgt die Extraktion und Verarbeitung der 30 am häufigsten verwendeten Zutaten. Im ersten Schritt wird eine Subselektion der Zutaten durchgeführt, die in der höchsten Anzahl von Rezepten auftreten.  \n",
    "Im nächsten Schritt wird die Proportionalität jeder dieser Zutaten berechnet, indem die Häufigkeit der jeweiligen Zutat durch die Gesamtzahl der Zutaten geteilt wird (`top_ingredients['Count'] / total * 100`). Dies resultiert in einem prozentualen Wert, der die Verwendungshäufigkeit jeder Zutat in Relation zur Gesamtzahl der Rezepte repräsentiert."
   ]
  },
  {
   "cell_type": "code",
   "execution_count": 14,
   "metadata": {},
   "outputs": [],
   "source": [
    "top_ingredients = counts_df.head(30)\n",
    "\n",
    "# Berechnen Sie die Prozentsätze\n",
    "total = top_ingredients['Count'].sum()\n",
    "top_ingredients['Percentage'] = top_ingredients['Count'] / total * 100\n",
    "top_ingredients['Label'] = top_ingredients.apply(lambda row: '{}\\n({:.1f}%)'.format(row['Ingredient'], row['Percentage']), axis=1)"
   ]
  },
  {
   "cell_type": "markdown",
   "metadata": {},
   "source": [
    "Um den Plot anschaulicher zu gestalten werden einige Parameter für den Stil und die Schriftart gesetzt."
   ]
  },
  {
   "cell_type": "code",
   "execution_count": 15,
   "metadata": {},
   "outputs": [],
   "source": [
    "sns.set_style(\"darkgrid\")"
   ]
  },
  {
   "cell_type": "code",
   "execution_count": 16,
   "metadata": {},
   "outputs": [],
   "source": [
    "font_manager.fontManager.addfont('Merriweather-Regular.ttf')\n",
    "prop = font_manager.FontProperties(fname='Merriweather-Regular.ttf')\n",
    "plt.rcParams['font.family'] = 'sans-serif'\n",
    "plt.rcParams['font.sans-serif'] = prop.get_name()"
   ]
  },
  {
   "cell_type": "code",
   "execution_count": 17,
   "metadata": {},
   "outputs": [],
   "source": [
    "random.seed(60)\n",
    "colors = sns.hls_palette(30)\n",
    "random.shuffle(colors)"
   ]
  },
  {
   "cell_type": "code",
   "execution_count": 18,
   "metadata": {},
   "outputs": [
    {
     "data": {
      "image/png": "[encoded data removed]",
      "text/plain": [
       "<Figure size 2000x900 with 1 Axes>"
      ]
     },
     "metadata": {},
     "output_type": "display_data"
    }
   ],
   "source": [
    "fig = plt.figure(figsize=(20, 9))\n",
    "squarify.plot(sizes=top_ingredients['Percentage'], label=top_ingredients['Label'], color=colors)\n",
    "plt.title(\"Top 30 Ingredients\", fontsize=20, pad=30)\n",
    "plt.axis('off')\n",
    "plt.show()"
   ]
  },
  {
   "cell_type": "markdown",
   "metadata": {},
   "source": [
    "Die Tree Map zeigt die 30 meistbenutzten Zutaten. Es ist immer angegeben, in wie viel Prozent der Rezepte, die Zutat vorkommt. Salz kommt in 13,8 % aller Rezepte vor. Olivenöl ist in 6,1 %, Zwiebeln ebenfalls in 6,1 % und Wasser in 5,7 % aller Rezepte enthalten. Man kann aus dieser Darstellung auch erkennen, dass es sowohl Rezepte gibt, in der die genaue Art von Zwiebeln angegeben wird (rote oder weiße Zwiebeln), als auch Rezepte, in denen nur angegeben wird, dass Zwiebeln benötigt werden. Folglich werden Zwiebeln und rote/weiße Zwiebeln derzeit als unterschiedliche Zutaten angesehen."
   ]
  },
  {
   "cell_type": "code",
   "execution_count": 19,
   "metadata": {},
   "outputs": [],
   "source": [
    "cuisine_counts = train['cuisine'].value_counts()\n",
    "df_cuisine_counts = pd.DataFrame(cuisine_counts).reset_index()\n",
    "df_cuisine_counts.columns = ['category', 'count']"
   ]
  },
  {
   "cell_type": "code",
   "execution_count": 20,
   "metadata": {},
   "outputs": [
    {
     "data": {
      "text/plain": [
       "Text(0.5, 1.0, 'Distribution of Recipes Across Countries')"
      ]
     },
     "execution_count": 20,
     "metadata": {},
     "output_type": "execute_result"
    },
    {
     "data": {
      "image/png": "[encoded data removed]",
      "text/plain": [
       "<Figure size 2500x500 with 1 Axes>"
      ]
     },
     "metadata": {},
     "output_type": "display_data"
    }
   ],
   "source": [
    "plt.figure(figsize=(25, 5))\n",
    "sns.barplot(x='category', y='count', data=df_cuisine_counts)\n",
    "plt.xlabel('Country of Origin', fontsize=14, labelpad=20)\n",
    "plt.ylabel('Count', fontsize=14, labelpad=20)\n",
    "plt.title('Distribution of Recipes Across Countries', fontsize=20, pad=30)"
   ]
  },
  {
   "cell_type": "markdown",
   "metadata": {},
   "source": [
    "Das Balkendiagramm zeigt die Verteilung der Rezepte auf die einzelnen Länder. Die meisten Rezepte kommen aus Italien, gefolgt von Mexiko und Südamerika. Der kleinste Anteil an Rezepten kommt aus Brasilien."
   ]
  },
  {
   "cell_type": "code",
   "execution_count": 21,
   "metadata": {},
   "outputs": [],
   "source": [
    "num_ingredients_per_recipe = train['ingredients'].apply(len)"
   ]
  },
  {
   "cell_type": "code",
   "execution_count": 22,
   "metadata": {},
   "outputs": [
    {
     "data": {
      "text/plain": [
       "Text(0, 0.5, 'Count')"
      ]
     },
     "execution_count": 22,
     "metadata": {},
     "output_type": "execute_result"
    },
    {
     "data": {
      "image/png": "[encoded data removed]",
      "text/plain": [
       "<Figure size 1000x500 with 1 Axes>"
      ]
     },
     "metadata": {},
     "output_type": "display_data"
    }
   ],
   "source": [
    "plt.figure(figsize=(10, 5))\n",
    "sns.histplot(x=num_ingredients_per_recipe, kde=False, bins=30)\n",
    "plt.title('Number of Ingredients per Recipe')\n",
    "plt.xlabel('Number of Ingredients')\n",
    "plt.ylabel('Count')"
   ]
  },
  {
   "cell_type": "markdown",
   "metadata": {},
   "source": [
    "Das Histogramm zeigt die Verteilung der Anzahl an Zutaten, welche in den Rezepten stehen. Man kann erkennen, dass die meisten Rezepte ungefähr 10 Zutaten beinhalten. Nur wenige Rezepte haben mehr als 20 Zutaten."
   ]
  },
  {
   "cell_type": "markdown",
   "metadata": {},
   "source": [
    "<a id=\"section4\"></a>\n",
    "<div style=\"background-color: #30475e; padding: 20px; margin-top: 140px; color: white; border-radius: 15px;\">\n",
    "    <h2 style=\"color: #f8a07e;\"><center>4. Iterative Modellentwicklung</center></h2>\n",
    "</div>"
   ]
  },
  {
   "cell_type": "markdown",
   "metadata": {},
   "source": [
    "## Daten Vorverarbeitung"
   ]
  },
  {
   "cell_type": "code",
   "execution_count": 22,
   "metadata": {},
   "outputs": [],
   "source": [
    "class ParallelOneHotTransformer(BaseEstimator, TransformerMixin):\n",
    "    def __init__(self):\n",
    "        pass\n",
    "\n",
    "    def fit(self, X, y=None):\n",
    "        return self\n",
    "\n",
    "    def transform(self, X, y=None):\n",
    "        # Explode the ingredients\n",
    "        X_exploded = X.explode('ingredients')\n",
    "        \n",
    "        # Perform one-hot encoding\n",
    "        one_hot = pd.get_dummies(X_exploded['ingredients'])\n",
    "        X_one_hot = pd.concat([X_exploded[['id']], one_hot], axis=1)\n",
    "        \n",
    "        # Convert to Dask DataFrame for efficient computation\n",
    "        X_one_hot_ddf = dd.from_pandas(X_one_hot, npartitions=10)\n",
    "        \n",
    "        # Group by id and cuisine, and sum\n",
    "        X_final = X_one_hot_ddf.groupby(['id']).sum().compute()\n",
    "        \n",
    "        return X_final"
   ]
  },
  {
   "cell_type": "code",
   "execution_count": 23,
   "metadata": {},
   "outputs": [],
   "source": [
    "parallel_one_hot = ParallelOneHotTransformer()"
   ]
  },
  {
   "cell_type": "code",
   "execution_count": 24,
   "metadata": {},
   "outputs": [],
   "source": [
    "X = parallel_one_hot.transform(train.drop('cuisine', axis=1))  # Dies sind die Merkmale (Zutaten)\n",
    "y = train[['id','cuisine']]  # Dies ist das Ziel (Küchenart)"
   ]
  },
  {
   "cell_type": "code",
   "execution_count": 25,
   "metadata": {},
   "outputs": [],
   "source": [
    "y = train[['id','cuisine']] "
   ]
  },
  {
   "cell_type": "code",
   "execution_count": 26,
   "metadata": {},
   "outputs": [],
   "source": [
    "y.set_index('id', inplace=True)"
   ]
  },
  {
   "cell_type": "code",
   "execution_count": 27,
   "metadata": {},
   "outputs": [],
   "source": [
    "y = y.reindex(X.index)"
   ]
  },
  {
   "cell_type": "code",
   "execution_count": 28,
   "metadata": {},
   "outputs": [
    {
     "data": {
      "text/html": [
       "<div>\n",
       "<style scoped>\n",
       "    .dataframe tbody tr th:only-of-type {\n",
       "        vertical-align: middle;\n",
       "    }\n",
       "\n",
       "    .dataframe tbody tr th {\n",
       "        vertical-align: top;\n",
       "    }\n",
       "\n",
       "    .dataframe thead th {\n",
       "        text-align: right;\n",
       "    }\n",
       "</style>\n",
       "<table border=\"1\" class=\"dataframe\">\n",
       "  <thead>\n",
       "    <tr style=\"text-align: right;\">\n",
       "      <th></th>\n",
       "      <th>cuisine</th>\n",
       "    </tr>\n",
       "    <tr>\n",
       "      <th>id</th>\n",
       "      <th></th>\n",
       "    </tr>\n",
       "  </thead>\n",
       "  <tbody>\n",
       "    <tr>\n",
       "      <th>8</th>\n",
       "      <td>french</td>\n",
       "    </tr>\n",
       "    <tr>\n",
       "      <th>30</th>\n",
       "      <td>jamaican</td>\n",
       "    </tr>\n",
       "    <tr>\n",
       "      <th>31</th>\n",
       "      <td>mexican</td>\n",
       "    </tr>\n",
       "    <tr>\n",
       "      <th>41</th>\n",
       "      <td>mexican</td>\n",
       "    </tr>\n",
       "    <tr>\n",
       "      <th>43</th>\n",
       "      <td>french</td>\n",
       "    </tr>\n",
       "    <tr>\n",
       "      <th>...</th>\n",
       "      <td>...</td>\n",
       "    </tr>\n",
       "    <tr>\n",
       "      <th>49652</th>\n",
       "      <td>vietnamese</td>\n",
       "    </tr>\n",
       "    <tr>\n",
       "      <th>49670</th>\n",
       "      <td>mexican</td>\n",
       "    </tr>\n",
       "    <tr>\n",
       "      <th>49691</th>\n",
       "      <td>thai</td>\n",
       "    </tr>\n",
       "    <tr>\n",
       "      <th>49692</th>\n",
       "      <td>southern_us</td>\n",
       "    </tr>\n",
       "    <tr>\n",
       "      <th>49712</th>\n",
       "      <td>indian</td>\n",
       "    </tr>\n",
       "  </tbody>\n",
       "</table>\n",
       "<p>39774 rows × 1 columns</p>\n",
       "</div>"
      ],
      "text/plain": [
       "           cuisine\n",
       "id                \n",
       "8           french\n",
       "30        jamaican\n",
       "31         mexican\n",
       "41         mexican\n",
       "43          french\n",
       "...            ...\n",
       "49652   vietnamese\n",
       "49670      mexican\n",
       "49691         thai\n",
       "49692  southern_us\n",
       "49712       indian\n",
       "\n",
       "[39774 rows x 1 columns]"
      ]
     },
     "execution_count": 28,
     "metadata": {},
     "output_type": "execute_result"
    }
   ],
   "source": [
    "y"
   ]
  },
  {
   "cell_type": "code",
   "execution_count": 29,
   "metadata": {},
   "outputs": [],
   "source": [
    "X_train, X_val_test, y_train, y_val_test = train_test_split(X, y, test_size=0.3, random_state=42)\n",
    "X_val, X_test, y_val, y_test = train_test_split(X_val_test, y_val_test, test_size=0.5, random_state=42)"
   ]
  },
  {
   "cell_type": "code",
   "execution_count": null,
   "metadata": {},
   "outputs": [],
   "source": [
    "# Check the shapes of the resulting sets\n",
    "print(\"Train set shapes:\", X_train.shape, y_train.shape)\n",
    "print(\"Validation set shapes:\", X_val.shape, y_val.shape)\n",
    "print(\"Test set shapes:\", X_test.shape, y_test.shape)"
   ]
  },
  {
   "cell_type": "markdown",
   "metadata": {},
   "source": [
    "## Berechnung der Modell Genauigkeit"
   ]
  },
  {
   "cell_type": "code",
   "execution_count": 13,
   "metadata": {},
   "outputs": [],
   "source": [
    "def calc_acc(model, X_train, y_train, X_val, y_val, X_test, y_test):\n",
    "    y_pred_train = model.predict(X_train)\n",
    "    y_pred_val = model.predict(X_val)\n",
    "    y_pred_test = model.predict(X_test)\n",
    "    print('Train Accuracy:', accuracy_score(y_train, y_pred_train))\n",
    "    print('Validation Accuracy:', accuracy_score(y_val, y_pred_val))\n",
    "    print('Test Accuracy:', accuracy_score(y_test, y_pred_test))"
   ]
  },
  {
   "cell_type": "markdown",
   "metadata": {},
   "source": [
    "## Logistische Regression"
   ]
  },
  {
   "cell_type": "code",
   "execution_count": 67,
   "metadata": {},
   "outputs": [
    {
     "data": {
      "text/html": [
       "<style>#sk-container-id-2 {color: black;background-color: white;}#sk-container-id-2 pre{padding: 0;}#sk-container-id-2 div.sk-toggleable {background-color: white;}#sk-container-id-2 label.sk-toggleable__label {cursor: pointer;display: block;width: 100%;margin-bottom: 0;padding: 0.3em;box-sizing: border-box;text-align: center;}#sk-container-id-2 label.sk-toggleable__label-arrow:before {content: \"▸\";float: left;margin-right: 0.25em;color: #696969;}#sk-container-id-2 label.sk-toggleable__label-arrow:hover:before {color: black;}#sk-container-id-2 div.sk-estimator:hover label.sk-toggleable__label-arrow:before {color: black;}#sk-container-id-2 div.sk-toggleable__content {max-height: 0;max-width: 0;overflow: hidden;text-align: left;background-color: #f0f8ff;}#sk-container-id-2 div.sk-toggleable__content pre {margin: 0.2em;color: black;border-radius: 0.25em;background-color: #f0f8ff;}#sk-container-id-2 input.sk-toggleable__control:checked~div.sk-toggleable__content {max-height: 200px;max-width: 100%;overflow: auto;}#sk-container-id-2 input.sk-toggleable__control:checked~label.sk-toggleable__label-arrow:before {content: \"▾\";}#sk-container-id-2 div.sk-estimator input.sk-toggleable__control:checked~label.sk-toggleable__label {background-color: #d4ebff;}#sk-container-id-2 div.sk-label input.sk-toggleable__control:checked~label.sk-toggleable__label {background-color: #d4ebff;}#sk-container-id-2 input.sk-hidden--visually {border: 0;clip: rect(1px 1px 1px 1px);clip: rect(1px, 1px, 1px, 1px);height: 1px;margin: -1px;overflow: hidden;padding: 0;position: absolute;width: 1px;}#sk-container-id-2 div.sk-estimator {font-family: monospace;background-color: #f0f8ff;border: 1px dotted black;border-radius: 0.25em;box-sizing: border-box;margin-bottom: 0.5em;}#sk-container-id-2 div.sk-estimator:hover {background-color: #d4ebff;}#sk-container-id-2 div.sk-parallel-item::after {content: \"\";width: 100%;border-bottom: 1px solid gray;flex-grow: 1;}#sk-container-id-2 div.sk-label:hover label.sk-toggleable__label {background-color: #d4ebff;}#sk-container-id-2 div.sk-serial::before {content: \"\";position: absolute;border-left: 1px solid gray;box-sizing: border-box;top: 0;bottom: 0;left: 50%;z-index: 0;}#sk-container-id-2 div.sk-serial {display: flex;flex-direction: column;align-items: center;background-color: white;padding-right: 0.2em;padding-left: 0.2em;position: relative;}#sk-container-id-2 div.sk-item {position: relative;z-index: 1;}#sk-container-id-2 div.sk-parallel {display: flex;align-items: stretch;justify-content: center;background-color: white;position: relative;}#sk-container-id-2 div.sk-item::before, #sk-container-id-2 div.sk-parallel-item::before {content: \"\";position: absolute;border-left: 1px solid gray;box-sizing: border-box;top: 0;bottom: 0;left: 50%;z-index: -1;}#sk-container-id-2 div.sk-parallel-item {display: flex;flex-direction: column;z-index: 1;position: relative;background-color: white;}#sk-container-id-2 div.sk-parallel-item:first-child::after {align-self: flex-end;width: 50%;}#sk-container-id-2 div.sk-parallel-item:last-child::after {align-self: flex-start;width: 50%;}#sk-container-id-2 div.sk-parallel-item:only-child::after {width: 0;}#sk-container-id-2 div.sk-dashed-wrapped {border: 1px dashed gray;margin: 0 0.4em 0.5em 0.4em;box-sizing: border-box;padding-bottom: 0.4em;background-color: white;}#sk-container-id-2 div.sk-label label {font-family: monospace;font-weight: bold;display: inline-block;line-height: 1.2em;}#sk-container-id-2 div.sk-label-container {text-align: center;}#sk-container-id-2 div.sk-container {/* jupyter's `normalize.less` sets `[hidden] { display: none; }` but bootstrap.min.css set `[hidden] { display: none !important; }` so we also need the `!important` here to be able to override the default hidden behavior on the sphinx rendered scikit-learn.org. See: https://github.com/scikit-learn/scikit-learn/issues/21755 */display: inline-block !important;position: relative;}#sk-container-id-2 div.sk-text-repr-fallback {display: none;}</style><div id=\"sk-container-id-2\" class=\"sk-top-container\"><div class=\"sk-text-repr-fallback\"><pre>LogisticRegression(max_iter=1000)</pre><b>In a Jupyter environment, please rerun this cell to show the HTML representation or trust the notebook. <br />On GitHub, the HTML representation is unable to render, please try loading this page with nbviewer.org.</b></div><div class=\"sk-container\" hidden><div class=\"sk-item\"><div class=\"sk-estimator sk-toggleable\"><input class=\"sk-toggleable__control sk-hidden--visually\" id=\"sk-estimator-id-2\" type=\"checkbox\" checked><label for=\"sk-estimator-id-2\" class=\"sk-toggleable__label sk-toggleable__label-arrow\">LogisticRegression</label><div class=\"sk-toggleable__content\"><pre>LogisticRegression(max_iter=1000)</pre></div></div></div></div></div>"
      ],
      "text/plain": [
       "LogisticRegression(max_iter=1000)"
      ]
     },
     "execution_count": 67,
     "metadata": {},
     "output_type": "execute_result"
    }
   ],
   "source": [
    "# Erstellen Sie das Modell\n",
    "model = LogisticRegression(max_iter=1000)  # Sie müssen möglicherweise die Anzahl der Iterationen erhöhen, wenn das Modell nicht konvergiert\n",
    "\n",
    "# Trainieren Sie das Modell\n",
    "model.fit(X_train, np.ravel(y_train))"
   ]
  },
  {
   "cell_type": "code",
   "execution_count": 72,
   "metadata": {},
   "outputs": [
    {
     "name": "stdout",
     "output_type": "stream",
     "text": [
      "Train Accuracy: 0.8985309435724291\n",
      "Validation Accuracy: 0.7696949379818974\n",
      "Validation Accuracy: 0.7699011228422993\n"
     ]
    }
   ],
   "source": [
    "calc_acc(model)"
   ]
  },
  {
   "cell_type": "markdown",
   "metadata": {},
   "source": [
    "## Random Forest Classifier"
   ]
  },
  {
   "cell_type": "code",
   "execution_count": 74,
   "metadata": {},
   "outputs": [
    {
     "data": {
      "text/html": [
       "<style>#sk-container-id-3 {color: black;background-color: white;}#sk-container-id-3 pre{padding: 0;}#sk-container-id-3 div.sk-toggleable {background-color: white;}#sk-container-id-3 label.sk-toggleable__label {cursor: pointer;display: block;width: 100%;margin-bottom: 0;padding: 0.3em;box-sizing: border-box;text-align: center;}#sk-container-id-3 label.sk-toggleable__label-arrow:before {content: \"▸\";float: left;margin-right: 0.25em;color: #696969;}#sk-container-id-3 label.sk-toggleable__label-arrow:hover:before {color: black;}#sk-container-id-3 div.sk-estimator:hover label.sk-toggleable__label-arrow:before {color: black;}#sk-container-id-3 div.sk-toggleable__content {max-height: 0;max-width: 0;overflow: hidden;text-align: left;background-color: #f0f8ff;}#sk-container-id-3 div.sk-toggleable__content pre {margin: 0.2em;color: black;border-radius: 0.25em;background-color: #f0f8ff;}#sk-container-id-3 input.sk-toggleable__control:checked~div.sk-toggleable__content {max-height: 200px;max-width: 100%;overflow: auto;}#sk-container-id-3 input.sk-toggleable__control:checked~label.sk-toggleable__label-arrow:before {content: \"▾\";}#sk-container-id-3 div.sk-estimator input.sk-toggleable__control:checked~label.sk-toggleable__label {background-color: #d4ebff;}#sk-container-id-3 div.sk-label input.sk-toggleable__control:checked~label.sk-toggleable__label {background-color: #d4ebff;}#sk-container-id-3 input.sk-hidden--visually {border: 0;clip: rect(1px 1px 1px 1px);clip: rect(1px, 1px, 1px, 1px);height: 1px;margin: -1px;overflow: hidden;padding: 0;position: absolute;width: 1px;}#sk-container-id-3 div.sk-estimator {font-family: monospace;background-color: #f0f8ff;border: 1px dotted black;border-radius: 0.25em;box-sizing: border-box;margin-bottom: 0.5em;}#sk-container-id-3 div.sk-estimator:hover {background-color: #d4ebff;}#sk-container-id-3 div.sk-parallel-item::after {content: \"\";width: 100%;border-bottom: 1px solid gray;flex-grow: 1;}#sk-container-id-3 div.sk-label:hover label.sk-toggleable__label {background-color: #d4ebff;}#sk-container-id-3 div.sk-serial::before {content: \"\";position: absolute;border-left: 1px solid gray;box-sizing: border-box;top: 0;bottom: 0;left: 50%;z-index: 0;}#sk-container-id-3 div.sk-serial {display: flex;flex-direction: column;align-items: center;background-color: white;padding-right: 0.2em;padding-left: 0.2em;position: relative;}#sk-container-id-3 div.sk-item {position: relative;z-index: 1;}#sk-container-id-3 div.sk-parallel {display: flex;align-items: stretch;justify-content: center;background-color: white;position: relative;}#sk-container-id-3 div.sk-item::before, #sk-container-id-3 div.sk-parallel-item::before {content: \"\";position: absolute;border-left: 1px solid gray;box-sizing: border-box;top: 0;bottom: 0;left: 50%;z-index: -1;}#sk-container-id-3 div.sk-parallel-item {display: flex;flex-direction: column;z-index: 1;position: relative;background-color: white;}#sk-container-id-3 div.sk-parallel-item:first-child::after {align-self: flex-end;width: 50%;}#sk-container-id-3 div.sk-parallel-item:last-child::after {align-self: flex-start;width: 50%;}#sk-container-id-3 div.sk-parallel-item:only-child::after {width: 0;}#sk-container-id-3 div.sk-dashed-wrapped {border: 1px dashed gray;margin: 0 0.4em 0.5em 0.4em;box-sizing: border-box;padding-bottom: 0.4em;background-color: white;}#sk-container-id-3 div.sk-label label {font-family: monospace;font-weight: bold;display: inline-block;line-height: 1.2em;}#sk-container-id-3 div.sk-label-container {text-align: center;}#sk-container-id-3 div.sk-container {/* jupyter's `normalize.less` sets `[hidden] { display: none; }` but bootstrap.min.css set `[hidden] { display: none !important; }` so we also need the `!important` here to be able to override the default hidden behavior on the sphinx rendered scikit-learn.org. See: https://github.com/scikit-learn/scikit-learn/issues/21755 */display: inline-block !important;position: relative;}#sk-container-id-3 div.sk-text-repr-fallback {display: none;}</style><div id=\"sk-container-id-3\" class=\"sk-top-container\"><div class=\"sk-text-repr-fallback\"><pre>RandomForestClassifier(random_state=42)</pre><b>In a Jupyter environment, please rerun this cell to show the HTML representation or trust the notebook. <br />On GitHub, the HTML representation is unable to render, please try loading this page with nbviewer.org.</b></div><div class=\"sk-container\" hidden><div class=\"sk-item\"><div class=\"sk-estimator sk-toggleable\"><input class=\"sk-toggleable__control sk-hidden--visually\" id=\"sk-estimator-id-3\" type=\"checkbox\" checked><label for=\"sk-estimator-id-3\" class=\"sk-toggleable__label sk-toggleable__label-arrow\">RandomForestClassifier</label><div class=\"sk-toggleable__content\"><pre>RandomForestClassifier(random_state=42)</pre></div></div></div></div></div>"
      ],
      "text/plain": [
       "RandomForestClassifier(random_state=42)"
      ]
     },
     "execution_count": 74,
     "metadata": {},
     "output_type": "execute_result"
    }
   ],
   "source": [
    "rfc = RandomForestClassifier(random_state=42, verbose=1, n_jobs=-1)\n",
    "rfc.fit(X_train, np.ravel(y_train))"
   ]
  },
  {
   "cell_type": "code",
   "execution_count": 75,
   "metadata": {},
   "outputs": [
    {
     "name": "stdout",
     "output_type": "stream",
     "text": [
      "Train Accuracy: 0.99974857224956\n",
      "Validation Accuracy: 0.7111967817633255\n",
      "Validation Accuracy: 0.7058823529411765\n"
     ]
    }
   ],
   "source": [
    "calc_acc(rfc)"
   ]
  },
  {
   "cell_type": "markdown",
   "metadata": {},
   "source": [
    "## Feature Auswahl mit Varianz Schwellenwert"
   ]
  },
  {
   "cell_type": "code",
   "execution_count": 112,
   "metadata": {},
   "outputs": [],
   "source": [
    "pipe = Pipeline([\n",
    "    ('selector', VarianceThreshold(threshold=(.9996 * (1 - .9996)))),\n",
    "    ('classifier', RandomForestClassifier(random_state=42, n_jobs=-1))\n",
    "])"
   ]
  },
  {
   "cell_type": "code",
   "execution_count": 113,
   "metadata": {},
   "outputs": [
    {
     "data": {
      "text/html": [
       "<style>#sk-container-id-14 {color: black;background-color: white;}#sk-container-id-14 pre{padding: 0;}#sk-container-id-14 div.sk-toggleable {background-color: white;}#sk-container-id-14 label.sk-toggleable__label {cursor: pointer;display: block;width: 100%;margin-bottom: 0;padding: 0.3em;box-sizing: border-box;text-align: center;}#sk-container-id-14 label.sk-toggleable__label-arrow:before {content: \"▸\";float: left;margin-right: 0.25em;color: #696969;}#sk-container-id-14 label.sk-toggleable__label-arrow:hover:before {color: black;}#sk-container-id-14 div.sk-estimator:hover label.sk-toggleable__label-arrow:before {color: black;}#sk-container-id-14 div.sk-toggleable__content {max-height: 0;max-width: 0;overflow: hidden;text-align: left;background-color: #f0f8ff;}#sk-container-id-14 div.sk-toggleable__content pre {margin: 0.2em;color: black;border-radius: 0.25em;background-color: #f0f8ff;}#sk-container-id-14 input.sk-toggleable__control:checked~div.sk-toggleable__content {max-height: 200px;max-width: 100%;overflow: auto;}#sk-container-id-14 input.sk-toggleable__control:checked~label.sk-toggleable__label-arrow:before {content: \"▾\";}#sk-container-id-14 div.sk-estimator input.sk-toggleable__control:checked~label.sk-toggleable__label {background-color: #d4ebff;}#sk-container-id-14 div.sk-label input.sk-toggleable__control:checked~label.sk-toggleable__label {background-color: #d4ebff;}#sk-container-id-14 input.sk-hidden--visually {border: 0;clip: rect(1px 1px 1px 1px);clip: rect(1px, 1px, 1px, 1px);height: 1px;margin: -1px;overflow: hidden;padding: 0;position: absolute;width: 1px;}#sk-container-id-14 div.sk-estimator {font-family: monospace;background-color: #f0f8ff;border: 1px dotted black;border-radius: 0.25em;box-sizing: border-box;margin-bottom: 0.5em;}#sk-container-id-14 div.sk-estimator:hover {background-color: #d4ebff;}#sk-container-id-14 div.sk-parallel-item::after {content: \"\";width: 100%;border-bottom: 1px solid gray;flex-grow: 1;}#sk-container-id-14 div.sk-label:hover label.sk-toggleable__label {background-color: #d4ebff;}#sk-container-id-14 div.sk-serial::before {content: \"\";position: absolute;border-left: 1px solid gray;box-sizing: border-box;top: 0;bottom: 0;left: 50%;z-index: 0;}#sk-container-id-14 div.sk-serial {display: flex;flex-direction: column;align-items: center;background-color: white;padding-right: 0.2em;padding-left: 0.2em;position: relative;}#sk-container-id-14 div.sk-item {position: relative;z-index: 1;}#sk-container-id-14 div.sk-parallel {display: flex;align-items: stretch;justify-content: center;background-color: white;position: relative;}#sk-container-id-14 div.sk-item::before, #sk-container-id-14 div.sk-parallel-item::before {content: \"\";position: absolute;border-left: 1px solid gray;box-sizing: border-box;top: 0;bottom: 0;left: 50%;z-index: -1;}#sk-container-id-14 div.sk-parallel-item {display: flex;flex-direction: column;z-index: 1;position: relative;background-color: white;}#sk-container-id-14 div.sk-parallel-item:first-child::after {align-self: flex-end;width: 50%;}#sk-container-id-14 div.sk-parallel-item:last-child::after {align-self: flex-start;width: 50%;}#sk-container-id-14 div.sk-parallel-item:only-child::after {width: 0;}#sk-container-id-14 div.sk-dashed-wrapped {border: 1px dashed gray;margin: 0 0.4em 0.5em 0.4em;box-sizing: border-box;padding-bottom: 0.4em;background-color: white;}#sk-container-id-14 div.sk-label label {font-family: monospace;font-weight: bold;display: inline-block;line-height: 1.2em;}#sk-container-id-14 div.sk-label-container {text-align: center;}#sk-container-id-14 div.sk-container {/* jupyter's `normalize.less` sets `[hidden] { display: none; }` but bootstrap.min.css set `[hidden] { display: none !important; }` so we also need the `!important` here to be able to override the default hidden behavior on the sphinx rendered scikit-learn.org. See: https://github.com/scikit-learn/scikit-learn/issues/21755 */display: inline-block !important;position: relative;}#sk-container-id-14 div.sk-text-repr-fallback {display: none;}</style><div id=\"sk-container-id-14\" class=\"sk-top-container\"><div class=\"sk-text-repr-fallback\"><pre>Pipeline(steps=[(&#x27;selector&#x27;, VarianceThreshold(threshold=0.000399839999999956)),\n",
       "                (&#x27;classifier&#x27;,\n",
       "                 RandomForestClassifier(n_jobs=-1, random_state=42))])</pre><b>In a Jupyter environment, please rerun this cell to show the HTML representation or trust the notebook. <br />On GitHub, the HTML representation is unable to render, please try loading this page with nbviewer.org.</b></div><div class=\"sk-container\" hidden><div class=\"sk-item sk-dashed-wrapped\"><div class=\"sk-label-container\"><div class=\"sk-label sk-toggleable\"><input class=\"sk-toggleable__control sk-hidden--visually\" id=\"sk-estimator-id-38\" type=\"checkbox\" ><label for=\"sk-estimator-id-38\" class=\"sk-toggleable__label sk-toggleable__label-arrow\">Pipeline</label><div class=\"sk-toggleable__content\"><pre>Pipeline(steps=[(&#x27;selector&#x27;, VarianceThreshold(threshold=0.000399839999999956)),\n",
       "                (&#x27;classifier&#x27;,\n",
       "                 RandomForestClassifier(n_jobs=-1, random_state=42))])</pre></div></div></div><div class=\"sk-serial\"><div class=\"sk-item\"><div class=\"sk-estimator sk-toggleable\"><input class=\"sk-toggleable__control sk-hidden--visually\" id=\"sk-estimator-id-39\" type=\"checkbox\" ><label for=\"sk-estimator-id-39\" class=\"sk-toggleable__label sk-toggleable__label-arrow\">VarianceThreshold</label><div class=\"sk-toggleable__content\"><pre>VarianceThreshold(threshold=0.000399839999999956)</pre></div></div></div><div class=\"sk-item\"><div class=\"sk-estimator sk-toggleable\"><input class=\"sk-toggleable__control sk-hidden--visually\" id=\"sk-estimator-id-40\" type=\"checkbox\" ><label for=\"sk-estimator-id-40\" class=\"sk-toggleable__label sk-toggleable__label-arrow\">RandomForestClassifier</label><div class=\"sk-toggleable__content\"><pre>RandomForestClassifier(n_jobs=-1, random_state=42)</pre></div></div></div></div></div></div></div>"
      ],
      "text/plain": [
       "Pipeline(steps=[('selector', VarianceThreshold(threshold=0.000399839999999956)),\n",
       "                ('classifier',\n",
       "                 RandomForestClassifier(n_jobs=-1, random_state=42))])"
      ]
     },
     "execution_count": 113,
     "metadata": {},
     "output_type": "execute_result"
    }
   ],
   "source": [
    "pipe.fit(X_train, np.ravel(y_train))"
   ]
  },
  {
   "cell_type": "code",
   "execution_count": 114,
   "metadata": {},
   "outputs": [
    {
     "data": {
      "text/plain": [
       "(27841, 1838)"
      ]
     },
     "execution_count": 114,
     "metadata": {},
     "output_type": "execute_result"
    }
   ],
   "source": [
    "var_thresh = pipe.named_steps['selector']\n",
    "X_train_new = pd.DataFrame(var_thresh.transform(X_train), index=X_train.index, columns=X_train.columns[var_thresh.get_support()])\n",
    "X_train_new.shape"
   ]
  },
  {
   "cell_type": "code",
   "execution_count": 115,
   "metadata": {},
   "outputs": [
    {
     "data": {
      "text/html": [
       "<div>\n",
       "<style scoped>\n",
       "    .dataframe tbody tr th:only-of-type {\n",
       "        vertical-align: middle;\n",
       "    }\n",
       "\n",
       "    .dataframe tbody tr th {\n",
       "        vertical-align: top;\n",
       "    }\n",
       "\n",
       "    .dataframe thead th {\n",
       "        text-align: right;\n",
       "    }\n",
       "</style>\n",
       "<table border=\"1\" class=\"dataframe\">\n",
       "  <thead>\n",
       "    <tr style=\"text-align: right;\">\n",
       "      <th></th>\n",
       "      <th>1% low-fat milk</th>\n",
       "      <th>2% reduced-fat milk</th>\n",
       "      <th>Alfredo sauce</th>\n",
       "      <th>American cheese</th>\n",
       "      <th>Anaheim chile</th>\n",
       "      <th>Belgian endive</th>\n",
       "      <th>Boston lettuce</th>\n",
       "      <th>Burgundy wine</th>\n",
       "      <th>California bay leaves</th>\n",
       "      <th>Chinese egg noodles</th>\n",
       "      <th>...</th>\n",
       "      <th>yellow mustard</th>\n",
       "      <th>yellow mustard seeds</th>\n",
       "      <th>yellow onion</th>\n",
       "      <th>yellow peppers</th>\n",
       "      <th>yellow split peas</th>\n",
       "      <th>yellow squash</th>\n",
       "      <th>yoghurt</th>\n",
       "      <th>yukon gold potatoes</th>\n",
       "      <th>ziti</th>\n",
       "      <th>zucchini</th>\n",
       "    </tr>\n",
       "    <tr>\n",
       "      <th>id</th>\n",
       "      <th></th>\n",
       "      <th></th>\n",
       "      <th></th>\n",
       "      <th></th>\n",
       "      <th></th>\n",
       "      <th></th>\n",
       "      <th></th>\n",
       "      <th></th>\n",
       "      <th></th>\n",
       "      <th></th>\n",
       "      <th></th>\n",
       "      <th></th>\n",
       "      <th></th>\n",
       "      <th></th>\n",
       "      <th></th>\n",
       "      <th></th>\n",
       "      <th></th>\n",
       "      <th></th>\n",
       "      <th></th>\n",
       "      <th></th>\n",
       "      <th></th>\n",
       "    </tr>\n",
       "  </thead>\n",
       "  <tbody>\n",
       "    <tr>\n",
       "      <th>2259</th>\n",
       "      <td>0</td>\n",
       "      <td>0</td>\n",
       "      <td>0</td>\n",
       "      <td>0</td>\n",
       "      <td>0</td>\n",
       "      <td>0</td>\n",
       "      <td>0</td>\n",
       "      <td>0</td>\n",
       "      <td>0</td>\n",
       "      <td>0</td>\n",
       "      <td>...</td>\n",
       "      <td>0</td>\n",
       "      <td>0</td>\n",
       "      <td>0</td>\n",
       "      <td>0</td>\n",
       "      <td>0</td>\n",
       "      <td>0</td>\n",
       "      <td>0</td>\n",
       "      <td>0</td>\n",
       "      <td>0</td>\n",
       "      <td>0</td>\n",
       "    </tr>\n",
       "    <tr>\n",
       "      <th>4070</th>\n",
       "      <td>0</td>\n",
       "      <td>0</td>\n",
       "      <td>0</td>\n",
       "      <td>0</td>\n",
       "      <td>0</td>\n",
       "      <td>0</td>\n",
       "      <td>0</td>\n",
       "      <td>0</td>\n",
       "      <td>0</td>\n",
       "      <td>0</td>\n",
       "      <td>...</td>\n",
       "      <td>0</td>\n",
       "      <td>0</td>\n",
       "      <td>0</td>\n",
       "      <td>0</td>\n",
       "      <td>0</td>\n",
       "      <td>0</td>\n",
       "      <td>0</td>\n",
       "      <td>0</td>\n",
       "      <td>0</td>\n",
       "      <td>0</td>\n",
       "    </tr>\n",
       "    <tr>\n",
       "      <th>27797</th>\n",
       "      <td>0</td>\n",
       "      <td>0</td>\n",
       "      <td>0</td>\n",
       "      <td>0</td>\n",
       "      <td>0</td>\n",
       "      <td>0</td>\n",
       "      <td>0</td>\n",
       "      <td>0</td>\n",
       "      <td>0</td>\n",
       "      <td>0</td>\n",
       "      <td>...</td>\n",
       "      <td>0</td>\n",
       "      <td>0</td>\n",
       "      <td>0</td>\n",
       "      <td>0</td>\n",
       "      <td>0</td>\n",
       "      <td>0</td>\n",
       "      <td>0</td>\n",
       "      <td>0</td>\n",
       "      <td>0</td>\n",
       "      <td>0</td>\n",
       "    </tr>\n",
       "    <tr>\n",
       "      <th>16031</th>\n",
       "      <td>0</td>\n",
       "      <td>0</td>\n",
       "      <td>0</td>\n",
       "      <td>0</td>\n",
       "      <td>0</td>\n",
       "      <td>0</td>\n",
       "      <td>0</td>\n",
       "      <td>0</td>\n",
       "      <td>0</td>\n",
       "      <td>0</td>\n",
       "      <td>...</td>\n",
       "      <td>0</td>\n",
       "      <td>0</td>\n",
       "      <td>0</td>\n",
       "      <td>0</td>\n",
       "      <td>0</td>\n",
       "      <td>0</td>\n",
       "      <td>0</td>\n",
       "      <td>0</td>\n",
       "      <td>0</td>\n",
       "      <td>0</td>\n",
       "    </tr>\n",
       "    <tr>\n",
       "      <th>21208</th>\n",
       "      <td>0</td>\n",
       "      <td>0</td>\n",
       "      <td>0</td>\n",
       "      <td>0</td>\n",
       "      <td>0</td>\n",
       "      <td>0</td>\n",
       "      <td>0</td>\n",
       "      <td>0</td>\n",
       "      <td>0</td>\n",
       "      <td>0</td>\n",
       "      <td>...</td>\n",
       "      <td>0</td>\n",
       "      <td>0</td>\n",
       "      <td>0</td>\n",
       "      <td>0</td>\n",
       "      <td>0</td>\n",
       "      <td>0</td>\n",
       "      <td>0</td>\n",
       "      <td>0</td>\n",
       "      <td>0</td>\n",
       "      <td>0</td>\n",
       "    </tr>\n",
       "    <tr>\n",
       "      <th>...</th>\n",
       "      <td>...</td>\n",
       "      <td>...</td>\n",
       "      <td>...</td>\n",
       "      <td>...</td>\n",
       "      <td>...</td>\n",
       "      <td>...</td>\n",
       "      <td>...</td>\n",
       "      <td>...</td>\n",
       "      <td>...</td>\n",
       "      <td>...</td>\n",
       "      <td>...</td>\n",
       "      <td>...</td>\n",
       "      <td>...</td>\n",
       "      <td>...</td>\n",
       "      <td>...</td>\n",
       "      <td>...</td>\n",
       "      <td>...</td>\n",
       "      <td>...</td>\n",
       "      <td>...</td>\n",
       "      <td>...</td>\n",
       "      <td>...</td>\n",
       "    </tr>\n",
       "    <tr>\n",
       "      <th>28699</th>\n",
       "      <td>0</td>\n",
       "      <td>0</td>\n",
       "      <td>0</td>\n",
       "      <td>0</td>\n",
       "      <td>0</td>\n",
       "      <td>0</td>\n",
       "      <td>0</td>\n",
       "      <td>0</td>\n",
       "      <td>0</td>\n",
       "      <td>0</td>\n",
       "      <td>...</td>\n",
       "      <td>0</td>\n",
       "      <td>0</td>\n",
       "      <td>0</td>\n",
       "      <td>0</td>\n",
       "      <td>0</td>\n",
       "      <td>0</td>\n",
       "      <td>0</td>\n",
       "      <td>0</td>\n",
       "      <td>0</td>\n",
       "      <td>0</td>\n",
       "    </tr>\n",
       "    <tr>\n",
       "      <th>41991</th>\n",
       "      <td>0</td>\n",
       "      <td>0</td>\n",
       "      <td>0</td>\n",
       "      <td>0</td>\n",
       "      <td>0</td>\n",
       "      <td>0</td>\n",
       "      <td>0</td>\n",
       "      <td>0</td>\n",
       "      <td>0</td>\n",
       "      <td>0</td>\n",
       "      <td>...</td>\n",
       "      <td>0</td>\n",
       "      <td>0</td>\n",
       "      <td>0</td>\n",
       "      <td>0</td>\n",
       "      <td>0</td>\n",
       "      <td>0</td>\n",
       "      <td>0</td>\n",
       "      <td>0</td>\n",
       "      <td>0</td>\n",
       "      <td>0</td>\n",
       "    </tr>\n",
       "    <tr>\n",
       "      <th>29565</th>\n",
       "      <td>0</td>\n",
       "      <td>0</td>\n",
       "      <td>0</td>\n",
       "      <td>0</td>\n",
       "      <td>0</td>\n",
       "      <td>0</td>\n",
       "      <td>0</td>\n",
       "      <td>0</td>\n",
       "      <td>0</td>\n",
       "      <td>0</td>\n",
       "      <td>...</td>\n",
       "      <td>0</td>\n",
       "      <td>0</td>\n",
       "      <td>0</td>\n",
       "      <td>0</td>\n",
       "      <td>0</td>\n",
       "      <td>0</td>\n",
       "      <td>0</td>\n",
       "      <td>0</td>\n",
       "      <td>0</td>\n",
       "      <td>0</td>\n",
       "    </tr>\n",
       "    <tr>\n",
       "      <th>10425</th>\n",
       "      <td>0</td>\n",
       "      <td>0</td>\n",
       "      <td>0</td>\n",
       "      <td>0</td>\n",
       "      <td>0</td>\n",
       "      <td>0</td>\n",
       "      <td>0</td>\n",
       "      <td>0</td>\n",
       "      <td>0</td>\n",
       "      <td>0</td>\n",
       "      <td>...</td>\n",
       "      <td>0</td>\n",
       "      <td>0</td>\n",
       "      <td>0</td>\n",
       "      <td>0</td>\n",
       "      <td>0</td>\n",
       "      <td>0</td>\n",
       "      <td>0</td>\n",
       "      <td>0</td>\n",
       "      <td>0</td>\n",
       "      <td>0</td>\n",
       "    </tr>\n",
       "    <tr>\n",
       "      <th>48187</th>\n",
       "      <td>0</td>\n",
       "      <td>0</td>\n",
       "      <td>0</td>\n",
       "      <td>0</td>\n",
       "      <td>0</td>\n",
       "      <td>0</td>\n",
       "      <td>0</td>\n",
       "      <td>0</td>\n",
       "      <td>0</td>\n",
       "      <td>0</td>\n",
       "      <td>...</td>\n",
       "      <td>0</td>\n",
       "      <td>0</td>\n",
       "      <td>0</td>\n",
       "      <td>0</td>\n",
       "      <td>0</td>\n",
       "      <td>0</td>\n",
       "      <td>0</td>\n",
       "      <td>0</td>\n",
       "      <td>0</td>\n",
       "      <td>0</td>\n",
       "    </tr>\n",
       "  </tbody>\n",
       "</table>\n",
       "<p>27841 rows × 1838 columns</p>\n",
       "</div>"
      ],
      "text/plain": [
       "       1% low-fat milk  2% reduced-fat milk  Alfredo sauce  American cheese   \n",
       "id                                                                            \n",
       "2259                 0                    0              0                0  \\\n",
       "4070                 0                    0              0                0   \n",
       "27797                0                    0              0                0   \n",
       "16031                0                    0              0                0   \n",
       "21208                0                    0              0                0   \n",
       "...                ...                  ...            ...              ...   \n",
       "28699                0                    0              0                0   \n",
       "41991                0                    0              0                0   \n",
       "29565                0                    0              0                0   \n",
       "10425                0                    0              0                0   \n",
       "48187                0                    0              0                0   \n",
       "\n",
       "       Anaheim chile  Belgian endive  Boston lettuce  Burgundy wine   \n",
       "id                                                                    \n",
       "2259               0               0               0              0  \\\n",
       "4070               0               0               0              0   \n",
       "27797              0               0               0              0   \n",
       "16031              0               0               0              0   \n",
       "21208              0               0               0              0   \n",
       "...              ...             ...             ...            ...   \n",
       "28699              0               0               0              0   \n",
       "41991              0               0               0              0   \n",
       "29565              0               0               0              0   \n",
       "10425              0               0               0              0   \n",
       "48187              0               0               0              0   \n",
       "\n",
       "       California bay leaves  Chinese egg noodles  ...  yellow mustard   \n",
       "id                                                 ...                   \n",
       "2259                       0                    0  ...               0  \\\n",
       "4070                       0                    0  ...               0   \n",
       "27797                      0                    0  ...               0   \n",
       "16031                      0                    0  ...               0   \n",
       "21208                      0                    0  ...               0   \n",
       "...                      ...                  ...  ...             ...   \n",
       "28699                      0                    0  ...               0   \n",
       "41991                      0                    0  ...               0   \n",
       "29565                      0                    0  ...               0   \n",
       "10425                      0                    0  ...               0   \n",
       "48187                      0                    0  ...               0   \n",
       "\n",
       "       yellow mustard seeds  yellow onion  yellow peppers  yellow split peas   \n",
       "id                                                                             \n",
       "2259                      0             0               0                  0  \\\n",
       "4070                      0             0               0                  0   \n",
       "27797                     0             0               0                  0   \n",
       "16031                     0             0               0                  0   \n",
       "21208                     0             0               0                  0   \n",
       "...                     ...           ...             ...                ...   \n",
       "28699                     0             0               0                  0   \n",
       "41991                     0             0               0                  0   \n",
       "29565                     0             0               0                  0   \n",
       "10425                     0             0               0                  0   \n",
       "48187                     0             0               0                  0   \n",
       "\n",
       "       yellow squash  yoghurt  yukon gold potatoes  ziti  zucchini  \n",
       "id                                                                  \n",
       "2259               0        0                    0     0         0  \n",
       "4070               0        0                    0     0         0  \n",
       "27797              0        0                    0     0         0  \n",
       "16031              0        0                    0     0         0  \n",
       "21208              0        0                    0     0         0  \n",
       "...              ...      ...                  ...   ...       ...  \n",
       "28699              0        0                    0     0         0  \n",
       "41991              0        0                    0     0         0  \n",
       "29565              0        0                    0     0         0  \n",
       "10425              0        0                    0     0         0  \n",
       "48187              0        0                    0     0         0  \n",
       "\n",
       "[27841 rows x 1838 columns]"
      ]
     },
     "execution_count": 115,
     "metadata": {},
     "output_type": "execute_result"
    }
   ],
   "source": [
    "X_train_new"
   ]
  },
  {
   "cell_type": "code",
   "execution_count": 116,
   "metadata": {},
   "outputs": [
    {
     "name": "stdout",
     "output_type": "stream",
     "text": [
      "Train Accuracy: 0.9989583707481772\n",
      "Validation Accuracy: 0.7029835735836406\n",
      "Test Accuracy: 0.7035361153008212\n"
     ]
    }
   ],
   "source": [
    "calc_acc(pipe, X_train, y_train, X_val, y_val, X_test, y_test)"
   ]
  },
  {
   "cell_type": "markdown",
   "metadata": {},
   "source": [
    "## Feature Auswahl mit Chi-Quadrat-Test"
   ]
  },
  {
   "cell_type": "code",
   "execution_count": null,
   "metadata": {},
   "outputs": [],
   "source": [
    "# Define the pipeline\n",
    "pipe = Pipeline([\n",
    "    ('selector', SelectKBest(chi2, k=20)),\n",
    "    ('classifier', RandomForestClassifier(random_state=42, n_jobs=-1))\n",
    "])\n",
    "\n",
    "# Fit the pipeline on the training data\n",
    "pipe.fit(X_train, y_train)\n",
    "\n",
    "# Now you can evaluate the model as usual\n",
    "calc_acc(pipe, X_train, y_train, X_val, y_val, X_test, y_test)"
   ]
  },
  {
   "cell_type": "markdown",
   "metadata": {},
   "source": [
    "## Count Vectorizer"
   ]
  },
  {
   "cell_type": "code",
   "execution_count": 14,
   "metadata": {},
   "outputs": [],
   "source": [
    "train_reindex = train.set_index('id')"
   ]
  },
  {
   "cell_type": "code",
   "execution_count": 15,
   "metadata": {},
   "outputs": [
    {
     "data": {
      "text/html": [
       "<div>\n",
       "<style scoped>\n",
       "    .dataframe tbody tr th:only-of-type {\n",
       "        vertical-align: middle;\n",
       "    }\n",
       "\n",
       "    .dataframe tbody tr th {\n",
       "        vertical-align: top;\n",
       "    }\n",
       "\n",
       "    .dataframe thead th {\n",
       "        text-align: right;\n",
       "    }\n",
       "</style>\n",
       "<table border=\"1\" class=\"dataframe\">\n",
       "  <thead>\n",
       "    <tr style=\"text-align: right;\">\n",
       "      <th></th>\n",
       "      <th>cuisine</th>\n",
       "      <th>ingredients</th>\n",
       "    </tr>\n",
       "    <tr>\n",
       "      <th>id</th>\n",
       "      <th></th>\n",
       "      <th></th>\n",
       "    </tr>\n",
       "  </thead>\n",
       "  <tbody>\n",
       "    <tr>\n",
       "      <th>10259</th>\n",
       "      <td>greek</td>\n",
       "      <td>[romaine lettuce, black olives, grape tomatoes...</td>\n",
       "    </tr>\n",
       "    <tr>\n",
       "      <th>25693</th>\n",
       "      <td>southern_us</td>\n",
       "      <td>[plain flour, ground pepper, salt, tomatoes, g...</td>\n",
       "    </tr>\n",
       "    <tr>\n",
       "      <th>20130</th>\n",
       "      <td>filipino</td>\n",
       "      <td>[eggs, pepper, salt, mayonaise, cooking oil, g...</td>\n",
       "    </tr>\n",
       "    <tr>\n",
       "      <th>22213</th>\n",
       "      <td>indian</td>\n",
       "      <td>[water, vegetable oil, wheat, salt]</td>\n",
       "    </tr>\n",
       "    <tr>\n",
       "      <th>13162</th>\n",
       "      <td>indian</td>\n",
       "      <td>[black pepper, shallots, cornflour, cayenne pe...</td>\n",
       "    </tr>\n",
       "  </tbody>\n",
       "</table>\n",
       "</div>"
      ],
      "text/plain": [
       "           cuisine                                        ingredients\n",
       "id                                                                   \n",
       "10259        greek  [romaine lettuce, black olives, grape tomatoes...\n",
       "25693  southern_us  [plain flour, ground pepper, salt, tomatoes, g...\n",
       "20130     filipino  [eggs, pepper, salt, mayonaise, cooking oil, g...\n",
       "22213       indian                [water, vegetable oil, wheat, salt]\n",
       "13162       indian  [black pepper, shallots, cornflour, cayenne pe..."
      ]
     },
     "execution_count": 15,
     "metadata": {},
     "output_type": "execute_result"
    }
   ],
   "source": [
    "train_reindex.head()"
   ]
  },
  {
   "cell_type": "code",
   "execution_count": 16,
   "metadata": {},
   "outputs": [],
   "source": [
    "train_toString = train_reindex.copy()\n",
    "train_toString['ingredients'] = train_reindex['ingredients'].apply(', '.join)"
   ]
  },
  {
   "cell_type": "code",
   "execution_count": 17,
   "metadata": {},
   "outputs": [
    {
     "data": {
      "text/html": [
       "<div>\n",
       "<style scoped>\n",
       "    .dataframe tbody tr th:only-of-type {\n",
       "        vertical-align: middle;\n",
       "    }\n",
       "\n",
       "    .dataframe tbody tr th {\n",
       "        vertical-align: top;\n",
       "    }\n",
       "\n",
       "    .dataframe thead th {\n",
       "        text-align: right;\n",
       "    }\n",
       "</style>\n",
       "<table border=\"1\" class=\"dataframe\">\n",
       "  <thead>\n",
       "    <tr style=\"text-align: right;\">\n",
       "      <th></th>\n",
       "      <th>cuisine</th>\n",
       "      <th>ingredients</th>\n",
       "    </tr>\n",
       "    <tr>\n",
       "      <th>id</th>\n",
       "      <th></th>\n",
       "      <th></th>\n",
       "    </tr>\n",
       "  </thead>\n",
       "  <tbody>\n",
       "    <tr>\n",
       "      <th>10259</th>\n",
       "      <td>greek</td>\n",
       "      <td>romaine lettuce, black olives, grape tomatoes,...</td>\n",
       "    </tr>\n",
       "    <tr>\n",
       "      <th>25693</th>\n",
       "      <td>southern_us</td>\n",
       "      <td>plain flour, ground pepper, salt, tomatoes, gr...</td>\n",
       "    </tr>\n",
       "    <tr>\n",
       "      <th>20130</th>\n",
       "      <td>filipino</td>\n",
       "      <td>eggs, pepper, salt, mayonaise, cooking oil, gr...</td>\n",
       "    </tr>\n",
       "    <tr>\n",
       "      <th>22213</th>\n",
       "      <td>indian</td>\n",
       "      <td>water, vegetable oil, wheat, salt</td>\n",
       "    </tr>\n",
       "    <tr>\n",
       "      <th>13162</th>\n",
       "      <td>indian</td>\n",
       "      <td>black pepper, shallots, cornflour, cayenne pep...</td>\n",
       "    </tr>\n",
       "  </tbody>\n",
       "</table>\n",
       "</div>"
      ],
      "text/plain": [
       "           cuisine                                        ingredients\n",
       "id                                                                   \n",
       "10259        greek  romaine lettuce, black olives, grape tomatoes,...\n",
       "25693  southern_us  plain flour, ground pepper, salt, tomatoes, gr...\n",
       "20130     filipino  eggs, pepper, salt, mayonaise, cooking oil, gr...\n",
       "22213       indian                  water, vegetable oil, wheat, salt\n",
       "13162       indian  black pepper, shallots, cornflour, cayenne pep..."
      ]
     },
     "execution_count": 17,
     "metadata": {},
     "output_type": "execute_result"
    }
   ],
   "source": [
    "train_toString.head()"
   ]
  },
  {
   "cell_type": "code",
   "execution_count": 18,
   "metadata": {},
   "outputs": [],
   "source": [
    "def alpha_tokenizer(text):\n",
    "    # This regular expression pattern matches any word that consists of alphabetic characters\n",
    "    pattern = re.compile(r'\\b[^\\d\\W]+\\b')\n",
    "    return pattern.findall(text.lower())"
   ]
  },
  {
   "cell_type": "code",
   "execution_count": 19,
   "metadata": {},
   "outputs": [
    {
     "name": "stderr",
     "output_type": "stream",
     "text": [
      "/opt/conda/lib/python3.10/site-packages/sklearn/feature_extraction/text.py:525: UserWarning: The parameter 'token_pattern' will not be used since 'tokenizer' is not None'\n",
      "  warnings.warn(\n"
     ]
    }
   ],
   "source": [
    "cv = CountVectorizer(tokenizer=alpha_tokenizer)\n",
    "train_vectorized = cv.fit_transform(train_toString['ingredients'])"
   ]
  },
  {
   "cell_type": "code",
   "execution_count": 20,
   "metadata": {},
   "outputs": [
    {
     "data": {
      "text/html": [
       "<div>\n",
       "<style scoped>\n",
       "    .dataframe tbody tr th:only-of-type {\n",
       "        vertical-align: middle;\n",
       "    }\n",
       "\n",
       "    .dataframe tbody tr th {\n",
       "        vertical-align: top;\n",
       "    }\n",
       "\n",
       "    .dataframe thead th {\n",
       "        text-align: right;\n",
       "    }\n",
       "</style>\n",
       "<table border=\"1\" class=\"dataframe\">\n",
       "  <thead>\n",
       "    <tr style=\"text-align: right;\">\n",
       "      <th></th>\n",
       "      <th>a</th>\n",
       "      <th>abalone</th>\n",
       "      <th>abbamele</th>\n",
       "      <th>absinthe</th>\n",
       "      <th>abura</th>\n",
       "      <th>acai</th>\n",
       "      <th>accent</th>\n",
       "      <th>accompaniment</th>\n",
       "      <th>achiote</th>\n",
       "      <th>acid</th>\n",
       "      <th>...</th>\n",
       "      <th>za</th>\n",
       "      <th>zatarain</th>\n",
       "      <th>zatarains</th>\n",
       "      <th>zero</th>\n",
       "      <th>zest</th>\n",
       "      <th>zesty</th>\n",
       "      <th>zinfandel</th>\n",
       "      <th>ziti</th>\n",
       "      <th>zucchini</th>\n",
       "      <th>épices</th>\n",
       "    </tr>\n",
       "  </thead>\n",
       "  <tbody>\n",
       "    <tr>\n",
       "      <th>0</th>\n",
       "      <td>0</td>\n",
       "      <td>0</td>\n",
       "      <td>0</td>\n",
       "      <td>0</td>\n",
       "      <td>0</td>\n",
       "      <td>0</td>\n",
       "      <td>0</td>\n",
       "      <td>0</td>\n",
       "      <td>0</td>\n",
       "      <td>0</td>\n",
       "      <td>...</td>\n",
       "      <td>0</td>\n",
       "      <td>0</td>\n",
       "      <td>0</td>\n",
       "      <td>0</td>\n",
       "      <td>0</td>\n",
       "      <td>0</td>\n",
       "      <td>0</td>\n",
       "      <td>0</td>\n",
       "      <td>0</td>\n",
       "      <td>0</td>\n",
       "    </tr>\n",
       "    <tr>\n",
       "      <th>1</th>\n",
       "      <td>0</td>\n",
       "      <td>0</td>\n",
       "      <td>0</td>\n",
       "      <td>0</td>\n",
       "      <td>0</td>\n",
       "      <td>0</td>\n",
       "      <td>0</td>\n",
       "      <td>0</td>\n",
       "      <td>0</td>\n",
       "      <td>0</td>\n",
       "      <td>...</td>\n",
       "      <td>0</td>\n",
       "      <td>0</td>\n",
       "      <td>0</td>\n",
       "      <td>0</td>\n",
       "      <td>0</td>\n",
       "      <td>0</td>\n",
       "      <td>0</td>\n",
       "      <td>0</td>\n",
       "      <td>0</td>\n",
       "      <td>0</td>\n",
       "    </tr>\n",
       "    <tr>\n",
       "      <th>2</th>\n",
       "      <td>0</td>\n",
       "      <td>0</td>\n",
       "      <td>0</td>\n",
       "      <td>0</td>\n",
       "      <td>0</td>\n",
       "      <td>0</td>\n",
       "      <td>0</td>\n",
       "      <td>0</td>\n",
       "      <td>0</td>\n",
       "      <td>0</td>\n",
       "      <td>...</td>\n",
       "      <td>0</td>\n",
       "      <td>0</td>\n",
       "      <td>0</td>\n",
       "      <td>0</td>\n",
       "      <td>0</td>\n",
       "      <td>0</td>\n",
       "      <td>0</td>\n",
       "      <td>0</td>\n",
       "      <td>0</td>\n",
       "      <td>0</td>\n",
       "    </tr>\n",
       "    <tr>\n",
       "      <th>3</th>\n",
       "      <td>0</td>\n",
       "      <td>0</td>\n",
       "      <td>0</td>\n",
       "      <td>0</td>\n",
       "      <td>0</td>\n",
       "      <td>0</td>\n",
       "      <td>0</td>\n",
       "      <td>0</td>\n",
       "      <td>0</td>\n",
       "      <td>0</td>\n",
       "      <td>...</td>\n",
       "      <td>0</td>\n",
       "      <td>0</td>\n",
       "      <td>0</td>\n",
       "      <td>0</td>\n",
       "      <td>0</td>\n",
       "      <td>0</td>\n",
       "      <td>0</td>\n",
       "      <td>0</td>\n",
       "      <td>0</td>\n",
       "      <td>0</td>\n",
       "    </tr>\n",
       "    <tr>\n",
       "      <th>4</th>\n",
       "      <td>0</td>\n",
       "      <td>0</td>\n",
       "      <td>0</td>\n",
       "      <td>0</td>\n",
       "      <td>0</td>\n",
       "      <td>0</td>\n",
       "      <td>0</td>\n",
       "      <td>0</td>\n",
       "      <td>0</td>\n",
       "      <td>0</td>\n",
       "      <td>...</td>\n",
       "      <td>0</td>\n",
       "      <td>0</td>\n",
       "      <td>0</td>\n",
       "      <td>0</td>\n",
       "      <td>0</td>\n",
       "      <td>0</td>\n",
       "      <td>0</td>\n",
       "      <td>0</td>\n",
       "      <td>0</td>\n",
       "      <td>0</td>\n",
       "    </tr>\n",
       "  </tbody>\n",
       "</table>\n",
       "<p>5 rows × 3008 columns</p>\n",
       "</div>"
      ],
      "text/plain": [
       "   a  abalone  abbamele  absinthe  abura  acai  accent  accompaniment  \\\n",
       "0  0        0         0         0      0     0       0              0   \n",
       "1  0        0         0         0      0     0       0              0   \n",
       "2  0        0         0         0      0     0       0              0   \n",
       "3  0        0         0         0      0     0       0              0   \n",
       "4  0        0         0         0      0     0       0              0   \n",
       "\n",
       "   achiote  acid  ...  za  zatarain  zatarains  zero  zest  zesty  zinfandel  \\\n",
       "0        0     0  ...   0         0          0     0     0      0          0   \n",
       "1        0     0  ...   0         0          0     0     0      0          0   \n",
       "2        0     0  ...   0         0          0     0     0      0          0   \n",
       "3        0     0  ...   0         0          0     0     0      0          0   \n",
       "4        0     0  ...   0         0          0     0     0      0          0   \n",
       "\n",
       "   ziti  zucchini  épices  \n",
       "0     0         0       0  \n",
       "1     0         0       0  \n",
       "2     0         0       0  \n",
       "3     0         0       0  \n",
       "4     0         0       0  \n",
       "\n",
       "[5 rows x 3008 columns]"
      ]
     },
     "execution_count": 20,
     "metadata": {},
     "output_type": "execute_result"
    }
   ],
   "source": [
    "matrix_df = pd.DataFrame(train_vectorized.toarray(), columns=cv.get_feature_names_out())\n",
    "\n",
    "# Now print the DataFrame\n",
    "matrix_df.head()"
   ]
  },
  {
   "cell_type": "code",
   "execution_count": 21,
   "metadata": {},
   "outputs": [],
   "source": [
    "X_train, X_val_test, y_train, y_val_test = train_test_split(matrix_df, train_toString['cuisine'], test_size=0.3, random_state=42)\n",
    "X_val, X_test, y_val, y_test = train_test_split(X_val_test, y_val_test, test_size=0.5, random_state=42)"
   ]
  },
  {
   "cell_type": "code",
   "execution_count": 22,
   "metadata": {},
   "outputs": [
    {
     "data": {
      "text/plain": [
       "((27841, 3008), (5967, 3008), (5966, 3008), (27841,), (5967,), (5966,))"
      ]
     },
     "execution_count": 22,
     "metadata": {},
     "output_type": "execute_result"
    }
   ],
   "source": [
    "X_train.shape, X_test.shape, X_val.shape, y_train.shape, y_test.shape, y_val.shape"
   ]
  },
  {
   "cell_type": "code",
   "execution_count": 23,
   "metadata": {},
   "outputs": [
    {
     "data": {
      "text/html": [
       "<style>#sk-container-id-1 {color: black;}#sk-container-id-1 pre{padding: 0;}#sk-container-id-1 div.sk-toggleable {background-color: white;}#sk-container-id-1 label.sk-toggleable__label {cursor: pointer;display: block;width: 100%;margin-bottom: 0;padding: 0.3em;box-sizing: border-box;text-align: center;}#sk-container-id-1 label.sk-toggleable__label-arrow:before {content: \"▸\";float: left;margin-right: 0.25em;color: #696969;}#sk-container-id-1 label.sk-toggleable__label-arrow:hover:before {color: black;}#sk-container-id-1 div.sk-estimator:hover label.sk-toggleable__label-arrow:before {color: black;}#sk-container-id-1 div.sk-toggleable__content {max-height: 0;max-width: 0;overflow: hidden;text-align: left;background-color: #f0f8ff;}#sk-container-id-1 div.sk-toggleable__content pre {margin: 0.2em;color: black;border-radius: 0.25em;background-color: #f0f8ff;}#sk-container-id-1 input.sk-toggleable__control:checked~div.sk-toggleable__content {max-height: 200px;max-width: 100%;overflow: auto;}#sk-container-id-1 input.sk-toggleable__control:checked~label.sk-toggleable__label-arrow:before {content: \"▾\";}#sk-container-id-1 div.sk-estimator input.sk-toggleable__control:checked~label.sk-toggleable__label {background-color: #d4ebff;}#sk-container-id-1 div.sk-label input.sk-toggleable__control:checked~label.sk-toggleable__label {background-color: #d4ebff;}#sk-container-id-1 input.sk-hidden--visually {border: 0;clip: rect(1px 1px 1px 1px);clip: rect(1px, 1px, 1px, 1px);height: 1px;margin: -1px;overflow: hidden;padding: 0;position: absolute;width: 1px;}#sk-container-id-1 div.sk-estimator {font-family: monospace;background-color: #f0f8ff;border: 1px dotted black;border-radius: 0.25em;box-sizing: border-box;margin-bottom: 0.5em;}#sk-container-id-1 div.sk-estimator:hover {background-color: #d4ebff;}#sk-container-id-1 div.sk-parallel-item::after {content: \"\";width: 100%;border-bottom: 1px solid gray;flex-grow: 1;}#sk-container-id-1 div.sk-label:hover label.sk-toggleable__label {background-color: #d4ebff;}#sk-container-id-1 div.sk-serial::before {content: \"\";position: absolute;border-left: 1px solid gray;box-sizing: border-box;top: 0;bottom: 0;left: 50%;z-index: 0;}#sk-container-id-1 div.sk-serial {display: flex;flex-direction: column;align-items: center;background-color: white;padding-right: 0.2em;padding-left: 0.2em;position: relative;}#sk-container-id-1 div.sk-item {position: relative;z-index: 1;}#sk-container-id-1 div.sk-parallel {display: flex;align-items: stretch;justify-content: center;background-color: white;position: relative;}#sk-container-id-1 div.sk-item::before, #sk-container-id-1 div.sk-parallel-item::before {content: \"\";position: absolute;border-left: 1px solid gray;box-sizing: border-box;top: 0;bottom: 0;left: 50%;z-index: -1;}#sk-container-id-1 div.sk-parallel-item {display: flex;flex-direction: column;z-index: 1;position: relative;background-color: white;}#sk-container-id-1 div.sk-parallel-item:first-child::after {align-self: flex-end;width: 50%;}#sk-container-id-1 div.sk-parallel-item:last-child::after {align-self: flex-start;width: 50%;}#sk-container-id-1 div.sk-parallel-item:only-child::after {width: 0;}#sk-container-id-1 div.sk-dashed-wrapped {border: 1px dashed gray;margin: 0 0.4em 0.5em 0.4em;box-sizing: border-box;padding-bottom: 0.4em;background-color: white;}#sk-container-id-1 div.sk-label label {font-family: monospace;font-weight: bold;display: inline-block;line-height: 1.2em;}#sk-container-id-1 div.sk-label-container {text-align: center;}#sk-container-id-1 div.sk-container {/* jupyter's `normalize.less` sets `[hidden] { display: none; }` but bootstrap.min.css set `[hidden] { display: none !important; }` so we also need the `!important` here to be able to override the default hidden behavior on the sphinx rendered scikit-learn.org. See: https://github.com/scikit-learn/scikit-learn/issues/21755 */display: inline-block !important;position: relative;}#sk-container-id-1 div.sk-text-repr-fallback {display: none;}</style><div id=\"sk-container-id-1\" class=\"sk-top-container\"><div class=\"sk-text-repr-fallback\"><pre>LogisticRegression(max_iter=1000, n_jobs=-1)</pre><b>In a Jupyter environment, please rerun this cell to show the HTML representation or trust the notebook. <br />On GitHub, the HTML representation is unable to render, please try loading this page with nbviewer.org.</b></div><div class=\"sk-container\" hidden><div class=\"sk-item\"><div class=\"sk-estimator sk-toggleable\"><input class=\"sk-toggleable__control sk-hidden--visually\" id=\"sk-estimator-id-1\" type=\"checkbox\" checked><label for=\"sk-estimator-id-1\" class=\"sk-toggleable__label sk-toggleable__label-arrow\">LogisticRegression</label><div class=\"sk-toggleable__content\"><pre>LogisticRegression(max_iter=1000, n_jobs=-1)</pre></div></div></div></div></div>"
      ],
      "text/plain": [
       "LogisticRegression(max_iter=1000, n_jobs=-1)"
      ]
     },
     "execution_count": 23,
     "metadata": {},
     "output_type": "execute_result"
    }
   ],
   "source": [
    "vlr = LogisticRegression(max_iter=1000, n_jobs=-1)\n",
    "vlr.fit(X_train, y_train)"
   ]
  },
  {
   "cell_type": "code",
   "execution_count": 35,
   "metadata": {},
   "outputs": [
    {
     "name": "stdout",
     "output_type": "stream",
     "text": [
      "Train Accuracy: 0.8673898207679321\n",
      "Validation Accuracy: 0.7931612470667113\n",
      "Test Accuracy: 0.7697335344394168\n"
     ]
    }
   ],
   "source": [
    "calc_acc(vlr, X_train, y_train, X_val, y_val, X_test, y_test)"
   ]
  },
  {
   "cell_type": "code",
   "execution_count": 36,
   "metadata": {},
   "outputs": [
    {
     "name": "stderr",
     "output_type": "stream",
     "text": [
      "[Parallel(n_jobs=-1)]: Using backend ThreadingBackend with 128 concurrent workers.\n",
      "[Parallel(n_jobs=-1)]: Done  47 out of 100 | elapsed:    2.2s remaining:    2.5s\n",
      "[Parallel(n_jobs=-1)]: Done 100 out of 100 | elapsed:    2.5s finished\n"
     ]
    },
    {
     "data": {
      "text/html": [
       "<style>#sk-container-id-2 {color: black;}#sk-container-id-2 pre{padding: 0;}#sk-container-id-2 div.sk-toggleable {background-color: white;}#sk-container-id-2 label.sk-toggleable__label {cursor: pointer;display: block;width: 100%;margin-bottom: 0;padding: 0.3em;box-sizing: border-box;text-align: center;}#sk-container-id-2 label.sk-toggleable__label-arrow:before {content: \"▸\";float: left;margin-right: 0.25em;color: #696969;}#sk-container-id-2 label.sk-toggleable__label-arrow:hover:before {color: black;}#sk-container-id-2 div.sk-estimator:hover label.sk-toggleable__label-arrow:before {color: black;}#sk-container-id-2 div.sk-toggleable__content {max-height: 0;max-width: 0;overflow: hidden;text-align: left;background-color: #f0f8ff;}#sk-container-id-2 div.sk-toggleable__content pre {margin: 0.2em;color: black;border-radius: 0.25em;background-color: #f0f8ff;}#sk-container-id-2 input.sk-toggleable__control:checked~div.sk-toggleable__content {max-height: 200px;max-width: 100%;overflow: auto;}#sk-container-id-2 input.sk-toggleable__control:checked~label.sk-toggleable__label-arrow:before {content: \"▾\";}#sk-container-id-2 div.sk-estimator input.sk-toggleable__control:checked~label.sk-toggleable__label {background-color: #d4ebff;}#sk-container-id-2 div.sk-label input.sk-toggleable__control:checked~label.sk-toggleable__label {background-color: #d4ebff;}#sk-container-id-2 input.sk-hidden--visually {border: 0;clip: rect(1px 1px 1px 1px);clip: rect(1px, 1px, 1px, 1px);height: 1px;margin: -1px;overflow: hidden;padding: 0;position: absolute;width: 1px;}#sk-container-id-2 div.sk-estimator {font-family: monospace;background-color: #f0f8ff;border: 1px dotted black;border-radius: 0.25em;box-sizing: border-box;margin-bottom: 0.5em;}#sk-container-id-2 div.sk-estimator:hover {background-color: #d4ebff;}#sk-container-id-2 div.sk-parallel-item::after {content: \"\";width: 100%;border-bottom: 1px solid gray;flex-grow: 1;}#sk-container-id-2 div.sk-label:hover label.sk-toggleable__label {background-color: #d4ebff;}#sk-container-id-2 div.sk-serial::before {content: \"\";position: absolute;border-left: 1px solid gray;box-sizing: border-box;top: 0;bottom: 0;left: 50%;z-index: 0;}#sk-container-id-2 div.sk-serial {display: flex;flex-direction: column;align-items: center;background-color: white;padding-right: 0.2em;padding-left: 0.2em;position: relative;}#sk-container-id-2 div.sk-item {position: relative;z-index: 1;}#sk-container-id-2 div.sk-parallel {display: flex;align-items: stretch;justify-content: center;background-color: white;position: relative;}#sk-container-id-2 div.sk-item::before, #sk-container-id-2 div.sk-parallel-item::before {content: \"\";position: absolute;border-left: 1px solid gray;box-sizing: border-box;top: 0;bottom: 0;left: 50%;z-index: -1;}#sk-container-id-2 div.sk-parallel-item {display: flex;flex-direction: column;z-index: 1;position: relative;background-color: white;}#sk-container-id-2 div.sk-parallel-item:first-child::after {align-self: flex-end;width: 50%;}#sk-container-id-2 div.sk-parallel-item:last-child::after {align-self: flex-start;width: 50%;}#sk-container-id-2 div.sk-parallel-item:only-child::after {width: 0;}#sk-container-id-2 div.sk-dashed-wrapped {border: 1px dashed gray;margin: 0 0.4em 0.5em 0.4em;box-sizing: border-box;padding-bottom: 0.4em;background-color: white;}#sk-container-id-2 div.sk-label label {font-family: monospace;font-weight: bold;display: inline-block;line-height: 1.2em;}#sk-container-id-2 div.sk-label-container {text-align: center;}#sk-container-id-2 div.sk-container {/* jupyter's `normalize.less` sets `[hidden] { display: none; }` but bootstrap.min.css set `[hidden] { display: none !important; }` so we also need the `!important` here to be able to override the default hidden behavior on the sphinx rendered scikit-learn.org. See: https://github.com/scikit-learn/scikit-learn/issues/21755 */display: inline-block !important;position: relative;}#sk-container-id-2 div.sk-text-repr-fallback {display: none;}</style><div id=\"sk-container-id-2\" class=\"sk-top-container\"><div class=\"sk-text-repr-fallback\"><pre>RandomForestClassifier(n_jobs=-1, random_state=42, verbose=1)</pre><b>In a Jupyter environment, please rerun this cell to show the HTML representation or trust the notebook. <br />On GitHub, the HTML representation is unable to render, please try loading this page with nbviewer.org.</b></div><div class=\"sk-container\" hidden><div class=\"sk-item\"><div class=\"sk-estimator sk-toggleable\"><input class=\"sk-toggleable__control sk-hidden--visually\" id=\"sk-estimator-id-2\" type=\"checkbox\" checked><label for=\"sk-estimator-id-2\" class=\"sk-toggleable__label sk-toggleable__label-arrow\">RandomForestClassifier</label><div class=\"sk-toggleable__content\"><pre>RandomForestClassifier(n_jobs=-1, random_state=42, verbose=1)</pre></div></div></div></div></div>"
      ],
      "text/plain": [
       "RandomForestClassifier(n_jobs=-1, random_state=42, verbose=1)"
      ]
     },
     "execution_count": 36,
     "metadata": {},
     "output_type": "execute_result"
    }
   ],
   "source": [
    "vrfc = RandomForestClassifier(random_state=42, verbose=1, n_jobs=-1)\n",
    "vrfc.fit(X_train, y_train)"
   ]
  },
  {
   "cell_type": "code",
   "execution_count": 37,
   "metadata": {},
   "outputs": [
    {
     "name": "stderr",
     "output_type": "stream",
     "text": [
      "[Parallel(n_jobs=100)]: Using backend ThreadingBackend with 100 concurrent workers.\n",
      "[Parallel(n_jobs=100)]: Done   2 out of 100 | elapsed:    0.1s remaining:    3.7s\n",
      "[Parallel(n_jobs=100)]: Done 100 out of 100 | elapsed:    0.2s finished\n",
      "[Parallel(n_jobs=100)]: Using backend ThreadingBackend with 100 concurrent workers.\n",
      "[Parallel(n_jobs=100)]: Done   2 out of 100 | elapsed:    0.0s remaining:    1.6s\n",
      "[Parallel(n_jobs=100)]: Done 100 out of 100 | elapsed:    0.1s finished\n",
      "[Parallel(n_jobs=100)]: Using backend ThreadingBackend with 100 concurrent workers.\n",
      "[Parallel(n_jobs=100)]: Done   2 out of 100 | elapsed:    0.0s remaining:    2.0s\n",
      "[Parallel(n_jobs=100)]: Done 100 out of 100 | elapsed:    0.1s finished\n"
     ]
    },
    {
     "name": "stdout",
     "output_type": "stream",
     "text": [
      "Train Accuracy: 0.9995689809992457\n",
      "Validation Accuracy: 0.7549446865571572\n",
      "Test Accuracy: 0.7479470420646891\n"
     ]
    }
   ],
   "source": [
    "calc_acc(vrfc, X_train, y_train, X_val, y_val, X_test, y_test)"
   ]
  },
  {
   "cell_type": "code",
   "execution_count": 39,
   "metadata": {},
   "outputs": [
    {
     "data": {
      "text/html": [
       "<style>#sk-container-id-3 {color: black;}#sk-container-id-3 pre{padding: 0;}#sk-container-id-3 div.sk-toggleable {background-color: white;}#sk-container-id-3 label.sk-toggleable__label {cursor: pointer;display: block;width: 100%;margin-bottom: 0;padding: 0.3em;box-sizing: border-box;text-align: center;}#sk-container-id-3 label.sk-toggleable__label-arrow:before {content: \"▸\";float: left;margin-right: 0.25em;color: #696969;}#sk-container-id-3 label.sk-toggleable__label-arrow:hover:before {color: black;}#sk-container-id-3 div.sk-estimator:hover label.sk-toggleable__label-arrow:before {color: black;}#sk-container-id-3 div.sk-toggleable__content {max-height: 0;max-width: 0;overflow: hidden;text-align: left;background-color: #f0f8ff;}#sk-container-id-3 div.sk-toggleable__content pre {margin: 0.2em;color: black;border-radius: 0.25em;background-color: #f0f8ff;}#sk-container-id-3 input.sk-toggleable__control:checked~div.sk-toggleable__content {max-height: 200px;max-width: 100%;overflow: auto;}#sk-container-id-3 input.sk-toggleable__control:checked~label.sk-toggleable__label-arrow:before {content: \"▾\";}#sk-container-id-3 div.sk-estimator input.sk-toggleable__control:checked~label.sk-toggleable__label {background-color: #d4ebff;}#sk-container-id-3 div.sk-label input.sk-toggleable__control:checked~label.sk-toggleable__label {background-color: #d4ebff;}#sk-container-id-3 input.sk-hidden--visually {border: 0;clip: rect(1px 1px 1px 1px);clip: rect(1px, 1px, 1px, 1px);height: 1px;margin: -1px;overflow: hidden;padding: 0;position: absolute;width: 1px;}#sk-container-id-3 div.sk-estimator {font-family: monospace;background-color: #f0f8ff;border: 1px dotted black;border-radius: 0.25em;box-sizing: border-box;margin-bottom: 0.5em;}#sk-container-id-3 div.sk-estimator:hover {background-color: #d4ebff;}#sk-container-id-3 div.sk-parallel-item::after {content: \"\";width: 100%;border-bottom: 1px solid gray;flex-grow: 1;}#sk-container-id-3 div.sk-label:hover label.sk-toggleable__label {background-color: #d4ebff;}#sk-container-id-3 div.sk-serial::before {content: \"\";position: absolute;border-left: 1px solid gray;box-sizing: border-box;top: 0;bottom: 0;left: 50%;z-index: 0;}#sk-container-id-3 div.sk-serial {display: flex;flex-direction: column;align-items: center;background-color: white;padding-right: 0.2em;padding-left: 0.2em;position: relative;}#sk-container-id-3 div.sk-item {position: relative;z-index: 1;}#sk-container-id-3 div.sk-parallel {display: flex;align-items: stretch;justify-content: center;background-color: white;position: relative;}#sk-container-id-3 div.sk-item::before, #sk-container-id-3 div.sk-parallel-item::before {content: \"\";position: absolute;border-left: 1px solid gray;box-sizing: border-box;top: 0;bottom: 0;left: 50%;z-index: -1;}#sk-container-id-3 div.sk-parallel-item {display: flex;flex-direction: column;z-index: 1;position: relative;background-color: white;}#sk-container-id-3 div.sk-parallel-item:first-child::after {align-self: flex-end;width: 50%;}#sk-container-id-3 div.sk-parallel-item:last-child::after {align-self: flex-start;width: 50%;}#sk-container-id-3 div.sk-parallel-item:only-child::after {width: 0;}#sk-container-id-3 div.sk-dashed-wrapped {border: 1px dashed gray;margin: 0 0.4em 0.5em 0.4em;box-sizing: border-box;padding-bottom: 0.4em;background-color: white;}#sk-container-id-3 div.sk-label label {font-family: monospace;font-weight: bold;display: inline-block;line-height: 1.2em;}#sk-container-id-3 div.sk-label-container {text-align: center;}#sk-container-id-3 div.sk-container {/* jupyter's `normalize.less` sets `[hidden] { display: none; }` but bootstrap.min.css set `[hidden] { display: none !important; }` so we also need the `!important` here to be able to override the default hidden behavior on the sphinx rendered scikit-learn.org. See: https://github.com/scikit-learn/scikit-learn/issues/21755 */display: inline-block !important;position: relative;}#sk-container-id-3 div.sk-text-repr-fallback {display: none;}</style><div id=\"sk-container-id-3\" class=\"sk-top-container\"><div class=\"sk-text-repr-fallback\"><pre>SVC(kernel=&#x27;linear&#x27;, random_state=42)</pre><b>In a Jupyter environment, please rerun this cell to show the HTML representation or trust the notebook. <br />On GitHub, the HTML representation is unable to render, please try loading this page with nbviewer.org.</b></div><div class=\"sk-container\" hidden><div class=\"sk-item\"><div class=\"sk-estimator sk-toggleable\"><input class=\"sk-toggleable__control sk-hidden--visually\" id=\"sk-estimator-id-3\" type=\"checkbox\" checked><label for=\"sk-estimator-id-3\" class=\"sk-toggleable__label sk-toggleable__label-arrow\">SVC</label><div class=\"sk-toggleable__content\"><pre>SVC(kernel=&#x27;linear&#x27;, random_state=42)</pre></div></div></div></div></div>"
      ],
      "text/plain": [
       "SVC(kernel='linear', random_state=42)"
      ]
     },
     "execution_count": 39,
     "metadata": {},
     "output_type": "execute_result"
    }
   ],
   "source": [
    "# Initialize a SVC\n",
    "vsvc = SVC(kernel='linear', C=1.0, random_state=42)\n",
    "# Fit the classifier to the training data\n",
    "vsvc.fit(X_train, y_train)"
   ]
  },
  {
   "cell_type": "code",
   "execution_count": 40,
   "metadata": {},
   "outputs": [
    {
     "name": "stdout",
     "output_type": "stream",
     "text": [
      "Train Accuracy: 0.9165619051039834\n",
      "Validation Accuracy: 0.771371102916527\n",
      "Test Accuracy: 0.7536450477626948\n"
     ]
    }
   ],
   "source": [
    "calc_acc(vsvc, X_train, y_train, X_val, y_val, X_test, y_test)"
   ]
  },
  {
   "cell_type": "markdown",
   "metadata": {},
   "source": [
    "## Tfidf Vectorizer"
   ]
  },
  {
   "cell_type": "code",
   "execution_count": 24,
   "metadata": {},
   "outputs": [
    {
     "name": "stderr",
     "output_type": "stream",
     "text": [
      "/opt/conda/lib/python3.10/site-packages/sklearn/feature_extraction/text.py:525: UserWarning: The parameter 'token_pattern' will not be used since 'tokenizer' is not None'\n",
      "  warnings.warn(\n"
     ]
    }
   ],
   "source": [
    "# Initialize a TfidfVectorizer\n",
    "tv = TfidfVectorizer(tokenizer=alpha_tokenizer)\n",
    "train_tvectorized = tv.fit_transform(train_toString['ingredients'])"
   ]
  },
  {
   "cell_type": "code",
   "execution_count": 25,
   "metadata": {},
   "outputs": [
    {
     "data": {
      "text/html": [
       "<div>\n",
       "<style scoped>\n",
       "    .dataframe tbody tr th:only-of-type {\n",
       "        vertical-align: middle;\n",
       "    }\n",
       "\n",
       "    .dataframe tbody tr th {\n",
       "        vertical-align: top;\n",
       "    }\n",
       "\n",
       "    .dataframe thead th {\n",
       "        text-align: right;\n",
       "    }\n",
       "</style>\n",
       "<table border=\"1\" class=\"dataframe\">\n",
       "  <thead>\n",
       "    <tr style=\"text-align: right;\">\n",
       "      <th></th>\n",
       "      <th>a</th>\n",
       "      <th>abalone</th>\n",
       "      <th>abbamele</th>\n",
       "      <th>absinthe</th>\n",
       "      <th>abura</th>\n",
       "      <th>acai</th>\n",
       "      <th>accent</th>\n",
       "      <th>accompaniment</th>\n",
       "      <th>achiote</th>\n",
       "      <th>acid</th>\n",
       "      <th>...</th>\n",
       "      <th>za</th>\n",
       "      <th>zatarain</th>\n",
       "      <th>zatarains</th>\n",
       "      <th>zero</th>\n",
       "      <th>zest</th>\n",
       "      <th>zesty</th>\n",
       "      <th>zinfandel</th>\n",
       "      <th>ziti</th>\n",
       "      <th>zucchini</th>\n",
       "      <th>épices</th>\n",
       "    </tr>\n",
       "  </thead>\n",
       "  <tbody>\n",
       "    <tr>\n",
       "      <th>0</th>\n",
       "      <td>0.0</td>\n",
       "      <td>0.0</td>\n",
       "      <td>0.0</td>\n",
       "      <td>0.0</td>\n",
       "      <td>0.0</td>\n",
       "      <td>0.0</td>\n",
       "      <td>0.0</td>\n",
       "      <td>0.0</td>\n",
       "      <td>0.0</td>\n",
       "      <td>0.0</td>\n",
       "      <td>...</td>\n",
       "      <td>0.0</td>\n",
       "      <td>0.0</td>\n",
       "      <td>0.0</td>\n",
       "      <td>0.0</td>\n",
       "      <td>0.0</td>\n",
       "      <td>0.0</td>\n",
       "      <td>0.0</td>\n",
       "      <td>0.0</td>\n",
       "      <td>0.0</td>\n",
       "      <td>0.0</td>\n",
       "    </tr>\n",
       "    <tr>\n",
       "      <th>1</th>\n",
       "      <td>0.0</td>\n",
       "      <td>0.0</td>\n",
       "      <td>0.0</td>\n",
       "      <td>0.0</td>\n",
       "      <td>0.0</td>\n",
       "      <td>0.0</td>\n",
       "      <td>0.0</td>\n",
       "      <td>0.0</td>\n",
       "      <td>0.0</td>\n",
       "      <td>0.0</td>\n",
       "      <td>...</td>\n",
       "      <td>0.0</td>\n",
       "      <td>0.0</td>\n",
       "      <td>0.0</td>\n",
       "      <td>0.0</td>\n",
       "      <td>0.0</td>\n",
       "      <td>0.0</td>\n",
       "      <td>0.0</td>\n",
       "      <td>0.0</td>\n",
       "      <td>0.0</td>\n",
       "      <td>0.0</td>\n",
       "    </tr>\n",
       "    <tr>\n",
       "      <th>2</th>\n",
       "      <td>0.0</td>\n",
       "      <td>0.0</td>\n",
       "      <td>0.0</td>\n",
       "      <td>0.0</td>\n",
       "      <td>0.0</td>\n",
       "      <td>0.0</td>\n",
       "      <td>0.0</td>\n",
       "      <td>0.0</td>\n",
       "      <td>0.0</td>\n",
       "      <td>0.0</td>\n",
       "      <td>...</td>\n",
       "      <td>0.0</td>\n",
       "      <td>0.0</td>\n",
       "      <td>0.0</td>\n",
       "      <td>0.0</td>\n",
       "      <td>0.0</td>\n",
       "      <td>0.0</td>\n",
       "      <td>0.0</td>\n",
       "      <td>0.0</td>\n",
       "      <td>0.0</td>\n",
       "      <td>0.0</td>\n",
       "    </tr>\n",
       "    <tr>\n",
       "      <th>3</th>\n",
       "      <td>0.0</td>\n",
       "      <td>0.0</td>\n",
       "      <td>0.0</td>\n",
       "      <td>0.0</td>\n",
       "      <td>0.0</td>\n",
       "      <td>0.0</td>\n",
       "      <td>0.0</td>\n",
       "      <td>0.0</td>\n",
       "      <td>0.0</td>\n",
       "      <td>0.0</td>\n",
       "      <td>...</td>\n",
       "      <td>0.0</td>\n",
       "      <td>0.0</td>\n",
       "      <td>0.0</td>\n",
       "      <td>0.0</td>\n",
       "      <td>0.0</td>\n",
       "      <td>0.0</td>\n",
       "      <td>0.0</td>\n",
       "      <td>0.0</td>\n",
       "      <td>0.0</td>\n",
       "      <td>0.0</td>\n",
       "    </tr>\n",
       "    <tr>\n",
       "      <th>4</th>\n",
       "      <td>0.0</td>\n",
       "      <td>0.0</td>\n",
       "      <td>0.0</td>\n",
       "      <td>0.0</td>\n",
       "      <td>0.0</td>\n",
       "      <td>0.0</td>\n",
       "      <td>0.0</td>\n",
       "      <td>0.0</td>\n",
       "      <td>0.0</td>\n",
       "      <td>0.0</td>\n",
       "      <td>...</td>\n",
       "      <td>0.0</td>\n",
       "      <td>0.0</td>\n",
       "      <td>0.0</td>\n",
       "      <td>0.0</td>\n",
       "      <td>0.0</td>\n",
       "      <td>0.0</td>\n",
       "      <td>0.0</td>\n",
       "      <td>0.0</td>\n",
       "      <td>0.0</td>\n",
       "      <td>0.0</td>\n",
       "    </tr>\n",
       "  </tbody>\n",
       "</table>\n",
       "<p>5 rows × 3008 columns</p>\n",
       "</div>"
      ],
      "text/plain": [
       "     a  abalone  abbamele  absinthe  abura  acai  accent  accompaniment  \\\n",
       "0  0.0      0.0       0.0       0.0    0.0   0.0     0.0            0.0   \n",
       "1  0.0      0.0       0.0       0.0    0.0   0.0     0.0            0.0   \n",
       "2  0.0      0.0       0.0       0.0    0.0   0.0     0.0            0.0   \n",
       "3  0.0      0.0       0.0       0.0    0.0   0.0     0.0            0.0   \n",
       "4  0.0      0.0       0.0       0.0    0.0   0.0     0.0            0.0   \n",
       "\n",
       "   achiote  acid  ...   za  zatarain  zatarains  zero  zest  zesty  zinfandel  \\\n",
       "0      0.0   0.0  ...  0.0       0.0        0.0   0.0   0.0    0.0        0.0   \n",
       "1      0.0   0.0  ...  0.0       0.0        0.0   0.0   0.0    0.0        0.0   \n",
       "2      0.0   0.0  ...  0.0       0.0        0.0   0.0   0.0    0.0        0.0   \n",
       "3      0.0   0.0  ...  0.0       0.0        0.0   0.0   0.0    0.0        0.0   \n",
       "4      0.0   0.0  ...  0.0       0.0        0.0   0.0   0.0    0.0        0.0   \n",
       "\n",
       "   ziti  zucchini  épices  \n",
       "0   0.0       0.0     0.0  \n",
       "1   0.0       0.0     0.0  \n",
       "2   0.0       0.0     0.0  \n",
       "3   0.0       0.0     0.0  \n",
       "4   0.0       0.0     0.0  \n",
       "\n",
       "[5 rows x 3008 columns]"
      ]
     },
     "execution_count": 25,
     "metadata": {},
     "output_type": "execute_result"
    }
   ],
   "source": [
    "tmatrix_df = pd.DataFrame(train_tvectorized.toarray(), columns=tv.get_feature_names_out())\n",
    "tmatrix_df.head()"
   ]
  },
  {
   "cell_type": "code",
   "execution_count": 26,
   "metadata": {},
   "outputs": [],
   "source": [
    "X_train, X_val_test, y_train, y_val_test = train_test_split(tmatrix_df, train_toString['cuisine'], test_size=0.3, random_state=42)\n",
    "X_val, X_test, y_val, y_test = train_test_split(X_val_test, y_val_test, test_size=0.5, random_state=42)"
   ]
  },
  {
   "cell_type": "code",
   "execution_count": 27,
   "metadata": {},
   "outputs": [
    {
     "data": {
      "text/plain": [
       "((27841, 3008), (5967, 3008), (5966, 3008), (27841,), (5967,), (5966,))"
      ]
     },
     "execution_count": 27,
     "metadata": {},
     "output_type": "execute_result"
    }
   ],
   "source": [
    "X_train.shape, X_test.shape, X_val.shape, y_train.shape, y_test.shape, y_val.shape"
   ]
  },
  {
   "cell_type": "code",
   "execution_count": 51,
   "metadata": {},
   "outputs": [
    {
     "data": {
      "text/html": [
       "<style>#sk-container-id-4 {color: black;}#sk-container-id-4 pre{padding: 0;}#sk-container-id-4 div.sk-toggleable {background-color: white;}#sk-container-id-4 label.sk-toggleable__label {cursor: pointer;display: block;width: 100%;margin-bottom: 0;padding: 0.3em;box-sizing: border-box;text-align: center;}#sk-container-id-4 label.sk-toggleable__label-arrow:before {content: \"▸\";float: left;margin-right: 0.25em;color: #696969;}#sk-container-id-4 label.sk-toggleable__label-arrow:hover:before {color: black;}#sk-container-id-4 div.sk-estimator:hover label.sk-toggleable__label-arrow:before {color: black;}#sk-container-id-4 div.sk-toggleable__content {max-height: 0;max-width: 0;overflow: hidden;text-align: left;background-color: #f0f8ff;}#sk-container-id-4 div.sk-toggleable__content pre {margin: 0.2em;color: black;border-radius: 0.25em;background-color: #f0f8ff;}#sk-container-id-4 input.sk-toggleable__control:checked~div.sk-toggleable__content {max-height: 200px;max-width: 100%;overflow: auto;}#sk-container-id-4 input.sk-toggleable__control:checked~label.sk-toggleable__label-arrow:before {content: \"▾\";}#sk-container-id-4 div.sk-estimator input.sk-toggleable__control:checked~label.sk-toggleable__label {background-color: #d4ebff;}#sk-container-id-4 div.sk-label input.sk-toggleable__control:checked~label.sk-toggleable__label {background-color: #d4ebff;}#sk-container-id-4 input.sk-hidden--visually {border: 0;clip: rect(1px 1px 1px 1px);clip: rect(1px, 1px, 1px, 1px);height: 1px;margin: -1px;overflow: hidden;padding: 0;position: absolute;width: 1px;}#sk-container-id-4 div.sk-estimator {font-family: monospace;background-color: #f0f8ff;border: 1px dotted black;border-radius: 0.25em;box-sizing: border-box;margin-bottom: 0.5em;}#sk-container-id-4 div.sk-estimator:hover {background-color: #d4ebff;}#sk-container-id-4 div.sk-parallel-item::after {content: \"\";width: 100%;border-bottom: 1px solid gray;flex-grow: 1;}#sk-container-id-4 div.sk-label:hover label.sk-toggleable__label {background-color: #d4ebff;}#sk-container-id-4 div.sk-serial::before {content: \"\";position: absolute;border-left: 1px solid gray;box-sizing: border-box;top: 0;bottom: 0;left: 50%;z-index: 0;}#sk-container-id-4 div.sk-serial {display: flex;flex-direction: column;align-items: center;background-color: white;padding-right: 0.2em;padding-left: 0.2em;position: relative;}#sk-container-id-4 div.sk-item {position: relative;z-index: 1;}#sk-container-id-4 div.sk-parallel {display: flex;align-items: stretch;justify-content: center;background-color: white;position: relative;}#sk-container-id-4 div.sk-item::before, #sk-container-id-4 div.sk-parallel-item::before {content: \"\";position: absolute;border-left: 1px solid gray;box-sizing: border-box;top: 0;bottom: 0;left: 50%;z-index: -1;}#sk-container-id-4 div.sk-parallel-item {display: flex;flex-direction: column;z-index: 1;position: relative;background-color: white;}#sk-container-id-4 div.sk-parallel-item:first-child::after {align-self: flex-end;width: 50%;}#sk-container-id-4 div.sk-parallel-item:last-child::after {align-self: flex-start;width: 50%;}#sk-container-id-4 div.sk-parallel-item:only-child::after {width: 0;}#sk-container-id-4 div.sk-dashed-wrapped {border: 1px dashed gray;margin: 0 0.4em 0.5em 0.4em;box-sizing: border-box;padding-bottom: 0.4em;background-color: white;}#sk-container-id-4 div.sk-label label {font-family: monospace;font-weight: bold;display: inline-block;line-height: 1.2em;}#sk-container-id-4 div.sk-label-container {text-align: center;}#sk-container-id-4 div.sk-container {/* jupyter's `normalize.less` sets `[hidden] { display: none; }` but bootstrap.min.css set `[hidden] { display: none !important; }` so we also need the `!important` here to be able to override the default hidden behavior on the sphinx rendered scikit-learn.org. See: https://github.com/scikit-learn/scikit-learn/issues/21755 */display: inline-block !important;position: relative;}#sk-container-id-4 div.sk-text-repr-fallback {display: none;}</style><div id=\"sk-container-id-4\" class=\"sk-top-container\"><div class=\"sk-text-repr-fallback\"><pre>LogisticRegression(max_iter=1000, n_jobs=-1)</pre><b>In a Jupyter environment, please rerun this cell to show the HTML representation or trust the notebook. <br />On GitHub, the HTML representation is unable to render, please try loading this page with nbviewer.org.</b></div><div class=\"sk-container\" hidden><div class=\"sk-item\"><div class=\"sk-estimator sk-toggleable\"><input class=\"sk-toggleable__control sk-hidden--visually\" id=\"sk-estimator-id-4\" type=\"checkbox\" checked><label for=\"sk-estimator-id-4\" class=\"sk-toggleable__label sk-toggleable__label-arrow\">LogisticRegression</label><div class=\"sk-toggleable__content\"><pre>LogisticRegression(max_iter=1000, n_jobs=-1)</pre></div></div></div></div></div>"
      ],
      "text/plain": [
       "LogisticRegression(max_iter=1000, n_jobs=-1)"
      ]
     },
     "execution_count": 51,
     "metadata": {},
     "output_type": "execute_result"
    }
   ],
   "source": [
    "tvlr = LogisticRegression(max_iter=1000, n_jobs=-1)\n",
    "tvlr.fit(X_train, y_train)"
   ]
  },
  {
   "cell_type": "code",
   "execution_count": 52,
   "metadata": {},
   "outputs": [
    {
     "name": "stdout",
     "output_type": "stream",
     "text": [
      "Train Accuracy: 0.8192234474336411\n",
      "Validation Accuracy: 0.7869594368085819\n",
      "Test Accuracy: 0.7715770068711245\n"
     ]
    }
   ],
   "source": [
    "calc_acc(tvlr, X_train, y_train, X_val, y_val, X_test, y_test)"
   ]
  },
  {
   "cell_type": "code",
   "execution_count": 53,
   "metadata": {},
   "outputs": [
    {
     "name": "stderr",
     "output_type": "stream",
     "text": [
      "[Parallel(n_jobs=-1)]: Using backend ThreadingBackend with 128 concurrent workers.\n",
      "[Parallel(n_jobs=-1)]: Done  47 out of 100 | elapsed:    2.3s remaining:    2.5s\n",
      "[Parallel(n_jobs=-1)]: Done 100 out of 100 | elapsed:    2.5s finished\n"
     ]
    },
    {
     "data": {
      "text/html": [
       "<style>#sk-container-id-5 {color: black;}#sk-container-id-5 pre{padding: 0;}#sk-container-id-5 div.sk-toggleable {background-color: white;}#sk-container-id-5 label.sk-toggleable__label {cursor: pointer;display: block;width: 100%;margin-bottom: 0;padding: 0.3em;box-sizing: border-box;text-align: center;}#sk-container-id-5 label.sk-toggleable__label-arrow:before {content: \"▸\";float: left;margin-right: 0.25em;color: #696969;}#sk-container-id-5 label.sk-toggleable__label-arrow:hover:before {color: black;}#sk-container-id-5 div.sk-estimator:hover label.sk-toggleable__label-arrow:before {color: black;}#sk-container-id-5 div.sk-toggleable__content {max-height: 0;max-width: 0;overflow: hidden;text-align: left;background-color: #f0f8ff;}#sk-container-id-5 div.sk-toggleable__content pre {margin: 0.2em;color: black;border-radius: 0.25em;background-color: #f0f8ff;}#sk-container-id-5 input.sk-toggleable__control:checked~div.sk-toggleable__content {max-height: 200px;max-width: 100%;overflow: auto;}#sk-container-id-5 input.sk-toggleable__control:checked~label.sk-toggleable__label-arrow:before {content: \"▾\";}#sk-container-id-5 div.sk-estimator input.sk-toggleable__control:checked~label.sk-toggleable__label {background-color: #d4ebff;}#sk-container-id-5 div.sk-label input.sk-toggleable__control:checked~label.sk-toggleable__label {background-color: #d4ebff;}#sk-container-id-5 input.sk-hidden--visually {border: 0;clip: rect(1px 1px 1px 1px);clip: rect(1px, 1px, 1px, 1px);height: 1px;margin: -1px;overflow: hidden;padding: 0;position: absolute;width: 1px;}#sk-container-id-5 div.sk-estimator {font-family: monospace;background-color: #f0f8ff;border: 1px dotted black;border-radius: 0.25em;box-sizing: border-box;margin-bottom: 0.5em;}#sk-container-id-5 div.sk-estimator:hover {background-color: #d4ebff;}#sk-container-id-5 div.sk-parallel-item::after {content: \"\";width: 100%;border-bottom: 1px solid gray;flex-grow: 1;}#sk-container-id-5 div.sk-label:hover label.sk-toggleable__label {background-color: #d4ebff;}#sk-container-id-5 div.sk-serial::before {content: \"\";position: absolute;border-left: 1px solid gray;box-sizing: border-box;top: 0;bottom: 0;left: 50%;z-index: 0;}#sk-container-id-5 div.sk-serial {display: flex;flex-direction: column;align-items: center;background-color: white;padding-right: 0.2em;padding-left: 0.2em;position: relative;}#sk-container-id-5 div.sk-item {position: relative;z-index: 1;}#sk-container-id-5 div.sk-parallel {display: flex;align-items: stretch;justify-content: center;background-color: white;position: relative;}#sk-container-id-5 div.sk-item::before, #sk-container-id-5 div.sk-parallel-item::before {content: \"\";position: absolute;border-left: 1px solid gray;box-sizing: border-box;top: 0;bottom: 0;left: 50%;z-index: -1;}#sk-container-id-5 div.sk-parallel-item {display: flex;flex-direction: column;z-index: 1;position: relative;background-color: white;}#sk-container-id-5 div.sk-parallel-item:first-child::after {align-self: flex-end;width: 50%;}#sk-container-id-5 div.sk-parallel-item:last-child::after {align-self: flex-start;width: 50%;}#sk-container-id-5 div.sk-parallel-item:only-child::after {width: 0;}#sk-container-id-5 div.sk-dashed-wrapped {border: 1px dashed gray;margin: 0 0.4em 0.5em 0.4em;box-sizing: border-box;padding-bottom: 0.4em;background-color: white;}#sk-container-id-5 div.sk-label label {font-family: monospace;font-weight: bold;display: inline-block;line-height: 1.2em;}#sk-container-id-5 div.sk-label-container {text-align: center;}#sk-container-id-5 div.sk-container {/* jupyter's `normalize.less` sets `[hidden] { display: none; }` but bootstrap.min.css set `[hidden] { display: none !important; }` so we also need the `!important` here to be able to override the default hidden behavior on the sphinx rendered scikit-learn.org. See: https://github.com/scikit-learn/scikit-learn/issues/21755 */display: inline-block !important;position: relative;}#sk-container-id-5 div.sk-text-repr-fallback {display: none;}</style><div id=\"sk-container-id-5\" class=\"sk-top-container\"><div class=\"sk-text-repr-fallback\"><pre>RandomForestClassifier(n_jobs=-1, random_state=42, verbose=1)</pre><b>In a Jupyter environment, please rerun this cell to show the HTML representation or trust the notebook. <br />On GitHub, the HTML representation is unable to render, please try loading this page with nbviewer.org.</b></div><div class=\"sk-container\" hidden><div class=\"sk-item\"><div class=\"sk-estimator sk-toggleable\"><input class=\"sk-toggleable__control sk-hidden--visually\" id=\"sk-estimator-id-5\" type=\"checkbox\" checked><label for=\"sk-estimator-id-5\" class=\"sk-toggleable__label sk-toggleable__label-arrow\">RandomForestClassifier</label><div class=\"sk-toggleable__content\"><pre>RandomForestClassifier(n_jobs=-1, random_state=42, verbose=1)</pre></div></div></div></div></div>"
      ],
      "text/plain": [
       "RandomForestClassifier(n_jobs=-1, random_state=42, verbose=1)"
      ]
     },
     "execution_count": 53,
     "metadata": {},
     "output_type": "execute_result"
    }
   ],
   "source": [
    "tvrfc = RandomForestClassifier(random_state=42, verbose=1, n_jobs=-1)\n",
    "tvrfc.fit(X_train, y_train)"
   ]
  },
  {
   "cell_type": "code",
   "execution_count": 54,
   "metadata": {},
   "outputs": [
    {
     "name": "stderr",
     "output_type": "stream",
     "text": [
      "[Parallel(n_jobs=100)]: Using backend ThreadingBackend with 100 concurrent workers.\n",
      "[Parallel(n_jobs=100)]: Done   2 out of 100 | elapsed:    0.1s remaining:    3.7s\n",
      "[Parallel(n_jobs=100)]: Done 100 out of 100 | elapsed:    0.2s finished\n",
      "[Parallel(n_jobs=100)]: Using backend ThreadingBackend with 100 concurrent workers.\n",
      "[Parallel(n_jobs=100)]: Done   2 out of 100 | elapsed:    0.2s remaining:   11.0s\n",
      "[Parallel(n_jobs=100)]: Done 100 out of 100 | elapsed:    0.3s finished\n",
      "[Parallel(n_jobs=100)]: Using backend ThreadingBackend with 100 concurrent workers.\n",
      "[Parallel(n_jobs=100)]: Done   2 out of 100 | elapsed:    0.0s remaining:    1.4s\n",
      "[Parallel(n_jobs=100)]: Done 100 out of 100 | elapsed:    0.1s finished\n"
     ]
    },
    {
     "name": "stdout",
     "output_type": "stream",
     "text": [
      "Train Accuracy: 0.9995689809992457\n",
      "Validation Accuracy: 0.7490781092859538\n",
      "Test Accuracy: 0.7390648567119156\n"
     ]
    }
   ],
   "source": [
    "calc_acc(tvrfc, X_train, y_train, X_val, y_val, X_test, y_test)"
   ]
  },
  {
   "cell_type": "code",
   "execution_count": 58,
   "metadata": {},
   "outputs": [
    {
     "name": "stderr",
     "output_type": "stream",
     "text": [
      "/opt/conda/lib/python3.10/site-packages/sklearn/svm/_classes.py:32: FutureWarning: The default value of `dual` will change from `True` to `'auto'` in 1.5. Set the value of `dual` explicitly to suppress the warning.\n",
      "  warnings.warn(\n"
     ]
    },
    {
     "data": {
      "text/html": [
       "<style>#sk-container-id-6 {color: black;}#sk-container-id-6 pre{padding: 0;}#sk-container-id-6 div.sk-toggleable {background-color: white;}#sk-container-id-6 label.sk-toggleable__label {cursor: pointer;display: block;width: 100%;margin-bottom: 0;padding: 0.3em;box-sizing: border-box;text-align: center;}#sk-container-id-6 label.sk-toggleable__label-arrow:before {content: \"▸\";float: left;margin-right: 0.25em;color: #696969;}#sk-container-id-6 label.sk-toggleable__label-arrow:hover:before {color: black;}#sk-container-id-6 div.sk-estimator:hover label.sk-toggleable__label-arrow:before {color: black;}#sk-container-id-6 div.sk-toggleable__content {max-height: 0;max-width: 0;overflow: hidden;text-align: left;background-color: #f0f8ff;}#sk-container-id-6 div.sk-toggleable__content pre {margin: 0.2em;color: black;border-radius: 0.25em;background-color: #f0f8ff;}#sk-container-id-6 input.sk-toggleable__control:checked~div.sk-toggleable__content {max-height: 200px;max-width: 100%;overflow: auto;}#sk-container-id-6 input.sk-toggleable__control:checked~label.sk-toggleable__label-arrow:before {content: \"▾\";}#sk-container-id-6 div.sk-estimator input.sk-toggleable__control:checked~label.sk-toggleable__label {background-color: #d4ebff;}#sk-container-id-6 div.sk-label input.sk-toggleable__control:checked~label.sk-toggleable__label {background-color: #d4ebff;}#sk-container-id-6 input.sk-hidden--visually {border: 0;clip: rect(1px 1px 1px 1px);clip: rect(1px, 1px, 1px, 1px);height: 1px;margin: -1px;overflow: hidden;padding: 0;position: absolute;width: 1px;}#sk-container-id-6 div.sk-estimator {font-family: monospace;background-color: #f0f8ff;border: 1px dotted black;border-radius: 0.25em;box-sizing: border-box;margin-bottom: 0.5em;}#sk-container-id-6 div.sk-estimator:hover {background-color: #d4ebff;}#sk-container-id-6 div.sk-parallel-item::after {content: \"\";width: 100%;border-bottom: 1px solid gray;flex-grow: 1;}#sk-container-id-6 div.sk-label:hover label.sk-toggleable__label {background-color: #d4ebff;}#sk-container-id-6 div.sk-serial::before {content: \"\";position: absolute;border-left: 1px solid gray;box-sizing: border-box;top: 0;bottom: 0;left: 50%;z-index: 0;}#sk-container-id-6 div.sk-serial {display: flex;flex-direction: column;align-items: center;background-color: white;padding-right: 0.2em;padding-left: 0.2em;position: relative;}#sk-container-id-6 div.sk-item {position: relative;z-index: 1;}#sk-container-id-6 div.sk-parallel {display: flex;align-items: stretch;justify-content: center;background-color: white;position: relative;}#sk-container-id-6 div.sk-item::before, #sk-container-id-6 div.sk-parallel-item::before {content: \"\";position: absolute;border-left: 1px solid gray;box-sizing: border-box;top: 0;bottom: 0;left: 50%;z-index: -1;}#sk-container-id-6 div.sk-parallel-item {display: flex;flex-direction: column;z-index: 1;position: relative;background-color: white;}#sk-container-id-6 div.sk-parallel-item:first-child::after {align-self: flex-end;width: 50%;}#sk-container-id-6 div.sk-parallel-item:last-child::after {align-self: flex-start;width: 50%;}#sk-container-id-6 div.sk-parallel-item:only-child::after {width: 0;}#sk-container-id-6 div.sk-dashed-wrapped {border: 1px dashed gray;margin: 0 0.4em 0.5em 0.4em;box-sizing: border-box;padding-bottom: 0.4em;background-color: white;}#sk-container-id-6 div.sk-label label {font-family: monospace;font-weight: bold;display: inline-block;line-height: 1.2em;}#sk-container-id-6 div.sk-label-container {text-align: center;}#sk-container-id-6 div.sk-container {/* jupyter's `normalize.less` sets `[hidden] { display: none; }` but bootstrap.min.css set `[hidden] { display: none !important; }` so we also need the `!important` here to be able to override the default hidden behavior on the sphinx rendered scikit-learn.org. See: https://github.com/scikit-learn/scikit-learn/issues/21755 */display: inline-block !important;position: relative;}#sk-container-id-6 div.sk-text-repr-fallback {display: none;}</style><div id=\"sk-container-id-6\" class=\"sk-top-container\"><div class=\"sk-text-repr-fallback\"><pre>LinearSVC(random_state=42)</pre><b>In a Jupyter environment, please rerun this cell to show the HTML representation or trust the notebook. <br />On GitHub, the HTML representation is unable to render, please try loading this page with nbviewer.org.</b></div><div class=\"sk-container\" hidden><div class=\"sk-item\"><div class=\"sk-estimator sk-toggleable\"><input class=\"sk-toggleable__control sk-hidden--visually\" id=\"sk-estimator-id-6\" type=\"checkbox\" checked><label for=\"sk-estimator-id-6\" class=\"sk-toggleable__label sk-toggleable__label-arrow\">LinearSVC</label><div class=\"sk-toggleable__content\"><pre>LinearSVC(random_state=42)</pre></div></div></div></div></div>"
      ],
      "text/plain": [
       "LinearSVC(random_state=42)"
      ]
     },
     "execution_count": 58,
     "metadata": {},
     "output_type": "execute_result"
    }
   ],
   "source": [
    "tvlsvc = LinearSVC(C=1.0, max_iter=1000, random_state=42)\n",
    "tvlsvc.fit(X_train, y_train)"
   ]
  },
  {
   "cell_type": "code",
   "execution_count": 59,
   "metadata": {},
   "outputs": [
    {
     "name": "stdout",
     "output_type": "stream",
     "text": [
      "Train Accuracy: 0.8651269710139722\n",
      "Validation Accuracy: 0.7939993295340262\n",
      "Test Accuracy: 0.7767722473604827\n"
     ]
    }
   ],
   "source": [
    "calc_acc(tvlsvc, X_train, y_train, X_val, y_val, X_test, y_test)"
   ]
  },
  {
   "cell_type": "markdown",
   "metadata": {},
   "source": [
    "## Hyperparameter Tuning mit Optuna"
   ]
  },
  {
   "cell_type": "code",
   "execution_count": 78,
   "metadata": {},
   "outputs": [
    {
     "name": "stdout",
     "output_type": "stream",
     "text": [
      "{'C': 1.0, 'class_weight': None, 'dual': 'warn', 'fit_intercept': True, 'intercept_scaling': 1, 'loss': 'squared_hinge', 'max_iter': 1000, 'multi_class': 'ovr', 'penalty': 'l2', 'random_state': 42, 'tol': 0.0001, 'verbose': 0}\n"
     ]
    }
   ],
   "source": [
    "params = tvlsvc.get_params()\n",
    "print(params)"
   ]
  },
  {
   "cell_type": "code",
   "execution_count": 85,
   "metadata": {},
   "outputs": [],
   "source": [
    "def objective(trial):\n",
    "    c = trial.suggest_float('svc_c', 1e-3, 1e3)\n",
    "    tol = trial.suggest_float('svc_tol', 1e-5, 1e-1)\n",
    "    max_iter = trial.suggest_int('svc_max_iter', 500, 5000)\n",
    "    class_weight = trial.suggest_categorical('svc_class_weight', [None, 'balanced'])\n",
    "    penalty = trial.suggest_categorical('svc_penalty', ['l1', 'l2'])\n",
    "    model = LinearSVC(C=c, tol=tol, class_weight=class_weight, penalty=penalty, random_state=42, dual=False)\n",
    "    model.fit(X_train, y_train)\n",
    "    y_pred = model.predict(X_val)\n",
    "    return accuracy_score(y_val, y_pred)"
   ]
  },
  {
   "cell_type": "code",
   "execution_count": 86,
   "metadata": {},
   "outputs": [
    {
     "name": "stderr",
     "output_type": "stream",
     "text": [
      "[I 2023-07-21 19:42:16,270] A new study created in memory with name: LSVC\n"
     ]
    }
   ],
   "source": [
    "study = optuna.create_study(study_name=\"LSVC\", load_if_exists=True, direction='maximize')"
   ]
  },
  {
   "cell_type": "code",
   "execution_count": 87,
   "metadata": {
    "scrolled": true
   },
   "outputs": [
    {
     "name": "stderr",
     "output_type": "stream",
     "text": [
      "[I 2023-07-21 19:42:26,791] Trial 4 finished with value: 0.7742205833053972 and parameters: {'svc_c': 628.8820980779496, 'svc_tol': 0.023024379628168196, 'svc_max_iter': 1317, 'svc_class_weight': None, 'svc_penalty': 'l2'}. Best is trial 4 with value: 0.7742205833053972.\n",
      "[I 2023-07-21 19:42:26,808] Trial 1 finished with value: 0.7896413007039893 and parameters: {'svc_c': 899.820778955019, 'svc_tol': 0.09074640968050415, 'svc_max_iter': 3823, 'svc_class_weight': None, 'svc_penalty': 'l2'}. Best is trial 1 with value: 0.7896413007039893.\n",
      "[I 2023-07-21 19:42:26,886] Trial 2 finished with value: 0.7524304391552129 and parameters: {'svc_c': 855.0745921375908, 'svc_tol': 0.06484338715646308, 'svc_max_iter': 1854, 'svc_class_weight': 'balanced', 'svc_penalty': 'l2'}. Best is trial 1 with value: 0.7896413007039893.\n",
      "[I 2023-07-21 19:42:27,412] Trial 9 finished with value: 0.7904793831713041 and parameters: {'svc_c': 603.9140766515234, 'svc_tol': 0.09284397552643865, 'svc_max_iter': 639, 'svc_class_weight': None, 'svc_penalty': 'l2'}. Best is trial 9 with value: 0.7904793831713041.\n",
      "[I 2023-07-21 19:42:28,363] Trial 11 finished with value: 0.7899765336909151 and parameters: {'svc_c': 39.90217590831118, 'svc_tol': 0.08891819054673797, 'svc_max_iter': 3780, 'svc_class_weight': None, 'svc_penalty': 'l2'}. Best is trial 9 with value: 0.7904793831713041.\n",
      "[I 2023-07-21 19:42:29,179] Trial 33 finished with value: 0.7789138451223601 and parameters: {'svc_c': 586.6450293883637, 'svc_tol': 0.04152192209329911, 'svc_max_iter': 1304, 'svc_class_weight': None, 'svc_penalty': 'l2'}. Best is trial 9 with value: 0.7904793831713041.\n",
      "[I 2023-07-21 19:42:30,382] Trial 32 finished with value: 0.7707006369426752 and parameters: {'svc_c': 992.5890347755127, 'svc_tol': 0.0223599922025965, 'svc_max_iter': 2022, 'svc_class_weight': None, 'svc_penalty': 'l2'}. Best is trial 9 with value: 0.7904793831713041.\n",
      "[I 2023-07-21 19:42:30,458] Trial 14 finished with value: 0.7502514247401945 and parameters: {'svc_c': 904.3143125200249, 'svc_tol': 0.043037810890578135, 'svc_max_iter': 2562, 'svc_class_weight': 'balanced', 'svc_penalty': 'l2'}. Best is trial 9 with value: 0.7904793831713041.\n",
      "[I 2023-07-21 19:42:32,111] Trial 35 finished with value: 0.7509218907140462 and parameters: {'svc_c': 473.19387748228337, 'svc_tol': 0.036849409084293155, 'svc_max_iter': 2818, 'svc_class_weight': 'balanced', 'svc_penalty': 'l2'}. Best is trial 9 with value: 0.7904793831713041.\n",
      "[I 2023-07-21 19:42:32,168] Trial 21 finished with value: 0.7639959772041569 and parameters: {'svc_c': 554.47720537525, 'svc_tol': 0.01265716112036589, 'svc_max_iter': 2479, 'svc_class_weight': None, 'svc_penalty': 'l2'}. Best is trial 9 with value: 0.7904793831713041.\n",
      "[I 2023-07-21 19:42:32,247] Trial 24 finished with value: 0.7534361381159906 and parameters: {'svc_c': 418.3385216273959, 'svc_tol': 0.09075281786129008, 'svc_max_iter': 2206, 'svc_class_weight': 'balanced', 'svc_penalty': 'l2'}. Best is trial 9 with value: 0.7904793831713041.\n",
      "[I 2023-07-21 19:42:33,495] Trial 93 finished with value: 0.7874622862889709 and parameters: {'svc_c': 733.544774681108, 'svc_tol': 0.07450943803392222, 'svc_max_iter': 3898, 'svc_class_weight': None, 'svc_penalty': 'l2'}. Best is trial 9 with value: 0.7904793831713041.\n",
      "[I 2023-07-21 19:42:34,407] Trial 6 finished with value: 0.7504190412336574 and parameters: {'svc_c': 870.2096821160488, 'svc_tol': 0.061997275486064464, 'svc_max_iter': 1470, 'svc_class_weight': None, 'svc_penalty': 'l1'}. Best is trial 9 with value: 0.7904793831713041.\n",
      "[I 2023-07-21 19:42:34,198] Trial 29 finished with value: 0.7898089171974523 and parameters: {'svc_c': 692.0948129451048, 'svc_tol': 0.09589034549821904, 'svc_max_iter': 3797, 'svc_class_weight': None, 'svc_penalty': 'l2'}. Best is trial 9 with value: 0.7904793831713041.\n",
      "[I 2023-07-21 19:42:34,416] Trial 46 finished with value: 0.7894736842105263 and parameters: {'svc_c': 560.7714979658723, 'svc_tol': 0.08231574580929286, 'svc_max_iter': 1205, 'svc_class_weight': None, 'svc_penalty': 'l2'}. Best is trial 9 with value: 0.7904793831713041.\n",
      "[I 2023-07-21 19:42:34,457] Trial 61 finished with value: 0.7859537378478042 and parameters: {'svc_c': 516.5559567723359, 'svc_tol': 0.07629812504873174, 'svc_max_iter': 3073, 'svc_class_weight': None, 'svc_penalty': 'l2'}. Best is trial 9 with value: 0.7904793831713041.\n",
      "[I 2023-07-21 19:42:34,588] Trial 45 finished with value: 0.7844451894066377 and parameters: {'svc_c': 541.7032513962181, 'svc_tol': 0.0501954760488165, 'svc_max_iter': 3299, 'svc_class_weight': None, 'svc_penalty': 'l2'}. Best is trial 9 with value: 0.7904793831713041.\n",
      "[I 2023-07-21 19:42:34,609] Trial 20 finished with value: 0.7338250083808247 and parameters: {'svc_c': 837.8304982342446, 'svc_tol': 0.0014263409742119994, 'svc_max_iter': 1814, 'svc_class_weight': 'balanced', 'svc_penalty': 'l2'}. Best is trial 9 with value: 0.7904793831713041.\n",
      "[I 2023-07-21 19:42:34,802] Trial 17 finished with value: 0.7277908146161582 and parameters: {'svc_c': 805.8237403875661, 'svc_tol': 0.09599297106576657, 'svc_max_iter': 2912, 'svc_class_weight': 'balanced', 'svc_penalty': 'l1'}. Best is trial 9 with value: 0.7904793831713041.\n",
      "[I 2023-07-21 19:42:35,055] Trial 10 finished with value: 0.7504190412336574 and parameters: {'svc_c': 395.1979987785499, 'svc_tol': 0.0706822014703839, 'svc_max_iter': 3074, 'svc_class_weight': None, 'svc_penalty': 'l1'}. Best is trial 9 with value: 0.7904793831713041.\n",
      "[I 2023-07-21 19:42:35,739] Trial 30 finished with value: 0.7418706000670466 and parameters: {'svc_c': 931.6884471521817, 'svc_tol': 0.011040312363293982, 'svc_max_iter': 4586, 'svc_class_weight': 'balanced', 'svc_penalty': 'l2'}. Best is trial 9 with value: 0.7904793831713041.\n",
      "[I 2023-07-21 19:42:35,775] Trial 7 finished with value: 0.7467314783774723 and parameters: {'svc_c': 964.111783409288, 'svc_tol': 0.04877051465220229, 'svc_max_iter': 1689, 'svc_class_weight': None, 'svc_penalty': 'l1'}. Best is trial 9 with value: 0.7904793831713041.\n",
      "[I 2023-07-21 19:42:35,775] Trial 18 finished with value: 0.7509218907140462 and parameters: {'svc_c': 432.00434244038127, 'svc_tol': 0.09587221963741294, 'svc_max_iter': 506, 'svc_class_weight': None, 'svc_penalty': 'l1'}. Best is trial 9 with value: 0.7904793831713041.\n",
      "[I 2023-07-21 19:42:35,964] Trial 28 finished with value: 0.7306402950050285 and parameters: {'svc_c': 850.0391507001314, 'svc_tol': 0.09487552264090411, 'svc_max_iter': 3340, 'svc_class_weight': 'balanced', 'svc_penalty': 'l1'}. Best is trial 9 with value: 0.7904793831713041.\n",
      "[I 2023-07-21 19:42:35,972] Trial 44 finished with value: 0.7319812269527322 and parameters: {'svc_c': 771.7569855233066, 'svc_tol': 0.0819685281503529, 'svc_max_iter': 4452, 'svc_class_weight': 'balanced', 'svc_penalty': 'l1'}. Best is trial 9 with value: 0.7904793831713041.\n",
      "[I 2023-07-21 19:42:36,893] Trial 3 finished with value: 0.7303050620181026 and parameters: {'svc_c': 263.29675434599704, 'svc_tol': 0.06187933546645301, 'svc_max_iter': 1121, 'svc_class_weight': 'balanced', 'svc_penalty': 'l1'}. Best is trial 9 with value: 0.7904793831713041.\n",
      "[I 2023-07-21 19:42:37,578] Trial 12 finished with value: 0.7492457257794167 and parameters: {'svc_c': 249.87100248039653, 'svc_tol': 0.05427362301487461, 'svc_max_iter': 2114, 'svc_class_weight': None, 'svc_penalty': 'l1'}. Best is trial 9 with value: 0.7904793831713041.\n",
      "[I 2023-07-21 19:42:37,715] Trial 36 finished with value: 0.7765672142138786 and parameters: {'svc_c': 479.94858363774284, 'svc_tol': 0.030424839640993816, 'svc_max_iter': 1940, 'svc_class_weight': None, 'svc_penalty': 'l2'}. Best is trial 9 with value: 0.7904793831713041.\n",
      "[I 2023-07-21 19:42:38,353] Trial 22 finished with value: 0.728964130070399 and parameters: {'svc_c': 297.3007192818866, 'svc_tol': 0.08821244465482406, 'svc_max_iter': 3090, 'svc_class_weight': 'balanced', 'svc_penalty': 'l1'}. Best is trial 9 with value: 0.7904793831713041.\n",
      "[I 2023-07-21 19:42:38,362] Trial 38 finished with value: 0.7542742205833054 and parameters: {'svc_c': 222.919268167056, 'svc_tol': 0.08839110694239351, 'svc_max_iter': 2315, 'svc_class_weight': 'balanced', 'svc_penalty': 'l2'}. Best is trial 9 with value: 0.7904793831713041.\n",
      "[I 2023-07-21 19:42:38,660] Trial 37 finished with value: 0.7673483070734161 and parameters: {'svc_c': 538.5381016304261, 'svc_tol': 0.018335243644529303, 'svc_max_iter': 1388, 'svc_class_weight': None, 'svc_penalty': 'l2'}. Best is trial 9 with value: 0.7904793831713041.\n",
      "[I 2023-07-21 19:42:38,701] Trial 110 finished with value: 0.7410325175997318 and parameters: {'svc_c': 445.76859067665976, 'svc_tol': 0.006093649613455157, 'svc_max_iter': 4460, 'svc_class_weight': 'balanced', 'svc_penalty': 'l2'}. Best is trial 9 with value: 0.7904793831713041.\n",
      "[I 2023-07-21 19:42:38,813] Trial 73 finished with value: 0.7510895072075092 and parameters: {'svc_c': 468.7922028535709, 'svc_tol': 0.06562398304344874, 'svc_max_iter': 3206, 'svc_class_weight': 'balanced', 'svc_penalty': 'l2'}. Best is trial 9 with value: 0.7904793831713041.\n",
      "[I 2023-07-21 19:42:39,757] Trial 78 finished with value: 0.7549446865571572 and parameters: {'svc_c': 485.63213639123376, 'svc_tol': 0.09337580270762241, 'svc_max_iter': 1874, 'svc_class_weight': 'balanced', 'svc_penalty': 'l2'}. Best is trial 9 with value: 0.7904793831713041.\n",
      "[I 2023-07-21 19:42:39,824] Trial 134 finished with value: 0.767515923566879 and parameters: {'svc_c': 21.55561227347624, 'svc_tol': 0.09661099587620413, 'svc_max_iter': 4809, 'svc_class_weight': None, 'svc_penalty': 'l1'}. Best is trial 9 with value: 0.7904793831713041.\n",
      "[I 2023-07-21 19:42:39,891] Trial 19 finished with value: 0.7472343278578613 and parameters: {'svc_c': 953.1533762721323, 'svc_tol': 0.05191502165836013, 'svc_max_iter': 3599, 'svc_class_weight': None, 'svc_penalty': 'l1'}. Best is trial 9 with value: 0.7904793831713041.\n",
      "[I 2023-07-21 19:42:40,503] Trial 100 finished with value: 0.7470667113643983 and parameters: {'svc_c': 530.8377754533424, 'svc_tol': 0.06154383145273082, 'svc_max_iter': 1717, 'svc_class_weight': 'balanced', 'svc_penalty': 'l2'}. Best is trial 9 with value: 0.7904793831713041.\n",
      "[I 2023-07-21 19:42:42,017] Trial 69 finished with value: 0.7894736842105263 and parameters: {'svc_c': 167.07346066419214, 'svc_tol': 0.08147822195439147, 'svc_max_iter': 3550, 'svc_class_weight': None, 'svc_penalty': 'l2'}. Best is trial 9 with value: 0.7904793831713041.\n",
      "[I 2023-07-21 19:42:42,022] Trial 135 finished with value: 0.7769024472008046 and parameters: {'svc_c': 7.279855195415962, 'svc_tol': 0.09925378688741521, 'svc_max_iter': 4670, 'svc_class_weight': None, 'svc_penalty': 'l1'}. Best is trial 9 with value: 0.7904793831713041.\n",
      "[I 2023-07-21 19:42:42,840] Trial 48 finished with value: 0.7807576265504526 and parameters: {'svc_c': 851.8504218600714, 'svc_tol': 0.04527753935372983, 'svc_max_iter': 2671, 'svc_class_weight': None, 'svc_penalty': 'l2'}. Best is trial 9 with value: 0.7904793831713041.\n",
      "[I 2023-07-21 19:42:43,044] Trial 74 finished with value: 0.7412001340931947 and parameters: {'svc_c': 495.41597198729255, 'svc_tol': 0.008776018326746963, 'svc_max_iter': 2184, 'svc_class_weight': 'balanced', 'svc_penalty': 'l2'}. Best is trial 9 with value: 0.7904793831713041.\n",
      "/opt/conda/lib/python3.10/site-packages/sklearn/svm/_base.py:1242: ConvergenceWarning: Liblinear failed to converge, increase the number of iterations.\n",
      "  warnings.warn(\n",
      "[I 2023-07-21 19:42:43,569] Trial 51 finished with value: 0.7591350988937311 and parameters: {'svc_c': 820.4270880992552, 'svc_tol': 0.00463697903365054, 'svc_max_iter': 2731, 'svc_class_weight': None, 'svc_penalty': 'l2'}. Best is trial 9 with value: 0.7904793831713041.\n",
      "/opt/conda/lib/python3.10/site-packages/sklearn/svm/_base.py:1242: ConvergenceWarning: Liblinear failed to converge, increase the number of iterations.\n",
      "  warnings.warn(\n",
      "[I 2023-07-21 19:42:43,660] Trial 123 finished with value: 0.7554475360375461 and parameters: {'svc_c': 514.5245096085894, 'svc_tol': 0.0906253998551687, 'svc_max_iter': 2518, 'svc_class_weight': 'balanced', 'svc_penalty': 'l2'}. Best is trial 9 with value: 0.7904793831713041.\n",
      "[I 2023-07-21 19:42:43,841] Trial 52 finished with value: 0.751927589674824 and parameters: {'svc_c': 650.7100957875048, 'svc_tol': 0.07645719562869292, 'svc_max_iter': 4235, 'svc_class_weight': None, 'svc_penalty': 'l1'}. Best is trial 9 with value: 0.7904793831713041.\n",
      "[I 2023-07-21 19:42:44,278] Trial 86 finished with value: 0.7468990948709353 and parameters: {'svc_c': 827.1142367314587, 'svc_tol': 0.03987294765098933, 'svc_max_iter': 2358, 'svc_class_weight': None, 'svc_penalty': 'l1'}. Best is trial 9 with value: 0.7904793831713041.\n",
      "[I 2023-07-21 19:42:44,454] Trial 65 finished with value: 0.7261146496815286 and parameters: {'svc_c': 600.5885539344988, 'svc_tol': 0.040577605750349625, 'svc_max_iter': 655, 'svc_class_weight': 'balanced', 'svc_penalty': 'l1'}. Best is trial 9 with value: 0.7904793831713041.\n",
      "[I 2023-07-21 19:42:44,928] Trial 139 finished with value: 0.7911498491451558 and parameters: {'svc_c': 39.808297572663726, 'svc_tol': 0.09943397575698847, 'svc_max_iter': 3964, 'svc_class_weight': None, 'svc_penalty': 'l2'}. Best is trial 139 with value: 0.7911498491451558.\n",
      "[I 2023-07-21 19:42:44,931] Trial 16 finished with value: 0.7292993630573248 and parameters: {'svc_c': 878.5366857083552, 'svc_tol': 0.07973627902754733, 'svc_max_iter': 1407, 'svc_class_weight': 'balanced', 'svc_penalty': 'l1'}. Best is trial 139 with value: 0.7911498491451558.\n",
      "[I 2023-07-21 19:42:44,985] Trial 31 finished with value: 0.7266174991619175 and parameters: {'svc_c': 647.2618225807571, 'svc_tol': 0.05484851815801535, 'svc_max_iter': 4215, 'svc_class_weight': 'balanced', 'svc_penalty': 'l1'}. Best is trial 139 with value: 0.7911498491451558.\n",
      "[I 2023-07-21 19:42:45,152] Trial 27 finished with value: 0.7254441837076768 and parameters: {'svc_c': 301.90533343202554, 'svc_tol': 0.03059973350341681, 'svc_max_iter': 2781, 'svc_class_weight': 'balanced', 'svc_penalty': 'l1'}. Best is trial 139 with value: 0.7911498491451558.\n",
      "[I 2023-07-21 19:42:45,164] Trial 104 finished with value: 0.7489104927924908 and parameters: {'svc_c': 869.4182731253785, 'svc_tol': 0.00035083850473206015, 'svc_max_iter': 1870, 'svc_class_weight': None, 'svc_penalty': 'l2'}. Best is trial 139 with value: 0.7911498491451558.\n",
      "[I 2023-07-21 19:42:45,336] Trial 42 finished with value: 0.7899765336909151 and parameters: {'svc_c': 144.6144190180684, 'svc_tol': 0.0950088175385652, 'svc_max_iter': 4103, 'svc_class_weight': None, 'svc_penalty': 'l2'}. Best is trial 139 with value: 0.7911498491451558.\n",
      "[I 2023-07-21 19:42:46,205] Trial 41 finished with value: 0.7291317465638619 and parameters: {'svc_c': 339.36823372948845, 'svc_tol': 0.08544595881698952, 'svc_max_iter': 2410, 'svc_class_weight': 'balanced', 'svc_penalty': 'l1'}. Best is trial 139 with value: 0.7911498491451558.\n",
      "/opt/conda/lib/python3.10/site-packages/sklearn/svm/_base.py:1242: ConvergenceWarning: Liblinear failed to converge, increase the number of iterations.\n",
      "  warnings.warn(\n",
      "[I 2023-07-21 19:42:46,276] Trial 39 finished with value: 0.7279584311096212 and parameters: {'svc_c': 859.9317906968535, 'svc_tol': 0.07930610301255327, 'svc_max_iter': 4650, 'svc_class_weight': 'balanced', 'svc_penalty': 'l1'}. Best is trial 139 with value: 0.7911498491451558.\n",
      "/opt/conda/lib/python3.10/site-packages/sklearn/svm/_base.py:1242: ConvergenceWarning: Liblinear failed to converge, increase the number of iterations.\n",
      "  warnings.warn(\n",
      "[I 2023-07-21 19:42:46,288] Trial 137 finished with value: 0.7914850821320818 and parameters: {'svc_c': 23.138490988232874, 'svc_tol': 0.08475090058601098, 'svc_max_iter': 4087, 'svc_class_weight': None, 'svc_penalty': 'l2'}. Best is trial 137 with value: 0.7914850821320818.\n",
      "[I 2023-07-21 19:42:46,366] Trial 138 finished with value: 0.79081461615823 and parameters: {'svc_c': 34.72001701110281, 'svc_tol': 0.09931456155855022, 'svc_max_iter': 4908, 'svc_class_weight': None, 'svc_penalty': 'l2'}. Best is trial 137 with value: 0.7914850821320818.\n",
      "[I 2023-07-21 19:42:46,377] Trial 15 finished with value: 0.728796513576936 and parameters: {'svc_c': 662.467012090658, 'svc_tol': 0.05938360708300773, 'svc_max_iter': 3429, 'svc_class_weight': 'balanced', 'svc_penalty': 'l1'}. Best is trial 137 with value: 0.7914850821320818.\n",
      "[I 2023-07-21 19:42:46,811] Trial 25 finished with value: 0.7292993630573248 and parameters: {'svc_c': 387.2705610339031, 'svc_tol': 0.08424267397681508, 'svc_max_iter': 4802, 'svc_class_weight': 'balanced', 'svc_penalty': 'l1'}. Best is trial 137 with value: 0.7914850821320818.\n",
      "[I 2023-07-21 19:42:47,714] Trial 8 finished with value: 0.7227623198122696 and parameters: {'svc_c': 605.6792111292024, 'svc_tol': 0.015672780013012765, 'svc_max_iter': 4199, 'svc_class_weight': 'balanced', 'svc_penalty': 'l1'}. Best is trial 137 with value: 0.7914850821320818.\n",
      "[I 2023-07-21 19:42:47,777] Trial 59 finished with value: 0.7876299027824338 and parameters: {'svc_c': 845.3855065503249, 'svc_tol': 0.06690064556733658, 'svc_max_iter': 1368, 'svc_class_weight': None, 'svc_penalty': 'l2'}. Best is trial 137 with value: 0.7914850821320818.\n",
      "[I 2023-07-21 19:42:47,813] Trial 60 finished with value: 0.7499161917532685 and parameters: {'svc_c': 945.9031415496298, 'svc_tol': 0.06368208406585232, 'svc_max_iter': 1297, 'svc_class_weight': None, 'svc_penalty': 'l1'}. Best is trial 137 with value: 0.7914850821320818.\n",
      "[I 2023-07-21 19:42:47,870] Trial 126 finished with value: 0.7266174991619175 and parameters: {'svc_c': 861.0646379909307, 'svc_tol': 0.0522102969600447, 'svc_max_iter': 680, 'svc_class_weight': 'balanced', 'svc_penalty': 'l1'}. Best is trial 137 with value: 0.7914850821320818.\n",
      "/opt/conda/lib/python3.10/site-packages/sklearn/svm/_base.py:1242: ConvergenceWarning: Liblinear failed to converge, increase the number of iterations.\n",
      "  warnings.warn(\n",
      "[I 2023-07-21 19:42:47,914] Trial 136 finished with value: 0.7901441501843781 and parameters: {'svc_c': 31.230428191732514, 'svc_tol': 0.0987720458153792, 'svc_max_iter': 4017, 'svc_class_weight': None, 'svc_penalty': 'l2'}. Best is trial 137 with value: 0.7914850821320818.\n",
      "[I 2023-07-21 19:42:47,941] Trial 140 finished with value: 0.7893060677170634 and parameters: {'svc_c': 675.2927352966885, 'svc_tol': 0.09837394201128273, 'svc_max_iter': 4051, 'svc_class_weight': None, 'svc_penalty': 'l2'}. Best is trial 137 with value: 0.7914850821320818.\n",
      "/opt/conda/lib/python3.10/site-packages/sklearn/svm/_base.py:1242: ConvergenceWarning: Liblinear failed to converge, increase the number of iterations.\n",
      "  warnings.warn(\n",
      "[I 2023-07-21 19:42:49,941] Trial 71 finished with value: 0.7569560844787127 and parameters: {'svc_c': 161.16987304438058, 'svc_tol': 0.07595658756797805, 'svc_max_iter': 1193, 'svc_class_weight': 'balanced', 'svc_penalty': 'l2'}. Best is trial 137 with value: 0.7914850821320818.\n",
      "[I 2023-07-21 19:42:50,010] Trial 26 finished with value: 0.7259470331880657 and parameters: {'svc_c': 894.0423148376251, 'svc_tol': 0.037402527809779845, 'svc_max_iter': 1116, 'svc_class_weight': 'balanced', 'svc_penalty': 'l1'}. Best is trial 137 with value: 0.7914850821320818.\n",
      "[I 2023-07-21 19:42:50,011] Trial 67 finished with value: 0.7544418370767684 and parameters: {'svc_c': 370.4035398106457, 'svc_tol': 0.09273226805089595, 'svc_max_iter': 2963, 'svc_class_weight': 'balanced', 'svc_penalty': 'l2'}. Best is trial 137 with value: 0.7914850821320818.\n",
      "[I 2023-07-21 19:42:50,130] Trial 49 finished with value: 0.7303050620181026 and parameters: {'svc_c': 181.4656258279874, 'svc_tol': 0.07426556933046452, 'svc_max_iter': 542, 'svc_class_weight': 'balanced', 'svc_penalty': 'l1'}. Best is trial 137 with value: 0.7914850821320818.\n",
      "[I 2023-07-21 19:42:50,348] Trial 40 finished with value: 0.7505866577271203 and parameters: {'svc_c': 563.7385142839398, 'svc_tol': 0.07857032958239876, 'svc_max_iter': 1820, 'svc_class_weight': None, 'svc_penalty': 'l1'}. Best is trial 137 with value: 0.7914850821320818.\n",
      "[I 2023-07-21 19:42:50,349] Trial 47 finished with value: 0.7856185048608784 and parameters: {'svc_c': 25.741382492928665, 'svc_tol': 0.05962539350481754, 'svc_max_iter': 2128, 'svc_class_weight': None, 'svc_penalty': 'l2'}. Best is trial 137 with value: 0.7914850821320818.\n",
      "[I 2023-07-21 19:42:51,360] Trial 82 finished with value: 0.7437143814951391 and parameters: {'svc_c': 998.001628659321, 'svc_tol': 0.015746360722523507, 'svc_max_iter': 3688, 'svc_class_weight': None, 'svc_penalty': 'l1'}. Best is trial 137 with value: 0.7914850821320818.\n",
      "[I 2023-07-21 19:42:51,562] Trial 75 finished with value: 0.7886356017432116 and parameters: {'svc_c': 353.85967391970087, 'svc_tol': 0.05696036932069726, 'svc_max_iter': 3742, 'svc_class_weight': None, 'svc_penalty': 'l2'}. Best is trial 137 with value: 0.7914850821320818.\n",
      "[I 2023-07-21 19:42:51,618] Trial 81 finished with value: 0.7474019443513241 and parameters: {'svc_c': 436.7520914347937, 'svc_tol': 0.03844312231782676, 'svc_max_iter': 908, 'svc_class_weight': None, 'svc_penalty': 'l1'}. Best is trial 137 with value: 0.7914850821320818.\n",
      "[I 2023-07-21 19:42:51,844] Trial 89 finished with value: 0.7509218907140462 and parameters: {'svc_c': 187.11105348572656, 'svc_tol': 0.050997895369823736, 'svc_max_iter': 1218, 'svc_class_weight': 'balanced', 'svc_penalty': 'l2'}. Best is trial 137 with value: 0.7914850821320818.\n",
      "[I 2023-07-21 19:42:52,844] Trial 90 finished with value: 0.79081461615823 and parameters: {'svc_c': 699.1881034045595, 'svc_tol': 0.09820688627527041, 'svc_max_iter': 3891, 'svc_class_weight': None, 'svc_penalty': 'l2'}. Best is trial 137 with value: 0.7914850821320818.\n",
      "/opt/conda/lib/python3.10/site-packages/sklearn/svm/_base.py:1242: ConvergenceWarning: Liblinear failed to converge, increase the number of iterations.\n",
      "  warnings.warn(\n",
      "[I 2023-07-21 19:42:52,943] Trial 98 finished with value: 0.7487428762990278 and parameters: {'svc_c': 479.16371826788793, 'svc_tol': 0.03467091784417134, 'svc_max_iter': 2911, 'svc_class_weight': 'balanced', 'svc_penalty': 'l2'}. Best is trial 137 with value: 0.7914850821320818.\n",
      "[I 2023-07-21 19:42:53,043] Trial 54 finished with value: 0.7500838082467315 and parameters: {'svc_c': 8.579142503876891, 'svc_tol': 0.07948516978724988, 'svc_max_iter': 4515, 'svc_class_weight': 'balanced', 'svc_penalty': 'l1'}. Best is trial 137 with value: 0.7914850821320818.\n",
      "[I 2023-07-21 19:42:53,106] Trial 97 finished with value: 0.7477371773382501 and parameters: {'svc_c': 837.5337777462536, 'svc_tol': 0.04820468729837175, 'svc_max_iter': 3425, 'svc_class_weight': 'balanced', 'svc_penalty': 'l2'}. Best is trial 137 with value: 0.7914850821320818.\n",
      "/opt/conda/lib/python3.10/site-packages/sklearn/svm/_base.py:1242: ConvergenceWarning: Liblinear failed to converge, increase the number of iterations.\n",
      "  warnings.warn(\n",
      "[I 2023-07-21 19:42:53,108] Trial 76 finished with value: 0.7375125712370098 and parameters: {'svc_c': 26.50279545419796, 'svc_tol': 0.061465104797715206, 'svc_max_iter': 3194, 'svc_class_weight': 'balanced', 'svc_penalty': 'l1'}. Best is trial 137 with value: 0.7914850821320818.\n",
      "/opt/conda/lib/python3.10/site-packages/sklearn/svm/_base.py:1242: ConvergenceWarning: Liblinear failed to converge, increase the number of iterations.\n",
      "  warnings.warn(\n",
      "/opt/conda/lib/python3.10/site-packages/sklearn/svm/_base.py:1242: ConvergenceWarning: Liblinear failed to converge, increase the number of iterations.\n",
      "  warnings.warn(\n",
      "/opt/conda/lib/python3.10/site-packages/sklearn/svm/_base.py:1242: ConvergenceWarning: Liblinear failed to converge, increase the number of iterations.\n",
      "  warnings.warn(\n",
      "[I 2023-07-21 19:42:54,351] Trial 92 finished with value: 0.7500838082467315 and parameters: {'svc_c': 510.3167212436691, 'svc_tol': 0.06582728939291083, 'svc_max_iter': 2397, 'svc_class_weight': None, 'svc_penalty': 'l1'}. Best is trial 137 with value: 0.7914850821320818.\n",
      "[I 2023-07-21 19:42:54,617] Trial 141 finished with value: 0.7891384512236004 and parameters: {'svc_c': 654.829470945442, 'svc_tol': 0.09673006659130455, 'svc_max_iter': 3793, 'svc_class_weight': None, 'svc_penalty': 'l2'}. Best is trial 137 with value: 0.7914850821320818.\n",
      "[I 2023-07-21 19:42:54,761] Trial 13 finished with value: 0.7227623198122696 and parameters: {'svc_c': 963.8917133077102, 'svc_tol': 0.015104431090301788, 'svc_max_iter': 934, 'svc_class_weight': 'balanced', 'svc_penalty': 'l1'}. Best is trial 137 with value: 0.7914850821320818.\n",
      "[I 2023-07-21 19:42:54,790] Trial 144 finished with value: 0.7898089171974523 and parameters: {'svc_c': 679.465266722957, 'svc_tol': 0.09950983202981245, 'svc_max_iter': 3948, 'svc_class_weight': None, 'svc_penalty': 'l2'}. Best is trial 137 with value: 0.7914850821320818.\n",
      "[I 2023-07-21 19:42:55,941] Trial 50 finished with value: 0.728628897083473 and parameters: {'svc_c': 539.7198360971959, 'svc_tol': 0.08625598872935498, 'svc_max_iter': 3386, 'svc_class_weight': 'balanced', 'svc_penalty': 'l1'}. Best is trial 137 with value: 0.7914850821320818.\n",
      "[I 2023-07-21 19:42:55,942] Trial 23 finished with value: 0.7241032517599731 and parameters: {'svc_c': 462.0448319906786, 'svc_tol': 0.009214794597591088, 'svc_max_iter': 4733, 'svc_class_weight': 'balanced', 'svc_penalty': 'l1'}. Best is trial 137 with value: 0.7914850821320818.\n",
      "[I 2023-07-21 19:42:55,984] Trial 107 finished with value: 0.782936640965471 and parameters: {'svc_c': 665.8018024556751, 'svc_tol': 0.04969983339608133, 'svc_max_iter': 4152, 'svc_class_weight': None, 'svc_penalty': 'l2'}. Best is trial 137 with value: 0.7914850821320818.\n",
      "[I 2023-07-21 19:42:56,113] Trial 58 finished with value: 0.7277908146161582 and parameters: {'svc_c': 770.407229717354, 'svc_tol': 0.049727531278119574, 'svc_max_iter': 1452, 'svc_class_weight': 'balanced', 'svc_penalty': 'l1'}. Best is trial 137 with value: 0.7914850821320818.\n",
      "[I 2023-07-21 19:42:56,138] Trial 77 finished with value: 0.7271203486423065 and parameters: {'svc_c': 865.133293922821, 'svc_tol': 0.048164441756490595, 'svc_max_iter': 2682, 'svc_class_weight': 'balanced', 'svc_penalty': 'l1'}. Best is trial 137 with value: 0.7914850821320818.\n",
      "[I 2023-07-21 19:42:56,168] Trial 43 finished with value: 0.7504190412336574 and parameters: {'svc_c': 67.84738266391214, 'svc_tol': 0.024009311360305326, 'svc_max_iter': 3394, 'svc_class_weight': None, 'svc_penalty': 'l1'}. Best is trial 137 with value: 0.7914850821320818.\n",
      "/opt/conda/lib/python3.10/site-packages/sklearn/svm/_base.py:1242: ConvergenceWarning: Liblinear failed to converge, increase the number of iterations.\n",
      "  warnings.warn(\n",
      "[I 2023-07-21 19:42:56,184] Trial 70 finished with value: 0.7457257794166946 and parameters: {'svc_c': 903.1833254429555, 'svc_tol': 0.0222518663777057, 'svc_max_iter': 2490, 'svc_class_weight': 'balanced', 'svc_penalty': 'l2'}. Best is trial 137 with value: 0.7914850821320818.\n",
      "[I 2023-07-21 19:42:57,605] Trial 114 finished with value: 0.7874622862889709 and parameters: {'svc_c': 199.16291525900556, 'svc_tol': 0.06534254927322844, 'svc_max_iter': 4606, 'svc_class_weight': None, 'svc_penalty': 'l2'}. Best is trial 137 with value: 0.7914850821320818.\n",
      "[I 2023-07-21 19:42:58,110] Trial 99 finished with value: 0.7505866577271203 and parameters: {'svc_c': 254.46855874533261, 'svc_tol': 5.028645591501583e-05, 'svc_max_iter': 3358, 'svc_class_weight': None, 'svc_penalty': 'l2'}. Best is trial 137 with value: 0.7914850821320818.\n",
      "[I 2023-07-21 19:42:58,129] Trial 117 finished with value: 0.7866242038216561 and parameters: {'svc_c': 656.7829892567759, 'svc_tol': 0.0745001126348082, 'svc_max_iter': 2216, 'svc_class_weight': None, 'svc_penalty': 'l2'}. Best is trial 137 with value: 0.7914850821320818.\n",
      "[I 2023-07-21 19:42:58,150] Trial 62 finished with value: 0.7492457257794167 and parameters: {'svc_c': 218.9602912930774, 'svc_tol': 0.034436231259078076, 'svc_max_iter': 2397, 'svc_class_weight': None, 'svc_penalty': 'l1'}. Best is trial 137 with value: 0.7914850821320818.\n",
      "[I 2023-07-21 19:42:58,159] Trial 120 finished with value: 0.7758967482400269 and parameters: {'svc_c': 375.7084818374649, 'svc_tol': 0.029002373491435494, 'svc_max_iter': 1036, 'svc_class_weight': None, 'svc_penalty': 'l2'}. Best is trial 137 with value: 0.7914850821320818.\n",
      "/opt/conda/lib/python3.10/site-packages/sklearn/svm/_base.py:1242: ConvergenceWarning: Liblinear failed to converge, increase the number of iterations.\n",
      "  warnings.warn(\n",
      "[I 2023-07-21 19:42:58,596] Trial 143 finished with value: 0.7903117666778411 and parameters: {'svc_c': 689.8976334197713, 'svc_tol': 0.08469680503646622, 'svc_max_iter': 3861, 'svc_class_weight': None, 'svc_penalty': 'l2'}. Best is trial 137 with value: 0.7914850821320818.\n",
      "/opt/conda/lib/python3.10/site-packages/sklearn/svm/_base.py:1242: ConvergenceWarning: Liblinear failed to converge, increase the number of iterations.\n",
      "  warnings.warn(\n",
      "[I 2023-07-21 19:42:58,601] Trial 116 finished with value: 0.7531009051290647 and parameters: {'svc_c': 421.07519038152896, 'svc_tol': 0.09869870223318554, 'svc_max_iter': 2084, 'svc_class_weight': 'balanced', 'svc_penalty': 'l2'}. Best is trial 137 with value: 0.7914850821320818.\n",
      "[I 2023-07-21 19:42:59,130] Trial 85 finished with value: 0.7862889708347301 and parameters: {'svc_c': 469.02168743301894, 'svc_tol': 0.05986941849559405, 'svc_max_iter': 2305, 'svc_class_weight': None, 'svc_penalty': 'l2'}. Best is trial 137 with value: 0.7914850821320818.\n",
      "[I 2023-07-21 19:42:59,165] Trial 91 finished with value: 0.7500838082467315 and parameters: {'svc_c': 563.7974145340909, 'svc_tol': 0.07350836085527153, 'svc_max_iter': 2294, 'svc_class_weight': None, 'svc_penalty': 'l1'}. Best is trial 137 with value: 0.7914850821320818.\n",
      "[I 2023-07-21 19:42:59,619] Trial 56 finished with value: 0.7259470331880657 and parameters: {'svc_c': 894.1363173123488, 'svc_tol': 0.04764678082193539, 'svc_max_iter': 3947, 'svc_class_weight': 'balanced', 'svc_penalty': 'l1'}. Best is trial 137 with value: 0.7914850821320818.\n",
      "[I 2023-07-21 19:42:59,804] Trial 83 finished with value: 0.7453905464297687 and parameters: {'svc_c': 640.0988728011589, 'svc_tol': 0.01409519099326023, 'svc_max_iter': 2437, 'svc_class_weight': 'balanced', 'svc_penalty': 'l2'}. Best is trial 137 with value: 0.7914850821320818.\n",
      "[I 2023-07-21 19:42:59,914] Trial 111 finished with value: 0.7524304391552129 and parameters: {'svc_c': 249.8850610414107, 'svc_tol': 0.08143981531668557, 'svc_max_iter': 1384, 'svc_class_weight': None, 'svc_penalty': 'l1'}. Best is trial 137 with value: 0.7914850821320818.\n",
      "/opt/conda/lib/python3.10/site-packages/sklearn/svm/_base.py:1242: ConvergenceWarning: Liblinear failed to converge, increase the number of iterations.\n",
      "  warnings.warn(\n",
      "[I 2023-07-21 19:42:59,961] Trial 87 finished with value: 0.7782433791485082 and parameters: {'svc_c': 336.9482712834189, 'svc_tol': 0.03631941715987611, 'svc_max_iter': 4543, 'svc_class_weight': None, 'svc_penalty': 'l2'}. Best is trial 137 with value: 0.7914850821320818.\n",
      "[I 2023-07-21 19:43:00,045] Trial 68 finished with value: 0.7685216225276568 and parameters: {'svc_c': 16.282915396345064, 'svc_tol': 0.08073723440469176, 'svc_max_iter': 1348, 'svc_class_weight': None, 'svc_penalty': 'l1'}. Best is trial 137 with value: 0.7914850821320818.\n",
      "[I 2023-07-21 19:43:01,463] Trial 66 finished with value: 0.7537713711029165 and parameters: {'svc_c': 238.97476109079946, 'svc_tol': 0.09103372379633053, 'svc_max_iter': 1051, 'svc_class_weight': None, 'svc_penalty': 'l1'}. Best is trial 137 with value: 0.7914850821320818.\n",
      "[I 2023-07-21 19:43:01,472] Trial 101 finished with value: 0.7242708682534361 and parameters: {'svc_c': 180.4741486296543, 'svc_tol': 0.00625469303246935, 'svc_max_iter': 1071, 'svc_class_weight': 'balanced', 'svc_penalty': 'l1'}. Best is trial 137 with value: 0.7914850821320818.\n",
      "[I 2023-07-21 19:43:01,898] Trial 94 finished with value: 0.751927589674824 and parameters: {'svc_c': 949.1916834748954, 'svc_tol': 0.06175570011071069, 'svc_max_iter': 3581, 'svc_class_weight': 'balanced', 'svc_penalty': 'l2'}. Best is trial 137 with value: 0.7914850821320818.\n",
      "[I 2023-07-21 19:43:01,908] Trial 133 finished with value: 0.7269527321488435 and parameters: {'svc_c': 610.8953713061534, 'svc_tol': 0.04074928587147696, 'svc_max_iter': 2625, 'svc_class_weight': 'balanced', 'svc_penalty': 'l1'}. Best is trial 137 with value: 0.7914850821320818.\n",
      "[I 2023-07-21 19:43:02,663] Trial 128 finished with value: 0.7415353670801207 and parameters: {'svc_c': 701.8561897801836, 'svc_tol': 0.00879279438604919, 'svc_max_iter': 1940, 'svc_class_weight': 'balanced', 'svc_penalty': 'l2'}. Best is trial 137 with value: 0.7914850821320818.\n",
      "[I 2023-07-21 19:43:03,363] Trial 132 finished with value: 0.786791820315119 and parameters: {'svc_c': 15.38655552714062, 'svc_tol': 0.050003610273125214, 'svc_max_iter': 947, 'svc_class_weight': None, 'svc_penalty': 'l2'}. Best is trial 137 with value: 0.7914850821320818.\n",
      "[I 2023-07-21 19:43:03,379] Trial 130 finished with value: 0.7547770700636943 and parameters: {'svc_c': 251.83482454101667, 'svc_tol': 0.0940601211223711, 'svc_max_iter': 1918, 'svc_class_weight': 'balanced', 'svc_penalty': 'l2'}. Best is trial 137 with value: 0.7914850821320818.\n",
      "[I 2023-07-21 19:43:03,777] Trial 84 finished with value: 0.7244384847468991 and parameters: {'svc_c': 697.2055864832247, 'svc_tol': 0.02358821140320318, 'svc_max_iter': 3200, 'svc_class_weight': 'balanced', 'svc_penalty': 'l1'}. Best is trial 137 with value: 0.7914850821320818.\n",
      "[I 2023-07-21 19:43:03,969] Trial 125 finished with value: 0.7787462286288971 and parameters: {'svc_c': 697.5262068178635, 'svc_tol': 0.03582549828582584, 'svc_max_iter': 4853, 'svc_class_weight': None, 'svc_penalty': 'l2'}. Best is trial 137 with value: 0.7914850821320818.\n",
      "[I 2023-07-21 19:43:04,534] Trial 142 finished with value: 0.7894736842105263 and parameters: {'svc_c': 31.532164197812904, 'svc_tol': 0.09885904175699618, 'svc_max_iter': 3799, 'svc_class_weight': None, 'svc_penalty': 'l2'}. Best is trial 137 with value: 0.7914850821320818.\n",
      "[I 2023-07-21 19:43:04,602] Trial 119 finished with value: 0.740026818638954 and parameters: {'svc_c': 355.7652004481856, 'svc_tol': 0.0038249100385768743, 'svc_max_iter': 3981, 'svc_class_weight': 'balanced', 'svc_penalty': 'l2'}. Best is trial 137 with value: 0.7914850821320818.\n",
      "/opt/conda/lib/python3.10/site-packages/sklearn/svm/_base.py:1242: ConvergenceWarning: Liblinear failed to converge, increase the number of iterations.\n",
      "  warnings.warn(\n",
      "[I 2023-07-21 19:43:04,704] Trial 79 finished with value: 0.7864565873281931 and parameters: {'svc_c': 435.3062917451537, 'svc_tol': 0.07614506497274746, 'svc_max_iter': 4695, 'svc_class_weight': None, 'svc_penalty': 'l2'}. Best is trial 137 with value: 0.7914850821320818.\n",
      "[I 2023-07-21 19:43:04,819] Trial 63 finished with value: 0.7257794166946028 and parameters: {'svc_c': 942.9060269559029, 'svc_tol': 0.0511156825422063, 'svc_max_iter': 4350, 'svc_class_weight': 'balanced', 'svc_penalty': 'l1'}. Best is trial 137 with value: 0.7914850821320818.\n",
      "/opt/conda/lib/python3.10/site-packages/sklearn/svm/_base.py:1242: ConvergenceWarning: Liblinear failed to converge, increase the number of iterations.\n",
      "  warnings.warn(\n",
      "[I 2023-07-21 19:43:05,807] Trial 105 finished with value: 0.7727120348642307 and parameters: {'svc_c': 327.4490641812384, 'svc_tol': 0.02575212940440715, 'svc_max_iter': 2975, 'svc_class_weight': None, 'svc_penalty': 'l2'}. Best is trial 137 with value: 0.7914850821320818.\n",
      "[I 2023-07-21 19:43:05,873] Trial 0 finished with value: 0.7239356352665103 and parameters: {'svc_c': 535.2619660748155, 'svc_tol': 0.00036473232136002945, 'svc_max_iter': 3938, 'svc_class_weight': 'balanced', 'svc_penalty': 'l1'}. Best is trial 137 with value: 0.7914850821320818.\n",
      "/opt/conda/lib/python3.10/site-packages/sklearn/svm/_base.py:1242: ConvergenceWarning: Liblinear failed to converge, increase the number of iterations.\n",
      "  warnings.warn(\n",
      "[I 2023-07-21 19:43:06,273] Trial 57 finished with value: 0.7691920885015086 and parameters: {'svc_c': 13.58494559084675, 'svc_tol': 0.05141975109868681, 'svc_max_iter': 3614, 'svc_class_weight': None, 'svc_penalty': 'l1'}. Best is trial 137 with value: 0.7914850821320818.\n",
      "[I 2023-07-21 19:43:06,281] Trial 106 finished with value: 0.7509218907140462 and parameters: {'svc_c': 561.1744837714999, 'svc_tol': 0.05476210290217509, 'svc_max_iter': 3168, 'svc_class_weight': 'balanced', 'svc_penalty': 'l2'}. Best is trial 137 with value: 0.7914850821320818.\n",
      "[I 2023-07-21 19:43:06,351] Trial 118 finished with value: 0.748072410325176 and parameters: {'svc_c': 315.2147669423536, 'svc_tol': 0.04395509132495567, 'svc_max_iter': 2049, 'svc_class_weight': None, 'svc_penalty': 'l1'}. Best is trial 137 with value: 0.7914850821320818.\n",
      "[I 2023-07-21 19:43:06,386] Trial 5 finished with value: 0.7430439155212873 and parameters: {'svc_c': 938.1983978076793, 'svc_tol': 0.0003166827136197502, 'svc_max_iter': 1885, 'svc_class_weight': None, 'svc_penalty': 'l1'}. Best is trial 137 with value: 0.7914850821320818.\n",
      "[I 2023-07-21 19:43:06,424] Trial 124 finished with value: 0.7561180020113979 and parameters: {'svc_c': 104.4472407692284, 'svc_tol': 0.08406593435411787, 'svc_max_iter': 1195, 'svc_class_weight': 'balanced', 'svc_penalty': 'l2'}. Best is trial 137 with value: 0.7914850821320818.\n",
      "[I 2023-07-21 19:43:06,866] Trial 145 finished with value: 0.7893060677170634 and parameters: {'svc_c': 678.7355666981991, 'svc_tol': 0.09962555155359151, 'svc_max_iter': 4090, 'svc_class_weight': None, 'svc_penalty': 'l2'}. Best is trial 137 with value: 0.7914850821320818.\n",
      "[I 2023-07-21 19:43:07,135] Trial 95 finished with value: 0.7462286288970835 and parameters: {'svc_c': 756.4048642379457, 'svc_tol': 0.04299450361029636, 'svc_max_iter': 4906, 'svc_class_weight': None, 'svc_penalty': 'l1'}. Best is trial 137 with value: 0.7914850821320818.\n",
      "[I 2023-07-21 19:43:07,288] Trial 148 finished with value: 0.7884679852497486 and parameters: {'svc_c': 654.4122937409544, 'svc_tol': 0.09843134939068163, 'svc_max_iter': 3937, 'svc_class_weight': None, 'svc_penalty': 'l2'}. Best is trial 137 with value: 0.7914850821320818.\n",
      "[I 2023-07-21 19:43:08,181] Trial 150 finished with value: 0.7903117666778411 and parameters: {'svc_c': 671.1427583322004, 'svc_tol': 0.08697254330993986, 'svc_max_iter': 4098, 'svc_class_weight': None, 'svc_penalty': 'l2'}. Best is trial 137 with value: 0.7914850821320818.\n",
      "[I 2023-07-21 19:43:08,592] Trial 146 finished with value: 0.7886356017432116 and parameters: {'svc_c': 673.2465822271583, 'svc_tol': 0.08422007366442233, 'svc_max_iter': 3984, 'svc_class_weight': None, 'svc_penalty': 'l2'}. Best is trial 137 with value: 0.7914850821320818.\n",
      "[I 2023-07-21 19:43:08,666] Trial 112 finished with value: 0.7309755279919544 and parameters: {'svc_c': 565.9899213040675, 'svc_tol': 0.09262908332769469, 'svc_max_iter': 4760, 'svc_class_weight': 'balanced', 'svc_penalty': 'l1'}. Best is trial 137 with value: 0.7914850821320818.\n",
      "[I 2023-07-21 19:43:08,888] Trial 151 finished with value: 0.7894736842105263 and parameters: {'svc_c': 673.6267857298426, 'svc_tol': 0.08788747022462345, 'svc_max_iter': 4040, 'svc_class_weight': None, 'svc_penalty': 'l2'}. Best is trial 137 with value: 0.7914850821320818.\n",
      "/opt/conda/lib/python3.10/site-packages/sklearn/svm/_base.py:1242: ConvergenceWarning: Liblinear failed to converge, increase the number of iterations.\n",
      "  warnings.warn(\n",
      "[I 2023-07-21 19:43:09,599] Trial 147 finished with value: 0.7909822326516929 and parameters: {'svc_c': 696.7245122283107, 'svc_tol': 0.09879270086471971, 'svc_max_iter': 4012, 'svc_class_weight': None, 'svc_penalty': 'l2'}. Best is trial 137 with value: 0.7914850821320818.\n",
      "[I 2023-07-21 19:43:09,638] Trial 55 finished with value: 0.7239356352665103 and parameters: {'svc_c': 795.5758108750932, 'svc_tol': 0.02144535636810477, 'svc_max_iter': 1560, 'svc_class_weight': 'balanced', 'svc_penalty': 'l1'}. Best is trial 137 with value: 0.7914850821320818.\n",
      "[I 2023-07-21 19:43:09,663] Trial 152 finished with value: 0.7896413007039893 and parameters: {'svc_c': 664.9758117460252, 'svc_tol': 0.08384214644952905, 'svc_max_iter': 634, 'svc_class_weight': None, 'svc_penalty': 'l2'}. Best is trial 137 with value: 0.7914850821320818.\n",
      "/opt/conda/lib/python3.10/site-packages/sklearn/svm/_base.py:1242: ConvergenceWarning: Liblinear failed to converge, increase the number of iterations.\n",
      "  warnings.warn(\n",
      "[I 2023-07-21 19:43:09,995] Trial 154 finished with value: 0.7898089171974523 and parameters: {'svc_c': 685.4376887836015, 'svc_tol': 0.09919501728486997, 'svc_max_iter': 896, 'svc_class_weight': None, 'svc_penalty': 'l2'}. Best is trial 137 with value: 0.7914850821320818.\n",
      "[I 2023-07-21 19:43:10,024] Trial 121 finished with value: 0.7292993630573248 and parameters: {'svc_c': 754.133532084262, 'svc_tol': 0.07905767783908138, 'svc_max_iter': 4087, 'svc_class_weight': 'balanced', 'svc_penalty': 'l1'}. Best is trial 137 with value: 0.7914850821320818.\n",
      "[I 2023-07-21 19:43:10,110] Trial 80 finished with value: 0.7252765672142139 and parameters: {'svc_c': 437.6347769741994, 'svc_tol': 0.01724071681914452, 'svc_max_iter': 1465, 'svc_class_weight': 'balanced', 'svc_penalty': 'l1'}. Best is trial 137 with value: 0.7914850821320818.\n",
      "[I 2023-07-21 19:43:10,469] Trial 131 finished with value: 0.7318136104592692 and parameters: {'svc_c': 110.20308543934735, 'svc_tol': 0.06453328216495989, 'svc_max_iter': 2147, 'svc_class_weight': 'balanced', 'svc_penalty': 'l1'}. Best is trial 137 with value: 0.7914850821320818.\n",
      "/opt/conda/lib/python3.10/site-packages/sklearn/svm/_base.py:1242: ConvergenceWarning: Liblinear failed to converge, increase the number of iterations.\n",
      "  warnings.warn(\n",
      "[I 2023-07-21 19:43:10,648] Trial 149 finished with value: 0.7898089171974523 and parameters: {'svc_c': 637.7785954100523, 'svc_tol': 0.08683483364060132, 'svc_max_iter': 4016, 'svc_class_weight': None, 'svc_penalty': 'l2'}. Best is trial 137 with value: 0.7914850821320818.\n",
      "/opt/conda/lib/python3.10/site-packages/sklearn/svm/_base.py:1242: ConvergenceWarning: Liblinear failed to converge, increase the number of iterations.\n",
      "  warnings.warn(\n",
      "[I 2023-07-21 19:43:10,778] Trial 109 finished with value: 0.7259470331880657 and parameters: {'svc_c': 139.91192708285365, 'svc_tol': 0.011428270402336911, 'svc_max_iter': 1367, 'svc_class_weight': 'balanced', 'svc_penalty': 'l1'}. Best is trial 137 with value: 0.7914850821320818.\n",
      "[I 2023-07-21 19:43:10,907] Trial 72 finished with value: 0.7450553134428428 and parameters: {'svc_c': 193.16075523706428, 'svc_tol': 0.00711351274010248, 'svc_max_iter': 1527, 'svc_class_weight': None, 'svc_penalty': 'l1'}. Best is trial 137 with value: 0.7914850821320818.\n",
      "[I 2023-07-21 19:43:11,080] Trial 153 finished with value: 0.7893060677170634 and parameters: {'svc_c': 645.9345699706964, 'svc_tol': 0.09923088574770819, 'svc_max_iter': 782, 'svc_class_weight': None, 'svc_penalty': 'l2'}. Best is trial 137 with value: 0.7914850821320818.\n",
      "[I 2023-07-21 19:43:11,444] Trial 155 finished with value: 0.7896413007039893 and parameters: {'svc_c': 680.0798003014731, 'svc_tol': 0.09957547759782628, 'svc_max_iter': 796, 'svc_class_weight': None, 'svc_penalty': 'l2'}. Best is trial 137 with value: 0.7914850821320818.\n",
      "[I 2023-07-21 19:43:12,305] Trial 129 finished with value: 0.728293664096547 and parameters: {'svc_c': 231.82064283406385, 'svc_tol': 0.061740329537081674, 'svc_max_iter': 4743, 'svc_class_weight': 'balanced', 'svc_penalty': 'l1'}. Best is trial 137 with value: 0.7914850821320818.\n",
      "[I 2023-07-21 19:43:12,438] Trial 158 finished with value: 0.790646999664767 and parameters: {'svc_c': 59.41815914098344, 'svc_tol': 0.0989021318581063, 'svc_max_iter': 4012, 'svc_class_weight': None, 'svc_penalty': 'l2'}. Best is trial 137 with value: 0.7914850821320818.\n",
      "/opt/conda/lib/python3.10/site-packages/sklearn/svm/_base.py:1242: ConvergenceWarning: Liblinear failed to converge, increase the number of iterations.\n",
      "  warnings.warn(\n",
      "/opt/conda/lib/python3.10/site-packages/sklearn/svm/_base.py:1242: ConvergenceWarning: Liblinear failed to converge, increase the number of iterations.\n",
      "  warnings.warn(\n",
      "/opt/conda/lib/python3.10/site-packages/sklearn/svm/_base.py:1242: ConvergenceWarning: Liblinear failed to converge, increase the number of iterations.\n",
      "  warnings.warn(\n",
      "[I 2023-07-21 19:43:12,872] Trial 34 finished with value: 0.7269527321488435 and parameters: {'svc_c': 443.5173900283831, 'svc_tol': 0.03597700645518438, 'svc_max_iter': 4856, 'svc_class_weight': 'balanced', 'svc_penalty': 'l1'}. Best is trial 137 with value: 0.7914850821320818.\n",
      "[I 2023-07-21 19:43:13,030] Trial 96 finished with value: 0.7264498826684546 and parameters: {'svc_c': 717.6548387596957, 'svc_tol': 0.03382695670530812, 'svc_max_iter': 4274, 'svc_class_weight': 'balanced', 'svc_penalty': 'l1'}. Best is trial 137 with value: 0.7914850821320818.\n",
      "[I 2023-07-21 19:43:13,066] Trial 115 finished with value: 0.7254441837076768 and parameters: {'svc_c': 367.90932416853354, 'svc_tol': 0.03152110465879057, 'svc_max_iter': 3262, 'svc_class_weight': 'balanced', 'svc_penalty': 'l1'}. Best is trial 137 with value: 0.7914850821320818.\n",
      "[I 2023-07-21 19:43:13,106] Trial 156 finished with value: 0.7903117666778411 and parameters: {'svc_c': 686.0839912943285, 'svc_tol': 0.08654719754405656, 'svc_max_iter': 3830, 'svc_class_weight': None, 'svc_penalty': 'l2'}. Best is trial 137 with value: 0.7914850821320818.\n",
      "/opt/conda/lib/python3.10/site-packages/sklearn/svm/_base.py:1242: ConvergenceWarning: Liblinear failed to converge, increase the number of iterations.\n",
      "  warnings.warn(\n",
      "[I 2023-07-21 19:43:13,549] Trial 53 finished with value: 0.7445524639624539 and parameters: {'svc_c': 485.09566311310897, 'svc_tol': 0.002352970941135164, 'svc_max_iter': 1271, 'svc_class_weight': None, 'svc_penalty': 'l1'}. Best is trial 137 with value: 0.7914850821320818.\n",
      "[I 2023-07-21 19:43:14,117] Trial 162 finished with value: 0.79081461615823 and parameters: {'svc_c': 49.7344371447937, 'svc_tol': 0.09958476420905152, 'svc_max_iter': 3785, 'svc_class_weight': None, 'svc_penalty': 'l2'}. Best is trial 137 with value: 0.7914850821320818.\n",
      "[I 2023-07-21 19:43:14,398] Trial 164 finished with value: 0.7916526986255448 and parameters: {'svc_c': 56.68813707524133, 'svc_tol': 0.09243979239835846, 'svc_max_iter': 3776, 'svc_class_weight': None, 'svc_penalty': 'l2'}. Best is trial 164 with value: 0.7916526986255448.\n",
      "/opt/conda/lib/python3.10/site-packages/sklearn/svm/_base.py:1242: ConvergenceWarning: Liblinear failed to converge, increase the number of iterations.\n",
      "  warnings.warn(\n",
      "[I 2023-07-21 19:43:14,605] Trial 159 finished with value: 0.790646999664767 and parameters: {'svc_c': 56.682827860513605, 'svc_tol': 0.0991768132910004, 'svc_max_iter': 4043, 'svc_class_weight': None, 'svc_penalty': 'l2'}. Best is trial 164 with value: 0.7916526986255448.\n",
      "[I 2023-07-21 19:43:14,633] Trial 102 finished with value: 0.7502514247401945 and parameters: {'svc_c': 90.53572445370236, 'svc_tol': 0.040173665962541016, 'svc_max_iter': 840, 'svc_class_weight': None, 'svc_penalty': 'l1'}. Best is trial 164 with value: 0.7916526986255448.\n",
      "[I 2023-07-21 19:43:14,735] Trial 122 finished with value: 0.7246061012403621 and parameters: {'svc_c': 604.948867967497, 'svc_tol': 0.01934546452994277, 'svc_max_iter': 2825, 'svc_class_weight': 'balanced', 'svc_penalty': 'l1'}. Best is trial 164 with value: 0.7916526986255448.\n",
      "/opt/conda/lib/python3.10/site-packages/sklearn/svm/_base.py:1242: ConvergenceWarning: Liblinear failed to converge, increase the number of iterations.\n",
      "  warnings.warn(\n",
      "[I 2023-07-21 19:43:15,088] Trial 157 finished with value: 0.7904793831713041 and parameters: {'svc_c': 62.333428601025375, 'svc_tol': 0.09939256144011967, 'svc_max_iter': 3792, 'svc_class_weight': None, 'svc_penalty': 'l2'}. Best is trial 164 with value: 0.7916526986255448.\n",
      "[I 2023-07-21 19:43:15,308] Trial 103 finished with value: 0.7437143814951391 and parameters: {'svc_c': 888.4861473286624, 'svc_tol': 0.010470423440834403, 'svc_max_iter': 1364, 'svc_class_weight': None, 'svc_penalty': 'l1'}. Best is trial 164 with value: 0.7916526986255448.\n",
      "[I 2023-07-21 19:43:15,882] Trial 161 finished with value: 0.79081461615823 and parameters: {'svc_c': 54.79573688637964, 'svc_tol': 0.0987348343882291, 'svc_max_iter': 3814, 'svc_class_weight': None, 'svc_penalty': 'l2'}. Best is trial 164 with value: 0.7916526986255448.\n",
      "/opt/conda/lib/python3.10/site-packages/sklearn/svm/_base.py:1242: ConvergenceWarning: Liblinear failed to converge, increase the number of iterations.\n",
      "  warnings.warn(\n",
      "[I 2023-07-21 19:43:16,067] Trial 160 finished with value: 0.7909822326516929 and parameters: {'svc_c': 58.24049022665297, 'svc_tol': 0.09883609206823388, 'svc_max_iter': 3985, 'svc_class_weight': None, 'svc_penalty': 'l2'}. Best is trial 164 with value: 0.7916526986255448.\n",
      "[I 2023-07-21 19:43:16,252] Trial 113 finished with value: 0.7460610124036205 and parameters: {'svc_c': 162.26252664660717, 'svc_tol': 0.024322083057771098, 'svc_max_iter': 627, 'svc_class_weight': None, 'svc_penalty': 'l1'}. Best is trial 164 with value: 0.7916526986255448.\n",
      "[I 2023-07-21 19:43:16,984] Trial 172 finished with value: 0.79081461615823 and parameters: {'svc_c': 54.67029091078395, 'svc_tol': 0.0959789970978609, 'svc_max_iter': 3944, 'svc_class_weight': None, 'svc_penalty': 'l2'}. Best is trial 164 with value: 0.7916526986255448.\n",
      "/opt/conda/lib/python3.10/site-packages/sklearn/svm/_base.py:1242: ConvergenceWarning: Liblinear failed to converge, increase the number of iterations.\n",
      "  warnings.warn(\n",
      "[I 2023-07-21 19:43:17,321] Trial 165 finished with value: 0.7901441501843781 and parameters: {'svc_c': 51.58510138170101, 'svc_tol': 0.09994779138186134, 'svc_max_iter': 3664, 'svc_class_weight': None, 'svc_penalty': 'l2'}. Best is trial 164 with value: 0.7916526986255448.\n",
      "/opt/conda/lib/python3.10/site-packages/sklearn/svm/_base.py:1242: ConvergenceWarning: Liblinear failed to converge, increase the number of iterations.\n",
      "  warnings.warn(\n",
      "[I 2023-07-21 19:43:17,904] Trial 127 finished with value: 0.7254441837076768 and parameters: {'svc_c': 283.56766046327107, 'svc_tol': 0.0356010109727846, 'svc_max_iter': 4126, 'svc_class_weight': 'balanced', 'svc_penalty': 'l1'}. Best is trial 164 with value: 0.7916526986255448.\n",
      "/opt/conda/lib/python3.10/site-packages/sklearn/svm/_base.py:1242: ConvergenceWarning: Liblinear failed to converge, increase the number of iterations.\n",
      "  warnings.warn(\n",
      "[I 2023-07-21 19:43:17,972] Trial 166 finished with value: 0.7904793831713041 and parameters: {'svc_c': 82.90405865825362, 'svc_tol': 0.09809571326586318, 'svc_max_iter': 3705, 'svc_class_weight': None, 'svc_penalty': 'l2'}. Best is trial 164 with value: 0.7916526986255448.\n",
      "[I 2023-07-21 19:43:18,019] Trial 108 finished with value: 0.7450553134428428 and parameters: {'svc_c': 631.136929465592, 'svc_tol': 0.018635675209713393, 'svc_max_iter': 1414, 'svc_class_weight': None, 'svc_penalty': 'l1'}. Best is trial 164 with value: 0.7916526986255448.\n",
      "[I 2023-07-21 19:43:18,067] Trial 167 finished with value: 0.790646999664767 and parameters: {'svc_c': 71.50730768237551, 'svc_tol': 0.09851342954401117, 'svc_max_iter': 3812, 'svc_class_weight': None, 'svc_penalty': 'l2'}. Best is trial 164 with value: 0.7916526986255448.\n",
      "[I 2023-07-21 19:43:18,327] Trial 64 finished with value: 0.7440496144820651 and parameters: {'svc_c': 787.8339708048616, 'svc_tol': 0.010384075578495919, 'svc_max_iter': 4190, 'svc_class_weight': None, 'svc_penalty': 'l1'}. Best is trial 164 with value: 0.7916526986255448.\n",
      "[I 2023-07-21 19:43:18,424] Trial 168 finished with value: 0.7903117666778411 and parameters: {'svc_c': 64.51140998120647, 'svc_tol': 0.09928529199618048, 'svc_max_iter': 4964, 'svc_class_weight': None, 'svc_penalty': 'l2'}. Best is trial 164 with value: 0.7916526986255448.\n",
      "[I 2023-07-21 19:43:18,438] Trial 169 finished with value: 0.7899765336909151 and parameters: {'svc_c': 65.78589894337843, 'svc_tol': 0.09995255483941164, 'svc_max_iter': 4063, 'svc_class_weight': None, 'svc_penalty': 'l2'}. Best is trial 164 with value: 0.7916526986255448.\n",
      "[I 2023-07-21 19:43:18,976] Trial 170 finished with value: 0.7894736842105263 and parameters: {'svc_c': 56.30573839651808, 'svc_tol': 0.09904212341644025, 'svc_max_iter': 3954, 'svc_class_weight': None, 'svc_penalty': 'l2'}. Best is trial 164 with value: 0.7916526986255448.\n",
      "[I 2023-07-21 19:43:19,135] Trial 163 finished with value: 0.7919879316124707 and parameters: {'svc_c': 49.3294991719877, 'svc_tol': 0.09197205279985386, 'svc_max_iter': 3719, 'svc_class_weight': None, 'svc_penalty': 'l2'}. Best is trial 163 with value: 0.7919879316124707.\n",
      "[I 2023-07-21 19:43:19,500] Trial 191 finished with value: 0.7889708347301374 and parameters: {'svc_c': 78.4150070454069, 'svc_tol': 0.0942599395082303, 'svc_max_iter': 4344, 'svc_class_weight': None, 'svc_penalty': 'l2'}. Best is trial 163 with value: 0.7919879316124707.\n",
      "[I 2023-07-21 19:43:20,045] Trial 171 finished with value: 0.7901441501843781 and parameters: {'svc_c': 56.31499242023014, 'svc_tol': 0.09966245039928931, 'svc_max_iter': 3959, 'svc_class_weight': None, 'svc_penalty': 'l2'}. Best is trial 163 with value: 0.7919879316124707.\n",
      "[I 2023-07-21 19:43:20,737] Trial 174 finished with value: 0.7911498491451558 and parameters: {'svc_c': 55.2028110087749, 'svc_tol': 0.0995373680258701, 'svc_max_iter': 3976, 'svc_class_weight': None, 'svc_penalty': 'l2'}. Best is trial 163 with value: 0.7919879316124707.\n",
      "[I 2023-07-21 19:43:20,928] Trial 179 finished with value: 0.7904793831713041 and parameters: {'svc_c': 60.77068576391295, 'svc_tol': 0.09426672075035754, 'svc_max_iter': 4317, 'svc_class_weight': None, 'svc_penalty': 'l2'}. Best is trial 163 with value: 0.7919879316124707.\n",
      "[I 2023-07-21 19:43:21,284] Trial 178 finished with value: 0.79081461615823 and parameters: {'svc_c': 58.172743388496464, 'svc_tol': 0.09993345740308726, 'svc_max_iter': 4002, 'svc_class_weight': None, 'svc_penalty': 'l2'}. Best is trial 163 with value: 0.7919879316124707.\n",
      "[I 2023-07-21 19:43:21,303] Trial 173 finished with value: 0.790646999664767 and parameters: {'svc_c': 60.12480573161476, 'svc_tol': 0.09974480026176626, 'svc_max_iter': 3953, 'svc_class_weight': None, 'svc_penalty': 'l2'}. Best is trial 163 with value: 0.7919879316124707.\n",
      "[I 2023-07-21 19:43:21,994] Trial 186 finished with value: 0.7909822326516929 and parameters: {'svc_c': 63.81232010548358, 'svc_tol': 0.09342068659598095, 'svc_max_iter': 4975, 'svc_class_weight': None, 'svc_penalty': 'l2'}. Best is trial 163 with value: 0.7919879316124707.\n",
      "[I 2023-07-21 19:43:22,140] Trial 175 finished with value: 0.7901441501843781 and parameters: {'svc_c': 64.8828820889153, 'svc_tol': 0.09974658298314722, 'svc_max_iter': 4997, 'svc_class_weight': None, 'svc_penalty': 'l2'}. Best is trial 163 with value: 0.7919879316124707.\n",
      "[I 2023-07-21 19:43:22,409] Trial 181 finished with value: 0.7899765336909151 and parameters: {'svc_c': 67.52028695475067, 'svc_tol': 0.09422848312699789, 'svc_max_iter': 4112, 'svc_class_weight': None, 'svc_penalty': 'l2'}. Best is trial 163 with value: 0.7919879316124707.\n",
      "[I 2023-07-21 19:43:22,470] Trial 190 finished with value: 0.79081461615823 and parameters: {'svc_c': 69.4283870860967, 'svc_tol': 0.0946031987997402, 'svc_max_iter': 3582, 'svc_class_weight': None, 'svc_penalty': 'l2'}. Best is trial 163 with value: 0.7919879316124707.\n",
      "[I 2023-07-21 19:43:23,186] Trial 185 finished with value: 0.790646999664767 and parameters: {'svc_c': 77.95069383782122, 'svc_tol': 0.09433908554432835, 'svc_max_iter': 4952, 'svc_class_weight': None, 'svc_penalty': 'l2'}. Best is trial 163 with value: 0.7919879316124707.\n",
      "[I 2023-07-21 19:43:23,342] Trial 187 finished with value: 0.7886356017432116 and parameters: {'svc_c': 67.13283170137433, 'svc_tol': 0.09454928550944787, 'svc_max_iter': 4956, 'svc_class_weight': None, 'svc_penalty': 'l2'}. Best is trial 163 with value: 0.7919879316124707.\n",
      "[I 2023-07-21 19:43:23,452] Trial 196 finished with value: 0.7916526986255448 and parameters: {'svc_c': 55.73515815154342, 'svc_tol': 0.09473624155510368, 'svc_max_iter': 4988, 'svc_class_weight': None, 'svc_penalty': 'l2'}. Best is trial 163 with value: 0.7919879316124707.\n",
      "[I 2023-07-21 19:43:23,780] Trial 182 finished with value: 0.7894736842105263 and parameters: {'svc_c': 60.46808236934724, 'svc_tol': 0.0942917052192451, 'svc_max_iter': 4898, 'svc_class_weight': None, 'svc_penalty': 'l2'}. Best is trial 163 with value: 0.7919879316124707.\n",
      "[I 2023-07-21 19:43:23,786] Trial 219 finished with value: 0.7901441501843781 and parameters: {'svc_c': 68.42956184030191, 'svc_tol': 0.0950414007020204, 'svc_max_iter': 4030, 'svc_class_weight': None, 'svc_penalty': 'l2'}. Best is trial 163 with value: 0.7919879316124707.\n",
      "[I 2023-07-21 19:43:24,575] Trial 218 finished with value: 0.7903117666778411 and parameters: {'svc_c': 70.53227476889995, 'svc_tol': 0.09517574067037014, 'svc_max_iter': 4952, 'svc_class_weight': None, 'svc_penalty': 'l2'}. Best is trial 163 with value: 0.7919879316124707.\n",
      "[I 2023-07-21 19:43:24,598] Trial 204 finished with value: 0.7898089171974523 and parameters: {'svc_c': 82.21135251149018, 'svc_tol': 0.09514987626913814, 'svc_max_iter': 4358, 'svc_class_weight': None, 'svc_penalty': 'l2'}. Best is trial 163 with value: 0.7919879316124707.\n",
      "[I 2023-07-21 19:43:24,652] Trial 198 finished with value: 0.7903117666778411 and parameters: {'svc_c': 70.76494698168185, 'svc_tol': 0.09526717484005677, 'svc_max_iter': 4326, 'svc_class_weight': None, 'svc_penalty': 'l2'}. Best is trial 163 with value: 0.7919879316124707.\n",
      "[I 2023-07-21 19:43:24,692] Trial 184 finished with value: 0.7909822326516929 and parameters: {'svc_c': 59.98241548505334, 'svc_tol': 0.09526177350918098, 'svc_max_iter': 4929, 'svc_class_weight': None, 'svc_penalty': 'l2'}. Best is trial 163 with value: 0.7919879316124707.\n",
      "[I 2023-07-21 19:43:24,751] Trial 200 finished with value: 0.790646999664767 and parameters: {'svc_c': 64.71771937414478, 'svc_tol': 0.0948361413929648, 'svc_max_iter': 4958, 'svc_class_weight': None, 'svc_penalty': 'l2'}. Best is trial 163 with value: 0.7919879316124707.\n",
      "[I 2023-07-21 19:43:25,749] Trial 189 finished with value: 0.7904793831713041 and parameters: {'svc_c': 74.98723657179241, 'svc_tol': 0.0944209841528069, 'svc_max_iter': 4994, 'svc_class_weight': None, 'svc_penalty': 'l2'}. Best is trial 163 with value: 0.7919879316124707.\n",
      "[I 2023-07-21 19:43:25,769] Trial 180 finished with value: 0.7913174656386188 and parameters: {'svc_c': 65.91269392893577, 'svc_tol': 0.09364059571471837, 'svc_max_iter': 4964, 'svc_class_weight': None, 'svc_penalty': 'l2'}. Best is trial 163 with value: 0.7919879316124707.\n",
      "[I 2023-07-21 19:43:25,864] Trial 177 finished with value: 0.7904793831713041 and parameters: {'svc_c': 87.79828578405187, 'svc_tol': 0.09958198708729372, 'svc_max_iter': 3997, 'svc_class_weight': None, 'svc_penalty': 'l2'}. Best is trial 163 with value: 0.7919879316124707.\n",
      "[I 2023-07-21 19:43:26,831] Trial 194 finished with value: 0.7904793831713041 and parameters: {'svc_c': 62.04493885458702, 'svc_tol': 0.09461137084357354, 'svc_max_iter': 4351, 'svc_class_weight': None, 'svc_penalty': 'l2'}. Best is trial 163 with value: 0.7919879316124707.\n",
      "[I 2023-07-21 19:43:26,916] Trial 176 finished with value: 0.7911498491451558 and parameters: {'svc_c': 60.243829797414485, 'svc_tol': 0.09915350478939434, 'svc_max_iter': 3990, 'svc_class_weight': None, 'svc_penalty': 'l2'}. Best is trial 163 with value: 0.7919879316124707.\n",
      "[I 2023-07-21 19:43:26,968] Trial 210 finished with value: 0.790646999664767 and parameters: {'svc_c': 63.136725852463364, 'svc_tol': 0.09543086658897018, 'svc_max_iter': 4310, 'svc_class_weight': None, 'svc_penalty': 'l2'}. Best is trial 163 with value: 0.7919879316124707.\n",
      "[I 2023-07-21 19:43:27,611] Trial 183 finished with value: 0.7899765336909151 and parameters: {'svc_c': 77.64650154114366, 'svc_tol': 0.0939101370848592, 'svc_max_iter': 4322, 'svc_class_weight': None, 'svc_penalty': 'l2'}. Best is trial 163 with value: 0.7919879316124707.\n",
      "[I 2023-07-21 19:43:27,663] Trial 223 finished with value: 0.7901441501843781 and parameters: {'svc_c': 71.30753601899555, 'svc_tol': 0.09544364275194456, 'svc_max_iter': 4965, 'svc_class_weight': None, 'svc_penalty': 'l2'}. Best is trial 163 with value: 0.7919879316124707.\n",
      "[I 2023-07-21 19:43:27,668] Trial 192 finished with value: 0.7903117666778411 and parameters: {'svc_c': 75.63293059492256, 'svc_tol': 0.09419296509625921, 'svc_max_iter': 4925, 'svc_class_weight': None, 'svc_penalty': 'l2'}. Best is trial 163 with value: 0.7919879316124707.\n",
      "[I 2023-07-21 19:43:27,702] Trial 188 finished with value: 0.7896413007039893 and parameters: {'svc_c': 74.95530877763885, 'svc_tol': 0.0944075753084448, 'svc_max_iter': 4339, 'svc_class_weight': None, 'svc_penalty': 'l2'}. Best is trial 163 with value: 0.7919879316124707.\n",
      "[I 2023-07-21 19:43:27,751] Trial 197 finished with value: 0.7903117666778411 and parameters: {'svc_c': 59.45141137317046, 'svc_tol': 0.09991076910493385, 'svc_max_iter': 4378, 'svc_class_weight': None, 'svc_penalty': 'l2'}. Best is trial 163 with value: 0.7919879316124707.\n",
      "[I 2023-07-21 19:43:27,924] Trial 199 finished with value: 0.7901441501843781 and parameters: {'svc_c': 103.12605231914198, 'svc_tol': 0.0946784023667314, 'svc_max_iter': 4342, 'svc_class_weight': None, 'svc_penalty': 'l2'}. Best is trial 163 with value: 0.7919879316124707.\n",
      "[I 2023-07-21 19:43:29,545] Trial 215 finished with value: 0.7898089171974523 and parameters: {'svc_c': 72.28544508890839, 'svc_tol': 0.09586394931124659, 'svc_max_iter': 4331, 'svc_class_weight': None, 'svc_penalty': 'l2'}. Best is trial 163 with value: 0.7919879316124707.\n",
      "[I 2023-07-21 19:43:29,616] Trial 207 finished with value: 0.7919879316124707 and parameters: {'svc_c': 54.300538529776986, 'svc_tol': 0.09530132600404888, 'svc_max_iter': 4272, 'svc_class_weight': None, 'svc_penalty': 'l2'}. Best is trial 163 with value: 0.7919879316124707.\n",
      "[I 2023-07-21 19:43:30,399] Trial 202 finished with value: 0.7894736842105263 and parameters: {'svc_c': 61.68858723189449, 'svc_tol': 0.09989606587320454, 'svc_max_iter': 4924, 'svc_class_weight': None, 'svc_penalty': 'l2'}. Best is trial 163 with value: 0.7919879316124707.\n",
      "[I 2023-07-21 19:43:30,513] Trial 230 finished with value: 0.790646999664767 and parameters: {'svc_c': 64.26188952552995, 'svc_tol': 0.095383816548672, 'svc_max_iter': 4317, 'svc_class_weight': None, 'svc_penalty': 'l2'}. Best is trial 163 with value: 0.7919879316124707.\n",
      "[I 2023-07-21 19:43:30,645] Trial 208 finished with value: 0.7893060677170634 and parameters: {'svc_c': 81.20734610189227, 'svc_tol': 0.0962740827622619, 'svc_max_iter': 4264, 'svc_class_weight': None, 'svc_penalty': 'l2'}. Best is trial 163 with value: 0.7919879316124707.\n",
      "/opt/conda/lib/python3.10/site-packages/sklearn/svm/_base.py:1242: ConvergenceWarning: Liblinear failed to converge, increase the number of iterations.\n",
      "  warnings.warn(\n",
      "[I 2023-07-21 19:43:30,987] Trial 209 finished with value: 0.7913174656386188 and parameters: {'svc_c': 62.81003193400434, 'svc_tol': 0.09494716447676753, 'svc_max_iter': 4355, 'svc_class_weight': None, 'svc_penalty': 'l2'}. Best is trial 163 with value: 0.7919879316124707.\n",
      "[I 2023-07-21 19:43:31,187] Trial 234 finished with value: 0.7901441501843781 and parameters: {'svc_c': 67.53320754339325, 'svc_tol': 0.09571643215370565, 'svc_max_iter': 4996, 'svc_class_weight': None, 'svc_penalty': 'l2'}. Best is trial 163 with value: 0.7919879316124707.\n",
      "[I 2023-07-21 19:43:31,287] Trial 231 finished with value: 0.7903117666778411 and parameters: {'svc_c': 68.67940872742986, 'svc_tol': 0.0963589829142858, 'svc_max_iter': 4301, 'svc_class_weight': None, 'svc_penalty': 'l2'}. Best is trial 163 with value: 0.7919879316124707.\n",
      "[I 2023-07-21 19:43:31,397] Trial 195 finished with value: 0.7903117666778411 and parameters: {'svc_c': 61.34515606660552, 'svc_tol': 0.09459543118536134, 'svc_max_iter': 4322, 'svc_class_weight': None, 'svc_penalty': 'l2'}. Best is trial 163 with value: 0.7919879316124707.\n",
      "[I 2023-07-21 19:43:31,513] Trial 88 finished with value: 0.7318136104592692 and parameters: {'svc_c': 36.49308607161101, 'svc_tol': 0.004877069748964117, 'svc_max_iter': 1810, 'svc_class_weight': 'balanced', 'svc_penalty': 'l1'}. Best is trial 163 with value: 0.7919879316124707.\n",
      "[I 2023-07-21 19:43:31,546] Trial 205 finished with value: 0.7904793831713041 and parameters: {'svc_c': 45.82234605929749, 'svc_tol': 0.09990163580131206, 'svc_max_iter': 4319, 'svc_class_weight': None, 'svc_penalty': 'l2'}. Best is trial 163 with value: 0.7919879316124707.\n",
      "[I 2023-07-21 19:43:31,591] Trial 212 finished with value: 0.7904793831713041 and parameters: {'svc_c': 59.36604947401178, 'svc_tol': 0.09635021335613467, 'svc_max_iter': 4309, 'svc_class_weight': None, 'svc_penalty': 'l2'}. Best is trial 163 with value: 0.7919879316124707.\n",
      "[I 2023-07-21 19:43:31,599] Trial 239 finished with value: 0.7903117666778411 and parameters: {'svc_c': 63.27941519844827, 'svc_tol': 0.09549307166489554, 'svc_max_iter': 4338, 'svc_class_weight': None, 'svc_penalty': 'l2'}. Best is trial 163 with value: 0.7919879316124707.\n",
      "[I 2023-07-21 19:43:32,398] Trial 206 finished with value: 0.7911498491451558 and parameters: {'svc_c': 60.6384671356899, 'svc_tol': 0.09526127860234687, 'svc_max_iter': 4326, 'svc_class_weight': None, 'svc_penalty': 'l2'}. Best is trial 163 with value: 0.7919879316124707.\n",
      "[I 2023-07-21 19:43:32,420] Trial 220 finished with value: 0.7903117666778411 and parameters: {'svc_c': 63.39013774258193, 'svc_tol': 0.0955065764145071, 'svc_max_iter': 4357, 'svc_class_weight': None, 'svc_penalty': 'l2'}. Best is trial 163 with value: 0.7919879316124707.\n",
      "[I 2023-07-21 19:43:32,434] Trial 211 finished with value: 0.7913174656386188 and parameters: {'svc_c': 56.0917291648514, 'svc_tol': 0.09537838359543503, 'svc_max_iter': 4995, 'svc_class_weight': None, 'svc_penalty': 'l2'}. Best is trial 163 with value: 0.7919879316124707.\n",
      "[I 2023-07-21 19:43:34,141] Trial 213 finished with value: 0.7904793831713041 and parameters: {'svc_c': 51.24592542079897, 'svc_tol': 0.09549631989669663, 'svc_max_iter': 4277, 'svc_class_weight': None, 'svc_penalty': 'l2'}. Best is trial 163 with value: 0.7919879316124707.\n",
      "[I 2023-07-21 19:43:34,264] Trial 217 finished with value: 0.7904793831713041 and parameters: {'svc_c': 63.3692890547878, 'svc_tol': 0.0947638338640337, 'svc_max_iter': 4989, 'svc_class_weight': None, 'svc_penalty': 'l2'}. Best is trial 163 with value: 0.7919879316124707.\n",
      "[I 2023-07-21 19:43:34,366] Trial 244 finished with value: 0.7901441501843781 and parameters: {'svc_c': 78.55243727728498, 'svc_tol': 0.09509877013431865, 'svc_max_iter': 4299, 'svc_class_weight': None, 'svc_penalty': 'l2'}. Best is trial 163 with value: 0.7919879316124707.\n",
      "[I 2023-07-21 19:43:34,373] Trial 240 finished with value: 0.7913174656386188 and parameters: {'svc_c': 56.13228589175121, 'svc_tol': 0.09508677221493078, 'svc_max_iter': 4115, 'svc_class_weight': None, 'svc_penalty': 'l2'}. Best is trial 163 with value: 0.7919879316124707.\n",
      "[I 2023-07-21 19:43:34,386] Trial 225 finished with value: 0.7903117666778411 and parameters: {'svc_c': 64.6571802233962, 'svc_tol': 0.09535600794582066, 'svc_max_iter': 4945, 'svc_class_weight': None, 'svc_penalty': 'l2'}. Best is trial 163 with value: 0.7919879316124707.\n",
      "[I 2023-07-21 19:43:35,162] Trial 216 finished with value: 0.7903117666778411 and parameters: {'svc_c': 49.8734301833932, 'svc_tol': 0.09545113290771597, 'svc_max_iter': 4298, 'svc_class_weight': None, 'svc_penalty': 'l2'}. Best is trial 163 with value: 0.7919879316124707.\n",
      "[I 2023-07-21 19:43:35,234] Trial 227 finished with value: 0.7903117666778411 and parameters: {'svc_c': 73.39484446897643, 'svc_tol': 0.0953748527313982, 'svc_max_iter': 4297, 'svc_class_weight': None, 'svc_penalty': 'l2'}. Best is trial 163 with value: 0.7919879316124707.\n",
      "[I 2023-07-21 19:43:35,510] Trial 221 finished with value: 0.7901441501843781 and parameters: {'svc_c': 81.30452373066828, 'svc_tol': 0.0944649592523907, 'svc_max_iter': 4259, 'svc_class_weight': None, 'svc_penalty': 'l2'}. Best is trial 163 with value: 0.7919879316124707.\n",
      "[I 2023-07-21 19:43:35,515] Trial 201 finished with value: 0.7904793831713041 and parameters: {'svc_c': 50.285268634012176, 'svc_tol': 0.0955546658556527, 'svc_max_iter': 4990, 'svc_class_weight': None, 'svc_penalty': 'l2'}. Best is trial 163 with value: 0.7919879316124707.\n",
      "[I 2023-07-21 19:43:36,110] Trial 228 finished with value: 0.7914850821320818 and parameters: {'svc_c': 75.48290360389478, 'svc_tol': 0.09551722779014131, 'svc_max_iter': 4108, 'svc_class_weight': None, 'svc_penalty': 'l2'}. Best is trial 163 with value: 0.7919879316124707.\n",
      "[I 2023-07-21 19:43:36,141] Trial 224 finished with value: 0.7896413007039893 and parameters: {'svc_c': 65.35517660934386, 'svc_tol': 0.09556116924945941, 'svc_max_iter': 4094, 'svc_class_weight': None, 'svc_penalty': 'l2'}. Best is trial 163 with value: 0.7919879316124707.\n",
      "[I 2023-07-21 19:43:36,170] Trial 214 finished with value: 0.790646999664767 and parameters: {'svc_c': 51.89156838967017, 'svc_tol': 0.09568915406659409, 'svc_max_iter': 4299, 'svc_class_weight': None, 'svc_penalty': 'l2'}. Best is trial 163 with value: 0.7919879316124707.\n",
      "[I 2023-07-21 19:43:36,190] Trial 235 finished with value: 0.7903117666778411 and parameters: {'svc_c': 79.98738796897422, 'svc_tol': 0.09499023261107462, 'svc_max_iter': 4315, 'svc_class_weight': None, 'svc_penalty': 'l2'}. Best is trial 163 with value: 0.7919879316124707.\n",
      "[I 2023-07-21 19:43:36,273] Trial 226 finished with value: 0.7903117666778411 and parameters: {'svc_c': 79.21056323401255, 'svc_tol': 0.09576087937826296, 'svc_max_iter': 4096, 'svc_class_weight': None, 'svc_penalty': 'l2'}. Best is trial 163 with value: 0.7919879316124707.\n",
      "[I 2023-07-21 19:43:36,423] Trial 203 finished with value: 0.7899765336909151 and parameters: {'svc_c': 65.10710937015494, 'svc_tol': 0.09993475114986677, 'svc_max_iter': 4282, 'svc_class_weight': None, 'svc_penalty': 'l2'}. Best is trial 163 with value: 0.7919879316124707.\n",
      "[I 2023-07-21 19:43:36,915] Trial 238 finished with value: 0.7896413007039893 and parameters: {'svc_c': 63.56581672338649, 'svc_tol': 0.09497566620017699, 'svc_max_iter': 4959, 'svc_class_weight': None, 'svc_penalty': 'l2'}. Best is trial 163 with value: 0.7919879316124707.\n",
      "[I 2023-07-21 19:43:36,971] Trial 236 finished with value: 0.7909822326516929 and parameters: {'svc_c': 76.71628646545491, 'svc_tol': 0.09494311489974155, 'svc_max_iter': 4975, 'svc_class_weight': None, 'svc_penalty': 'l2'}. Best is trial 163 with value: 0.7919879316124707.\n",
      "[I 2023-07-21 19:43:37,104] Trial 232 finished with value: 0.79081461615823 and parameters: {'svc_c': 58.79396453328026, 'svc_tol': 0.09467357303224055, 'svc_max_iter': 4344, 'svc_class_weight': None, 'svc_penalty': 'l2'}. Best is trial 163 with value: 0.7919879316124707.\n",
      "[I 2023-07-21 19:43:38,047] Trial 241 finished with value: 0.7904793831713041 and parameters: {'svc_c': 62.15656721962121, 'svc_tol': 0.09498196932011853, 'svc_max_iter': 4975, 'svc_class_weight': None, 'svc_penalty': 'l2'}. Best is trial 163 with value: 0.7919879316124707.\n",
      "[I 2023-07-21 19:43:38,055] Trial 242 finished with value: 0.7904793831713041 and parameters: {'svc_c': 89.457280525958, 'svc_tol': 0.09501865817915706, 'svc_max_iter': 4129, 'svc_class_weight': None, 'svc_penalty': 'l2'}. Best is trial 163 with value: 0.7919879316124707.\n",
      "[I 2023-07-21 19:43:38,543] Trial 193 finished with value: 0.7904793831713041 and parameters: {'svc_c': 83.33206395486219, 'svc_tol': 0.09437815238627888, 'svc_max_iter': 4081, 'svc_class_weight': None, 'svc_penalty': 'l2'}. Best is trial 163 with value: 0.7919879316124707.\n",
      "[I 2023-07-21 19:43:38,934] Trial 237 finished with value: 0.7901441501843781 and parameters: {'svc_c': 55.292991465742475, 'svc_tol': 0.09508119714158192, 'svc_max_iter': 4310, 'svc_class_weight': None, 'svc_penalty': 'l2'}. Best is trial 163 with value: 0.7919879316124707.\n",
      "[I 2023-07-21 19:43:38,984] Trial 229 finished with value: 0.79081461615823 and parameters: {'svc_c': 67.92148164090008, 'svc_tol': 0.09528409025787427, 'svc_max_iter': 4332, 'svc_class_weight': None, 'svc_penalty': 'l2'}. Best is trial 163 with value: 0.7919879316124707.\n",
      "[I 2023-07-21 19:43:39,292] Trial 222 finished with value: 0.7889708347301374 and parameters: {'svc_c': 67.69340245898675, 'svc_tol': 0.09624333291249099, 'svc_max_iter': 4369, 'svc_class_weight': None, 'svc_penalty': 'l2'}. Best is trial 163 with value: 0.7919879316124707.\n",
      "[I 2023-07-21 19:43:39,611] Trial 243 finished with value: 0.7901441501843781 and parameters: {'svc_c': 65.49752834226733, 'svc_tol': 0.09538423716758979, 'svc_max_iter': 4334, 'svc_class_weight': None, 'svc_penalty': 'l2'}. Best is trial 163 with value: 0.7919879316124707.\n",
      "[I 2023-07-21 19:43:40,007] Trial 247 finished with value: 0.7909822326516929 and parameters: {'svc_c': 46.03574607448904, 'svc_tol': 0.09518062302901681, 'svc_max_iter': 4291, 'svc_class_weight': None, 'svc_penalty': 'l2'}. Best is trial 163 with value: 0.7919879316124707.\n",
      "[I 2023-07-21 19:43:40,727] Trial 233 finished with value: 0.7903117666778411 and parameters: {'svc_c': 66.05394860288898, 'svc_tol': 0.0955387191672847, 'svc_max_iter': 4985, 'svc_class_weight': None, 'svc_penalty': 'l2'}. Best is trial 163 with value: 0.7919879316124707.\n",
      "[I 2023-07-21 19:43:41,000] Trial 246 finished with value: 0.7901441501843781 and parameters: {'svc_c': 51.344259968352205, 'svc_tol': 0.0944107864565086, 'svc_max_iter': 4343, 'svc_class_weight': None, 'svc_penalty': 'l2'}. Best is trial 163 with value: 0.7919879316124707.\n",
      "[I 2023-07-21 19:43:41,654] Trial 250 finished with value: 0.7894736842105263 and parameters: {'svc_c': 40.397167967060376, 'svc_tol': 0.09532415882703359, 'svc_max_iter': 4318, 'svc_class_weight': None, 'svc_penalty': 'l2'}. Best is trial 163 with value: 0.7919879316124707.\n",
      "[I 2023-07-21 19:43:42,048] Trial 249 finished with value: 0.7898089171974523 and parameters: {'svc_c': 47.72678373457319, 'svc_tol': 0.09592211432169054, 'svc_max_iter': 4371, 'svc_class_weight': None, 'svc_penalty': 'l2'}. Best is trial 163 with value: 0.7919879316124707.\n",
      "[I 2023-07-21 19:43:42,219] Trial 251 finished with value: 0.79081461615823 and parameters: {'svc_c': 51.95348871627138, 'svc_tol': 0.09569891771510187, 'svc_max_iter': 4315, 'svc_class_weight': None, 'svc_penalty': 'l2'}. Best is trial 163 with value: 0.7919879316124707.\n",
      "[I 2023-07-21 19:43:42,803] Trial 258 finished with value: 0.7913174656386188 and parameters: {'svc_c': 56.62312437746183, 'svc_tol': 0.09530560039969642, 'svc_max_iter': 4225, 'svc_class_weight': None, 'svc_penalty': 'l2'}. Best is trial 163 with value: 0.7919879316124707.\n",
      "[I 2023-07-21 19:43:42,902] Trial 252 finished with value: 0.790646999664767 and parameters: {'svc_c': 54.130662996622576, 'svc_tol': 0.09607291585770342, 'svc_max_iter': 4387, 'svc_class_weight': None, 'svc_penalty': 'l2'}. Best is trial 163 with value: 0.7919879316124707.\n",
      "[I 2023-07-21 19:43:43,511] Trial 267 finished with value: 0.7901441501843781 and parameters: {'svc_c': 41.22603401046077, 'svc_tol': 0.09565318736040962, 'svc_max_iter': 4307, 'svc_class_weight': None, 'svc_penalty': 'l2'}. Best is trial 163 with value: 0.7919879316124707.\n",
      "[I 2023-07-21 19:43:43,847] Trial 245 finished with value: 0.7898089171974523 and parameters: {'svc_c': 80.34527996986809, 'svc_tol': 0.09527588385056408, 'svc_max_iter': 4312, 'svc_class_weight': None, 'svc_penalty': 'l2'}. Best is trial 163 with value: 0.7919879316124707.\n",
      "[I 2023-07-21 19:43:44,172] Trial 255 finished with value: 0.7903117666778411 and parameters: {'svc_c': 60.55580348126101, 'svc_tol': 0.09575300989358555, 'svc_max_iter': 4299, 'svc_class_weight': None, 'svc_penalty': 'l2'}. Best is trial 163 with value: 0.7919879316124707.\n",
      "[I 2023-07-21 19:43:44,373] Trial 256 finished with value: 0.7909822326516929 and parameters: {'svc_c': 51.3526482674681, 'svc_tol': 0.09537930634744339, 'svc_max_iter': 4327, 'svc_class_weight': None, 'svc_penalty': 'l2'}. Best is trial 163 with value: 0.7919879316124707.\n",
      "[I 2023-07-21 19:43:44,431] Trial 248 finished with value: 0.7913174656386188 and parameters: {'svc_c': 53.51149641683331, 'svc_tol': 0.09461371070936071, 'svc_max_iter': 4321, 'svc_class_weight': None, 'svc_penalty': 'l2'}. Best is trial 163 with value: 0.7919879316124707.\n",
      "[I 2023-07-21 19:43:44,694] Trial 254 finished with value: 0.790646999664767 and parameters: {'svc_c': 82.3030649278912, 'svc_tol': 0.09600148809739976, 'svc_max_iter': 4294, 'svc_class_weight': None, 'svc_penalty': 'l2'}. Best is trial 163 with value: 0.7919879316124707.\n",
      "[I 2023-07-21 19:43:45,540] Trial 257 finished with value: 0.790646999664767 and parameters: {'svc_c': 60.42511389883536, 'svc_tol': 0.09591657968564943, 'svc_max_iter': 4211, 'svc_class_weight': None, 'svc_penalty': 'l2'}. Best is trial 163 with value: 0.7919879316124707.\n",
      "[I 2023-07-21 19:43:46,440] Trial 266 finished with value: 0.7899765336909151 and parameters: {'svc_c': 627.140898350083, 'svc_tol': 0.09476810636661254, 'svc_max_iter': 4240, 'svc_class_weight': None, 'svc_penalty': 'l2'}. Best is trial 163 with value: 0.7919879316124707.\n",
      "[I 2023-07-21 19:43:47,099] Trial 259 finished with value: 0.7903117666778411 and parameters: {'svc_c': 45.712147622649944, 'svc_tol': 0.09665927907507317, 'svc_max_iter': 4267, 'svc_class_weight': None, 'svc_penalty': 'l2'}. Best is trial 163 with value: 0.7919879316124707.\n",
      "[I 2023-07-21 19:43:47,883] Trial 253 finished with value: 0.79081461615823 and parameters: {'svc_c': 54.692543085947634, 'svc_tol': 0.09535335772217135, 'svc_max_iter': 4380, 'svc_class_weight': None, 'svc_penalty': 'l2'}. Best is trial 163 with value: 0.7919879316124707.\n",
      "[I 2023-07-21 19:43:47,884] Trial 261 finished with value: 0.7903117666778411 and parameters: {'svc_c': 48.36337339561651, 'svc_tol': 0.09526489801577981, 'svc_max_iter': 4283, 'svc_class_weight': None, 'svc_penalty': 'l2'}. Best is trial 163 with value: 0.7919879316124707.\n",
      "[I 2023-07-21 19:43:47,923] Trial 260 finished with value: 0.7909822326516929 and parameters: {'svc_c': 59.65732789598893, 'svc_tol': 0.09542716863229414, 'svc_max_iter': 4365, 'svc_class_weight': None, 'svc_penalty': 'l2'}. Best is trial 163 with value: 0.7919879316124707.\n",
      "[I 2023-07-21 19:43:48,823] Trial 263 finished with value: 0.7911498491451558 and parameters: {'svc_c': 47.97238031006141, 'svc_tol': 0.09515370459459643, 'svc_max_iter': 4305, 'svc_class_weight': None, 'svc_penalty': 'l2'}. Best is trial 163 with value: 0.7919879316124707.\n",
      "[I 2023-07-21 19:43:48,825] Trial 265 finished with value: 0.7904793831713041 and parameters: {'svc_c': 48.75188239458403, 'svc_tol': 0.0948957954334243, 'svc_max_iter': 4311, 'svc_class_weight': None, 'svc_penalty': 'l2'}. Best is trial 163 with value: 0.7919879316124707.\n",
      "[I 2023-07-21 19:43:49,005] Trial 262 finished with value: 0.7909822326516929 and parameters: {'svc_c': 51.423423559510724, 'svc_tol': 0.09536242836888495, 'svc_max_iter': 4291, 'svc_class_weight': None, 'svc_penalty': 'l2'}. Best is trial 163 with value: 0.7919879316124707.\n",
      "[I 2023-07-21 19:43:49,047] Trial 268 finished with value: 0.790646999664767 and parameters: {'svc_c': 46.32771450704915, 'svc_tol': 0.09537287043397367, 'svc_max_iter': 4326, 'svc_class_weight': None, 'svc_penalty': 'l2'}. Best is trial 163 with value: 0.7919879316124707.\n",
      "[I 2023-07-21 19:43:49,740] Trial 282 finished with value: 0.79081461615823 and parameters: {'svc_c': 49.34894837103879, 'svc_tol': 0.09527205441854183, 'svc_max_iter': 3841, 'svc_class_weight': None, 'svc_penalty': 'l2'}. Best is trial 163 with value: 0.7919879316124707.\n",
      "[I 2023-07-21 19:43:50,188] Trial 273 finished with value: 0.790646999664767 and parameters: {'svc_c': 51.47304021242967, 'svc_tol': 0.0951371918320758, 'svc_max_iter': 3674, 'svc_class_weight': None, 'svc_penalty': 'l2'}. Best is trial 163 with value: 0.7919879316124707.\n",
      "[I 2023-07-21 19:43:50,335] Trial 264 finished with value: 0.7911498491451558 and parameters: {'svc_c': 50.981070005862094, 'svc_tol': 0.095442228440173, 'svc_max_iter': 4324, 'svc_class_weight': None, 'svc_penalty': 'l2'}. Best is trial 163 with value: 0.7919879316124707.\n",
      "[I 2023-07-21 19:43:51,201] Trial 272 finished with value: 0.7899765336909151 and parameters: {'svc_c': 48.1603868729686, 'svc_tol': 0.09538628422961067, 'svc_max_iter': 3684, 'svc_class_weight': None, 'svc_penalty': 'l2'}. Best is trial 163 with value: 0.7919879316124707.\n",
      "[I 2023-07-21 19:43:51,256] Trial 271 finished with value: 0.7904793831713041 and parameters: {'svc_c': 49.216404698904554, 'svc_tol': 0.0955440036365529, 'svc_max_iter': 4350, 'svc_class_weight': None, 'svc_penalty': 'l2'}. Best is trial 163 with value: 0.7919879316124707.\n",
      "[I 2023-07-21 19:43:51,762] Trial 269 finished with value: 0.7903117666778411 and parameters: {'svc_c': 51.46476282400205, 'svc_tol': 0.09365707520876437, 'svc_max_iter': 4306, 'svc_class_weight': None, 'svc_penalty': 'l2'}. Best is trial 163 with value: 0.7919879316124707.\n",
      "[I 2023-07-21 19:43:52,585] Trial 274 finished with value: 0.7901441501843781 and parameters: {'svc_c': 63.30843340941719, 'svc_tol': 0.09533368004344671, 'svc_max_iter': 3696, 'svc_class_weight': None, 'svc_penalty': 'l2'}. Best is trial 163 with value: 0.7919879316124707.\n",
      "[I 2023-07-21 19:43:52,853] Trial 275 finished with value: 0.7903117666778411 and parameters: {'svc_c': 48.4826213730735, 'svc_tol': 0.09500000704353935, 'svc_max_iter': 3694, 'svc_class_weight': None, 'svc_penalty': 'l2'}. Best is trial 163 with value: 0.7919879316124707.\n",
      "[I 2023-07-21 19:43:53,245] Trial 285 finished with value: 0.7909822326516929 and parameters: {'svc_c': 46.37581855626997, 'svc_tol': 0.095859125147445, 'svc_max_iter': 3876, 'svc_class_weight': None, 'svc_penalty': 'l2'}. Best is trial 163 with value: 0.7919879316124707.\n",
      "[I 2023-07-21 19:43:53,976] Trial 277 finished with value: 0.790646999664767 and parameters: {'svc_c': 61.45667878519769, 'svc_tol': 0.095175237070548, 'svc_max_iter': 3869, 'svc_class_weight': None, 'svc_penalty': 'l2'}. Best is trial 163 with value: 0.7919879316124707.\n",
      "[I 2023-07-21 19:43:54,390] Trial 278 finished with value: 0.7913174656386188 and parameters: {'svc_c': 54.78426350232555, 'svc_tol': 0.09548780155180618, 'svc_max_iter': 3686, 'svc_class_weight': None, 'svc_penalty': 'l2'}. Best is trial 163 with value: 0.7919879316124707.\n",
      "[I 2023-07-21 19:43:54,532] Trial 281 finished with value: 0.7899765336909151 and parameters: {'svc_c': 70.45035883105064, 'svc_tol': 0.09537166941831997, 'svc_max_iter': 3859, 'svc_class_weight': None, 'svc_penalty': 'l2'}. Best is trial 163 with value: 0.7919879316124707.\n",
      "[I 2023-07-21 19:43:54,673] Trial 280 finished with value: 0.7911498491451558 and parameters: {'svc_c': 54.55193376654684, 'svc_tol': 0.09543895657745392, 'svc_max_iter': 3889, 'svc_class_weight': None, 'svc_penalty': 'l2'}. Best is trial 163 with value: 0.7919879316124707.\n",
      "[I 2023-07-21 19:43:54,828] Trial 279 finished with value: 0.7899765336909151 and parameters: {'svc_c': 57.859127963325165, 'svc_tol': 0.0953970109298373, 'svc_max_iter': 3683, 'svc_class_weight': None, 'svc_penalty': 'l2'}. Best is trial 163 with value: 0.7919879316124707.\n",
      "[I 2023-07-21 19:43:55,370] Trial 270 finished with value: 0.7904793831713041 and parameters: {'svc_c': 42.82812721463325, 'svc_tol': 0.09559652489962832, 'svc_max_iter': 4343, 'svc_class_weight': None, 'svc_penalty': 'l2'}. Best is trial 163 with value: 0.7919879316124707.\n",
      "[I 2023-07-21 19:43:55,447] Trial 283 finished with value: 0.790646999664767 and parameters: {'svc_c': 56.71035671715828, 'svc_tol': 0.09543105036389911, 'svc_max_iter': 3495, 'svc_class_weight': None, 'svc_penalty': 'l2'}. Best is trial 163 with value: 0.7919879316124707.\n",
      "[I 2023-07-21 19:43:55,476] Trial 276 finished with value: 0.79081461615823 and parameters: {'svc_c': 49.385633566920774, 'svc_tol': 0.09570986637721651, 'svc_max_iter': 3672, 'svc_class_weight': None, 'svc_penalty': 'l2'}. Best is trial 163 with value: 0.7919879316124707.\n",
      "[I 2023-07-21 19:43:56,596] Trial 286 finished with value: 0.7911498491451558 and parameters: {'svc_c': 49.96524276904461, 'svc_tol': 0.09558106702856362, 'svc_max_iter': 3511, 'svc_class_weight': None, 'svc_penalty': 'l2'}. Best is trial 163 with value: 0.7919879316124707.\n",
      "[I 2023-07-21 19:43:56,726] Trial 284 finished with value: 0.7901441501843781 and parameters: {'svc_c': 48.99491004927414, 'svc_tol': 0.09551053620379464, 'svc_max_iter': 3877, 'svc_class_weight': None, 'svc_penalty': 'l2'}. Best is trial 163 with value: 0.7919879316124707.\n",
      "[I 2023-07-21 19:43:57,533] Trial 291 finished with value: 0.7918203151190077 and parameters: {'svc_c': 46.671906042594316, 'svc_tol': 0.09580857820208928, 'svc_max_iter': 3866, 'svc_class_weight': None, 'svc_penalty': 'l2'}. Best is trial 163 with value: 0.7919879316124707.\n",
      "[I 2023-07-21 19:43:57,562] Trial 289 finished with value: 0.79081461615823 and parameters: {'svc_c': 47.843429599786006, 'svc_tol': 0.09585205568947348, 'svc_max_iter': 3854, 'svc_class_weight': None, 'svc_penalty': 'l2'}. Best is trial 163 with value: 0.7919879316124707.\n",
      "[I 2023-07-21 19:43:57,629] Trial 288 finished with value: 0.7913174656386188 and parameters: {'svc_c': 51.63508609871652, 'svc_tol': 0.09537719105610999, 'svc_max_iter': 3496, 'svc_class_weight': None, 'svc_penalty': 'l2'}. Best is trial 163 with value: 0.7919879316124707.\n",
      "[I 2023-07-21 19:43:58,521] Trial 292 finished with value: 0.79081461615823 and parameters: {'svc_c': 44.212920167365475, 'svc_tol': 0.09593579015984262, 'svc_max_iter': 3863, 'svc_class_weight': None, 'svc_penalty': 'l2'}. Best is trial 163 with value: 0.7919879316124707.\n",
      "[I 2023-07-21 19:43:59,313] Trial 290 finished with value: 0.7904793831713041 and parameters: {'svc_c': 44.0276939616105, 'svc_tol': 0.09587550349191061, 'svc_max_iter': 3866, 'svc_class_weight': None, 'svc_penalty': 'l2'}. Best is trial 163 with value: 0.7919879316124707.\n",
      "[I 2023-07-21 19:43:59,392] Trial 294 finished with value: 0.7904793831713041 and parameters: {'svc_c': 36.19443610652348, 'svc_tol': 0.09646287961225769, 'svc_max_iter': 4213, 'svc_class_weight': None, 'svc_penalty': 'l2'}. Best is trial 163 with value: 0.7919879316124707.\n",
      "[I 2023-07-21 19:43:59,506] Trial 293 finished with value: 0.7898089171974523 and parameters: {'svc_c': 39.26370688651664, 'svc_tol': 0.09547877733252194, 'svc_max_iter': 3478, 'svc_class_weight': None, 'svc_penalty': 'l2'}. Best is trial 163 with value: 0.7919879316124707.\n",
      "[I 2023-07-21 19:43:59,590] Trial 296 finished with value: 0.7894736842105263 and parameters: {'svc_c': 36.557730539488134, 'svc_tol': 0.09553796531983368, 'svc_max_iter': 3542, 'svc_class_weight': None, 'svc_penalty': 'l2'}. Best is trial 163 with value: 0.7919879316124707.\n",
      "[I 2023-07-21 19:43:59,974] Trial 298 finished with value: 0.7899765336909151 and parameters: {'svc_c': 36.20982725217921, 'svc_tol': 0.09633882386981106, 'svc_max_iter': 3517, 'svc_class_weight': None, 'svc_penalty': 'l2'}. Best is trial 163 with value: 0.7919879316124707.\n",
      "[I 2023-07-21 19:44:00,262] Trial 287 finished with value: 0.7893060677170634 and parameters: {'svc_c': 42.85472166871311, 'svc_tol': 0.09565996182147295, 'svc_max_iter': 3855, 'svc_class_weight': None, 'svc_penalty': 'l2'}. Best is trial 163 with value: 0.7919879316124707.\n",
      "[I 2023-07-21 19:44:00,475] Trial 297 finished with value: 0.7904793831713041 and parameters: {'svc_c': 41.982970250256564, 'svc_tol': 0.09663318453865605, 'svc_max_iter': 3870, 'svc_class_weight': None, 'svc_penalty': 'l2'}. Best is trial 163 with value: 0.7919879316124707.\n",
      "[I 2023-07-21 19:44:00,528] Trial 295 finished with value: 0.790646999664767 and parameters: {'svc_c': 42.85986465938145, 'svc_tol': 0.09602195803237083, 'svc_max_iter': 3585, 'svc_class_weight': None, 'svc_penalty': 'l2'}. Best is trial 163 with value: 0.7919879316124707.\n",
      "[I 2023-07-21 19:44:01,289] Trial 301 finished with value: 0.7898089171974523 and parameters: {'svc_c': 37.80391673221878, 'svc_tol': 0.09684655926884077, 'svc_max_iter': 3597, 'svc_class_weight': None, 'svc_penalty': 'l2'}. Best is trial 163 with value: 0.7919879316124707.\n",
      "[I 2023-07-21 19:44:02,151] Trial 303 finished with value: 0.7901441501843781 and parameters: {'svc_c': 36.41363793642231, 'svc_tol': 0.09135274609458277, 'svc_max_iter': 3538, 'svc_class_weight': None, 'svc_penalty': 'l2'}. Best is trial 163 with value: 0.7919879316124707.\n",
      "[I 2023-07-21 19:44:02,214] Trial 310 finished with value: 0.7899765336909151 and parameters: {'svc_c': 35.239298006648156, 'svc_tol': 0.0914845384586685, 'svc_max_iter': 4201, 'svc_class_weight': None, 'svc_penalty': 'l2'}. Best is trial 163 with value: 0.7919879316124707.\n",
      "[I 2023-07-21 19:44:02,747] Trial 309 finished with value: 0.7903117666778411 and parameters: {'svc_c': 34.02186128490219, 'svc_tol': 0.09674332988135363, 'svc_max_iter': 3543, 'svc_class_weight': None, 'svc_penalty': 'l2'}. Best is trial 163 with value: 0.7919879316124707.\n",
      "[I 2023-07-21 19:44:02,861] Trial 300 finished with value: 0.7963459604425075 and parameters: {'svc_c': 1.8258544296765251, 'svc_tol': 0.09688445022035058, 'svc_max_iter': 3526, 'svc_class_weight': None, 'svc_penalty': 'l2'}. Best is trial 300 with value: 0.7963459604425075.\n",
      "[I 2023-07-21 19:44:03,605] Trial 299 finished with value: 0.7901441501843781 and parameters: {'svc_c': 40.81644248990757, 'svc_tol': 0.09023718252792655, 'svc_max_iter': 3510, 'svc_class_weight': None, 'svc_penalty': 'l2'}. Best is trial 300 with value: 0.7963459604425075.\n",
      "[I 2023-07-21 19:44:03,619] Trial 305 finished with value: 0.7909822326516929 and parameters: {'svc_c': 35.867004971447265, 'svc_tol': 0.09099570184437504, 'svc_max_iter': 4200, 'svc_class_weight': None, 'svc_penalty': 'l2'}. Best is trial 300 with value: 0.7963459604425075.\n",
      "[I 2023-07-21 19:44:03,623] Trial 302 finished with value: 0.7898089171974523 and parameters: {'svc_c': 39.80863547193552, 'svc_tol': 0.09196945943313127, 'svc_max_iter': 3526, 'svc_class_weight': None, 'svc_penalty': 'l2'}. Best is trial 300 with value: 0.7963459604425075.\n",
      "[I 2023-07-21 19:44:04,971] Trial 322 finished with value: 0.7899765336909151 and parameters: {'svc_c': 36.06069226099145, 'svc_tol': 0.09120810942160028, 'svc_max_iter': 4170, 'svc_class_weight': None, 'svc_penalty': 'l2'}. Best is trial 300 with value: 0.7963459604425075.\n",
      "[I 2023-07-21 19:44:05,211] Trial 306 finished with value: 0.7903117666778411 and parameters: {'svc_c': 37.33446605209453, 'svc_tol': 0.09137896531219342, 'svc_max_iter': 3634, 'svc_class_weight': None, 'svc_penalty': 'l2'}. Best is trial 300 with value: 0.7963459604425075.\n",
      "[I 2023-07-21 19:44:05,936] Trial 311 finished with value: 0.7904793831713041 and parameters: {'svc_c': 32.35252176837584, 'svc_tol': 0.09137993827052418, 'svc_max_iter': 3875, 'svc_class_weight': None, 'svc_penalty': 'l2'}. Best is trial 300 with value: 0.7963459604425075.\n",
      "[I 2023-07-21 19:44:06,237] Trial 320 finished with value: 0.7909822326516929 and parameters: {'svc_c': 34.23966665839336, 'svc_tol': 0.0913229746253793, 'svc_max_iter': 4185, 'svc_class_weight': None, 'svc_penalty': 'l2'}. Best is trial 300 with value: 0.7963459604425075.\n",
      "[I 2023-07-21 19:44:06,245] Trial 313 finished with value: 0.7911498491451558 and parameters: {'svc_c': 41.42762983579623, 'svc_tol': 0.09128848681425357, 'svc_max_iter': 3888, 'svc_class_weight': None, 'svc_penalty': 'l2'}. Best is trial 300 with value: 0.7963459604425075.\n",
      "[I 2023-07-21 19:44:06,376] Trial 314 finished with value: 0.790646999664767 and parameters: {'svc_c': 37.791286717753266, 'svc_tol': 0.09153040732736308, 'svc_max_iter': 3594, 'svc_class_weight': None, 'svc_penalty': 'l2'}. Best is trial 300 with value: 0.7963459604425075.\n",
      "[I 2023-07-21 19:44:06,556] Trial 316 finished with value: 0.7903117666778411 and parameters: {'svc_c': 31.338815487102785, 'svc_tol': 0.0906608105659501, 'svc_max_iter': 3874, 'svc_class_weight': None, 'svc_penalty': 'l2'}. Best is trial 300 with value: 0.7963459604425075.\n",
      "[I 2023-07-21 19:44:07,054] Trial 318 finished with value: 0.79081461615823 and parameters: {'svc_c': 36.28602956862366, 'svc_tol': 0.0918239960292414, 'svc_max_iter': 4191, 'svc_class_weight': None, 'svc_penalty': 'l2'}. Best is trial 300 with value: 0.7963459604425075.\n",
      "[I 2023-07-21 19:44:07,099] Trial 333 finished with value: 0.7899765336909151 and parameters: {'svc_c': 30.985183565941384, 'svc_tol': 0.0909655828656115, 'svc_max_iter': 4180, 'svc_class_weight': None, 'svc_penalty': 'l2'}. Best is trial 300 with value: 0.7963459604425075.\n",
      "[I 2023-07-21 19:44:07,582] Trial 304 finished with value: 0.7901441501843781 and parameters: {'svc_c': 41.45488961469351, 'svc_tol': 0.09107073318332663, 'svc_max_iter': 3716, 'svc_class_weight': None, 'svc_penalty': 'l2'}. Best is trial 300 with value: 0.7963459604425075.\n",
      "[I 2023-07-21 19:44:07,647] Trial 321 finished with value: 0.7955078779751927 and parameters: {'svc_c': 2.214038825305721, 'svc_tol': 0.0910217816881159, 'svc_max_iter': 3510, 'svc_class_weight': None, 'svc_penalty': 'l2'}. Best is trial 300 with value: 0.7963459604425075.\n",
      "[I 2023-07-21 19:44:07,816] Trial 315 finished with value: 0.7904793831713041 and parameters: {'svc_c': 36.89794325870646, 'svc_tol': 0.0913866630795248, 'svc_max_iter': 3576, 'svc_class_weight': None, 'svc_penalty': 'l2'}. Best is trial 300 with value: 0.7963459604425075.\n",
      "[I 2023-07-21 19:44:08,329] Trial 323 finished with value: 0.7896413007039893 and parameters: {'svc_c': 37.68865481909734, 'svc_tol': 0.09118132643356976, 'svc_max_iter': 3874, 'svc_class_weight': None, 'svc_penalty': 'l2'}. Best is trial 300 with value: 0.7963459604425075.\n",
      "[I 2023-07-21 19:44:08,932] Trial 307 finished with value: 0.7909822326516929 and parameters: {'svc_c': 38.0957533211745, 'svc_tol': 0.09125688261210557, 'svc_max_iter': 3629, 'svc_class_weight': None, 'svc_penalty': 'l2'}. Best is trial 300 with value: 0.7963459604425075.\n",
      "[I 2023-07-21 19:44:08,935] Trial 339 finished with value: 0.7958431109621187 and parameters: {'svc_c': 0.6012794386233082, 'svc_tol': 0.09080718797469009, 'svc_max_iter': 3878, 'svc_class_weight': None, 'svc_penalty': 'l2'}. Best is trial 300 with value: 0.7963459604425075.\n",
      "[I 2023-07-21 19:44:08,996] Trial 319 finished with value: 0.7904793831713041 and parameters: {'svc_c': 36.27654597618521, 'svc_tol': 0.0903823206037642, 'svc_max_iter': 4195, 'svc_class_weight': None, 'svc_penalty': 'l2'}. Best is trial 300 with value: 0.7963459604425075.\n",
      "[I 2023-07-21 19:44:10,318] Trial 308 finished with value: 0.7896413007039893 and parameters: {'svc_c': 31.15985189706072, 'svc_tol': 0.09089211170243255, 'svc_max_iter': 3526, 'svc_class_weight': None, 'svc_penalty': 'l2'}. Best is trial 300 with value: 0.7963459604425075.\n",
      "[I 2023-07-21 19:44:10,667] Trial 349 finished with value: 0.790646999664767 and parameters: {'svc_c': 27.048986307352415, 'svc_tol': 0.09104178453350853, 'svc_max_iter': 4805, 'svc_class_weight': None, 'svc_penalty': 'l2'}. Best is trial 300 with value: 0.7963459604425075.\n",
      "[I 2023-07-21 19:44:10,805] Trial 325 finished with value: 0.7961783439490446 and parameters: {'svc_c': 1.3838465051018574, 'svc_tol': 0.08964395748504417, 'svc_max_iter': 3877, 'svc_class_weight': None, 'svc_penalty': 'l2'}. Best is trial 300 with value: 0.7963459604425075.\n",
      "[I 2023-07-21 19:44:11,058] Trial 328 finished with value: 0.794837412001341 and parameters: {'svc_c': 3.8962470519827583, 'svc_tol': 0.09168083796122752, 'svc_max_iter': 3878, 'svc_class_weight': None, 'svc_penalty': 'l2'}. Best is trial 300 with value: 0.7963459604425075.\n",
      "[I 2023-07-21 19:44:11,250] Trial 330 finished with value: 0.7963459604425075 and parameters: {'svc_c': 1.372682323672656, 'svc_tol': 0.09198808615408988, 'svc_max_iter': 4805, 'svc_class_weight': None, 'svc_penalty': 'l2'}. Best is trial 300 with value: 0.7963459604425075.\n",
      "[I 2023-07-21 19:44:11,583] Trial 312 finished with value: 0.7914850821320818 and parameters: {'svc_c': 30.627767508248517, 'svc_tol': 0.09019242312493897, 'svc_max_iter': 3562, 'svc_class_weight': None, 'svc_penalty': 'l2'}. Best is trial 300 with value: 0.7963459604425075.\n",
      "[I 2023-07-21 19:44:11,774] Trial 329 finished with value: 0.7913174656386188 and parameters: {'svc_c': 25.385113840434197, 'svc_tol': 0.09101380549727234, 'svc_max_iter': 3864, 'svc_class_weight': None, 'svc_penalty': 'l2'}. Best is trial 300 with value: 0.7963459604425075.\n",
      "[I 2023-07-21 19:44:11,786] Trial 335 finished with value: 0.79081461615823 and parameters: {'svc_c': 27.92887667173904, 'svc_tol': 0.09116697607950537, 'svc_max_iter': 3885, 'svc_class_weight': None, 'svc_penalty': 'l2'}. Best is trial 300 with value: 0.7963459604425075.\n",
      "[I 2023-07-21 19:44:12,461] Trial 353 finished with value: 0.7903117666778411 and parameters: {'svc_c': 21.98302079267203, 'svc_tol': 0.09114623834592768, 'svc_max_iter': 4799, 'svc_class_weight': None, 'svc_penalty': 'l2'}. Best is trial 300 with value: 0.7963459604425075.\n",
      "[I 2023-07-21 19:44:12,538] Trial 334 finished with value: 0.7914850821320818 and parameters: {'svc_c': 12.150029896749174, 'svc_tol': 0.09027778363093356, 'svc_max_iter': 4815, 'svc_class_weight': None, 'svc_penalty': 'l2'}. Best is trial 300 with value: 0.7963459604425075.\n",
      "[I 2023-07-21 19:44:12,564] Trial 332 finished with value: 0.7913174656386188 and parameters: {'svc_c': 28.45545469865185, 'svc_tol': 0.09106996553046319, 'svc_max_iter': 4178, 'svc_class_weight': None, 'svc_penalty': 'l2'}. Best is trial 300 with value: 0.7963459604425075.\n",
      "[I 2023-07-21 19:44:12,601] Trial 326 finished with value: 0.7898089171974523 and parameters: {'svc_c': 34.87000544141402, 'svc_tol': 0.09099118317451814, 'svc_max_iter': 4794, 'svc_class_weight': None, 'svc_penalty': 'l2'}. Best is trial 300 with value: 0.7963459604425075.\n",
      "[I 2023-07-21 19:44:12,783] Trial 336 finished with value: 0.7909822326516929 and parameters: {'svc_c': 28.98599134606834, 'svc_tol': 0.09172958245206776, 'svc_max_iter': 4805, 'svc_class_weight': None, 'svc_penalty': 'l2'}. Best is trial 300 with value: 0.7963459604425075.\n",
      "[I 2023-07-21 19:44:13,467] Trial 338 finished with value: 0.79081461615823 and parameters: {'svc_c': 25.129898856595332, 'svc_tol': 0.09146222240488808, 'svc_max_iter': 3868, 'svc_class_weight': None, 'svc_penalty': 'l2'}. Best is trial 300 with value: 0.7963459604425075.\n",
      "[I 2023-07-21 19:44:13,473] Trial 331 finished with value: 0.7916526986255448 and parameters: {'svc_c': 28.26495947769373, 'svc_tol': 0.09175564366835791, 'svc_max_iter': 4169, 'svc_class_weight': None, 'svc_penalty': 'l2'}. Best is trial 300 with value: 0.7963459604425075.\n",
      "[I 2023-07-21 19:44:13,488] Trial 327 finished with value: 0.7960107274555817 and parameters: {'svc_c': 1.8645757869024493, 'svc_tol': 0.0919293098975715, 'svc_max_iter': 3861, 'svc_class_weight': None, 'svc_penalty': 'l2'}. Best is trial 300 with value: 0.7963459604425075.\n",
      "[I 2023-07-21 19:44:14,477] Trial 340 finished with value: 0.7896413007039893 and parameters: {'svc_c': 29.935756458659238, 'svc_tol': 0.09060101132804614, 'svc_max_iter': 3724, 'svc_class_weight': None, 'svc_penalty': 'l2'}. Best is trial 300 with value: 0.7963459604425075.\n",
      "[I 2023-07-21 19:44:14,588] Trial 343 finished with value: 0.7898089171974523 and parameters: {'svc_c': 30.242481512493914, 'svc_tol': 0.09167415377994394, 'svc_max_iter': 3877, 'svc_class_weight': None, 'svc_penalty': 'l2'}. Best is trial 300 with value: 0.7963459604425075.\n",
      "[I 2023-07-21 19:44:14,629] Trial 317 finished with value: 0.7904793831713041 and parameters: {'svc_c': 34.8499129423592, 'svc_tol': 0.09187008536581058, 'svc_max_iter': 4191, 'svc_class_weight': None, 'svc_penalty': 'l2'}. Best is trial 300 with value: 0.7963459604425075.\n",
      "[I 2023-07-21 19:44:14,684] Trial 350 finished with value: 0.7901441501843781 and parameters: {'svc_c': 32.364499791350084, 'svc_tol': 0.09116494856165203, 'svc_max_iter': 4813, 'svc_class_weight': None, 'svc_penalty': 'l2'}. Best is trial 300 with value: 0.7963459604425075.\n",
      "[I 2023-07-21 19:44:15,546] Trial 342 finished with value: 0.7960107274555817 and parameters: {'svc_c': 2.654418404177946, 'svc_tol': 0.09092252125188272, 'svc_max_iter': 3887, 'svc_class_weight': None, 'svc_penalty': 'l2'}. Best is trial 300 with value: 0.7963459604425075.\n",
      "[I 2023-07-21 19:44:15,572] Trial 324 finished with value: 0.7903117666778411 and parameters: {'svc_c': 33.61876645575459, 'svc_tol': 0.09124190019869866, 'svc_max_iter': 4170, 'svc_class_weight': None, 'svc_penalty': 'l2'}. Best is trial 300 with value: 0.7963459604425075.\n",
      "[I 2023-07-21 19:44:15,683] Trial 347 finished with value: 0.7956754944686557 and parameters: {'svc_c': 0.571983404157514, 'svc_tol': 0.09163843189904732, 'svc_max_iter': 3874, 'svc_class_weight': None, 'svc_penalty': 'l2'}. Best is trial 300 with value: 0.7963459604425075.\n",
      "[I 2023-07-21 19:44:16,385] Trial 348 finished with value: 0.790646999664767 and parameters: {'svc_c': 28.348631033611603, 'svc_tol': 0.09117750099307438, 'svc_max_iter': 4792, 'svc_class_weight': None, 'svc_penalty': 'l2'}. Best is trial 300 with value: 0.7963459604425075.\n",
      "[I 2023-07-21 19:44:16,410] Trial 344 finished with value: 0.7953402614817298 and parameters: {'svc_c': 0.35228458652294137, 'svc_tol': 0.09149473359886154, 'svc_max_iter': 4184, 'svc_class_weight': None, 'svc_penalty': 'l2'}. Best is trial 300 with value: 0.7963459604425075.\n",
      "[I 2023-07-21 19:44:17,392] Trial 346 finished with value: 0.7909822326516929 and parameters: {'svc_c': 25.70843782590735, 'svc_tol': 0.09126459156939602, 'svc_max_iter': 4813, 'svc_class_weight': None, 'svc_penalty': 'l2'}. Best is trial 300 with value: 0.7963459604425075.\n",
      "[I 2023-07-21 19:44:17,407] Trial 345 finished with value: 0.7901441501843781 and parameters: {'svc_c': 26.636393953752652, 'svc_tol': 0.09100799695044239, 'svc_max_iter': 4800, 'svc_class_weight': None, 'svc_penalty': 'l2'}. Best is trial 300 with value: 0.7963459604425075.\n",
      "[I 2023-07-21 19:44:17,514] Trial 341 finished with value: 0.7966811934294334 and parameters: {'svc_c': 1.46451644512004, 'svc_tol': 0.0913943464110005, 'svc_max_iter': 3878, 'svc_class_weight': None, 'svc_penalty': 'l2'}. Best is trial 341 with value: 0.7966811934294334.\n",
      "[I 2023-07-21 19:44:17,956] Trial 352 finished with value: 0.7894736842105263 and parameters: {'svc_c': 31.779973503205724, 'svc_tol': 0.09165099689993637, 'svc_max_iter': 4811, 'svc_class_weight': None, 'svc_penalty': 'l2'}. Best is trial 341 with value: 0.7966811934294334.\n",
      "[I 2023-07-21 19:44:18,193] Trial 337 finished with value: 0.7896413007039893 and parameters: {'svc_c': 31.14495360568017, 'svc_tol': 0.0916169708331863, 'svc_max_iter': 3853, 'svc_class_weight': None, 'svc_penalty': 'l2'}. Best is trial 341 with value: 0.7966811934294334.\n",
      "[I 2023-07-21 19:44:18,520] Trial 358 finished with value: 0.7903117666778411 and parameters: {'svc_c': 25.079889004299552, 'svc_tol': 0.09069949897552584, 'svc_max_iter': 4815, 'svc_class_weight': None, 'svc_penalty': 'l2'}. Best is trial 341 with value: 0.7966811934294334.\n",
      "[I 2023-07-21 19:44:18,599] Trial 354 finished with value: 0.7966811934294334 and parameters: {'svc_c': 2.4295833936581843, 'svc_tol': 0.09160465120378003, 'svc_max_iter': 4780, 'svc_class_weight': None, 'svc_penalty': 'l2'}. Best is trial 341 with value: 0.7966811934294334.\n",
      "[I 2023-07-21 19:44:18,704] Trial 351 finished with value: 0.7909822326516929 and parameters: {'svc_c': 29.174866839017156, 'svc_tol': 0.09053236240649908, 'svc_max_iter': 4817, 'svc_class_weight': None, 'svc_penalty': 'l2'}. Best is trial 341 with value: 0.7966811934294334.\n",
      "[I 2023-07-21 19:44:19,497] Trial 356 finished with value: 0.7958431109621187 and parameters: {'svc_c': 0.8523842654613389, 'svc_tol': 0.0915081764927641, 'svc_max_iter': 4786, 'svc_class_weight': None, 'svc_penalty': 'l2'}. Best is trial 341 with value: 0.7966811934294334.\n",
      "[I 2023-07-21 19:44:19,543] Trial 355 finished with value: 0.79081461615823 and parameters: {'svc_c': 30.36234069575146, 'svc_tol': 0.09075348205828368, 'svc_max_iter': 4836, 'svc_class_weight': None, 'svc_penalty': 'l2'}. Best is trial 341 with value: 0.7966811934294334.\n",
      "[I 2023-07-21 19:44:19,695] Trial 370 finished with value: 0.79081461615823 and parameters: {'svc_c': 24.077899218536594, 'svc_tol': 0.0913407910796951, 'svc_max_iter': 4790, 'svc_class_weight': None, 'svc_penalty': 'l2'}. Best is trial 341 with value: 0.7966811934294334.\n",
      "[I 2023-07-21 19:44:20,302] Trial 359 finished with value: 0.7909822326516929 and parameters: {'svc_c': 24.462612395105683, 'svc_tol': 0.09090703446619519, 'svc_max_iter': 3875, 'svc_class_weight': None, 'svc_penalty': 'l2'}. Best is trial 341 with value: 0.7966811934294334.\n",
      "[I 2023-07-21 19:44:20,461] Trial 363 finished with value: 0.7899765336909151 and parameters: {'svc_c': 32.28180467433353, 'svc_tol': 0.09056465794243097, 'svc_max_iter': 4780, 'svc_class_weight': None, 'svc_penalty': 'l2'}. Best is trial 341 with value: 0.7966811934294334.\n",
      "[I 2023-07-21 19:44:20,471] Trial 361 finished with value: 0.7921555481059336 and parameters: {'svc_c': 29.38591953507495, 'svc_tol': 0.09189666347760937, 'svc_max_iter': 4816, 'svc_class_weight': None, 'svc_penalty': 'l2'}. Best is trial 341 with value: 0.7966811934294334.\n",
      "[I 2023-07-21 19:44:20,504] Trial 366 finished with value: 0.7904793831713041 and parameters: {'svc_c': 26.882125281949538, 'svc_tol': 0.09140385936028018, 'svc_max_iter': 4827, 'svc_class_weight': None, 'svc_penalty': 'l2'}. Best is trial 341 with value: 0.7966811934294334.\n",
      "[I 2023-07-21 19:44:20,512] Trial 362 finished with value: 0.79081461615823 and parameters: {'svc_c': 29.5592443078366, 'svc_tol': 0.09125109763826227, 'svc_max_iter': 4842, 'svc_class_weight': None, 'svc_penalty': 'l2'}. Best is trial 341 with value: 0.7966811934294334.\n",
      "[I 2023-07-21 19:44:21,327] Trial 357 finished with value: 0.7911498491451558 and parameters: {'svc_c': 26.939666686243047, 'svc_tol': 0.09152624744899567, 'svc_max_iter': 4817, 'svc_class_weight': None, 'svc_penalty': 'l2'}. Best is trial 341 with value: 0.7966811934294334.\n",
      "[I 2023-07-21 19:44:21,353] Trial 360 finished with value: 0.7911498491451558 and parameters: {'svc_c': 29.34325772575899, 'svc_tol': 0.09148786842393124, 'svc_max_iter': 4796, 'svc_class_weight': None, 'svc_penalty': 'l2'}. Best is trial 341 with value: 0.7966811934294334.\n",
      "[I 2023-07-21 19:44:21,754] Trial 364 finished with value: 0.7904793831713041 and parameters: {'svc_c': 29.2658570179546, 'svc_tol': 0.09124431273988431, 'svc_max_iter': 3872, 'svc_class_weight': None, 'svc_penalty': 'l2'}. Best is trial 341 with value: 0.7966811934294334.\n",
      "[I 2023-07-21 19:44:21,829] Trial 365 finished with value: 0.7904793831713041 and parameters: {'svc_c': 25.484285638888135, 'svc_tol': 0.09135538893346874, 'svc_max_iter': 4842, 'svc_class_weight': None, 'svc_penalty': 'l2'}. Best is trial 341 with value: 0.7966811934294334.\n",
      "[I 2023-07-21 19:44:22,228] Trial 367 finished with value: 0.790646999664767 and parameters: {'svc_c': 27.353968210024775, 'svc_tol': 0.09167078444915681, 'svc_max_iter': 4808, 'svc_class_weight': None, 'svc_penalty': 'l2'}. Best is trial 341 with value: 0.7966811934294334.\n",
      "[I 2023-07-21 19:44:22,762] Trial 368 finished with value: 0.7938317130405632 and parameters: {'svc_c': 3.1665675794171193, 'svc_tol': 0.09174654719334684, 'svc_max_iter': 4832, 'svc_class_weight': None, 'svc_penalty': 'l2'}. Best is trial 341 with value: 0.7966811934294334.\n",
      "[I 2023-07-21 19:44:23,814] Trial 377 finished with value: 0.7904793831713041 and parameters: {'svc_c': 21.551233759167758, 'svc_tol': 0.09058140484533746, 'svc_max_iter': 4783, 'svc_class_weight': None, 'svc_penalty': 'l2'}. Best is trial 341 with value: 0.7966811934294334.\n",
      "[I 2023-07-21 19:44:24,756] Trial 369 finished with value: 0.7904793831713041 and parameters: {'svc_c': 24.60961049202743, 'svc_tol': 0.09132218185439496, 'svc_max_iter': 4821, 'svc_class_weight': None, 'svc_penalty': 'l2'}. Best is trial 341 with value: 0.7966811934294334.\n",
      "[I 2023-07-21 19:44:25,077] Trial 373 finished with value: 0.790646999664767 and parameters: {'svc_c': 22.155910919600387, 'svc_tol': 0.09117908291167821, 'svc_max_iter': 4829, 'svc_class_weight': None, 'svc_penalty': 'l2'}. Best is trial 341 with value: 0.7966811934294334.\n",
      "[I 2023-07-21 19:44:25,161] Trial 371 finished with value: 0.7961783439490446 and parameters: {'svc_c': 1.2707017218945609, 'svc_tol': 0.09127244964474375, 'svc_max_iter': 4788, 'svc_class_weight': None, 'svc_penalty': 'l2'}. Best is trial 341 with value: 0.7966811934294334.\n",
      "[I 2023-07-21 19:44:25,271] Trial 374 finished with value: 0.7913174656386188 and parameters: {'svc_c': 22.499531071032777, 'svc_tol': 0.09100150545922724, 'svc_max_iter': 4803, 'svc_class_weight': None, 'svc_penalty': 'l2'}. Best is trial 341 with value: 0.7966811934294334.\n",
      "[I 2023-07-21 19:44:25,887] Trial 376 finished with value: 0.7923231645993966 and parameters: {'svc_c': 6.916501759124248, 'svc_tol': 0.0912881059421358, 'svc_max_iter': 4807, 'svc_class_weight': None, 'svc_penalty': 'l2'}. Best is trial 341 with value: 0.7966811934294334.\n",
      "[I 2023-07-21 19:44:25,971] Trial 379 finished with value: 0.7961783439490446 and parameters: {'svc_c': 1.5298204981000332, 'svc_tol': 0.09123567742681894, 'svc_max_iter': 4810, 'svc_class_weight': None, 'svc_penalty': 'l2'}. Best is trial 341 with value: 0.7966811934294334.\n",
      "[I 2023-07-21 19:44:26,762] Trial 375 finished with value: 0.7924907810928595 and parameters: {'svc_c': 3.6983244930539456, 'svc_tol': 0.09061369805755463, 'svc_max_iter': 4194, 'svc_class_weight': None, 'svc_penalty': 'l2'}. Best is trial 341 with value: 0.7966811934294334.\n",
      "[I 2023-07-21 19:44:26,788] Trial 372 finished with value: 0.794669795507878 and parameters: {'svc_c': 4.102137409583634, 'svc_tol': 0.09108084933845655, 'svc_max_iter': 4813, 'svc_class_weight': None, 'svc_penalty': 'l2'}. Best is trial 341 with value: 0.7966811934294334.\n",
      "[I 2023-07-21 19:44:27,578] Trial 378 finished with value: 0.7929936305732485 and parameters: {'svc_c': 5.70665259328905, 'svc_tol': 0.09132764856058975, 'svc_max_iter': 4779, 'svc_class_weight': None, 'svc_penalty': 'l2'}. Best is trial 341 with value: 0.7966811934294334.\n",
      "[I 2023-07-21 19:44:27,582] Trial 381 finished with value: 0.7899765336909151 and parameters: {'svc_c': 24.86566005027877, 'svc_tol': 0.09143074913415292, 'svc_max_iter': 4796, 'svc_class_weight': None, 'svc_penalty': 'l2'}. Best is trial 341 with value: 0.7966811934294334.\n",
      "[I 2023-07-21 19:44:27,658] Trial 382 finished with value: 0.7955078779751927 and parameters: {'svc_c': 1.1180749498823417, 'svc_tol': 0.09148032149728341, 'svc_max_iter': 4805, 'svc_class_weight': None, 'svc_penalty': 'l2'}. Best is trial 341 with value: 0.7966811934294334.\n",
      "[I 2023-07-21 19:44:27,713] Trial 387 finished with value: 0.7924907810928595 and parameters: {'svc_c': 5.6383250215487095, 'svc_tol': 0.09071084987641746, 'svc_max_iter': 4557, 'svc_class_weight': None, 'svc_penalty': 'l2'}. Best is trial 341 with value: 0.7966811934294334.\n",
      "[I 2023-07-21 19:44:28,522] Trial 383 finished with value: 0.79081461615823 and parameters: {'svc_c': 21.2779145316739, 'svc_tol': 0.09164909388145621, 'svc_max_iter': 4834, 'svc_class_weight': None, 'svc_penalty': 'l2'}. Best is trial 341 with value: 0.7966811934294334.\n",
      "[I 2023-07-21 19:44:28,753] Trial 380 finished with value: 0.7923231645993966 and parameters: {'svc_c': 6.963503815377976, 'svc_tol': 0.09127900252817654, 'svc_max_iter': 4549, 'svc_class_weight': None, 'svc_penalty': 'l2'}. Best is trial 341 with value: 0.7966811934294334.\n",
      "[I 2023-07-21 19:44:29,050] Trial 384 finished with value: 0.7898089171974523 and parameters: {'svc_c': 18.684346872306286, 'svc_tol': 0.09137902854542986, 'svc_max_iter': 4832, 'svc_class_weight': None, 'svc_penalty': 'l2'}. Best is trial 341 with value: 0.7966811934294334.\n",
      "[I 2023-07-21 19:44:29,153] Trial 385 finished with value: 0.7955078779751927 and parameters: {'svc_c': 0.5970577583590142, 'svc_tol': 0.09139839735195122, 'svc_max_iter': 4807, 'svc_class_weight': None, 'svc_penalty': 'l2'}. Best is trial 341 with value: 0.7966811934294334.\n",
      "[I 2023-07-21 19:44:29,716] Trial 386 finished with value: 0.7911498491451558 and parameters: {'svc_c': 22.917044616430076, 'svc_tol': 0.09134211569745967, 'svc_max_iter': 4555, 'svc_class_weight': None, 'svc_penalty': 'l2'}. Best is trial 341 with value: 0.7966811934294334.\n",
      "[I 2023-07-21 19:44:31,090] Trial 392 finished with value: 0.783271873952397 and parameters: {'svc_c': 0.13135998408044713, 'svc_tol': 0.09105525775706026, 'svc_max_iter': 4540, 'svc_class_weight': None, 'svc_penalty': 'l2'}. Best is trial 341 with value: 0.7966811934294334.\n",
      "[I 2023-07-21 19:44:31,159] Trial 390 finished with value: 0.7950050284948039 and parameters: {'svc_c': 0.38461472852711154, 'svc_tol': 0.0913959367114017, 'svc_max_iter': 4561, 'svc_class_weight': None, 'svc_penalty': 'l2'}. Best is trial 341 with value: 0.7966811934294334.\n",
      "[I 2023-07-21 19:44:31,797] Trial 389 finished with value: 0.7919879316124707 and parameters: {'svc_c': 9.276271002693363, 'svc_tol': 0.09117922572513602, 'svc_max_iter': 4806, 'svc_class_weight': None, 'svc_penalty': 'l2'}. Best is trial 341 with value: 0.7966811934294334.\n",
      "[I 2023-07-21 19:44:31,857] Trial 391 finished with value: 0.7911498491451558 and parameters: {'svc_c': 17.057950668411166, 'svc_tol': 0.09221350159272626, 'svc_max_iter': 4557, 'svc_class_weight': None, 'svc_penalty': 'l2'}. Best is trial 341 with value: 0.7966811934294334.\n",
      "[I 2023-07-21 19:44:32,486] Trial 393 finished with value: 0.7958431109621187 and parameters: {'svc_c': 0.5437641619710263, 'svc_tol': 0.09132566874355615, 'svc_max_iter': 4558, 'svc_class_weight': None, 'svc_penalty': 'l2'}. Best is trial 341 with value: 0.7966811934294334.\n",
      "[I 2023-07-21 19:44:32,657] Trial 395 finished with value: 0.7960107274555817 and parameters: {'svc_c': 0.6351362541506376, 'svc_tol': 0.09153451350093561, 'svc_max_iter': 4504, 'svc_class_weight': None, 'svc_penalty': 'l2'}. Best is trial 341 with value: 0.7966811934294334.\n",
      "[I 2023-07-21 19:44:33,214] Trial 394 finished with value: 0.7955078779751927 and parameters: {'svc_c': 3.930690318472614, 'svc_tol': 0.09057822483693834, 'svc_max_iter': 4492, 'svc_class_weight': None, 'svc_penalty': 'l2'}. Best is trial 341 with value: 0.7966811934294334.\n",
      "[I 2023-07-21 19:44:33,556] Trial 388 finished with value: 0.7903117666778411 and parameters: {'svc_c': 19.640529897537974, 'svc_tol': 0.09104988059403736, 'svc_max_iter': 4514, 'svc_class_weight': None, 'svc_penalty': 'l2'}. Best is trial 341 with value: 0.7966811934294334.\n",
      "[I 2023-07-21 19:44:34,243] Trial 403 finished with value: 0.7911498491451558 and parameters: {'svc_c': 21.284736738974775, 'svc_tol': 0.09176762092680558, 'svc_max_iter': 4179, 'svc_class_weight': None, 'svc_penalty': 'l2'}. Best is trial 341 with value: 0.7966811934294334.\n",
      "[I 2023-07-21 19:44:34,826] Trial 397 finished with value: 0.7929936305732485 and parameters: {'svc_c': 5.194340268303677, 'svc_tol': 0.09091514693804621, 'svc_max_iter': 4491, 'svc_class_weight': None, 'svc_penalty': 'l2'}. Best is trial 341 with value: 0.7966811934294334.\n",
      "[I 2023-07-21 19:44:35,389] Trial 401 finished with value: 0.7909822326516929 and parameters: {'svc_c': 10.244995786052385, 'svc_tol': 0.09084450237350812, 'svc_max_iter': 4532, 'svc_class_weight': None, 'svc_penalty': 'l2'}. Best is trial 341 with value: 0.7966811934294334.\n",
      "[I 2023-07-21 19:44:35,954] Trial 404 finished with value: 0.7909822326516929 and parameters: {'svc_c': 11.022733836658801, 'svc_tol': 0.09093829939003599, 'svc_max_iter': 4595, 'svc_class_weight': None, 'svc_penalty': 'l2'}. Best is trial 341 with value: 0.7966811934294334.\n",
      "[I 2023-07-21 19:44:35,977] Trial 396 finished with value: 0.79081461615823 and parameters: {'svc_c': 21.59900105876445, 'svc_tol': 0.09100523010730961, 'svc_max_iter': 4178, 'svc_class_weight': None, 'svc_penalty': 'l2'}. Best is trial 341 with value: 0.7966811934294334.\n",
      "[I 2023-07-21 19:44:35,999] Trial 400 finished with value: 0.794166946027489 and parameters: {'svc_c': 4.151752907740473, 'svc_tol': 0.09185755625406446, 'svc_max_iter': 4802, 'svc_class_weight': None, 'svc_penalty': 'l2'}. Best is trial 341 with value: 0.7966811934294334.\n",
      "[I 2023-07-21 19:44:36,830] Trial 408 finished with value: 0.7913174656386188 and parameters: {'svc_c': 7.909653627202857, 'svc_tol': 0.09071486034985698, 'svc_max_iter': 4471, 'svc_class_weight': None, 'svc_penalty': 'l2'}. Best is trial 341 with value: 0.7966811934294334.\n",
      "[I 2023-07-21 19:44:36,834] Trial 398 finished with value: 0.7899765336909151 and parameters: {'svc_c': 18.158311687023755, 'svc_tol': 0.09055406373037524, 'svc_max_iter': 4525, 'svc_class_weight': None, 'svc_penalty': 'l2'}. Best is trial 341 with value: 0.7966811934294334.\n",
      "[I 2023-07-21 19:44:37,000] Trial 402 finished with value: 0.7963459604425075 and parameters: {'svc_c': 1.9312859736152248, 'svc_tol': 0.09178102896015213, 'svc_max_iter': 4515, 'svc_class_weight': None, 'svc_penalty': 'l2'}. Best is trial 341 with value: 0.7966811934294334.\n",
      "[I 2023-07-21 19:44:37,826] Trial 405 finished with value: 0.7924907810928595 and parameters: {'svc_c': 7.509254093674656, 'svc_tol': 0.09172942018641524, 'svc_max_iter': 4569, 'svc_class_weight': None, 'svc_penalty': 'l2'}. Best is trial 341 with value: 0.7966811934294334.\n",
      "[I 2023-07-21 19:44:37,992] Trial 407 finished with value: 0.7928260140797855 and parameters: {'svc_c': 6.530918154768713, 'svc_tol': 0.0911814773707264, 'svc_max_iter': 4542, 'svc_class_weight': None, 'svc_penalty': 'l2'}. Best is trial 341 with value: 0.7966811934294334.\n",
      "[I 2023-07-21 19:44:38,551] Trial 417 finished with value: 0.7904793831713041 and parameters: {'svc_c': 108.85509676499885, 'svc_tol': 0.09076143231892579, 'svc_max_iter': 4510, 'svc_class_weight': None, 'svc_penalty': 'l2'}. Best is trial 341 with value: 0.7966811934294334.\n",
      "[I 2023-07-21 19:44:38,628] Trial 406 finished with value: 0.7963459604425075 and parameters: {'svc_c': 0.9488565895031869, 'svc_tol': 0.09114975474997455, 'svc_max_iter': 4804, 'svc_class_weight': None, 'svc_penalty': 'l2'}. Best is trial 341 with value: 0.7966811934294334.\n",
      "[I 2023-07-21 19:44:38,796] Trial 399 finished with value: 0.7936640965471002 and parameters: {'svc_c': 5.637142214568943, 'svc_tol': 0.09008769249759455, 'svc_max_iter': 4760, 'svc_class_weight': None, 'svc_penalty': 'l2'}. Best is trial 341 with value: 0.7966811934294334.\n",
      "[I 2023-07-21 19:44:39,754] Trial 412 finished with value: 0.7924907810928595 and parameters: {'svc_c': 9.09653504583499, 'svc_tol': 0.09096118438799146, 'svc_max_iter': 4473, 'svc_class_weight': None, 'svc_penalty': 'l2'}. Best is trial 341 with value: 0.7966811934294334.\n",
      "[I 2023-07-21 19:44:40,434] Trial 419 finished with value: 0.7938317130405632 and parameters: {'svc_c': 3.207406811892504, 'svc_tol': 0.09106136392858918, 'svc_max_iter': 4506, 'svc_class_weight': None, 'svc_penalty': 'l2'}. Best is trial 341 with value: 0.7966811934294334.\n",
      "[I 2023-07-21 19:44:40,651] Trial 411 finished with value: 0.7958431109621187 and parameters: {'svc_c': 1.2103630201572173, 'svc_tol': 0.09173812222461183, 'svc_max_iter': 4577, 'svc_class_weight': None, 'svc_penalty': 'l2'}. Best is trial 341 with value: 0.7966811934294334.\n",
      "[I 2023-07-21 19:44:40,802] Trial 423 finished with value: 0.7928260140797855 and parameters: {'svc_c': 6.522513721191515, 'svc_tol': 0.08965156683615474, 'svc_max_iter': 4159, 'svc_class_weight': None, 'svc_penalty': 'l2'}. Best is trial 341 with value: 0.7966811934294334.\n",
      "[I 2023-07-21 19:44:41,320] Trial 415 finished with value: 0.7903117666778411 and parameters: {'svc_c': 18.723008768447272, 'svc_tol': 0.09129695423992579, 'svc_max_iter': 4471, 'svc_class_weight': None, 'svc_penalty': 'l2'}. Best is trial 341 with value: 0.7966811934294334.\n",
      "[I 2023-07-21 19:44:41,420] Trial 425 finished with value: 0.7911498491451558 and parameters: {'svc_c': 7.720444557502617, 'svc_tol': 0.09006302103310125, 'svc_max_iter': 4489, 'svc_class_weight': None, 'svc_penalty': 'l2'}. Best is trial 341 with value: 0.7966811934294334.\n",
      "[I 2023-07-21 19:44:42,305] Trial 416 finished with value: 0.7963459604425075 and parameters: {'svc_c': 1.3138231530886486, 'svc_tol': 0.09163250288236477, 'svc_max_iter': 4483, 'svc_class_weight': None, 'svc_penalty': 'l2'}. Best is trial 341 with value: 0.7966811934294334.\n",
      "[I 2023-07-21 19:44:42,472] Trial 413 finished with value: 0.7898089171974523 and parameters: {'svc_c': 116.6504515187514, 'svc_tol': 0.09035000565897688, 'svc_max_iter': 4585, 'svc_class_weight': None, 'svc_penalty': 'l2'}. Best is trial 341 with value: 0.7966811934294334.\n",
      "[I 2023-07-21 19:44:42,558] Trial 410 finished with value: 0.790646999664767 and parameters: {'svc_c': 14.199365000597702, 'svc_tol': 0.09145312002730727, 'svc_max_iter': 4580, 'svc_class_weight': None, 'svc_penalty': 'l2'}. Best is trial 341 with value: 0.7966811934294334.\n",
      "[I 2023-07-21 19:44:43,289] Trial 409 finished with value: 0.7933288635601743 and parameters: {'svc_c': 4.782996759669935, 'svc_tol': 0.09104798906484037, 'svc_max_iter': 4497, 'svc_class_weight': None, 'svc_penalty': 'l2'}. Best is trial 341 with value: 0.7966811934294334.\n",
      "[I 2023-07-21 19:44:43,311] Trial 418 finished with value: 0.7901441501843781 and parameters: {'svc_c': 9.674030261662743, 'svc_tol': 0.09253228096683169, 'svc_max_iter': 4522, 'svc_class_weight': None, 'svc_penalty': 'l2'}. Best is trial 341 with value: 0.7966811934294334.\n",
      "[I 2023-07-21 19:44:44,105] Trial 421 finished with value: 0.7955078779751927 and parameters: {'svc_c': 1.6524616210667702, 'svc_tol': 0.09113577161738522, 'svc_max_iter': 4500, 'svc_class_weight': None, 'svc_penalty': 'l2'}. Best is trial 341 with value: 0.7966811934294334.\n",
      "[I 2023-07-21 19:44:44,508] Trial 420 finished with value: 0.7911498491451558 and parameters: {'svc_c': 15.935757657452662, 'svc_tol': 0.09010133753133254, 'svc_max_iter': 4538, 'svc_class_weight': None, 'svc_penalty': 'l2'}. Best is trial 341 with value: 0.7966811934294334.\n",
      "[I 2023-07-21 19:44:44,576] Trial 422 finished with value: 0.7961783439490446 and parameters: {'svc_c': 1.2774734239773125, 'svc_tol': 0.09022136100482847, 'svc_max_iter': 4543, 'svc_class_weight': None, 'svc_penalty': 'l2'}. Best is trial 341 with value: 0.7966811934294334.\n",
      "[I 2023-07-21 19:44:45,351] Trial 414 finished with value: 0.7809252430439155 and parameters: {'svc_c': 0.09799569500370708, 'svc_tol': 0.09101012039891879, 'svc_max_iter': 4166, 'svc_class_weight': None, 'svc_penalty': 'l2'}. Best is trial 341 with value: 0.7966811934294334.\n",
      "[I 2023-07-21 19:44:45,483] Trial 426 finished with value: 0.7923231645993966 and parameters: {'svc_c': 6.0825634371751605, 'svc_tol': 0.09112525074403083, 'svc_max_iter': 4525, 'svc_class_weight': None, 'svc_penalty': 'l2'}. Best is trial 341 with value: 0.7966811934294334.\n",
      "[I 2023-07-21 19:44:46,009] Trial 439 finished with value: 0.7961783439490446 and parameters: {'svc_c': 1.9809095104302141, 'svc_tol': 0.08808287568202577, 'svc_max_iter': 3354, 'svc_class_weight': None, 'svc_penalty': 'l2'}. Best is trial 341 with value: 0.7966811934294334.\n",
      "[I 2023-07-21 19:44:46,102] Trial 438 finished with value: 0.7936640965471002 and parameters: {'svc_c': 6.525980827869494, 'svc_tol': 0.08886914504344072, 'svc_max_iter': 4473, 'svc_class_weight': None, 'svc_penalty': 'l2'}. Best is trial 341 with value: 0.7966811934294334.\n",
      "[I 2023-07-21 19:44:47,092] Trial 427 finished with value: 0.7933288635601743 and parameters: {'svc_c': 5.085082281443661, 'svc_tol': 0.0907618148187696, 'svc_max_iter': 4517, 'svc_class_weight': None, 'svc_penalty': 'l2'}. Best is trial 341 with value: 0.7966811934294334.\n",
      "[I 2023-07-21 19:44:47,359] Trial 429 finished with value: 0.7951726449882669 and parameters: {'svc_c': 0.5764614992868076, 'svc_tol': 0.0923548442091153, 'svc_max_iter': 4512, 'svc_class_weight': None, 'svc_penalty': 'l2'}. Best is trial 341 with value: 0.7966811934294334.\n",
      "[I 2023-07-21 19:44:47,823] Trial 428 finished with value: 0.7961783439490446 and parameters: {'svc_c': 2.581743943864744, 'svc_tol': 0.08994301604583109, 'svc_max_iter': 4636, 'svc_class_weight': None, 'svc_penalty': 'l2'}. Best is trial 341 with value: 0.7966811934294334.\n",
      "[I 2023-07-21 19:44:47,901] Trial 436 finished with value: 0.7931612470667113 and parameters: {'svc_c': 6.267860260670275, 'svc_tol': 0.08856972312616172, 'svc_max_iter': 4646, 'svc_class_weight': None, 'svc_penalty': 'l2'}. Best is trial 341 with value: 0.7966811934294334.\n",
      "[I 2023-07-21 19:44:48,301] Trial 424 finished with value: 0.7955078779751927 and parameters: {'svc_c': 0.47673521839183763, 'svc_tol': 0.09173268740189511, 'svc_max_iter': 4526, 'svc_class_weight': None, 'svc_penalty': 'l2'}. Best is trial 341 with value: 0.7966811934294334.\n",
      "[I 2023-07-21 19:44:49,341] Trial 432 finished with value: 0.7933288635601743 and parameters: {'svc_c': 6.172392151640018, 'svc_tol': 0.09278376015041594, 'svc_max_iter': 4691, 'svc_class_weight': None, 'svc_penalty': 'l2'}. Best is trial 341 with value: 0.7966811934294334.\n",
      "[I 2023-07-21 19:44:49,370] Trial 430 finished with value: 0.7913174656386188 and parameters: {'svc_c': 11.222859766479843, 'svc_tol': 0.09215225649099253, 'svc_max_iter': 4505, 'svc_class_weight': None, 'svc_penalty': 'l2'}. Best is trial 341 with value: 0.7966811934294334.\n",
      "[I 2023-07-21 19:44:49,408] Trial 440 finished with value: 0.7961783439490446 and parameters: {'svc_c': 1.2950637966529683, 'svc_tol': 0.08894591023391035, 'svc_max_iter': 3762, 'svc_class_weight': None, 'svc_penalty': 'l2'}. Best is trial 341 with value: 0.7966811934294334.\n",
      "[I 2023-07-21 19:44:50,106] Trial 448 finished with value: 0.7958431109621187 and parameters: {'svc_c': 1.611126346164621, 'svc_tol': 0.08850038013852052, 'svc_max_iter': 4520, 'svc_class_weight': None, 'svc_penalty': 'l2'}. Best is trial 341 with value: 0.7966811934294334.\n",
      "[I 2023-07-21 19:44:50,396] Trial 435 finished with value: 0.7960107274555817 and parameters: {'svc_c': 0.6365684393764774, 'svc_tol': 0.08705079284045161, 'svc_max_iter': 4519, 'svc_class_weight': None, 'svc_penalty': 'l2'}. Best is trial 341 with value: 0.7966811934294334.\n",
      "[I 2023-07-21 19:44:50,652] Trial 431 finished with value: 0.7938317130405632 and parameters: {'svc_c': 5.33975568277451, 'svc_tol': 0.09269030404194384, 'svc_max_iter': 4550, 'svc_class_weight': None, 'svc_penalty': 'l2'}. Best is trial 341 with value: 0.7966811934294334.\n",
      "[I 2023-07-21 19:44:51,327] Trial 437 finished with value: 0.7960107274555817 and parameters: {'svc_c': 1.6971118844578559, 'svc_tol': 0.0889349326247781, 'svc_max_iter': 3357, 'svc_class_weight': None, 'svc_penalty': 'l2'}. Best is trial 341 with value: 0.7966811934294334.\n",
      "[I 2023-07-21 19:44:51,816] Trial 434 finished with value: 0.7926583975863225 and parameters: {'svc_c': 7.219351847500503, 'svc_tol': 0.08726756472973582, 'svc_max_iter': 4493, 'svc_class_weight': None, 'svc_penalty': 'l2'}. Best is trial 341 with value: 0.7966811934294334.\n",
      "[I 2023-07-21 19:44:52,257] Trial 441 finished with value: 0.7914850821320818 and parameters: {'svc_c': 12.64113361108187, 'svc_tol': 0.08771285232694156, 'svc_max_iter': 4641, 'svc_class_weight': None, 'svc_penalty': 'l2'}. Best is trial 341 with value: 0.7966811934294334.\n",
      "[I 2023-07-21 19:44:52,765] Trial 464 finished with value: 0.7961783439490446 and parameters: {'svc_c': 1.4259172806971063, 'svc_tol': 0.0881334929498954, 'svc_max_iter': 4703, 'svc_class_weight': None, 'svc_penalty': 'l2'}. Best is trial 341 with value: 0.7966811934294334.\n",
      "[I 2023-07-21 19:44:52,865] Trial 443 finished with value: 0.7950050284948039 and parameters: {'svc_c': 3.662827985475983, 'svc_tol': 0.08798776753724982, 'svc_max_iter': 4687, 'svc_class_weight': None, 'svc_penalty': 'l2'}. Best is trial 341 with value: 0.7966811934294334.\n",
      "[I 2023-07-21 19:44:53,245] Trial 445 finished with value: 0.7963459604425075 and parameters: {'svc_c': 1.8537449045457435, 'svc_tol': 0.08867431940611167, 'svc_max_iter': 4613, 'svc_class_weight': None, 'svc_penalty': 'l2'}. Best is trial 341 with value: 0.7966811934294334.\n",
      "[I 2023-07-21 19:44:53,344] Trial 450 finished with value: 0.790646999664767 and parameters: {'svc_c': 11.642004002801405, 'svc_tol': 0.08822664600795618, 'svc_max_iter': 3386, 'svc_class_weight': None, 'svc_penalty': 'l2'}. Best is trial 341 with value: 0.7966811934294334.\n",
      "[I 2023-07-21 19:44:53,986] Trial 452 finished with value: 0.7923231645993966 and parameters: {'svc_c': 5.380399105029783, 'svc_tol': 0.08672094830339167, 'svc_max_iter': 3369, 'svc_class_weight': None, 'svc_penalty': 'l2'}. Best is trial 341 with value: 0.7966811934294334.\n",
      "[I 2023-07-21 19:44:54,320] Trial 444 finished with value: 0.7963459604425075 and parameters: {'svc_c': 1.8791833342920259, 'svc_tol': 0.08833517081811261, 'svc_max_iter': 4557, 'svc_class_weight': None, 'svc_penalty': 'l2'}. Best is trial 341 with value: 0.7966811934294334.\n",
      "[I 2023-07-21 19:44:54,373] Trial 447 finished with value: 0.7939993295340262 and parameters: {'svc_c': 0.2665892409110897, 'svc_tol': 0.088313495409375, 'svc_max_iter': 4470, 'svc_class_weight': None, 'svc_penalty': 'l2'}. Best is trial 341 with value: 0.7966811934294334.\n",
      "[I 2023-07-21 19:44:55,339] Trial 453 finished with value: 0.7951726449882669 and parameters: {'svc_c': 2.2479125475044266, 'svc_tol': 0.0883455516222985, 'svc_max_iter': 4539, 'svc_class_weight': None, 'svc_penalty': 'l2'}. Best is trial 341 with value: 0.7966811934294334.\n",
      "[I 2023-07-21 19:44:55,435] Trial 454 finished with value: 0.7961783439490446 and parameters: {'svc_c': 1.2585694575979707, 'svc_tol': 0.08861783316549522, 'svc_max_iter': 4531, 'svc_class_weight': None, 'svc_penalty': 'l2'}. Best is trial 341 with value: 0.7966811934294334.\n",
      "[I 2023-07-21 19:44:56,185] Trial 457 finished with value: 0.7966811934294334 and parameters: {'svc_c': 0.9103405940761451, 'svc_tol': 0.08834742221175988, 'svc_max_iter': 4649, 'svc_class_weight': None, 'svc_penalty': 'l2'}. Best is trial 341 with value: 0.7966811934294334.\n",
      "[I 2023-07-21 19:44:56,227] Trial 460 finished with value: 0.7950050284948039 and parameters: {'svc_c': 0.5002176986412283, 'svc_tol': 0.08851198783307207, 'svc_max_iter': 4522, 'svc_class_weight': None, 'svc_penalty': 'l2'}. Best is trial 341 with value: 0.7966811934294334.\n",
      "[I 2023-07-21 19:44:56,319] Trial 455 finished with value: 0.7953402614817298 and parameters: {'svc_c': 0.5293181274068708, 'svc_tol': 0.08814119191846234, 'svc_max_iter': 4700, 'svc_class_weight': None, 'svc_penalty': 'l2'}. Best is trial 341 with value: 0.7966811934294334.\n",
      "[I 2023-07-21 19:44:57,157] Trial 449 finished with value: 0.7961783439490446 and parameters: {'svc_c': 2.700800174453434, 'svc_tol': 0.08848457319691128, 'svc_max_iter': 4489, 'svc_class_weight': None, 'svc_penalty': 'l2'}. Best is trial 341 with value: 0.7966811934294334.\n",
      "[I 2023-07-21 19:44:57,204] Trial 459 finished with value: 0.7955078779751927 and parameters: {'svc_c': 1.5839960089464853, 'svc_tol': 0.08796037830016155, 'svc_max_iter': 4654, 'svc_class_weight': None, 'svc_penalty': 'l2'}. Best is trial 341 with value: 0.7966811934294334.\n",
      "[I 2023-07-21 19:44:57,265] Trial 461 finished with value: 0.7956754944686557 and parameters: {'svc_c': 1.6491389493353736, 'svc_tol': 0.08882610954276321, 'svc_max_iter': 4591, 'svc_class_weight': None, 'svc_penalty': 'l2'}. Best is trial 341 with value: 0.7966811934294334.\n",
      "[I 2023-07-21 19:44:57,305] Trial 442 finished with value: 0.7904793831713041 and parameters: {'svc_c': 11.468212175823542, 'svc_tol': 0.0884535921747803, 'svc_max_iter': 4620, 'svc_class_weight': None, 'svc_penalty': 'l2'}. Best is trial 341 with value: 0.7966811934294334.\n",
      "[I 2023-07-21 19:44:58,049] Trial 477 finished with value: 0.7929936305732485 and parameters: {'svc_c': 6.022373836524189, 'svc_tol': 0.08804250540307611, 'svc_max_iter': 4538, 'svc_class_weight': None, 'svc_penalty': 'l2'}. Best is trial 341 with value: 0.7966811934294334.\n",
      "[I 2023-07-21 19:44:58,085] Trial 472 finished with value: 0.7950050284948039 and parameters: {'svc_c': 0.3994324351395643, 'svc_tol': 0.08828223714507562, 'svc_max_iter': 4504, 'svc_class_weight': None, 'svc_penalty': 'l2'}. Best is trial 341 with value: 0.7966811934294334.\n",
      "[I 2023-07-21 19:44:58,108] Trial 458 finished with value: 0.7965135769359705 and parameters: {'svc_c': 1.8343968000090078, 'svc_tol': 0.08851816844339218, 'svc_max_iter': 4692, 'svc_class_weight': None, 'svc_penalty': 'l2'}. Best is trial 341 with value: 0.7966811934294334.\n",
      "[I 2023-07-21 19:44:58,212] Trial 462 finished with value: 0.7953402614817298 and parameters: {'svc_c': 1.1350604006008354, 'svc_tol': 0.0889186320047988, 'svc_max_iter': 4679, 'svc_class_weight': None, 'svc_penalty': 'l2'}. Best is trial 341 with value: 0.7966811934294334.\n",
      "[I 2023-07-21 19:44:58,862] Trial 433 finished with value: 0.7886356017432116 and parameters: {'svc_c': 0.19168562334763095, 'svc_tol': 0.0884289806887233, 'svc_max_iter': 4509, 'svc_class_weight': None, 'svc_penalty': 'l2'}. Best is trial 341 with value: 0.7966811934294334.\n",
      "[I 2023-07-21 19:44:58,891] Trial 463 finished with value: 0.7956754944686557 and parameters: {'svc_c': 2.3134193822026132, 'svc_tol': 0.08806137472303835, 'svc_max_iter': 4547, 'svc_class_weight': None, 'svc_penalty': 'l2'}. Best is trial 341 with value: 0.7966811934294334.\n",
      "[I 2023-07-21 19:44:59,538] Trial 481 finished with value: 0.7958431109621187 and parameters: {'svc_c': 2.2036559200192785, 'svc_tol': 0.0872562623047996, 'svc_max_iter': 4512, 'svc_class_weight': None, 'svc_penalty': 'l2'}. Best is trial 341 with value: 0.7966811934294334.\n",
      "[I 2023-07-21 19:44:59,661] Trial 465 finished with value: 0.7916526986255448 and parameters: {'svc_c': 11.954743375838866, 'svc_tol': 0.08833985170021993, 'svc_max_iter': 4654, 'svc_class_weight': None, 'svc_penalty': 'l2'}. Best is trial 341 with value: 0.7966811934294334.\n",
      "[I 2023-07-21 19:44:59,916] Trial 484 finished with value: 0.7955078779751927 and parameters: {'svc_c': 2.279728560928369, 'svc_tol': 0.08799032161690598, 'svc_max_iter': 4617, 'svc_class_weight': None, 'svc_penalty': 'l2'}. Best is trial 341 with value: 0.7966811934294334.\n",
      "[I 2023-07-21 19:45:00,532] Trial 496 finished with value: 0.7958431109621187 and parameters: {'svc_c': 2.296814653397046, 'svc_tol': 0.08837412458695251, 'svc_max_iter': 4636, 'svc_class_weight': None, 'svc_penalty': 'l2'}. Best is trial 341 with value: 0.7966811934294334.\n",
      "[I 2023-07-21 19:45:00,871] Trial 446 finished with value: 0.7919879316124707 and parameters: {'svc_c': 8.542280999471554, 'svc_tol': 0.08679670295699794, 'svc_max_iter': 4506, 'svc_class_weight': None, 'svc_penalty': 'l2'}. Best is trial 341 with value: 0.7966811934294334.\n",
      "[I 2023-07-21 19:45:01,295] Trial 467 finished with value: 0.7913174656386188 and parameters: {'svc_c': 0.2090953257562087, 'svc_tol': 0.08941181593443297, 'svc_max_iter': 4554, 'svc_class_weight': None, 'svc_penalty': 'l2'}. Best is trial 341 with value: 0.7966811934294334.\n",
      "[I 2023-07-21 19:45:01,435] Trial 469 finished with value: 0.7955078779751927 and parameters: {'svc_c': 1.6645598973289886, 'svc_tol': 0.08872863990539918, 'svc_max_iter': 4565, 'svc_class_weight': None, 'svc_penalty': 'l2'}. Best is trial 341 with value: 0.7966811934294334.\n",
      "[I 2023-07-21 19:45:02,421] Trial 483 finished with value: 0.7958431109621187 and parameters: {'svc_c': 0.5530734596421079, 'svc_tol': 0.08814444168181916, 'svc_max_iter': 3374, 'svc_class_weight': None, 'svc_penalty': 'l2'}. Best is trial 341 with value: 0.7966811934294334.\n",
      "[I 2023-07-21 19:45:02,677] Trial 490 finished with value: 0.7939993295340262 and parameters: {'svc_c': 3.0840202035424653, 'svc_tol': 0.0882240170186466, 'svc_max_iter': 4642, 'svc_class_weight': None, 'svc_penalty': 'l2'}. Best is trial 341 with value: 0.7966811934294334.\n",
      "[I 2023-07-21 19:45:02,727] Trial 487 finished with value: 0.794166946027489 and parameters: {'svc_c': 4.23739484127265, 'svc_tol': 0.08774575142343334, 'svc_max_iter': 4670, 'svc_class_weight': None, 'svc_penalty': 'l2'}. Best is trial 341 with value: 0.7966811934294334.\n",
      "[I 2023-07-21 19:45:02,737] Trial 482 finished with value: 0.7961783439490446 and parameters: {'svc_c': 0.6289799523887402, 'svc_tol': 0.08791415424219798, 'svc_max_iter': 4667, 'svc_class_weight': None, 'svc_penalty': 'l2'}. Best is trial 341 with value: 0.7966811934294334.\n",
      "[I 2023-07-21 19:45:02,754] Trial 489 finished with value: 0.7916526986255448 and parameters: {'svc_c': 9.426328341084599, 'svc_tol': 0.08800630177703563, 'svc_max_iter': 4511, 'svc_class_weight': None, 'svc_penalty': 'l2'}. Best is trial 341 with value: 0.7966811934294334.\n",
      "[I 2023-07-21 19:45:03,591] Trial 478 finished with value: 0.7956754944686557 and parameters: {'svc_c': 0.8321411098649123, 'svc_tol': 0.08831233091945814, 'svc_max_iter': 4649, 'svc_class_weight': None, 'svc_penalty': 'l2'}. Best is trial 341 with value: 0.7966811934294334.\n",
      "[I 2023-07-21 19:45:03,766] Trial 473 finished with value: 0.7963459604425075 and parameters: {'svc_c': 1.3598826850089278, 'svc_tol': 0.0881651239797034, 'svc_max_iter': 4638, 'svc_class_weight': None, 'svc_penalty': 'l2'}. Best is trial 341 with value: 0.7966811934294334.\n",
      "[I 2023-07-21 19:45:04,467] Trial 466 finished with value: 0.7951726449882669 and parameters: {'svc_c': 1.156274385997347, 'svc_tol': 0.08822182992452213, 'svc_max_iter': 3741, 'svc_class_weight': None, 'svc_penalty': 'l2'}. Best is trial 341 with value: 0.7966811934294334.\n",
      "[I 2023-07-21 19:45:04,640] Trial 480 finished with value: 0.7963459604425075 and parameters: {'svc_c': 1.9157709471113975, 'svc_tol': 0.08755700357330143, 'svc_max_iter': 4655, 'svc_class_weight': None, 'svc_penalty': 'l2'}. Best is trial 341 with value: 0.7966811934294334.\n",
      "[I 2023-07-21 19:45:04,921] Trial 451 finished with value: 0.794502179014415 and parameters: {'svc_c': 3.7064926969473433, 'svc_tol': 0.0885497918101077, 'svc_max_iter': 4488, 'svc_class_weight': None, 'svc_penalty': 'l2'}. Best is trial 341 with value: 0.7966811934294334.\n",
      "[I 2023-07-21 19:45:04,932] Trial 479 finished with value: 0.7956754944686557 and parameters: {'svc_c': 2.896949831853206, 'svc_tol': 0.08802427032672835, 'svc_max_iter': 4535, 'svc_class_weight': None, 'svc_penalty': 'l2'}. Best is trial 341 with value: 0.7966811934294334.\n",
      "[I 2023-07-21 19:45:04,959] Trial 486 finished with value: 0.7953402614817298 and parameters: {'svc_c': 1.1798843284568825, 'svc_tol': 0.08823011107586694, 'svc_max_iter': 3766, 'svc_class_weight': None, 'svc_penalty': 'l2'}. Best is trial 341 with value: 0.7966811934294334.\n",
      "[I 2023-07-21 19:45:05,185] Trial 456 finished with value: 0.7839423399262487 and parameters: {'svc_c': 0.11756096726443488, 'svc_tol': 0.08836389007424367, 'svc_max_iter': 4529, 'svc_class_weight': None, 'svc_penalty': 'l2'}. Best is trial 341 with value: 0.7966811934294334.\n",
      "[I 2023-07-21 19:45:05,957] Trial 488 finished with value: 0.7953402614817298 and parameters: {'svc_c': 1.0754357328729482, 'svc_tol': 0.08751592086124434, 'svc_max_iter': 3772, 'svc_class_weight': None, 'svc_penalty': 'l2'}. Best is trial 341 with value: 0.7966811934294334.\n",
      "[I 2023-07-21 19:45:06,294] Trial 470 finished with value: 0.7879651357693597 and parameters: {'svc_c': 0.18410684540835875, 'svc_tol': 0.08815190655386893, 'svc_max_iter': 4628, 'svc_class_weight': None, 'svc_penalty': 'l2'}. Best is trial 341 with value: 0.7966811934294334.\n",
      "[I 2023-07-21 19:45:06,423] Trial 491 finished with value: 0.7955078779751927 and parameters: {'svc_c': 1.6872189227355214, 'svc_tol': 0.08790235963758501, 'svc_max_iter': 4588, 'svc_class_weight': None, 'svc_penalty': 'l2'}. Best is trial 341 with value: 0.7966811934294334.\n",
      "[I 2023-07-21 19:45:06,706] Trial 471 finished with value: 0.7955078779751927 and parameters: {'svc_c': 1.0904005117346447, 'svc_tol': 0.08812681973500867, 'svc_max_iter': 3369, 'svc_class_weight': None, 'svc_penalty': 'l2'}. Best is trial 341 with value: 0.7966811934294334.\n",
      "[I 2023-07-21 19:45:07,784] Trial 476 finished with value: 0.7924907810928595 and parameters: {'svc_c': 6.9147914630835885, 'svc_tol': 0.08832508529285762, 'svc_max_iter': 4645, 'svc_class_weight': None, 'svc_penalty': 'l2'}. Best is trial 341 with value: 0.7966811934294334.\n",
      "[I 2023-07-21 19:45:07,954] Trial 493 finished with value: 0.7963459604425075 and parameters: {'svc_c': 1.5341053342586117, 'svc_tol': 0.08816116837714615, 'svc_max_iter': 4640, 'svc_class_weight': None, 'svc_penalty': 'l2'}. Best is trial 341 with value: 0.7966811934294334.\n",
      "[I 2023-07-21 19:45:08,389] Trial 475 finished with value: 0.7794166946027489 and parameters: {'svc_c': 0.08654032666205169, 'svc_tol': 0.08773279913627058, 'svc_max_iter': 4616, 'svc_class_weight': None, 'svc_penalty': 'l2'}. Best is trial 341 with value: 0.7966811934294334.\n",
      "[I 2023-07-21 19:45:08,424] Trial 492 finished with value: 0.7936640965471002 and parameters: {'svc_c': 4.434727517393261, 'svc_tol': 0.08780777980153451, 'svc_max_iter': 4647, 'svc_class_weight': None, 'svc_penalty': 'l2'}. Best is trial 341 with value: 0.7966811934294334.\n",
      "[I 2023-07-21 19:45:09,347] Trial 495 finished with value: 0.7955078779751927 and parameters: {'svc_c': 1.110684810255329, 'svc_tol': 0.08798384570580806, 'svc_max_iter': 3377, 'svc_class_weight': None, 'svc_penalty': 'l2'}. Best is trial 341 with value: 0.7966811934294334.\n",
      "[I 2023-07-21 19:45:09,473] Trial 494 finished with value: 0.7889708347301374 and parameters: {'svc_c': 0.194830823180296, 'svc_tol': 0.08812236168438534, 'svc_max_iter': 4598, 'svc_class_weight': None, 'svc_penalty': 'l2'}. Best is trial 341 with value: 0.7966811934294334.\n",
      "[I 2023-07-21 19:45:10,024] Trial 485 finished with value: 0.7958431109621187 and parameters: {'svc_c': 2.147978116670076, 'svc_tol': 0.08805202494534552, 'svc_max_iter': 4621, 'svc_class_weight': None, 'svc_penalty': 'l2'}. Best is trial 341 with value: 0.7966811934294334.\n",
      "[I 2023-07-21 19:45:10,031] Trial 501 finished with value: 0.782936640965471 and parameters: {'svc_c': 0.1321238026277527, 'svc_tol': 0.08771817832110924, 'svc_max_iter': 4623, 'svc_class_weight': None, 'svc_penalty': 'l2'}. Best is trial 341 with value: 0.7966811934294334.\n",
      "[I 2023-07-21 19:45:10,109] Trial 474 finished with value: 0.7960107274555817 and parameters: {'svc_c': 0.8470117761852233, 'svc_tol': 0.08843642841140367, 'svc_max_iter': 4480, 'svc_class_weight': None, 'svc_penalty': 'l2'}. Best is trial 341 with value: 0.7966811934294334.\n",
      "[I 2023-07-21 19:45:11,055] Trial 505 finished with value: 0.7953402614817298 and parameters: {'svc_c': 0.530960012089191, 'svc_tol': 0.08782624469025994, 'svc_max_iter': 4552, 'svc_class_weight': None, 'svc_penalty': 'l2'}. Best is trial 341 with value: 0.7966811934294334.\n",
      "[I 2023-07-21 19:45:11,088] Trial 468 finished with value: 0.7953402614817298 and parameters: {'svc_c': 2.2309510630062093, 'svc_tol': 0.08835307412009537, 'svc_max_iter': 4614, 'svc_class_weight': None, 'svc_penalty': 'l2'}. Best is trial 341 with value: 0.7966811934294334.\n",
      "[I 2023-07-21 19:45:11,133] Trial 497 finished with value: 0.7931612470667113 and parameters: {'svc_c': 6.020547513351418, 'svc_tol': 0.08828344870605061, 'svc_max_iter': 4684, 'svc_class_weight': None, 'svc_penalty': 'l2'}. Best is trial 341 with value: 0.7966811934294334.\n",
      "[I 2023-07-21 19:45:11,733] Trial 498 finished with value: 0.7355011733154543 and parameters: {'svc_c': 0.01744217518830693, 'svc_tol': 0.08803224611054469, 'svc_max_iter': 4602, 'svc_class_weight': None, 'svc_penalty': 'l2'}. Best is trial 341 with value: 0.7966811934294334.\n",
      "[I 2023-07-21 19:45:11,878] Trial 509 finished with value: 0.7924907810928595 and parameters: {'svc_c': 5.870485788539432, 'svc_tol': 0.08824919276193478, 'svc_max_iter': 4598, 'svc_class_weight': None, 'svc_penalty': 'l2'}. Best is trial 341 with value: 0.7966811934294334.\n",
      "[I 2023-07-21 19:45:12,354] Trial 508 finished with value: 0.7968488099228964 and parameters: {'svc_c': 1.970617278279593, 'svc_tol': 0.08535792011125493, 'svc_max_iter': 4692, 'svc_class_weight': None, 'svc_penalty': 'l2'}. Best is trial 508 with value: 0.7968488099228964.\n",
      "[I 2023-07-21 19:45:13,711] Trial 504 finished with value: 0.7956754944686557 and parameters: {'svc_c': 2.1191040378214874, 'svc_tol': 0.0880774281387465, 'svc_max_iter': 4649, 'svc_class_weight': None, 'svc_penalty': 'l2'}. Best is trial 508 with value: 0.7968488099228964.\n",
      "[I 2023-07-21 19:45:14,197] Trial 512 finished with value: 0.794334562520952 and parameters: {'svc_c': 3.3186526653372765, 'svc_tol': 0.08792910893392172, 'svc_max_iter': 4630, 'svc_class_weight': None, 'svc_penalty': 'l2'}. Best is trial 508 with value: 0.7968488099228964.\n",
      "[I 2023-07-21 19:45:14,631] Trial 503 finished with value: 0.7961783439490446 and parameters: {'svc_c': 2.383915252411885, 'svc_tol': 0.08820736452185529, 'svc_max_iter': 4637, 'svc_class_weight': None, 'svc_penalty': 'l2'}. Best is trial 508 with value: 0.7968488099228964.\n",
      "[I 2023-07-21 19:45:14,765] Trial 502 finished with value: 0.794166946027489 and parameters: {'svc_c': 0.29576393179091554, 'svc_tol': 0.08749385226902989, 'svc_max_iter': 4581, 'svc_class_weight': None, 'svc_penalty': 'l2'}. Best is trial 508 with value: 0.7968488099228964.\n",
      "[I 2023-07-21 19:45:14,787] Trial 510 finished with value: 0.7929936305732485 and parameters: {'svc_c': 4.070570042113085, 'svc_tol': 0.08861454669328911, 'svc_max_iter': 4697, 'svc_class_weight': None, 'svc_penalty': 'l2'}. Best is trial 508 with value: 0.7968488099228964.\n",
      "[I 2023-07-21 19:45:15,736] Trial 511 finished with value: 0.7963459604425075 and parameters: {'svc_c': 0.6901677724251751, 'svc_tol': 0.08755122340056488, 'svc_max_iter': 4625, 'svc_class_weight': None, 'svc_penalty': 'l2'}. Best is trial 508 with value: 0.7968488099228964.\n",
      "[I 2023-07-21 19:45:16,038] Trial 523 finished with value: 0.7960107274555817 and parameters: {'svc_c': 1.5638580003554963, 'svc_tol': 0.08772194500190772, 'svc_max_iter': 4700, 'svc_class_weight': None, 'svc_penalty': 'l2'}. Best is trial 508 with value: 0.7968488099228964.\n",
      "[I 2023-07-21 19:45:16,604] Trial 500 finished with value: 0.7961783439490446 and parameters: {'svc_c': 1.0674467440701099, 'svc_tol': 0.08793592966614124, 'svc_max_iter': 4636, 'svc_class_weight': None, 'svc_penalty': 'l2'}. Best is trial 508 with value: 0.7968488099228964.\n",
      "[I 2023-07-21 19:45:17,302] Trial 514 finished with value: 0.7961783439490446 and parameters: {'svc_c': 2.822909481934275, 'svc_tol': 0.08835654794278736, 'svc_max_iter': 4660, 'svc_class_weight': None, 'svc_penalty': 'l2'}. Best is trial 508 with value: 0.7968488099228964.\n",
      "[I 2023-07-21 19:45:17,389] Trial 519 finished with value: 0.7956754944686557 and parameters: {'svc_c': 0.5716615749053852, 'svc_tol': 0.08813103071008374, 'svc_max_iter': 4664, 'svc_class_weight': None, 'svc_penalty': 'l2'}. Best is trial 508 with value: 0.7968488099228964.\n",
      "[I 2023-07-21 19:45:17,508] Trial 506 finished with value: 0.7958431109621187 and parameters: {'svc_c': 1.646035231130444, 'svc_tol': 0.08740493718379398, 'svc_max_iter': 4651, 'svc_class_weight': None, 'svc_penalty': 'l2'}. Best is trial 508 with value: 0.7968488099228964.\n",
      "[I 2023-07-21 19:45:17,952] Trial 515 finished with value: 0.7936640965471002 and parameters: {'svc_c': 4.158130702200544, 'svc_tol': 0.0872896092107462, 'svc_max_iter': 4663, 'svc_class_weight': None, 'svc_penalty': 'l2'}. Best is trial 508 with value: 0.7968488099228964.\n",
      "[I 2023-07-21 19:45:18,057] Trial 524 finished with value: 0.7571237009721756 and parameters: {'svc_c': 0.03409850011911186, 'svc_tol': 0.08750617998128683, 'svc_max_iter': 4651, 'svc_class_weight': None, 'svc_penalty': 'l2'}. Best is trial 508 with value: 0.7968488099228964.\n",
      "[I 2023-07-21 19:45:18,914] Trial 507 finished with value: 0.7939993295340262 and parameters: {'svc_c': 3.7603071657135243, 'svc_tol': 0.08760577757217863, 'svc_max_iter': 4666, 'svc_class_weight': None, 'svc_penalty': 'l2'}. Best is trial 508 with value: 0.7968488099228964.\n",
      "[I 2023-07-21 19:45:18,959] Trial 499 finished with value: 0.7950050284948039 and parameters: {'svc_c': 0.31782659276114344, 'svc_tol': 0.08799115482930062, 'svc_max_iter': 4575, 'svc_class_weight': None, 'svc_penalty': 'l2'}. Best is trial 508 with value: 0.7968488099228964.\n",
      "[I 2023-07-21 19:45:19,730] Trial 520 finished with value: 0.7923231645993966 and parameters: {'svc_c': 7.0082540247807446, 'svc_tol': 0.08690287373615635, 'svc_max_iter': 4684, 'svc_class_weight': None, 'svc_penalty': 'l2'}. Best is trial 508 with value: 0.7968488099228964.\n",
      "[I 2023-07-21 19:45:19,992] Trial 517 finished with value: 0.7961783439490446 and parameters: {'svc_c': 1.4793760413885444, 'svc_tol': 0.08795894607151446, 'svc_max_iter': 4672, 'svc_class_weight': None, 'svc_penalty': 'l2'}. Best is trial 508 with value: 0.7968488099228964.\n",
      "[I 2023-07-21 19:45:20,135] Trial 522 finished with value: 0.7951726449882669 and parameters: {'svc_c': 1.1603225886291222, 'svc_tol': 0.08754417403465559, 'svc_max_iter': 4615, 'svc_class_weight': None, 'svc_penalty': 'l2'}. Best is trial 508 with value: 0.7968488099228964.\n",
      "[I 2023-07-21 19:45:21,359] Trial 526 finished with value: 0.7961783439490446 and parameters: {'svc_c': 1.3801496947296674, 'svc_tol': 0.08698446258765233, 'svc_max_iter': 4694, 'svc_class_weight': None, 'svc_penalty': 'l2'}. Best is trial 508 with value: 0.7968488099228964.\n",
      "[I 2023-07-21 19:45:21,834] Trial 516 finished with value: 0.7961783439490446 and parameters: {'svc_c': 1.5358398154418642, 'svc_tol': 0.08781848130639508, 'svc_max_iter': 4676, 'svc_class_weight': None, 'svc_penalty': 'l2'}. Best is trial 508 with value: 0.7968488099228964.\n",
      "[I 2023-07-21 19:45:21,902] Trial 532 finished with value: 0.7961783439490446 and parameters: {'svc_c': 1.3514380839880642, 'svc_tol': 0.08770948858795281, 'svc_max_iter': 4696, 'svc_class_weight': None, 'svc_penalty': 'l2'}. Best is trial 508 with value: 0.7968488099228964.\n",
      "[I 2023-07-21 19:45:22,256] Trial 518 finished with value: 0.794837412001341 and parameters: {'svc_c': 3.0405644227152653, 'svc_tol': 0.0874806720372152, 'svc_max_iter': 4703, 'svc_class_weight': None, 'svc_penalty': 'l2'}. Best is trial 508 with value: 0.7968488099228964.\n",
      "[I 2023-07-21 19:45:22,674] Trial 513 finished with value: 0.7950050284948039 and parameters: {'svc_c': 2.970384555412002, 'svc_tol': 0.08775367095952069, 'svc_max_iter': 4636, 'svc_class_weight': None, 'svc_penalty': 'l2'}. Best is trial 508 with value: 0.7968488099228964.\n",
      "[I 2023-07-21 19:45:22,940] Trial 530 finished with value: 0.7958431109621187 and parameters: {'svc_c': 2.8967773506706416, 'svc_tol': 0.0877460005400482, 'svc_max_iter': 4618, 'svc_class_weight': None, 'svc_penalty': 'l2'}. Best is trial 508 with value: 0.7968488099228964.\n",
      "[I 2023-07-21 19:45:23,915] Trial 534 finished with value: 0.7965135769359705 and parameters: {'svc_c': 1.3440708092265123, 'svc_tol': 0.0873073048353236, 'svc_max_iter': 4668, 'svc_class_weight': None, 'svc_penalty': 'l2'}. Best is trial 508 with value: 0.7968488099228964.\n",
      "[I 2023-07-21 19:45:23,942] Trial 521 finished with value: 0.7965135769359705 and parameters: {'svc_c': 1.4633324276726243, 'svc_tol': 0.08696923907096009, 'svc_max_iter': 4649, 'svc_class_weight': None, 'svc_penalty': 'l2'}. Best is trial 508 with value: 0.7968488099228964.\n",
      "[I 2023-07-21 19:45:24,004] Trial 525 finished with value: 0.7963459604425075 and parameters: {'svc_c': 2.82085722286276, 'svc_tol': 0.08750295774727078, 'svc_max_iter': 4695, 'svc_class_weight': None, 'svc_penalty': 'l2'}. Best is trial 508 with value: 0.7968488099228964.\n",
      "[I 2023-07-21 19:45:24,567] Trial 528 finished with value: 0.7929936305732485 and parameters: {'svc_c': 4.926733696037969, 'svc_tol': 0.08748788936209324, 'svc_max_iter': 4629, 'svc_class_weight': None, 'svc_penalty': 'l2'}. Best is trial 508 with value: 0.7968488099228964.\n",
      "[I 2023-07-21 19:45:24,775] Trial 529 finished with value: 0.7956754944686557 and parameters: {'svc_c': 0.8346272179363953, 'svc_tol': 0.08562024460166402, 'svc_max_iter': 4664, 'svc_class_weight': None, 'svc_penalty': 'l2'}. Best is trial 508 with value: 0.7968488099228964.\n",
      "[I 2023-07-21 19:45:24,790] Trial 531 finished with value: 0.794334562520952 and parameters: {'svc_c': 0.3004900852363393, 'svc_tol': 0.0865619530896293, 'svc_max_iter': 4619, 'svc_class_weight': None, 'svc_penalty': 'l2'}. Best is trial 508 with value: 0.7968488099228964.\n",
      "[I 2023-07-21 19:45:25,739] Trial 527 finished with value: 0.7918203151190077 and parameters: {'svc_c': 8.37023301606155, 'svc_tol': 0.0877924908634686, 'svc_max_iter': 4650, 'svc_class_weight': None, 'svc_penalty': 'l2'}. Best is trial 508 with value: 0.7968488099228964.\n",
      "[I 2023-07-21 19:45:26,516] Trial 541 finished with value: 0.794837412001341 and parameters: {'svc_c': 0.45288007239147765, 'svc_tol': 0.08693143746736541, 'svc_max_iter': 4620, 'svc_class_weight': None, 'svc_penalty': 'l2'}. Best is trial 508 with value: 0.7968488099228964.\n",
      "[I 2023-07-21 19:45:27,128] Trial 544 finished with value: 0.7903117666778411 and parameters: {'svc_c': 308.0993534470694, 'svc_tol': 0.08720353927134278, 'svc_max_iter': 4673, 'svc_class_weight': None, 'svc_penalty': 'l2'}. Best is trial 508 with value: 0.7968488099228964.\n",
      "[I 2023-07-21 19:45:27,142] Trial 543 finished with value: 0.794166946027489 and parameters: {'svc_c': 0.2507254306057167, 'svc_tol': 0.08759182607624176, 'svc_max_iter': 4688, 'svc_class_weight': None, 'svc_penalty': 'l2'}. Best is trial 508 with value: 0.7968488099228964.\n",
      "[I 2023-07-21 19:45:28,259] Trial 539 finished with value: 0.7889708347301374 and parameters: {'svc_c': 275.0725556370194, 'svc_tol': 0.0868422432905432, 'svc_max_iter': 4686, 'svc_class_weight': None, 'svc_penalty': 'l2'}. Best is trial 508 with value: 0.7968488099228964.\n",
      "[I 2023-07-21 19:45:28,453] Trial 536 finished with value: 0.794166946027489 and parameters: {'svc_c': 4.2273777580493075, 'svc_tol': 0.08814678573807484, 'svc_max_iter': 4659, 'svc_class_weight': None, 'svc_penalty': 'l2'}. Best is trial 508 with value: 0.7968488099228964.\n",
      "[I 2023-07-21 19:45:28,768] Trial 542 finished with value: 0.7955078779751927 and parameters: {'svc_c': 1.0845477774876793, 'svc_tol': 0.08689130593822451, 'svc_max_iter': 4674, 'svc_class_weight': None, 'svc_penalty': 'l2'}. Best is trial 508 with value: 0.7968488099228964.\n",
      "[I 2023-07-21 19:45:29,172] Trial 553 finished with value: 0.7891384512236004 and parameters: {'svc_c': 138.4024669382685, 'svc_tol': 0.08721194284907734, 'svc_max_iter': 4684, 'svc_class_weight': None, 'svc_penalty': 'l2'}. Best is trial 508 with value: 0.7968488099228964.\n",
      "[I 2023-07-21 19:45:29,440] Trial 545 finished with value: 0.790646999664767 and parameters: {'svc_c': 176.11526346756483, 'svc_tol': 0.08690124314755732, 'svc_max_iter': 4665, 'svc_class_weight': None, 'svc_penalty': 'l2'}. Best is trial 508 with value: 0.7968488099228964.\n",
      "[I 2023-07-21 19:45:29,732] Trial 533 finished with value: 0.7896413007039893 and parameters: {'svc_c': 129.6914769324788, 'svc_tol': 0.0871693191818444, 'svc_max_iter': 4645, 'svc_class_weight': None, 'svc_penalty': 'l2'}. Best is trial 508 with value: 0.7968488099228964.\n",
      "[I 2023-07-21 19:45:30,162] Trial 547 finished with value: 0.7961783439490446 and parameters: {'svc_c': 1.2592780636427, 'svc_tol': 0.0876257940551841, 'svc_max_iter': 4657, 'svc_class_weight': None, 'svc_penalty': 'l2'}. Best is trial 508 with value: 0.7968488099228964.\n",
      "[I 2023-07-21 19:45:31,262] Trial 548 finished with value: 0.7958431109621187 and parameters: {'svc_c': 1.0724510718607856, 'svc_tol': 0.08725966514523571, 'svc_max_iter': 4678, 'svc_class_weight': None, 'svc_penalty': 'l2'}. Best is trial 508 with value: 0.7968488099228964.\n",
      "[I 2023-07-21 19:45:31,462] Trial 537 finished with value: 0.7928260140797855 and parameters: {'svc_c': 5.8974308278282095, 'svc_tol': 0.08681720188128333, 'svc_max_iter': 4661, 'svc_class_weight': None, 'svc_penalty': 'l2'}. Best is trial 508 with value: 0.7968488099228964.\n",
      "[I 2023-07-21 19:45:31,734] Trial 551 finished with value: 0.7899765336909151 and parameters: {'svc_c': 399.391472136644, 'svc_tol': 0.08774111235263911, 'svc_max_iter': 4666, 'svc_class_weight': None, 'svc_penalty': 'l2'}. Best is trial 508 with value: 0.7968488099228964.\n",
      "[I 2023-07-21 19:45:32,501] Trial 549 finished with value: 0.7901441501843781 and parameters: {'svc_c': 255.41151599198298, 'svc_tol': 0.08637335528986775, 'svc_max_iter': 4678, 'svc_class_weight': None, 'svc_penalty': 'l2'}. Best is trial 508 with value: 0.7968488099228964.\n",
      "[I 2023-07-21 19:45:33,216] Trial 540 finished with value: 0.790646999664767 and parameters: {'svc_c': 261.2730983711458, 'svc_tol': 0.08686159311900772, 'svc_max_iter': 4661, 'svc_class_weight': None, 'svc_penalty': 'l2'}. Best is trial 508 with value: 0.7968488099228964.\n",
      "[I 2023-07-21 19:45:33,415] Trial 562 finished with value: 0.7956754944686557 and parameters: {'svc_c': 0.5895899659439752, 'svc_tol': 0.08591511653622154, 'svc_max_iter': 3263, 'svc_class_weight': None, 'svc_penalty': 'l2'}. Best is trial 508 with value: 0.7968488099228964.\n",
      "[I 2023-07-21 19:45:33,836] Trial 550 finished with value: 0.7899765336909151 and parameters: {'svc_c': 214.61744519207932, 'svc_tol': 0.08732923241320886, 'svc_max_iter': 4664, 'svc_class_weight': None, 'svc_penalty': 'l2'}. Best is trial 508 with value: 0.7968488099228964.\n",
      "[I 2023-07-21 19:45:33,896] Trial 535 finished with value: 0.7963459604425075 and parameters: {'svc_c': 1.8785936023404555, 'svc_tol': 0.08746089641803495, 'svc_max_iter': 4642, 'svc_class_weight': None, 'svc_penalty': 'l2'}. Best is trial 508 with value: 0.7968488099228964.\n",
      "[I 2023-07-21 19:45:34,050] Trial 538 finished with value: 0.7963459604425075 and parameters: {'svc_c': 1.8533927857766983, 'svc_tol': 0.08740651508056495, 'svc_max_iter': 4605, 'svc_class_weight': None, 'svc_penalty': 'l2'}. Best is trial 508 with value: 0.7968488099228964.\n",
      "[I 2023-07-21 19:45:34,806] Trial 558 finished with value: 0.7898089171974523 and parameters: {'svc_c': 198.14448633506817, 'svc_tol': 0.0871166062017616, 'svc_max_iter': 3337, 'svc_class_weight': None, 'svc_penalty': 'l2'}. Best is trial 508 with value: 0.7968488099228964.\n",
      "[I 2023-07-21 19:45:36,461] Trial 552 finished with value: 0.7886356017432116 and parameters: {'svc_c': 575.8178904251588, 'svc_tol': 0.08748583872422362, 'svc_max_iter': 4694, 'svc_class_weight': None, 'svc_penalty': 'l2'}. Best is trial 508 with value: 0.7968488099228964.\n",
      "[I 2023-07-21 19:45:36,481] Trial 559 finished with value: 0.794669795507878 and parameters: {'svc_c': 0.427085554608303, 'svc_tol': 0.08717607059778824, 'svc_max_iter': 3248, 'svc_class_weight': None, 'svc_penalty': 'l2'}. Best is trial 508 with value: 0.7968488099228964.\n",
      "[I 2023-07-21 19:45:36,605] Trial 563 finished with value: 0.7904793831713041 and parameters: {'svc_c': 562.0800571722127, 'svc_tol': 0.08646372811090038, 'svc_max_iter': 3181, 'svc_class_weight': None, 'svc_penalty': 'l2'}. Best is trial 508 with value: 0.7968488099228964.\n",
      "[I 2023-07-21 19:45:37,177] Trial 554 finished with value: 0.7934964800536373 and parameters: {'svc_c': 3.548091230010409, 'svc_tol': 0.08648395102454944, 'svc_max_iter': 4679, 'svc_class_weight': None, 'svc_penalty': 'l2'}. Best is trial 508 with value: 0.7968488099228964.\n",
      "[I 2023-07-21 19:45:37,317] Trial 555 finished with value: 0.7953402614817298 and parameters: {'svc_c': 1.661753136336261, 'svc_tol': 0.0866328885392803, 'svc_max_iter': 4676, 'svc_class_weight': None, 'svc_penalty': 'l2'}. Best is trial 508 with value: 0.7968488099228964.\n",
      "[I 2023-07-21 19:45:37,374] Trial 556 finished with value: 0.7963459604425075 and parameters: {'svc_c': 2.811352336782025, 'svc_tol': 0.08735739130259168, 'svc_max_iter': 3383, 'svc_class_weight': None, 'svc_penalty': 'l2'}. Best is trial 508 with value: 0.7968488099228964.\n",
      "[I 2023-07-21 19:45:37,660] Trial 546 finished with value: 0.7921555481059336 and parameters: {'svc_c': 7.986567241752005, 'svc_tol': 0.08644205598430768, 'svc_max_iter': 4681, 'svc_class_weight': None, 'svc_penalty': 'l2'}. Best is trial 508 with value: 0.7968488099228964.\n",
      "[I 2023-07-21 19:45:37,873] Trial 564 finished with value: 0.7888032182366745 and parameters: {'svc_c': 555.2866340744199, 'svc_tol': 0.08554140694608513, 'svc_max_iter': 4673, 'svc_class_weight': None, 'svc_penalty': 'l2'}. Best is trial 508 with value: 0.7968488099228964.\n",
      "[I 2023-07-21 19:45:38,612] Trial 557 finished with value: 0.7891384512236004 and parameters: {'svc_c': 356.35159919054956, 'svc_tol': 0.08734605342887244, 'svc_max_iter': 4687, 'svc_class_weight': None, 'svc_penalty': 'l2'}. Best is trial 508 with value: 0.7968488099228964.\n",
      "[I 2023-07-21 19:45:39,476] Trial 560 finished with value: 0.7951726449882669 and parameters: {'svc_c': 0.3882551298517075, 'svc_tol': 0.08643532892490638, 'svc_max_iter': 3392, 'svc_class_weight': None, 'svc_penalty': 'l2'}. Best is trial 508 with value: 0.7968488099228964.\n",
      "[I 2023-07-21 19:45:39,591] Trial 575 finished with value: 0.7894736842105263 and parameters: {'svc_c': 822.1787269250812, 'svc_tol': 0.08273055982883885, 'svc_max_iter': 4663, 'svc_class_weight': None, 'svc_penalty': 'l2'}. Best is trial 508 with value: 0.7968488099228964.\n",
      "[I 2023-07-21 19:45:40,154] Trial 565 finished with value: 0.79081461615823 and parameters: {'svc_c': 827.0523307849414, 'svc_tol': 0.08465974465939474, 'svc_max_iter': 4680, 'svc_class_weight': None, 'svc_penalty': 'l2'}. Best is trial 508 with value: 0.7968488099228964.\n",
      "[I 2023-07-21 19:45:40,470] Trial 567 finished with value: 0.7889708347301374 and parameters: {'svc_c': 343.2816534903341, 'svc_tol': 0.08551257317182978, 'svc_max_iter': 4670, 'svc_class_weight': None, 'svc_penalty': 'l2'}. Best is trial 508 with value: 0.7968488099228964.\n",
      "[I 2023-07-21 19:45:40,490] Trial 566 finished with value: 0.7893060677170634 and parameters: {'svc_c': 492.62405364472113, 'svc_tol': 0.08547133103070516, 'svc_max_iter': 3286, 'svc_class_weight': None, 'svc_penalty': 'l2'}. Best is trial 508 with value: 0.7968488099228964.\n",
      "[I 2023-07-21 19:45:41,509] Trial 568 finished with value: 0.7901441501843781 and parameters: {'svc_c': 445.75090022579724, 'svc_tol': 0.08509373214075668, 'svc_max_iter': 3065, 'svc_class_weight': None, 'svc_penalty': 'l2'}. Best is trial 508 with value: 0.7968488099228964.\n",
      "[I 2023-07-21 19:45:42,214] Trial 570 finished with value: 0.7916526986255448 and parameters: {'svc_c': 21.479747646205606, 'svc_tol': 0.08602457760128009, 'svc_max_iter': 4674, 'svc_class_weight': None, 'svc_penalty': 'l2'}. Best is trial 508 with value: 0.7968488099228964.\n",
      "[I 2023-07-21 19:45:42,401] Trial 569 finished with value: 0.7896413007039893 and parameters: {'svc_c': 212.54080481265743, 'svc_tol': 0.08443477948851542, 'svc_max_iter': 3079, 'svc_class_weight': None, 'svc_penalty': 'l2'}. Best is trial 508 with value: 0.7968488099228964.\n",
      "[I 2023-07-21 19:45:42,991] Trial 561 finished with value: 0.79081461615823 and parameters: {'svc_c': 204.1780100756509, 'svc_tol': 0.08642319082935189, 'svc_max_iter': 4679, 'svc_class_weight': None, 'svc_penalty': 'l2'}. Best is trial 508 with value: 0.7968488099228964.\n",
      "[I 2023-07-21 19:45:43,194] Trial 573 finished with value: 0.7893060677170634 and parameters: {'svc_c': 404.5755433646681, 'svc_tol': 0.08504674447523031, 'svc_max_iter': 4710, 'svc_class_weight': None, 'svc_penalty': 'l2'}. Best is trial 508 with value: 0.7968488099228964.\n",
      "[I 2023-07-21 19:45:43,967] Trial 576 finished with value: 0.7891384512236004 and parameters: {'svc_c': 322.94425085502746, 'svc_tol': 0.08448472725348354, 'svc_max_iter': 4683, 'svc_class_weight': None, 'svc_penalty': 'l2'}. Best is trial 508 with value: 0.7968488099228964.\n",
      "[I 2023-07-21 19:45:44,020] Trial 574 finished with value: 0.7903117666778411 and parameters: {'svc_c': 597.3270079852481, 'svc_tol': 0.08396267128327091, 'svc_max_iter': 3091, 'svc_class_weight': None, 'svc_penalty': 'l2'}. Best is trial 508 with value: 0.7968488099228964.\n",
      "[I 2023-07-21 19:45:45,201] Trial 571 finished with value: 0.790646999664767 and parameters: {'svc_c': 20.019917429301266, 'svc_tol': 0.0856540539235096, 'svc_max_iter': 4681, 'svc_class_weight': None, 'svc_penalty': 'l2'}. Best is trial 508 with value: 0.7968488099228964.\n",
      "[I 2023-07-21 19:45:45,212] Trial 577 finished with value: 0.7547770700636943 and parameters: {'svc_c': 742.2871824002185, 'svc_tol': 0.08467738436531749, 'svc_max_iter': 4707, 'svc_class_weight': 'balanced', 'svc_penalty': 'l2'}. Best is trial 508 with value: 0.7968488099228964.\n",
      "[I 2023-07-21 19:45:45,768] Trial 580 finished with value: 0.7309755279919544 and parameters: {'svc_c': 94.08534256540878, 'svc_tol': 0.08302593627526127, 'svc_max_iter': 4694, 'svc_class_weight': 'balanced', 'svc_penalty': 'l1'}. Best is trial 508 with value: 0.7968488099228964.\n",
      "[I 2023-07-21 19:45:46,568] Trial 583 finished with value: 0.7542742205833054 and parameters: {'svc_c': 133.40261889663324, 'svc_tol': 0.08372358106132964, 'svc_max_iter': 4699, 'svc_class_weight': 'balanced', 'svc_penalty': 'l2'}. Best is trial 508 with value: 0.7968488099228964.\n",
      "[I 2023-07-21 19:45:46,856] Trial 587 finished with value: 0.7510895072075092 and parameters: {'svc_c': 91.05679109239777, 'svc_tol': 0.05701647626287354, 'svc_max_iter': 3081, 'svc_class_weight': 'balanced', 'svc_penalty': 'l2'}. Best is trial 508 with value: 0.7968488099228964.\n",
      "[I 2023-07-21 19:45:47,771] Trial 572 finished with value: 0.7891384512236004 and parameters: {'svc_c': 297.4114703052803, 'svc_tol': 0.0853555467358949, 'svc_max_iter': 4679, 'svc_class_weight': None, 'svc_penalty': 'l2'}. Best is trial 508 with value: 0.7968488099228964.\n",
      "[I 2023-07-21 19:45:47,997] Trial 585 finished with value: 0.7554475360375461 and parameters: {'svc_c': 556.5891025976287, 'svc_tol': 0.0833306693543804, 'svc_max_iter': 4688, 'svc_class_weight': 'balanced', 'svc_penalty': 'l2'}. Best is trial 508 with value: 0.7968488099228964.\n",
      "[I 2023-07-21 19:45:48,000] Trial 582 finished with value: 0.7299698290311767 and parameters: {'svc_c': 332.7140444056363, 'svc_tol': 0.08489896340273066, 'svc_max_iter': 4660, 'svc_class_weight': 'balanced', 'svc_penalty': 'l1'}. Best is trial 508 with value: 0.7968488099228964.\n",
      "[I 2023-07-21 19:45:48,661] Trial 590 finished with value: 0.7893060677170634 and parameters: {'svc_c': 140.0802374128033, 'svc_tol': 0.0844560734875626, 'svc_max_iter': 4702, 'svc_class_weight': None, 'svc_penalty': 'l2'}. Best is trial 508 with value: 0.7968488099228964.\n",
      "[I 2023-07-21 19:45:48,758] Trial 586 finished with value: 0.7532685216225277 and parameters: {'svc_c': 156.99033130725167, 'svc_tol': 0.08444344492530016, 'svc_max_iter': 4699, 'svc_class_weight': 'balanced', 'svc_penalty': 'l2'}. Best is trial 508 with value: 0.7968488099228964.\n",
      "[I 2023-07-21 19:45:48,953] Trial 593 finished with value: 0.7547770700636943 and parameters: {'svc_c': 89.2152420882947, 'svc_tol': 0.08407758321467403, 'svc_max_iter': 4707, 'svc_class_weight': 'balanced', 'svc_penalty': 'l2'}. Best is trial 508 with value: 0.7968488099228964.\n",
      "[I 2023-07-21 19:45:49,796] Trial 581 finished with value: 0.7299698290311767 and parameters: {'svc_c': 938.0478635456391, 'svc_tol': 0.08612335583988569, 'svc_max_iter': 4697, 'svc_class_weight': 'balanced', 'svc_penalty': 'l1'}. Best is trial 508 with value: 0.7968488099228964.\n",
      "[I 2023-07-21 19:45:50,108] Trial 589 finished with value: 0.7556151525310091 and parameters: {'svc_c': 191.3133141995719, 'svc_tol': 0.08519195269837071, 'svc_max_iter': 3124, 'svc_class_weight': 'balanced', 'svc_penalty': 'l2'}. Best is trial 508 with value: 0.7968488099228964.\n",
      "[I 2023-07-21 19:45:50,288] Trial 579 finished with value: 0.7314783774723432 and parameters: {'svc_c': 544.5876640918242, 'svc_tol': 0.08371894074830868, 'svc_max_iter': 4713, 'svc_class_weight': 'balanced', 'svc_penalty': 'l1'}. Best is trial 508 with value: 0.7968488099228964.\n",
      "[I 2023-07-21 19:45:51,265] Trial 596 finished with value: 0.7271203486423065 and parameters: {'svc_c': 576.5550344304205, 'svc_tol': 0.08497864477412884, 'svc_max_iter': 4728, 'svc_class_weight': 'balanced', 'svc_penalty': 'l1'}. Best is trial 508 with value: 0.7968488099228964.\n",
      "[I 2023-07-21 19:45:51,459] Trial 602 finished with value: 0.7514247401944352 and parameters: {'svc_c': 360.87895073234256, 'svc_tol': 0.0844360385225101, 'svc_max_iter': 3038, 'svc_class_weight': None, 'svc_penalty': 'l1'}. Best is trial 508 with value: 0.7968488099228964.\n",
      "[I 2023-07-21 19:45:51,689] Trial 578 finished with value: 0.7308079114984914 and parameters: {'svc_c': 339.3731977383081, 'svc_tol': 0.08373422973642874, 'svc_max_iter': 4701, 'svc_class_weight': 'balanced', 'svc_penalty': 'l1'}. Best is trial 508 with value: 0.7968488099228964.\n",
      "[I 2023-07-21 19:45:52,405] Trial 584 finished with value: 0.7294669795507878 and parameters: {'svc_c': 421.14374486725984, 'svc_tol': 0.08468975151252847, 'svc_max_iter': 4702, 'svc_class_weight': 'balanced', 'svc_penalty': 'l1'}. Best is trial 508 with value: 0.7968488099228964.\n",
      "[I 2023-07-21 19:45:53,106] Trial 607 finished with value: 0.7551123030506202 and parameters: {'svc_c': 134.53235160856616, 'svc_tol': 0.0859861920995895, 'svc_max_iter': 3112, 'svc_class_weight': 'balanced', 'svc_penalty': 'l2'}. Best is trial 508 with value: 0.7968488099228964.\n",
      "[I 2023-07-21 19:45:53,170] Trial 592 finished with value: 0.728628897083473 and parameters: {'svc_c': 528.2125301842552, 'svc_tol': 0.08545907298693055, 'svc_max_iter': 4698, 'svc_class_weight': 'balanced', 'svc_penalty': 'l1'}. Best is trial 508 with value: 0.7968488099228964.\n",
      "[I 2023-07-21 19:45:53,187] Trial 588 finished with value: 0.7274555816292323 and parameters: {'svc_c': 912.5167811210138, 'svc_tol': 0.08469131849542587, 'svc_max_iter': 4682, 'svc_class_weight': 'balanced', 'svc_penalty': 'l1'}. Best is trial 508 with value: 0.7968488099228964.\n",
      "[I 2023-07-21 19:45:53,387] Trial 605 finished with value: 0.7291317465638619 and parameters: {'svc_c': 334.9800869467365, 'svc_tol': 0.08502572847654538, 'svc_max_iter': 4705, 'svc_class_weight': 'balanced', 'svc_penalty': 'l1'}. Best is trial 508 with value: 0.7968488099228964.\n",
      "[I 2023-07-21 19:45:54,107] Trial 609 finished with value: 0.7537713711029165 and parameters: {'svc_c': 204.6987636888387, 'svc_tol': 0.08462531348886318, 'svc_max_iter': 4700, 'svc_class_weight': None, 'svc_penalty': 'l1'}. Best is trial 508 with value: 0.7968488099228964.\n",
      "[I 2023-07-21 19:45:55,584] Trial 591 finished with value: 0.7304726785115655 and parameters: {'svc_c': 434.12765360191776, 'svc_tol': 0.0840105113401913, 'svc_max_iter': 4686, 'svc_class_weight': 'balanced', 'svc_penalty': 'l1'}. Best is trial 508 with value: 0.7968488099228964.\n",
      "[I 2023-07-21 19:45:55,591] Trial 612 finished with value: 0.7546094535702313 and parameters: {'svc_c': 24.048622107333383, 'svc_tol': 0.0834526307933261, 'svc_max_iter': 3073, 'svc_class_weight': 'balanced', 'svc_penalty': 'l2'}. Best is trial 508 with value: 0.7968488099228964.\n",
      "[I 2023-07-21 19:45:56,216] Trial 616 finished with value: 0.7898089171974523 and parameters: {'svc_c': 438.1759673446894, 'svc_tol': 0.08468659587432294, 'svc_max_iter': 3155, 'svc_class_weight': None, 'svc_penalty': 'l2'}. Best is trial 508 with value: 0.7968488099228964.\n",
      "[I 2023-07-21 19:45:56,591] Trial 594 finished with value: 0.7385182701977875 and parameters: {'svc_c': 25.582649618958605, 'svc_tol': 0.08475689063977752, 'svc_max_iter': 4689, 'svc_class_weight': 'balanced', 'svc_penalty': 'l1'}. Best is trial 508 with value: 0.7968488099228964.\n",
      "[I 2023-07-21 19:45:57,108] Trial 619 finished with value: 0.7884679852497486 and parameters: {'svc_c': 434.4519960868816, 'svc_tol': 0.0846445609574254, 'svc_max_iter': 4712, 'svc_class_weight': None, 'svc_penalty': 'l2'}. Best is trial 508 with value: 0.7968488099228964.\n",
      "[I 2023-07-21 19:45:57,118] Trial 597 finished with value: 0.728628897083473 and parameters: {'svc_c': 388.8428679448165, 'svc_tol': 0.08476253803816011, 'svc_max_iter': 4729, 'svc_class_weight': 'balanced', 'svc_penalty': 'l1'}. Best is trial 508 with value: 0.7968488099228964.\n",
      "[I 2023-07-21 19:45:57,225] Trial 598 finished with value: 0.7509218907140462 and parameters: {'svc_c': 498.4522200663923, 'svc_tol': 0.06713915428854494, 'svc_max_iter': 4696, 'svc_class_weight': None, 'svc_penalty': 'l1'}. Best is trial 508 with value: 0.7968488099228964.\n",
      "[I 2023-07-21 19:45:57,269] Trial 600 finished with value: 0.7502514247401945 and parameters: {'svc_c': 720.0626621131054, 'svc_tol': 0.08511709733217084, 'svc_max_iter': 4702, 'svc_class_weight': None, 'svc_penalty': 'l1'}. Best is trial 508 with value: 0.7968488099228964.\n",
      "[I 2023-07-21 19:45:57,547] Trial 617 finished with value: 0.7888032182366745 and parameters: {'svc_c': 562.6359276810042, 'svc_tol': 0.08444132426760648, 'svc_max_iter': 4719, 'svc_class_weight': None, 'svc_penalty': 'l2'}. Best is trial 508 with value: 0.7968488099228964.\n",
      "[I 2023-07-21 19:45:57,746] Trial 614 finished with value: 0.7338250083808247 and parameters: {'svc_c': 175.73168871945478, 'svc_tol': 0.08512384789269675, 'svc_max_iter': 4695, 'svc_class_weight': 'balanced', 'svc_penalty': 'l1'}. Best is trial 508 with value: 0.7968488099228964.\n",
      "[I 2023-07-21 19:45:58,025] Trial 608 finished with value: 0.7296345960442507 and parameters: {'svc_c': 544.4608004367935, 'svc_tol': 0.08468345856493643, 'svc_max_iter': 3113, 'svc_class_weight': 'balanced', 'svc_penalty': 'l1'}. Best is trial 508 with value: 0.7968488099228964.\n",
      "[I 2023-07-21 19:45:58,353] Trial 611 finished with value: 0.7564532349983238 and parameters: {'svc_c': 25.80714036793631, 'svc_tol': 0.0847304574592171, 'svc_max_iter': 4712, 'svc_class_weight': 'balanced', 'svc_penalty': 'l2'}. Best is trial 508 with value: 0.7968488099228964.\n",
      "[I 2023-07-21 19:45:59,008] Trial 604 finished with value: 0.7318136104592692 and parameters: {'svc_c': 282.37735252586634, 'svc_tol': 0.08542638475535914, 'svc_max_iter': 3104, 'svc_class_weight': 'balanced', 'svc_penalty': 'l1'}. Best is trial 508 with value: 0.7968488099228964.\n",
      "[I 2023-07-21 19:45:59,059] Trial 603 finished with value: 0.7536037546094536 and parameters: {'svc_c': 392.7979138308134, 'svc_tol': 0.08525259427553375, 'svc_max_iter': 4694, 'svc_class_weight': None, 'svc_penalty': 'l1'}. Best is trial 508 with value: 0.7968488099228964.\n",
      "[I 2023-07-21 19:45:59,299] Trial 595 finished with value: 0.7311431444854174 and parameters: {'svc_c': 423.0342334042429, 'svc_tol': 0.08402756384617914, 'svc_max_iter': 4677, 'svc_class_weight': 'balanced', 'svc_penalty': 'l1'}. Best is trial 508 with value: 0.7968488099228964.\n",
      "[I 2023-07-21 19:45:59,376] Trial 606 finished with value: 0.7316459939658062 and parameters: {'svc_c': 90.54094573464096, 'svc_tol': 0.08516025290164234, 'svc_max_iter': 4677, 'svc_class_weight': 'balanced', 'svc_penalty': 'l1'}. Best is trial 508 with value: 0.7968488099228964.\n",
      "[I 2023-07-21 19:45:59,510] Trial 599 finished with value: 0.7296345960442507 and parameters: {'svc_c': 402.4476083556491, 'svc_tol': 0.084501939418867, 'svc_max_iter': 3073, 'svc_class_weight': 'balanced', 'svc_penalty': 'l1'}. Best is trial 508 with value: 0.7968488099228964.\n",
      "[I 2023-07-21 19:46:01,220] Trial 601 finished with value: 0.7309755279919544 and parameters: {'svc_c': 288.74919375761345, 'svc_tol': 0.08512854622864631, 'svc_max_iter': 4722, 'svc_class_weight': 'balanced', 'svc_penalty': 'l1'}. Best is trial 508 with value: 0.7968488099228964.\n",
      "[I 2023-07-21 19:46:02,323] Trial 621 finished with value: 0.7277908146161582 and parameters: {'svc_c': 921.9273297437189, 'svc_tol': 0.08443490266511496, 'svc_max_iter': 3264, 'svc_class_weight': 'balanced', 'svc_penalty': 'l1'}. Best is trial 508 with value: 0.7968488099228964.\n",
      "[I 2023-07-21 19:46:02,363] Trial 610 finished with value: 0.7326516929265839 and parameters: {'svc_c': 223.56347004807037, 'svc_tol': 0.0841296456299588, 'svc_max_iter': 4747, 'svc_class_weight': 'balanced', 'svc_penalty': 'l1'}. Best is trial 508 with value: 0.7968488099228964.\n",
      "[I 2023-07-21 19:46:03,056] Trial 613 finished with value: 0.7316459939658062 and parameters: {'svc_c': 389.0216559481726, 'svc_tol': 0.08308179484001041, 'svc_max_iter': 4714, 'svc_class_weight': 'balanced', 'svc_penalty': 'l1'}. Best is trial 508 with value: 0.7968488099228964.\n",
      "[I 2023-07-21 19:46:04,335] Trial 618 finished with value: 0.7299698290311767 and parameters: {'svc_c': 264.2538848148032, 'svc_tol': 0.0844583956225517, 'svc_max_iter': 4749, 'svc_class_weight': 'balanced', 'svc_penalty': 'l1'}. Best is trial 508 with value: 0.7968488099228964.\n",
      "[I 2023-07-21 19:46:05,798] Trial 615 finished with value: 0.7304726785115655 and parameters: {'svc_c': 270.83235470585424, 'svc_tol': 0.08380522156420443, 'svc_max_iter': 4739, 'svc_class_weight': 'balanced', 'svc_penalty': 'l1'}. Best is trial 508 with value: 0.7968488099228964.\n",
      "[I 2023-07-21 19:46:06,039] Trial 635 finished with value: 0.7886356017432116 and parameters: {'svc_c': 146.47364220159216, 'svc_tol': 0.08298807601180185, 'svc_max_iter': 4741, 'svc_class_weight': None, 'svc_penalty': 'l2'}. Best is trial 508 with value: 0.7968488099228964.\n",
      "[I 2023-07-21 19:46:06,257] Trial 620 finished with value: 0.7294669795507878 and parameters: {'svc_c': 465.6375603968301, 'svc_tol': 0.08274393931981412, 'svc_max_iter': 4714, 'svc_class_weight': 'balanced', 'svc_penalty': 'l1'}. Best is trial 508 with value: 0.7968488099228964.\n",
      "[I 2023-07-21 19:46:06,676] Trial 624 finished with value: 0.7303050620181026 and parameters: {'svc_c': 643.6303182921123, 'svc_tol': 0.08286219457464356, 'svc_max_iter': 4703, 'svc_class_weight': 'balanced', 'svc_penalty': 'l1'}. Best is trial 508 with value: 0.7968488099228964.\n",
      "[I 2023-07-21 19:46:06,880] Trial 625 finished with value: 0.7319812269527322 and parameters: {'svc_c': 196.80283389248908, 'svc_tol': 0.08466907410509097, 'svc_max_iter': 3084, 'svc_class_weight': 'balanced', 'svc_penalty': 'l1'}. Best is trial 508 with value: 0.7968488099228964.\n",
      "[I 2023-07-21 19:46:06,978] Trial 640 finished with value: 0.7522628226617499 and parameters: {'svc_c': 383.9482948384023, 'svc_tol': 0.08421397725901456, 'svc_max_iter': 3190, 'svc_class_weight': 'balanced', 'svc_penalty': 'l2'}. Best is trial 508 with value: 0.7968488099228964.\n",
      "[I 2023-07-21 19:46:07,382] Trial 626 finished with value: 0.7299698290311767 and parameters: {'svc_c': 191.01107506867777, 'svc_tol': 0.08476929605431179, 'svc_max_iter': 3194, 'svc_class_weight': 'balanced', 'svc_penalty': 'l1'}. Best is trial 508 with value: 0.7968488099228964.\n",
      "[I 2023-07-21 19:46:07,512] Trial 623 finished with value: 0.736339255782769 and parameters: {'svc_c': 32.86674872253985, 'svc_tol': 0.0849323019244067, 'svc_max_iter': 4715, 'svc_class_weight': 'balanced', 'svc_penalty': 'l1'}. Best is trial 508 with value: 0.7968488099228964.\n",
      "[I 2023-07-21 19:46:07,607] Trial 622 finished with value: 0.7298022125377137 and parameters: {'svc_c': 879.7420941787245, 'svc_tol': 0.08333684594996198, 'svc_max_iter': 4713, 'svc_class_weight': 'balanced', 'svc_penalty': 'l1'}. Best is trial 508 with value: 0.7968488099228964.\n",
      "[I 2023-07-21 19:46:07,834] Trial 643 finished with value: 0.7554475360375461 and parameters: {'svc_c': 338.3184974820335, 'svc_tol': 0.08463136548201432, 'svc_max_iter': 4909, 'svc_class_weight': 'balanced', 'svc_penalty': 'l2'}. Best is trial 508 with value: 0.7968488099228964.\n",
      "[I 2023-07-21 19:46:08,550] Trial 627 finished with value: 0.7277908146161582 and parameters: {'svc_c': 214.79919435358318, 'svc_tol': 0.08511392293923176, 'svc_max_iter': 4720, 'svc_class_weight': 'balanced', 'svc_penalty': 'l1'}. Best is trial 508 with value: 0.7968488099228964.\n",
      "[I 2023-07-21 19:46:08,723] Trial 628 finished with value: 0.7303050620181026 and parameters: {'svc_c': 653.4126050891566, 'svc_tol': 0.08504041102905642, 'svc_max_iter': 3124, 'svc_class_weight': 'balanced', 'svc_penalty': 'l1'}. Best is trial 508 with value: 0.7968488099228964.\n",
      "[I 2023-07-21 19:46:09,225] Trial 632 finished with value: 0.7537713711029165 and parameters: {'svc_c': 257.5153171327107, 'svc_tol': 0.08450968017056121, 'svc_max_iter': 4737, 'svc_class_weight': None, 'svc_penalty': 'l1'}. Best is trial 508 with value: 0.7968488099228964.\n",
      "[I 2023-07-21 19:46:09,495] Trial 630 finished with value: 0.7298022125377137 and parameters: {'svc_c': 225.27490730912842, 'svc_tol': 0.08458685813963383, 'svc_max_iter': 4719, 'svc_class_weight': 'balanced', 'svc_penalty': 'l1'}. Best is trial 508 with value: 0.7968488099228964.\n",
      "[I 2023-07-21 19:46:10,298] Trial 642 finished with value: 0.7894736842105263 and parameters: {'svc_c': 793.7744728967248, 'svc_tol': 0.08528245506079464, 'svc_max_iter': 4716, 'svc_class_weight': None, 'svc_penalty': 'l2'}. Best is trial 508 with value: 0.7968488099228964.\n",
      "[I 2023-07-21 19:46:10,970] Trial 634 finished with value: 0.7536037546094536 and parameters: {'svc_c': 312.75436563210985, 'svc_tol': 0.08378236131411886, 'svc_max_iter': 4728, 'svc_class_weight': None, 'svc_penalty': 'l1'}. Best is trial 508 with value: 0.7968488099228964.\n",
      "[I 2023-07-21 19:46:11,073] Trial 646 finished with value: 0.7586322494133423 and parameters: {'svc_c': 28.772729663836785, 'svc_tol': 0.08308501004455501, 'svc_max_iter': 3083, 'svc_class_weight': 'balanced', 'svc_penalty': 'l2'}. Best is trial 508 with value: 0.7968488099228964.\n",
      "[I 2023-07-21 19:46:11,415] Trial 633 finished with value: 0.7376801877304727 and parameters: {'svc_c': 27.56951475400054, 'svc_tol': 0.08481702030733336, 'svc_max_iter': 3141, 'svc_class_weight': 'balanced', 'svc_penalty': 'l1'}. Best is trial 508 with value: 0.7968488099228964.\n",
      "[I 2023-07-21 19:46:11,750] Trial 631 finished with value: 0.728628897083473 and parameters: {'svc_c': 999.6296027387384, 'svc_tol': 0.08173570280103318, 'svc_max_iter': 3131, 'svc_class_weight': 'balanced', 'svc_penalty': 'l1'}. Best is trial 508 with value: 0.7968488099228964.\n",
      "[I 2023-07-21 19:46:11,839] Trial 641 finished with value: 0.7314783774723432 and parameters: {'svc_c': 220.46728245956209, 'svc_tol': 0.08307280338015113, 'svc_max_iter': 3256, 'svc_class_weight': 'balanced', 'svc_penalty': 'l1'}. Best is trial 508 with value: 0.7968488099228964.\n",
      "[I 2023-07-21 19:46:11,890] Trial 638 finished with value: 0.7547770700636943 and parameters: {'svc_c': 132.890255711387, 'svc_tol': 0.08432588968876338, 'svc_max_iter': 3116, 'svc_class_weight': None, 'svc_penalty': 'l1'}. Best is trial 508 with value: 0.7968488099228964.\n",
      "[I 2023-07-21 19:46:12,627] Trial 636 finished with value: 0.7306402950050285 and parameters: {'svc_c': 143.91617900229835, 'svc_tol': 0.08329936212326831, 'svc_max_iter': 4722, 'svc_class_weight': 'balanced', 'svc_penalty': 'l1'}. Best is trial 508 with value: 0.7968488099228964.\n",
      "[I 2023-07-21 19:46:13,367] Trial 658 finished with value: 0.7546094535702313 and parameters: {'svc_c': 91.20171622670199, 'svc_tol': 0.08498096427960587, 'svc_max_iter': 3105, 'svc_class_weight': 'balanced', 'svc_penalty': 'l2'}. Best is trial 508 with value: 0.7968488099228964.\n",
      "[I 2023-07-21 19:46:13,644] Trial 639 finished with value: 0.7539389875963795 and parameters: {'svc_c': 336.24414432296726, 'svc_tol': 0.083532848183755, 'svc_max_iter': 4743, 'svc_class_weight': None, 'svc_penalty': 'l1'}. Best is trial 508 with value: 0.7968488099228964.\n",
      "[I 2023-07-21 19:46:14,499] Trial 648 finished with value: 0.7587998659068053 and parameters: {'svc_c': 311.9071223167214, 'svc_tol': 0.08430817652812395, 'svc_max_iter': 2983, 'svc_class_weight': 'balanced', 'svc_penalty': 'l2'}. Best is trial 508 with value: 0.7968488099228964.\n",
      "[I 2023-07-21 19:46:15,103] Trial 629 finished with value: 0.7277908146161582 and parameters: {'svc_c': 454.5241654821201, 'svc_tol': 0.08522011044657739, 'svc_max_iter': 4727, 'svc_class_weight': 'balanced', 'svc_penalty': 'l1'}. Best is trial 508 with value: 0.7968488099228964.\n",
      "[I 2023-07-21 19:46:15,211] Trial 655 finished with value: 0.7572913174656386 and parameters: {'svc_c': 410.15453622687266, 'svc_tol': 0.08319908969364997, 'svc_max_iter': 4728, 'svc_class_weight': 'balanced', 'svc_penalty': 'l2'}. Best is trial 508 with value: 0.7968488099228964.\n",
      "[I 2023-07-21 19:46:16,015] Trial 649 finished with value: 0.7524304391552129 and parameters: {'svc_c': 235.81938804744257, 'svc_tol': 0.08442736325874628, 'svc_max_iter': 3256, 'svc_class_weight': None, 'svc_penalty': 'l1'}. Best is trial 508 with value: 0.7968488099228964.\n",
      "[I 2023-07-21 19:46:16,027] Trial 659 finished with value: 0.7554475360375461 and parameters: {'svc_c': 407.68955652210366, 'svc_tol': 0.08334606363434802, 'svc_max_iter': 4731, 'svc_class_weight': 'balanced', 'svc_penalty': 'l2'}. Best is trial 508 with value: 0.7968488099228964.\n",
      "[I 2023-07-21 19:46:16,069] Trial 657 finished with value: 0.7903117666778411 and parameters: {'svc_c': 177.3482827174322, 'svc_tol': 0.08359292883845777, 'svc_max_iter': 4918, 'svc_class_weight': None, 'svc_penalty': 'l2'}. Best is trial 508 with value: 0.7968488099228964.\n",
      "[I 2023-07-21 19:46:16,476] Trial 644 finished with value: 0.752095206168287 and parameters: {'svc_c': 327.3386394542198, 'svc_tol': 0.08434384128662294, 'svc_max_iter': 4891, 'svc_class_weight': None, 'svc_penalty': 'l1'}. Best is trial 508 with value: 0.7968488099228964.\n",
      "[I 2023-07-21 19:46:16,545] Trial 637 finished with value: 0.72846128059001 and parameters: {'svc_c': 570.4879583222465, 'svc_tol': 0.08450066056278002, 'svc_max_iter': 2848, 'svc_class_weight': 'balanced', 'svc_penalty': 'l1'}. Best is trial 508 with value: 0.7968488099228964.\n",
      "[I 2023-07-21 19:46:16,561] Trial 645 finished with value: 0.7261146496815286 and parameters: {'svc_c': 523.9333913900365, 'svc_tol': 0.08470092238963342, 'svc_max_iter': 3084, 'svc_class_weight': 'balanced', 'svc_penalty': 'l1'}. Best is trial 508 with value: 0.7968488099228964.\n",
      "[I 2023-07-21 19:46:17,063] Trial 664 finished with value: 0.7571237009721756 and parameters: {'svc_c': 439.75648328978417, 'svc_tol': 0.08042031146928906, 'svc_max_iter': 2912, 'svc_class_weight': 'balanced', 'svc_penalty': 'l2'}. Best is trial 508 with value: 0.7968488099228964.\n",
      "[I 2023-07-21 19:46:18,037] Trial 647 finished with value: 0.7311431444854174 and parameters: {'svc_c': 316.51694535357944, 'svc_tol': 0.0845724340485531, 'svc_max_iter': 2908, 'svc_class_weight': 'balanced', 'svc_penalty': 'l1'}. Best is trial 508 with value: 0.7968488099228964.\n",
      "[I 2023-07-21 19:46:18,319] Trial 661 finished with value: 0.7552799195440831 and parameters: {'svc_c': 165.37243519821013, 'svc_tol': 0.08414998135868407, 'svc_max_iter': 3006, 'svc_class_weight': 'balanced', 'svc_penalty': 'l2'}. Best is trial 508 with value: 0.7968488099228964.\n",
      "[I 2023-07-21 19:46:18,529] Trial 651 finished with value: 0.7276231981226953 and parameters: {'svc_c': 397.60068268639066, 'svc_tol': 0.0837857784549867, 'svc_max_iter': 4876, 'svc_class_weight': 'balanced', 'svc_penalty': 'l1'}. Best is trial 508 with value: 0.7968488099228964.\n",
      "[I 2023-07-21 19:46:18,920] Trial 654 finished with value: 0.7531009051290647 and parameters: {'svc_c': 204.84762820563398, 'svc_tol': 0.08406852505426156, 'svc_max_iter': 4869, 'svc_class_weight': None, 'svc_penalty': 'l1'}. Best is trial 508 with value: 0.7968488099228964.\n",
      "[I 2023-07-21 19:46:18,993] Trial 667 finished with value: 0.7541066040898424 and parameters: {'svc_c': 909.4669681385649, 'svc_tol': 0.08405990055924269, 'svc_max_iter': 4882, 'svc_class_weight': 'balanced', 'svc_penalty': 'l2'}. Best is trial 508 with value: 0.7968488099228964.\n",
      "[I 2023-07-21 19:46:19,042] Trial 652 finished with value: 0.7299698290311767 and parameters: {'svc_c': 829.5445087884036, 'svc_tol': 0.08344408428854197, 'svc_max_iter': 3064, 'svc_class_weight': 'balanced', 'svc_penalty': 'l1'}. Best is trial 508 with value: 0.7968488099228964.\n",
      "[I 2023-07-21 19:46:21,502] Trial 653 finished with value: 0.7316459939658062 and parameters: {'svc_c': 229.36901644393166, 'svc_tol': 0.0840875438932794, 'svc_max_iter': 3055, 'svc_class_weight': 'balanced', 'svc_penalty': 'l1'}. Best is trial 508 with value: 0.7968488099228964.\n",
      "[I 2023-07-21 19:46:21,585] Trial 669 finished with value: 0.7541066040898424 and parameters: {'svc_c': 98.83642604613752, 'svc_tol': 0.08244383868773539, 'svc_max_iter': 4896, 'svc_class_weight': 'balanced', 'svc_penalty': 'l2'}. Best is trial 508 with value: 0.7968488099228964.\n",
      "[I 2023-07-21 19:46:22,714] Trial 665 finished with value: 0.7316459939658062 and parameters: {'svc_c': 135.67596553705778, 'svc_tol': 0.08188962528513763, 'svc_max_iter': 4921, 'svc_class_weight': 'balanced', 'svc_penalty': 'l1'}. Best is trial 508 with value: 0.7968488099228964.\n",
      "[I 2023-07-21 19:46:22,839] Trial 650 finished with value: 0.7298022125377137 and parameters: {'svc_c': 437.7550316892525, 'svc_tol': 0.0834576128171434, 'svc_max_iter': 3168, 'svc_class_weight': 'balanced', 'svc_penalty': 'l1'}. Best is trial 508 with value: 0.7968488099228964.\n",
      "[I 2023-07-21 19:46:22,849] Trial 660 finished with value: 0.7292993630573248 and parameters: {'svc_c': 543.1096051378162, 'svc_tol': 0.08340002654811399, 'svc_max_iter': 2945, 'svc_class_weight': 'balanced', 'svc_penalty': 'l1'}. Best is trial 508 with value: 0.7968488099228964.\n",
      "[I 2023-07-21 19:46:23,242] Trial 672 finished with value: 0.728628897083473 and parameters: {'svc_c': 593.4390409377958, 'svc_tol': 0.08428158731330372, 'svc_max_iter': 4897, 'svc_class_weight': 'balanced', 'svc_penalty': 'l1'}. Best is trial 508 with value: 0.7968488099228964.\n",
      "[I 2023-07-21 19:46:24,165] Trial 666 finished with value: 0.7525980556486759 and parameters: {'svc_c': 275.02330347217395, 'svc_tol': 0.08345656584354863, 'svc_max_iter': 3205, 'svc_class_weight': None, 'svc_penalty': 'l1'}. Best is trial 508 with value: 0.7968488099228964.\n",
      "[I 2023-07-21 19:46:24,192] Trial 662 finished with value: 0.7500838082467315 and parameters: {'svc_c': 582.6362866226195, 'svc_tol': 0.08389786876248823, 'svc_max_iter': 4895, 'svc_class_weight': None, 'svc_penalty': 'l1'}. Best is trial 508 with value: 0.7968488099228964.\n",
      "[I 2023-07-21 19:46:24,276] Trial 674 finished with value: 0.7552799195440831 and parameters: {'svc_c': 391.76859209786113, 'svc_tol': 0.08281370491592725, 'svc_max_iter': 4752, 'svc_class_weight': 'balanced', 'svc_penalty': 'l2'}. Best is trial 508 with value: 0.7968488099228964.\n",
      "[I 2023-07-21 19:46:24,690] Trial 656 finished with value: 0.736674488769695 and parameters: {'svc_c': 29.61844990449268, 'svc_tol': 0.08484260858000214, 'svc_max_iter': 4731, 'svc_class_weight': 'balanced', 'svc_penalty': 'l1'}. Best is trial 508 with value: 0.7968488099228964.\n",
      "[I 2023-07-21 19:46:25,046] Trial 677 finished with value: 0.7556151525310091 and parameters: {'svc_c': 456.43419915340655, 'svc_tol': 0.08173872464848261, 'svc_max_iter': 2830, 'svc_class_weight': 'balanced', 'svc_penalty': 'l2'}. Best is trial 508 with value: 0.7968488099228964.\n",
      "[I 2023-07-21 19:46:25,163] Trial 673 finished with value: 0.7557827690244721 and parameters: {'svc_c': 197.98894995859604, 'svc_tol': 0.08310337380754577, 'svc_max_iter': 2870, 'svc_class_weight': None, 'svc_penalty': 'l1'}. Best is trial 508 with value: 0.7968488099228964.\n",
      "[I 2023-07-21 19:46:25,341] Trial 668 finished with value: 0.7542742205833054 and parameters: {'svc_c': 93.29822373825449, 'svc_tol': 0.0841785859785224, 'svc_max_iter': 4899, 'svc_class_weight': None, 'svc_penalty': 'l1'}. Best is trial 508 with value: 0.7968488099228964.\n",
      "[I 2023-07-21 19:46:25,778] Trial 670 finished with value: 0.7532685216225277 and parameters: {'svc_c': 379.824930858704, 'svc_tol': 0.08379145118448947, 'svc_max_iter': 4870, 'svc_class_weight': None, 'svc_penalty': 'l1'}. Best is trial 508 with value: 0.7968488099228964.\n",
      "[I 2023-07-21 19:46:26,029] Trial 675 finished with value: 0.7522628226617499 and parameters: {'svc_c': 99.79881928239894, 'svc_tol': 0.08340983054490511, 'svc_max_iter': 4914, 'svc_class_weight': 'balanced', 'svc_penalty': 'l2'}. Best is trial 508 with value: 0.7968488099228964.\n",
      "[I 2023-07-21 19:46:27,093] Trial 663 finished with value: 0.7277908146161582 and parameters: {'svc_c': 443.55350724958777, 'svc_tol': 0.08268075049794724, 'svc_max_iter': 3231, 'svc_class_weight': 'balanced', 'svc_penalty': 'l1'}. Best is trial 508 with value: 0.7968488099228964.\n",
      "[I 2023-07-21 19:46:27,318] Trial 693 finished with value: 0.7894736842105263 and parameters: {'svc_c': 30.11261310276642, 'svc_tol': 0.0813504431069818, 'svc_max_iter': 4902, 'svc_class_weight': None, 'svc_penalty': 'l2'}. Best is trial 508 with value: 0.7968488099228964.\n",
      "[I 2023-07-21 19:46:28,021] Trial 684 finished with value: 0.7903117666778411 and parameters: {'svc_c': 93.20409956787842, 'svc_tol': 0.08367579897956022, 'svc_max_iter': 4425, 'svc_class_weight': None, 'svc_penalty': 'l2'}. Best is trial 508 with value: 0.7968488099228964.\n",
      "[I 2023-07-21 19:46:28,181] Trial 691 finished with value: 0.7562856185048609 and parameters: {'svc_c': 407.9294754229887, 'svc_tol': 0.08131779461636426, 'svc_max_iter': 4899, 'svc_class_weight': 'balanced', 'svc_penalty': 'l2'}. Best is trial 508 with value: 0.7968488099228964.\n",
      "[I 2023-07-21 19:46:28,383] Trial 686 finished with value: 0.7549446865571572 and parameters: {'svc_c': 933.7430761826519, 'svc_tol': 0.08301970042641565, 'svc_max_iter': 3014, 'svc_class_weight': 'balanced', 'svc_penalty': 'l2'}. Best is trial 508 with value: 0.7968488099228964.\n",
      "[I 2023-07-21 19:46:28,579] Trial 671 finished with value: 0.728628897083473 and parameters: {'svc_c': 737.6920951056574, 'svc_tol': 0.0823530554142966, 'svc_max_iter': 4758, 'svc_class_weight': 'balanced', 'svc_penalty': 'l1'}. Best is trial 508 with value: 0.7968488099228964.\n",
      "[I 2023-07-21 19:46:29,287] Trial 680 finished with value: 0.7562856185048609 and parameters: {'svc_c': 153.33859087949858, 'svc_tol': 0.08323023863987829, 'svc_max_iter': 4902, 'svc_class_weight': None, 'svc_penalty': 'l1'}. Best is trial 508 with value: 0.7968488099228964.\n",
      "[I 2023-07-21 19:46:30,325] Trial 687 finished with value: 0.7576265504525646 and parameters: {'svc_c': 223.85669263543895, 'svc_tol': 0.08326277002430758, 'svc_max_iter': 3002, 'svc_class_weight': 'balanced', 'svc_penalty': 'l2'}. Best is trial 508 with value: 0.7968488099228964.\n",
      "[I 2023-07-21 19:46:30,723] Trial 676 finished with value: 0.7378478042239356 and parameters: {'svc_c': 30.40092195200416, 'svc_tol': 0.08320680007333503, 'svc_max_iter': 3022, 'svc_class_weight': 'balanced', 'svc_penalty': 'l1'}. Best is trial 508 with value: 0.7968488099228964.\n",
      "[I 2023-07-21 19:46:30,725] Trial 679 finished with value: 0.7525980556486759 and parameters: {'svc_c': 306.11053139508897, 'svc_tol': 0.08426780078327986, 'svc_max_iter': 3107, 'svc_class_weight': None, 'svc_penalty': 'l1'}. Best is trial 508 with value: 0.7968488099228964.\n",
      "[I 2023-07-21 19:46:31,508] Trial 682 finished with value: 0.763660744217231 and parameters: {'svc_c': 30.672271847934283, 'svc_tol': 0.08443387589018846, 'svc_max_iter': 4417, 'svc_class_weight': None, 'svc_penalty': 'l1'}. Best is trial 508 with value: 0.7968488099228964.\n",
      "[I 2023-07-21 19:46:31,824] Trial 678 finished with value: 0.7292993630573248 and parameters: {'svc_c': 727.5140374353767, 'svc_tol': 0.0834045773024003, 'svc_max_iter': 2987, 'svc_class_weight': 'balanced', 'svc_penalty': 'l1'}. Best is trial 508 with value: 0.7968488099228964.\n",
      "[I 2023-07-21 19:46:33,621] Trial 711 finished with value: 0.7809252430439155 and parameters: {'svc_c': 117.92434305002928, 'svc_tol': 0.0375507206643527, 'svc_max_iter': 4891, 'svc_class_weight': None, 'svc_penalty': 'l2'}. Best is trial 508 with value: 0.7968488099228964.\n",
      "[I 2023-07-21 19:46:34,239] Trial 702 finished with value: 0.7903117666778411 and parameters: {'svc_c': 30.378942916995296, 'svc_tol': 0.0804289302737522, 'svc_max_iter': 4858, 'svc_class_weight': None, 'svc_penalty': 'l2'}. Best is trial 508 with value: 0.7968488099228964.\n",
      "[I 2023-07-21 19:46:34,263] Trial 690 finished with value: 0.7534361381159906 and parameters: {'svc_c': 462.0981886552363, 'svc_tol': 0.08239819523950483, 'svc_max_iter': 4896, 'svc_class_weight': None, 'svc_penalty': 'l1'}. Best is trial 508 with value: 0.7968488099228964.\n",
      "[I 2023-07-21 19:46:34,873] Trial 709 finished with value: 0.7893060677170634 and parameters: {'svc_c': 31.970772824167682, 'svc_tol': 0.07956708182901001, 'svc_max_iter': 4860, 'svc_class_weight': None, 'svc_penalty': 'l2'}. Best is trial 508 with value: 0.7968488099228964.\n",
      "[I 2023-07-21 19:46:35,906] Trial 688 finished with value: 0.7373449547435468 and parameters: {'svc_c': 32.70991647834035, 'svc_tol': 0.08347012750676432, 'svc_max_iter': 2896, 'svc_class_weight': 'balanced', 'svc_penalty': 'l1'}. Best is trial 508 with value: 0.7968488099228964.\n",
      "[I 2023-07-21 19:46:35,920] Trial 703 finished with value: 0.7889708347301374 and parameters: {'svc_c': 362.45999020021554, 'svc_tol': 0.08022305563840607, 'svc_max_iter': 4885, 'svc_class_weight': None, 'svc_penalty': 'l2'}. Best is trial 508 with value: 0.7968488099228964.\n",
      "[I 2023-07-21 19:46:36,285] Trial 685 finished with value: 0.7309755279919544 and parameters: {'svc_c': 94.16147064650619, 'svc_tol': 0.0830960427895993, 'svc_max_iter': 2846, 'svc_class_weight': 'balanced', 'svc_penalty': 'l1'}. Best is trial 508 with value: 0.7968488099228964.\n",
      "[I 2023-07-21 19:46:36,286] Trial 704 finished with value: 0.7857861213543412 and parameters: {'svc_c': 851.1330795804039, 'svc_tol': 0.06074107242432075, 'svc_max_iter': 4912, 'svc_class_weight': None, 'svc_penalty': 'l2'}. Best is trial 508 with value: 0.7968488099228964.\n",
      "[I 2023-07-21 19:46:36,331] Trial 705 finished with value: 0.7886356017432116 and parameters: {'svc_c': 111.23109470178287, 'svc_tol': 0.08344929837035539, 'svc_max_iter': 4923, 'svc_class_weight': None, 'svc_penalty': 'l2'}. Best is trial 508 with value: 0.7968488099228964.\n",
      "[I 2023-07-21 19:46:36,335] Trial 681 finished with value: 0.7274555816292323 and parameters: {'svc_c': 434.46562746277857, 'svc_tol': 0.08316163616920895, 'svc_max_iter': 4907, 'svc_class_weight': 'balanced', 'svc_penalty': 'l1'}. Best is trial 508 with value: 0.7968488099228964.\n",
      "[I 2023-07-21 19:46:36,347] Trial 696 finished with value: 0.7559503855179349 and parameters: {'svc_c': 94.59638067509059, 'svc_tol': 0.08105159018855031, 'svc_max_iter': 4945, 'svc_class_weight': None, 'svc_penalty': 'l1'}. Best is trial 508 with value: 0.7968488099228964.\n",
      "[I 2023-07-21 19:46:36,365] Trial 706 finished with value: 0.7879651357693597 and parameters: {'svc_c': 465.1445805584845, 'svc_tol': 0.081373671406012, 'svc_max_iter': 4837, 'svc_class_weight': None, 'svc_penalty': 'l2'}. Best is trial 508 with value: 0.7968488099228964.\n",
      "[I 2023-07-21 19:46:36,868] Trial 710 finished with value: 0.7888032182366745 and parameters: {'svc_c': 766.4325963316492, 'svc_tol': 0.08084234627948775, 'svc_max_iter': 2784, 'svc_class_weight': None, 'svc_penalty': 'l2'}. Best is trial 508 with value: 0.7968488099228964.\n",
      "[I 2023-07-21 19:46:36,942] Trial 708 finished with value: 0.7893060677170634 and parameters: {'svc_c': 308.34081456418437, 'svc_tol': 0.08051534232243016, 'svc_max_iter': 4890, 'svc_class_weight': None, 'svc_penalty': 'l2'}. Best is trial 508 with value: 0.7968488099228964.\n",
      "[I 2023-07-21 19:46:37,376] Trial 712 finished with value: 0.7879651357693597 and parameters: {'svc_c': 407.7912763957051, 'svc_tol': 0.08134402585083048, 'svc_max_iter': 4862, 'svc_class_weight': None, 'svc_penalty': 'l2'}. Best is trial 508 with value: 0.7968488099228964.\n",
      "[I 2023-07-21 19:46:37,449] Trial 692 finished with value: 0.7333221589004358 and parameters: {'svc_c': 101.6514423442295, 'svc_tol': 0.08139344573482515, 'svc_max_iter': 4891, 'svc_class_weight': 'balanced', 'svc_penalty': 'l1'}. Best is trial 508 with value: 0.7968488099228964.\n",
      "[I 2023-07-21 19:46:37,511] Trial 689 finished with value: 0.7303050620181026 and parameters: {'svc_c': 239.16951115920114, 'svc_tol': 0.07969960486350042, 'svc_max_iter': 2804, 'svc_class_weight': 'balanced', 'svc_penalty': 'l1'}. Best is trial 508 with value: 0.7968488099228964.\n",
      "[I 2023-07-21 19:46:38,369] Trial 683 finished with value: 0.7309755279919544 and parameters: {'svc_c': 103.6993657799143, 'svc_tol': 0.08107720269681885, 'svc_max_iter': 3074, 'svc_class_weight': 'balanced', 'svc_penalty': 'l1'}. Best is trial 508 with value: 0.7968488099228964.\n",
      "[I 2023-07-21 19:46:38,381] Trial 713 finished with value: 0.7891384512236004 and parameters: {'svc_c': 857.3185701806419, 'svc_tol': 0.07945416763720828, 'svc_max_iter': 4902, 'svc_class_weight': None, 'svc_penalty': 'l2'}. Best is trial 508 with value: 0.7968488099228964.\n",
      "[I 2023-07-21 19:46:38,566] Trial 716 finished with value: 0.7889708347301374 and parameters: {'svc_c': 237.8532109531951, 'svc_tol': 0.0806837550112109, 'svc_max_iter': 4886, 'svc_class_weight': None, 'svc_penalty': 'l2'}. Best is trial 508 with value: 0.7968488099228964.\n",
      "[I 2023-07-21 19:46:39,080] Trial 699 finished with value: 0.7487428762990278 and parameters: {'svc_c': 837.755247096557, 'svc_tol': 0.08211024775162247, 'svc_max_iter': 2854, 'svc_class_weight': None, 'svc_penalty': 'l1'}. Best is trial 508 with value: 0.7968488099228964.\n",
      "[I 2023-07-21 19:46:39,099] Trial 714 finished with value: 0.7888032182366745 and parameters: {'svc_c': 169.30879265303497, 'svc_tol': 0.08131505703258429, 'svc_max_iter': 4885, 'svc_class_weight': None, 'svc_penalty': 'l2'}. Best is trial 508 with value: 0.7968488099228964.\n",
      "[I 2023-07-21 19:46:39,603] Trial 695 finished with value: 0.7272879651357693 and parameters: {'svc_c': 994.4327128286702, 'svc_tol': 0.08203474871120041, 'svc_max_iter': 4891, 'svc_class_weight': 'balanced', 'svc_penalty': 'l1'}. Best is trial 508 with value: 0.7968488099228964.\n",
      "[I 2023-07-21 19:46:39,659] Trial 701 finished with value: 0.7500838082467315 and parameters: {'svc_c': 533.753273706569, 'svc_tol': 0.07231982253287494, 'svc_max_iter': 4864, 'svc_class_weight': None, 'svc_penalty': 'l1'}. Best is trial 508 with value: 0.7968488099228964.\n",
      "[I 2023-07-21 19:46:39,757] Trial 694 finished with value: 0.7373449547435468 and parameters: {'svc_c': 30.626384043722595, 'svc_tol': 0.08337921471202499, 'svc_max_iter': 4903, 'svc_class_weight': 'balanced', 'svc_penalty': 'l1'}. Best is trial 508 with value: 0.7968488099228964.\n",
      "[I 2023-07-21 19:46:39,759] Trial 721 finished with value: 0.7888032182366745 and parameters: {'svc_c': 119.61638524627901, 'svc_tol': 0.07971569759284644, 'svc_max_iter': 2815, 'svc_class_weight': None, 'svc_penalty': 'l2'}. Best is trial 508 with value: 0.7968488099228964.\n",
      "[I 2023-07-21 19:46:39,846] Trial 718 finished with value: 0.7872946697955079 and parameters: {'svc_c': 853.9138902744902, 'svc_tol': 0.06364047180686302, 'svc_max_iter': 4860, 'svc_class_weight': None, 'svc_penalty': 'l2'}. Best is trial 508 with value: 0.7968488099228964.\n",
      "[I 2023-07-21 19:46:40,245] Trial 717 finished with value: 0.7879651357693597 and parameters: {'svc_c': 437.8780142288671, 'svc_tol': 0.08155506648926779, 'svc_max_iter': 2727, 'svc_class_weight': None, 'svc_penalty': 'l2'}. Best is trial 508 with value: 0.7968488099228964.\n",
      "[I 2023-07-21 19:46:40,424] Trial 700 finished with value: 0.7507542742205833 and parameters: {'svc_c': 624.7500714854973, 'svc_tol': 0.08210441001432633, 'svc_max_iter': 4874, 'svc_class_weight': None, 'svc_penalty': 'l1'}. Best is trial 508 with value: 0.7968488099228964.\n",
      "[I 2023-07-21 19:46:40,431] Trial 720 finished with value: 0.7877975192758967 and parameters: {'svc_c': 364.24563765373443, 'svc_tol': 0.08105458046597293, 'svc_max_iter': 4880, 'svc_class_weight': None, 'svc_penalty': 'l2'}. Best is trial 508 with value: 0.7968488099228964.\n",
      "[I 2023-07-21 19:46:40,441] Trial 707 finished with value: 0.7898089171974523 and parameters: {'svc_c': 651.4563261081148, 'svc_tol': 0.08410883851140609, 'svc_max_iter': 4909, 'svc_class_weight': None, 'svc_penalty': 'l2'}. Best is trial 508 with value: 0.7968488099228964.\n",
      "[I 2023-07-21 19:46:40,538] Trial 719 finished with value: 0.7901441501843781 and parameters: {'svc_c': 30.318647713545975, 'svc_tol': 0.08058529242718022, 'svc_max_iter': 2947, 'svc_class_weight': None, 'svc_penalty': 'l2'}. Best is trial 508 with value: 0.7968488099228964.\n",
      "[I 2023-07-21 19:46:40,848] Trial 697 finished with value: 0.7296345960442507 and parameters: {'svc_c': 229.89841931768424, 'svc_tol': 0.08153997291545968, 'svc_max_iter': 4894, 'svc_class_weight': 'balanced', 'svc_penalty': 'l1'}. Best is trial 508 with value: 0.7968488099228964.\n",
      "[I 2023-07-21 19:46:41,328] Trial 722 finished with value: 0.7886356017432116 and parameters: {'svc_c': 796.5786513571824, 'svc_tol': 0.0803731093396645, 'svc_max_iter': 4888, 'svc_class_weight': None, 'svc_penalty': 'l2'}. Best is trial 508 with value: 0.7968488099228964.\n",
      "[I 2023-07-21 19:46:41,777] Trial 724 finished with value: 0.7879651357693597 and parameters: {'svc_c': 488.68043542274506, 'svc_tol': 0.07170722571614713, 'svc_max_iter': 2850, 'svc_class_weight': None, 'svc_penalty': 'l2'}. Best is trial 508 with value: 0.7968488099228964.\n",
      "[I 2023-07-21 19:46:42,525] Trial 698 finished with value: 0.7512571237009722 and parameters: {'svc_c': 302.7086399809484, 'svc_tol': 0.0803364523757216, 'svc_max_iter': 4918, 'svc_class_weight': None, 'svc_penalty': 'l1'}. Best is trial 508 with value: 0.7968488099228964.\n",
      "[I 2023-07-21 19:46:42,553] Trial 725 finished with value: 0.7884679852497486 and parameters: {'svc_c': 852.8897202688354, 'svc_tol': 0.08186822827123433, 'svc_max_iter': 4910, 'svc_class_weight': None, 'svc_penalty': 'l2'}. Best is trial 508 with value: 0.7968488099228964.\n",
      "[I 2023-07-21 19:46:42,640] Trial 715 finished with value: 0.7888032182366745 and parameters: {'svc_c': 501.03992709879043, 'svc_tol': 0.08074103091441939, 'svc_max_iter': 4886, 'svc_class_weight': None, 'svc_penalty': 'l2'}. Best is trial 508 with value: 0.7968488099228964.\n",
      "[I 2023-07-21 19:46:42,813] Trial 728 finished with value: 0.7886356017432116 and parameters: {'svc_c': 221.48865323135433, 'svc_tol': 0.08221015279483093, 'svc_max_iter': 4893, 'svc_class_weight': None, 'svc_penalty': 'l2'}. Best is trial 508 with value: 0.7968488099228964.\n",
      "[I 2023-07-21 19:46:43,913] Trial 726 finished with value: 0.7903117666778411 and parameters: {'svc_c': 860.6360848627796, 'svc_tol': 0.09364447389228266, 'svc_max_iter': 4848, 'svc_class_weight': None, 'svc_penalty': 'l2'}. Best is trial 508 with value: 0.7968488099228964.\n",
      "[I 2023-07-21 19:46:44,870] Trial 723 finished with value: 0.7889708347301374 and parameters: {'svc_c': 772.021595014326, 'svc_tol': 0.0812456058067548, 'svc_max_iter': 4909, 'svc_class_weight': None, 'svc_penalty': 'l2'}. Best is trial 508 with value: 0.7968488099228964.\n",
      "[I 2023-07-21 19:46:45,271] Trial 727 finished with value: 0.7894736842105263 and parameters: {'svc_c': 465.36036506405475, 'svc_tol': 0.0930848909558152, 'svc_max_iter': 4951, 'svc_class_weight': None, 'svc_penalty': 'l2'}. Best is trial 508 with value: 0.7968488099228964.\n",
      "[I 2023-07-21 19:46:45,321] Trial 741 finished with value: 0.7765672142138786 and parameters: {'svc_c': 799.6948222109727, 'svc_tol': 0.030099595076326528, 'svc_max_iter': 2928, 'svc_class_weight': None, 'svc_penalty': 'l2'}. Best is trial 508 with value: 0.7968488099228964.\n",
      "[I 2023-07-21 19:46:45,783] Trial 734 finished with value: 0.7881327522628226 and parameters: {'svc_c': 465.3724788475998, 'svc_tol': 0.08140112110755476, 'svc_max_iter': 4900, 'svc_class_weight': None, 'svc_penalty': 'l2'}. Best is trial 508 with value: 0.7968488099228964.\n",
      "[I 2023-07-21 19:46:46,220] Trial 737 finished with value: 0.7888032182366745 and parameters: {'svc_c': 33.056605263288496, 'svc_tol': 0.07998475958496813, 'svc_max_iter': 4905, 'svc_class_weight': None, 'svc_penalty': 'l2'}. Best is trial 508 with value: 0.7968488099228964.\n",
      "[I 2023-07-21 19:46:46,567] Trial 730 finished with value: 0.7670130740864901 and parameters: {'svc_c': 504.4836947143653, 'svc_tol': 0.013199335810129283, 'svc_max_iter': 4849, 'svc_class_weight': None, 'svc_penalty': 'l2'}. Best is trial 508 with value: 0.7968488099228964.\n",
      "[I 2023-07-21 19:46:46,610] Trial 729 finished with value: 0.7889708347301374 and parameters: {'svc_c': 118.90557230993474, 'svc_tol': 0.09354086540891979, 'svc_max_iter': 4923, 'svc_class_weight': None, 'svc_penalty': 'l2'}. Best is trial 508 with value: 0.7968488099228964.\n",
      "[I 2023-07-21 19:46:47,157] Trial 736 finished with value: 0.7894736842105263 and parameters: {'svc_c': 978.2824740432015, 'svc_tol': 0.08194704489891529, 'svc_max_iter': 4866, 'svc_class_weight': None, 'svc_penalty': 'l2'}. Best is trial 508 with value: 0.7968488099228964.\n",
      "[I 2023-07-21 19:46:47,255] Trial 731 finished with value: 0.7889708347301374 and parameters: {'svc_c': 609.0773031625408, 'svc_tol': 0.08169994129182619, 'svc_max_iter': 2729, 'svc_class_weight': None, 'svc_penalty': 'l2'}. Best is trial 508 with value: 0.7968488099228964.\n",
      "[I 2023-07-21 19:46:47,812] Trial 732 finished with value: 0.7891384512236004 and parameters: {'svc_c': 111.44607710407186, 'svc_tol': 0.08077493387695073, 'svc_max_iter': 4870, 'svc_class_weight': None, 'svc_penalty': 'l2'}. Best is trial 508 with value: 0.7968488099228964.\n",
      "[I 2023-07-21 19:46:48,116] Trial 739 finished with value: 0.7889708347301374 and parameters: {'svc_c': 34.80295279417847, 'svc_tol': 0.07962855510858234, 'svc_max_iter': 2834, 'svc_class_weight': None, 'svc_penalty': 'l2'}. Best is trial 508 with value: 0.7968488099228964.\n",
      "[I 2023-07-21 19:46:48,523] Trial 740 finished with value: 0.7888032182366745 and parameters: {'svc_c': 168.96120293240978, 'svc_tol': 0.0811649066247699, 'svc_max_iter': 4902, 'svc_class_weight': None, 'svc_penalty': 'l2'}. Best is trial 508 with value: 0.7968488099228964.\n",
      "[I 2023-07-21 19:46:48,701] Trial 733 finished with value: 0.7903117666778411 and parameters: {'svc_c': 30.749685611077386, 'svc_tol': 0.08171249267353853, 'svc_max_iter': 4945, 'svc_class_weight': None, 'svc_penalty': 'l2'}. Best is trial 508 with value: 0.7968488099228964.\n",
      "[I 2023-07-21 19:46:49,657] Trial 742 finished with value: 0.7894736842105263 and parameters: {'svc_c': 310.14127800953196, 'svc_tol': 0.07969476828918903, 'svc_max_iter': 4949, 'svc_class_weight': None, 'svc_penalty': 'l2'}. Best is trial 508 with value: 0.7968488099228964.\n",
      "[I 2023-07-21 19:46:49,665] Trial 738 finished with value: 0.7866242038216561 and parameters: {'svc_c': 473.419483507364, 'svc_tol': 0.07381745961702761, 'svc_max_iter': 4884, 'svc_class_weight': None, 'svc_penalty': 'l2'}. Best is trial 508 with value: 0.7968488099228964.\n",
      "[I 2023-07-21 19:46:50,221] Trial 735 finished with value: 0.7886356017432116 and parameters: {'svc_c': 153.41711507374956, 'svc_tol': 0.08195996537758767, 'svc_max_iter': 2790, 'svc_class_weight': None, 'svc_penalty': 'l2'}. Best is trial 508 with value: 0.7968488099228964.\n",
      "[I 2023-07-21 19:46:50,540] Trial 743 finished with value: 0.7881327522628226 and parameters: {'svc_c': 167.54425356220776, 'svc_tol': 0.08158320740445922, 'svc_max_iter': 4910, 'svc_class_weight': None, 'svc_penalty': 'l2'}. Best is trial 508 with value: 0.7968488099228964.\n",
      "[I 2023-07-21 19:46:51,187] Trial 744 finished with value: 0.7814280925243043 and parameters: {'svc_c': 761.7502350502435, 'svc_tol': 0.04284948972298692, 'svc_max_iter': 4424, 'svc_class_weight': None, 'svc_penalty': 'l2'}. Best is trial 508 with value: 0.7968488099228964.\n",
      "[I 2023-07-21 19:46:51,960] Trial 746 finished with value: 0.7896413007039893 and parameters: {'svc_c': 619.1311099648193, 'svc_tol': 0.08032711073654306, 'svc_max_iter': 4931, 'svc_class_weight': None, 'svc_penalty': 'l2'}. Best is trial 508 with value: 0.7968488099228964.\n",
      "[I 2023-07-21 19:46:52,132] Trial 745 finished with value: 0.7898089171974523 and parameters: {'svc_c': 233.4697501016673, 'svc_tol': 0.08097398597065113, 'svc_max_iter': 4882, 'svc_class_weight': None, 'svc_penalty': 'l2'}. Best is trial 508 with value: 0.7968488099228964.\n",
      "[I 2023-07-21 19:46:52,552] Trial 747 finished with value: 0.7886356017432116 and parameters: {'svc_c': 180.09695820346025, 'svc_tol': 0.08186027482218851, 'svc_max_iter': 4860, 'svc_class_weight': None, 'svc_penalty': 'l2'}. Best is trial 508 with value: 0.7968488099228964.\n",
      "[I 2023-07-21 19:46:53,790] Trial 748 finished with value: 0.7876299027824338 and parameters: {'svc_c': 99.34677367942326, 'svc_tol': 0.07535810729521737, 'svc_max_iter': 4929, 'svc_class_weight': None, 'svc_penalty': 'l2'}. Best is trial 508 with value: 0.7968488099228964.\n",
      "[I 2023-07-21 19:46:55,011] Trial 749 finished with value: 0.7871270533020449 and parameters: {'svc_c': 106.66880971395159, 'svc_tol': 0.0628595525298721, 'svc_max_iter': 4897, 'svc_class_weight': None, 'svc_penalty': 'l2'}. Best is trial 508 with value: 0.7968488099228964.\n",
      "[I 2023-07-21 19:46:55,014] Trial 751 finished with value: 0.7893060677170634 and parameters: {'svc_c': 101.28262866012837, 'svc_tol': 0.07977873247105344, 'svc_max_iter': 4901, 'svc_class_weight': None, 'svc_penalty': 'l2'}. Best is trial 508 with value: 0.7968488099228964.\n",
      "[I 2023-07-21 19:46:56,280] Trial 750 finished with value: 0.7872946697955079 and parameters: {'svc_c': 118.85868753958512, 'svc_tol': 0.06933233066509442, 'svc_max_iter': 4922, 'svc_class_weight': None, 'svc_penalty': 'l2'}. Best is trial 508 with value: 0.7968488099228964.\n",
      "[I 2023-07-21 19:46:56,336] Trial 753 finished with value: 0.7884679852497486 and parameters: {'svc_c': 616.3730747581209, 'svc_tol': 0.07943455267736368, 'svc_max_iter': 4873, 'svc_class_weight': None, 'svc_penalty': 'l2'}. Best is trial 508 with value: 0.7968488099228964.\n",
      "[I 2023-07-21 19:46:56,641] Trial 752 finished with value: 0.7881327522628226 and parameters: {'svc_c': 883.245423313223, 'svc_tol': 0.07964133720693341, 'svc_max_iter': 4866, 'svc_class_weight': None, 'svc_penalty': 'l2'}. Best is trial 508 with value: 0.7968488099228964.\n",
      "[I 2023-07-21 19:46:56,756] Trial 764 finished with value: 0.7896413007039893 and parameters: {'svc_c': 171.4312992554049, 'svc_tol': 0.09344718218824556, 'svc_max_iter': 4910, 'svc_class_weight': None, 'svc_penalty': 'l2'}. Best is trial 508 with value: 0.7968488099228964.\n",
      "[I 2023-07-21 19:46:57,225] Trial 756 finished with value: 0.7884679852497486 and parameters: {'svc_c': 108.85853528042105, 'svc_tol': 0.05620138517588676, 'svc_max_iter': 4891, 'svc_class_weight': None, 'svc_penalty': 'l2'}. Best is trial 508 with value: 0.7968488099228964.\n",
      "[I 2023-07-21 19:46:58,219] Trial 755 finished with value: 0.7812604760308415 and parameters: {'svc_c': 32.024329196037286, 'svc_tol': 0.036056616881454506, 'svc_max_iter': 4927, 'svc_class_weight': None, 'svc_penalty': 'l2'}. Best is trial 508 with value: 0.7968488099228964.\n",
      "[I 2023-07-21 19:46:58,297] Trial 754 finished with value: 0.7888032182366745 and parameters: {'svc_c': 99.60822059006514, 'svc_tol': 0.08113442977277555, 'svc_max_iter': 4898, 'svc_class_weight': None, 'svc_penalty': 'l2'}. Best is trial 508 with value: 0.7968488099228964.\n",
      "[I 2023-07-21 19:46:58,675] Trial 757 finished with value: 0.7876299027824338 and parameters: {'svc_c': 30.49451940818418, 'svc_tol': 0.06451288063859487, 'svc_max_iter': 4893, 'svc_class_weight': None, 'svc_penalty': 'l2'}. Best is trial 508 with value: 0.7968488099228964.\n",
      "[I 2023-07-21 19:46:59,249] Trial 759 finished with value: 0.7913174656386188 and parameters: {'svc_c': 166.5772748639727, 'svc_tol': 0.09321646547608885, 'svc_max_iter': 4894, 'svc_class_weight': None, 'svc_penalty': 'l2'}. Best is trial 508 with value: 0.7968488099228964.\n",
      "[I 2023-07-21 19:46:59,320] Trial 758 finished with value: 0.7893060677170634 and parameters: {'svc_c': 107.05885591975505, 'svc_tol': 0.08028323766204783, 'svc_max_iter': 4902, 'svc_class_weight': None, 'svc_penalty': 'l2'}. Best is trial 508 with value: 0.7968488099228964.\n",
      "[I 2023-07-21 19:47:00,030] Trial 760 finished with value: 0.7894736842105263 and parameters: {'svc_c': 585.8919770416865, 'svc_tol': 0.0802336404643266, 'svc_max_iter': 4898, 'svc_class_weight': None, 'svc_penalty': 'l2'}. Best is trial 508 with value: 0.7968488099228964.\n",
      "[I 2023-07-21 19:47:00,085] Trial 761 finished with value: 0.7869594368085819 and parameters: {'svc_c': 981.5197975804397, 'svc_tol': 0.07832647667592242, 'svc_max_iter': 2894, 'svc_class_weight': None, 'svc_penalty': 'l2'}. Best is trial 508 with value: 0.7968488099228964.\n",
      "[I 2023-07-21 19:47:01,153] Trial 762 finished with value: 0.7881327522628226 and parameters: {'svc_c': 792.8800460164216, 'svc_tol': 0.07969377668486459, 'svc_max_iter': 4901, 'svc_class_weight': None, 'svc_penalty': 'l2'}. Best is trial 508 with value: 0.7968488099228964.\n",
      "[I 2023-07-21 19:47:01,302] Trial 763 finished with value: 0.7874622862889709 and parameters: {'svc_c': 110.78224925573393, 'svc_tol': 0.07501288391783535, 'svc_max_iter': 4907, 'svc_class_weight': None, 'svc_penalty': 'l2'}. Best is trial 508 with value: 0.7968488099228964.\n",
      "[I 2023-07-21 19:47:01,464] Trial 765 finished with value: 0.786791820315119 and parameters: {'svc_c': 121.5317015032284, 'svc_tol': 0.050643149018685024, 'svc_max_iter': 4420, 'svc_class_weight': None, 'svc_penalty': 'l2'}. Best is trial 508 with value: 0.7968488099228964.\n",
      "[I 2023-07-21 19:47:01,705] Trial 766 finished with value: 0.7886356017432116 and parameters: {'svc_c': 109.64159537185652, 'svc_tol': 0.08069275895700806, 'svc_max_iter': 2871, 'svc_class_weight': None, 'svc_penalty': 'l2'}. Best is trial 508 with value: 0.7968488099228964.\n",
      "[I 2023-07-21 19:47:02,269] Trial 773 finished with value: 0.7883003687562856 and parameters: {'svc_c': 792.9161093542716, 'svc_tol': 0.07933367844577116, 'svc_max_iter': 4422, 'svc_class_weight': None, 'svc_penalty': 'l2'}. Best is trial 508 with value: 0.7968488099228964.\n",
      "[I 2023-07-21 19:47:02,307] Trial 768 finished with value: 0.7903117666778411 and parameters: {'svc_c': 36.437960631950105, 'svc_tol': 0.07714808169829396, 'svc_max_iter': 2810, 'svc_class_weight': None, 'svc_penalty': 'l2'}. Best is trial 508 with value: 0.7968488099228964.\n",
      "[I 2023-07-21 19:47:03,114] Trial 767 finished with value: 0.7891384512236004 and parameters: {'svc_c': 30.928371778526248, 'svc_tol': 0.07414999377431974, 'svc_max_iter': 4898, 'svc_class_weight': None, 'svc_penalty': 'l2'}. Best is trial 508 with value: 0.7968488099228964.\n",
      "[I 2023-07-21 19:47:03,137] Trial 769 finished with value: 0.7903117666778411 and parameters: {'svc_c': 32.47050517221756, 'svc_tol': 0.07063966753534161, 'svc_max_iter': 4895, 'svc_class_weight': None, 'svc_penalty': 'l2'}. Best is trial 508 with value: 0.7968488099228964.\n",
      "[I 2023-07-21 19:47:04,226] Trial 770 finished with value: 0.7903117666778411 and parameters: {'svc_c': 31.133238384160922, 'svc_tol': 0.09378952771140171, 'svc_max_iter': 4911, 'svc_class_weight': None, 'svc_penalty': 'l2'}. Best is trial 508 with value: 0.7968488099228964.\n",
      "[I 2023-07-21 19:47:04,335] Trial 772 finished with value: 0.7894736842105263 and parameters: {'svc_c': 767.4741767076766, 'svc_tol': 0.08115600234158366, 'svc_max_iter': 4879, 'svc_class_weight': None, 'svc_penalty': 'l2'}. Best is trial 508 with value: 0.7968488099228964.\n",
      "[I 2023-07-21 19:47:05,690] Trial 780 finished with value: 0.7883003687562856 and parameters: {'svc_c': 605.2556460847674, 'svc_tol': 0.08174039039661807, 'svc_max_iter': 2578, 'svc_class_weight': None, 'svc_penalty': 'l2'}. Best is trial 508 with value: 0.7968488099228964.\n",
      "[I 2023-07-21 19:47:05,748] Trial 774 finished with value: 0.7883003687562856 and parameters: {'svc_c': 796.082969790411, 'svc_tol': 0.07976724580946301, 'svc_max_iter': 4864, 'svc_class_weight': None, 'svc_penalty': 'l2'}. Best is trial 508 with value: 0.7968488099228964.\n",
      "[I 2023-07-21 19:47:05,889] Trial 778 finished with value: 0.7899765336909151 and parameters: {'svc_c': 32.48332542220824, 'svc_tol': 0.07926501612486322, 'svc_max_iter': 4894, 'svc_class_weight': None, 'svc_penalty': 'l2'}. Best is trial 508 with value: 0.7968488099228964.\n",
      "[I 2023-07-21 19:47:05,925] Trial 775 finished with value: 0.7876299027824338 and parameters: {'svc_c': 123.08093918517595, 'svc_tol': 0.07235195588488547, 'svc_max_iter': 4895, 'svc_class_weight': None, 'svc_penalty': 'l2'}. Best is trial 508 with value: 0.7968488099228964.\n",
      "[I 2023-07-21 19:47:06,284] Trial 779 finished with value: 0.7886356017432116 and parameters: {'svc_c': 31.195049597100564, 'svc_tol': 0.0799372585140627, 'svc_max_iter': 4413, 'svc_class_weight': None, 'svc_penalty': 'l2'}. Best is trial 508 with value: 0.7968488099228964.\n",
      "[I 2023-07-21 19:47:06,547] Trial 784 finished with value: 0.7889708347301374 and parameters: {'svc_c': 861.1234670023666, 'svc_tol': 0.08055802158433381, 'svc_max_iter': 4391, 'svc_class_weight': None, 'svc_penalty': 'l2'}. Best is trial 508 with value: 0.7968488099228964.\n",
      "[I 2023-07-21 19:47:06,831] Trial 771 finished with value: 0.7901441501843781 and parameters: {'svc_c': 32.2282150447999, 'svc_tol': 0.08035239174167712, 'svc_max_iter': 4409, 'svc_class_weight': None, 'svc_penalty': 'l2'}. Best is trial 508 with value: 0.7968488099228964.\n",
      "[I 2023-07-21 19:47:07,966] Trial 776 finished with value: 0.7894736842105263 and parameters: {'svc_c': 30.005958297264346, 'svc_tol': 0.08092276646354858, 'svc_max_iter': 4895, 'svc_class_weight': None, 'svc_penalty': 'l2'}. Best is trial 508 with value: 0.7968488099228964.\n",
      "[I 2023-07-21 19:47:08,545] Trial 783 finished with value: 0.7869594368085819 and parameters: {'svc_c': 29.409642889809707, 'svc_tol': 0.05512458064727673, 'svc_max_iter': 4889, 'svc_class_weight': None, 'svc_penalty': 'l2'}. Best is trial 508 with value: 0.7968488099228964.\n",
      "[I 2023-07-21 19:47:08,592] Trial 781 finished with value: 0.7760643647334897 and parameters: {'svc_c': 34.5612954013409, 'svc_tol': 0.019170444907944395, 'svc_max_iter': 4931, 'svc_class_weight': None, 'svc_penalty': 'l2'}. Best is trial 508 with value: 0.7968488099228964.\n",
      "[I 2023-07-21 19:47:08,600] Trial 777 finished with value: 0.786791820315119 and parameters: {'svc_c': 363.59592356871804, 'svc_tol': 0.06261450783725872, 'svc_max_iter': 4908, 'svc_class_weight': None, 'svc_penalty': 'l2'}. Best is trial 508 with value: 0.7968488099228964.\n",
      "[I 2023-07-21 19:47:08,935] Trial 787 finished with value: 0.7876299027824338 and parameters: {'svc_c': 740.2690752382191, 'svc_tol': 0.07183688639737282, 'svc_max_iter': 4895, 'svc_class_weight': None, 'svc_penalty': 'l2'}. Best is trial 508 with value: 0.7968488099228964.\n",
      "[I 2023-07-21 19:47:09,792] Trial 786 finished with value: 0.7898089171974523 and parameters: {'svc_c': 28.522604415954625, 'svc_tol': 0.09371001221539971, 'svc_max_iter': 4419, 'svc_class_weight': None, 'svc_penalty': 'l2'}. Best is trial 508 with value: 0.7968488099228964.\n",
      "[I 2023-07-21 19:47:10,002] Trial 785 finished with value: 0.7899765336909151 and parameters: {'svc_c': 32.194041837151126, 'svc_tol': 0.08008818463196024, 'svc_max_iter': 4399, 'svc_class_weight': None, 'svc_penalty': 'l2'}. Best is trial 508 with value: 0.7968488099228964.\n",
      "[I 2023-07-21 19:47:11,282] Trial 789 finished with value: 0.7904793831713041 and parameters: {'svc_c': 31.099008943837926, 'svc_tol': 0.07931769214506103, 'svc_max_iter': 4458, 'svc_class_weight': None, 'svc_penalty': 'l2'}. Best is trial 508 with value: 0.7968488099228964.\n",
      "[I 2023-07-21 19:47:11,337] Trial 788 finished with value: 0.7837747234327858 and parameters: {'svc_c': 115.80567539634903, 'svc_tol': 0.04394639918482963, 'svc_max_iter': 4400, 'svc_class_weight': None, 'svc_penalty': 'l2'}. Best is trial 508 with value: 0.7968488099228964.\n",
      "[I 2023-07-21 19:47:11,602] Trial 782 finished with value: 0.7862889708347301 and parameters: {'svc_c': 858.3956699412693, 'svc_tol': 0.06994650444275402, 'svc_max_iter': 2626, 'svc_class_weight': None, 'svc_penalty': 'l2'}. Best is trial 508 with value: 0.7968488099228964.\n",
      "[I 2023-07-21 19:47:11,901] Trial 790 finished with value: 0.7869594368085819 and parameters: {'svc_c': 637.4997275510622, 'svc_tol': 0.06591558513783399, 'svc_max_iter': 4442, 'svc_class_weight': None, 'svc_penalty': 'l2'}. Best is trial 508 with value: 0.7968488099228964.\n",
      "[I 2023-07-21 19:47:12,530] Trial 792 finished with value: 0.7877975192758967 and parameters: {'svc_c': 955.2812986874534, 'svc_tol': 0.07819307223501008, 'svc_max_iter': 2548, 'svc_class_weight': None, 'svc_penalty': 'l2'}. Best is trial 508 with value: 0.7968488099228964.\n",
      "[I 2023-07-21 19:47:12,544] Trial 799 finished with value: 0.7911498491451558 and parameters: {'svc_c': 241.70781389671907, 'svc_tol': 0.09351059523181242, 'svc_max_iter': 4442, 'svc_class_weight': None, 'svc_penalty': 'l2'}. Best is trial 508 with value: 0.7968488099228964.\n",
      "[I 2023-07-21 19:47:13,997] Trial 805 finished with value: 0.7877975192758967 and parameters: {'svc_c': 497.5049872842609, 'svc_tol': 0.07961004775178684, 'svc_max_iter': 4385, 'svc_class_weight': None, 'svc_penalty': 'l2'}. Best is trial 508 with value: 0.7968488099228964.\n",
      "[I 2023-07-21 19:47:14,013] Trial 791 finished with value: 0.7857861213543412 and parameters: {'svc_c': 363.5137931053154, 'svc_tol': 0.07391719087300888, 'svc_max_iter': 4881, 'svc_class_weight': None, 'svc_penalty': 'l2'}. Best is trial 508 with value: 0.7968488099228964.\n",
      "[I 2023-07-21 19:47:14,227] Trial 797 finished with value: 0.782601407978545 and parameters: {'svc_c': 626.3636417850632, 'svc_tol': 0.04647584396838727, 'svc_max_iter': 4443, 'svc_class_weight': None, 'svc_penalty': 'l2'}. Best is trial 508 with value: 0.7968488099228964.\n",
      "[I 2023-07-21 19:47:14,294] Trial 793 finished with value: 0.7883003687562856 and parameters: {'svc_c': 32.87709804562961, 'svc_tol': 0.07579348338513682, 'svc_max_iter': 4464, 'svc_class_weight': None, 'svc_penalty': 'l2'}. Best is trial 508 with value: 0.7968488099228964.\n",
      "[I 2023-07-21 19:47:16,175] Trial 800 finished with value: 0.7852832718739524 and parameters: {'svc_c': 33.25880512403903, 'svc_tol': 0.04463146438801935, 'svc_max_iter': 4416, 'svc_class_weight': None, 'svc_penalty': 'l2'}. Best is trial 508 with value: 0.7968488099228964.\n",
      "[I 2023-07-21 19:47:16,187] Trial 809 finished with value: 0.7876299027824338 and parameters: {'svc_c': 804.966682045818, 'svc_tol': 0.05449722197116702, 'svc_max_iter': 4434, 'svc_class_weight': None, 'svc_penalty': 'l2'}. Best is trial 508 with value: 0.7968488099228964.\n",
      "[I 2023-07-21 19:47:16,592] Trial 798 finished with value: 0.7849480388870265 and parameters: {'svc_c': 697.4691891230059, 'svc_tol': 0.058597843143922135, 'svc_max_iter': 4389, 'svc_class_weight': None, 'svc_penalty': 'l2'}. Best is trial 508 with value: 0.7968488099228964.\n",
      "[I 2023-07-21 19:47:16,669] Trial 802 finished with value: 0.79081461615823 and parameters: {'svc_c': 714.0974989025547, 'svc_tol': 0.09282635565639683, 'svc_max_iter': 4409, 'svc_class_weight': None, 'svc_penalty': 'l2'}. Best is trial 508 with value: 0.7968488099228964.\n",
      "[I 2023-07-21 19:47:16,760] Trial 794 finished with value: 0.7891384512236004 and parameters: {'svc_c': 485.3763436524506, 'svc_tol': 0.09310767272706805, 'svc_max_iter': 4427, 'svc_class_weight': None, 'svc_penalty': 'l2'}. Best is trial 508 with value: 0.7968488099228964.\n",
      "[I 2023-07-21 19:47:17,559] Trial 795 finished with value: 0.7857861213543412 and parameters: {'svc_c': 28.053078560001012, 'svc_tol': 0.045540645156249636, 'svc_max_iter': 4859, 'svc_class_weight': None, 'svc_penalty': 'l2'}. Best is trial 508 with value: 0.7968488099228964.\n",
      "[I 2023-07-21 19:47:17,740] Trial 803 finished with value: 0.7666778410995642 and parameters: {'svc_c': 33.63216545273346, 'svc_tol': 0.001960432613493497, 'svc_max_iter': 2589, 'svc_class_weight': None, 'svc_penalty': 'l2'}. Best is trial 508 with value: 0.7968488099228964.\n",
      "[I 2023-07-21 19:47:17,816] Trial 796 finished with value: 0.775058665772712 and parameters: {'svc_c': 784.925908832391, 'svc_tol': 0.032493241990249715, 'svc_max_iter': 4424, 'svc_class_weight': None, 'svc_penalty': 'l2'}. Best is trial 508 with value: 0.7968488099228964.\n",
      "[I 2023-07-21 19:47:18,093] Trial 801 finished with value: 0.7836071069393228 and parameters: {'svc_c': 33.90654103260024, 'svc_tol': 0.03750208264487617, 'svc_max_iter': 1559, 'svc_class_weight': None, 'svc_penalty': 'l2'}. Best is trial 508 with value: 0.7968488099228964.\n",
      "[I 2023-07-21 19:47:20,477] Trial 806 finished with value: 0.7869594368085819 and parameters: {'svc_c': 958.005797476548, 'svc_tol': 0.06874881103267186, 'svc_max_iter': 4412, 'svc_class_weight': None, 'svc_penalty': 'l2'}. Best is trial 508 with value: 0.7968488099228964.\n",
      "[I 2023-07-21 19:47:20,946] Trial 807 finished with value: 0.7901441501843781 and parameters: {'svc_c': 31.429726562536185, 'svc_tol': 0.08085507281028471, 'svc_max_iter': 4444, 'svc_class_weight': None, 'svc_penalty': 'l2'}. Best is trial 508 with value: 0.7968488099228964.\n",
      "[I 2023-07-21 19:47:21,053] Trial 804 finished with value: 0.7904793831713041 and parameters: {'svc_c': 30.633775374288454, 'svc_tol': 0.09318880335794183, 'svc_max_iter': 4437, 'svc_class_weight': None, 'svc_penalty': 'l2'}. Best is trial 508 with value: 0.7968488099228964.\n",
      "[I 2023-07-21 19:47:21,154] Trial 808 finished with value: 0.7772376801877304 and parameters: {'svc_c': 502.6052805282979, 'svc_tol': 0.033862758525354676, 'svc_max_iter': 2576, 'svc_class_weight': None, 'svc_penalty': 'l2'}. Best is trial 508 with value: 0.7968488099228964.\n",
      "[I 2023-07-21 19:47:22,154] Trial 810 finished with value: 0.786791820315119 and parameters: {'svc_c': 32.40423516807246, 'svc_tol': 0.04840541555908282, 'svc_max_iter': 4458, 'svc_class_weight': None, 'svc_penalty': 'l2'}. Best is trial 508 with value: 0.7968488099228964.\n",
      "[I 2023-07-21 19:47:23,341] Trial 812 finished with value: 0.7888032182366745 and parameters: {'svc_c': 852.1493975004284, 'svc_tol': 0.07317513406809213, 'svc_max_iter': 4430, 'svc_class_weight': None, 'svc_penalty': 'l2'}. Best is trial 508 with value: 0.7968488099228964.\n",
      "[I 2023-07-21 19:47:23,616] Trial 811 finished with value: 0.7841099564197117 and parameters: {'svc_c': 32.20017029913662, 'svc_tol': 0.0319367260655848, 'svc_max_iter': 4438, 'svc_class_weight': None, 'svc_penalty': 'l2'}. Best is trial 508 with value: 0.7968488099228964.\n",
      "[I 2023-07-21 19:47:24,150] Trial 813 finished with value: 0.7896413007039893 and parameters: {'svc_c': 31.490600261684982, 'svc_tol': 0.07821005856311564, 'svc_max_iter': 2735, 'svc_class_weight': None, 'svc_penalty': 'l2'}. Best is trial 508 with value: 0.7968488099228964.\n",
      "[I 2023-07-21 19:47:25,325] Trial 818 finished with value: 0.7819309420046933 and parameters: {'svc_c': 41.959758241584275, 'svc_tol': 0.03202990061230612, 'svc_max_iter': 4456, 'svc_class_weight': None, 'svc_penalty': 'l2'}. Best is trial 508 with value: 0.7968488099228964.\n",
      "[I 2023-07-21 19:47:25,449] Trial 816 finished with value: 0.7824337914850822 and parameters: {'svc_c': 747.476608722807, 'svc_tol': 0.047842861605250704, 'svc_max_iter': 4418, 'svc_class_weight': None, 'svc_penalty': 'l2'}. Best is trial 508 with value: 0.7968488099228964.\n",
      "[I 2023-07-21 19:47:25,501] Trial 814 finished with value: 0.7690244720080456 and parameters: {'svc_c': 471.3902895163616, 'svc_tol': 0.020279770890298685, 'svc_max_iter': 4437, 'svc_class_weight': None, 'svc_penalty': 'l2'}. Best is trial 508 with value: 0.7968488099228964.\n",
      "[I 2023-07-21 19:47:25,613] Trial 815 finished with value: 0.79081461615823 and parameters: {'svc_c': 41.025164465983515, 'svc_tol': 0.09337105793279124, 'svc_max_iter': 4405, 'svc_class_weight': None, 'svc_penalty': 'l2'}. Best is trial 508 with value: 0.7968488099228964.\n",
      "[I 2023-07-21 19:47:26,510] Trial 843 finished with value: 0.7861213543412672 and parameters: {'svc_c': 43.39187871342653, 'svc_tol': 0.03997812729505381, 'svc_max_iter': 4444, 'svc_class_weight': None, 'svc_penalty': 'l2'}. Best is trial 508 with value: 0.7968488099228964.\n",
      "[I 2023-07-21 19:47:26,626] Trial 817 finished with value: 0.7748910492792491 and parameters: {'svc_c': 716.169248702483, 'svc_tol': 0.027061928534609557, 'svc_max_iter': 4423, 'svc_class_weight': None, 'svc_penalty': 'l2'}. Best is trial 508 with value: 0.7968488099228964.\n",
      "[I 2023-07-21 19:47:27,528] Trial 824 finished with value: 0.7881327522628226 and parameters: {'svc_c': 38.697619377767914, 'svc_tol': 0.07743817695822708, 'svc_max_iter': 4455, 'svc_class_weight': None, 'svc_penalty': 'l2'}. Best is trial 508 with value: 0.7968488099228964.\n",
      "[I 2023-07-21 19:47:28,449] Trial 819 finished with value: 0.7901441501843781 and parameters: {'svc_c': 41.98258034997051, 'svc_tol': 0.06909293013869891, 'svc_max_iter': 4410, 'svc_class_weight': None, 'svc_penalty': 'l2'}. Best is trial 508 with value: 0.7968488099228964.\n",
      "[I 2023-07-21 19:47:28,518] Trial 823 finished with value: 0.7903117666778411 and parameters: {'svc_c': 807.6061544956306, 'svc_tol': 0.09342094504186407, 'svc_max_iter': 4441, 'svc_class_weight': None, 'svc_penalty': 'l2'}. Best is trial 508 with value: 0.7968488099228964.\n",
      "[I 2023-07-21 19:47:29,063] Trial 840 finished with value: 0.7886356017432116 and parameters: {'svc_c': 31.490156261136345, 'svc_tol': 0.05436020331894699, 'svc_max_iter': 4431, 'svc_class_weight': None, 'svc_penalty': 'l2'}. Best is trial 508 with value: 0.7968488099228964.\n",
      "[I 2023-07-21 19:47:29,236] Trial 825 finished with value: 0.790646999664767 and parameters: {'svc_c': 40.08057213334427, 'svc_tol': 0.09344772906298963, 'svc_max_iter': 4556, 'svc_class_weight': None, 'svc_penalty': 'l2'}. Best is trial 508 with value: 0.7968488099228964.\n",
      "[I 2023-07-21 19:47:30,387] Trial 820 finished with value: 0.7663426081126383 and parameters: {'svc_c': 500.742633601623, 'svc_tol': 0.013427368033388093, 'svc_max_iter': 4447, 'svc_class_weight': None, 'svc_penalty': 'l2'}. Best is trial 508 with value: 0.7968488099228964.\n",
      "[I 2023-07-21 19:47:30,537] Trial 822 finished with value: 0.7745558162923232 and parameters: {'svc_c': 39.97421513460719, 'svc_tol': 0.020433758447683203, 'svc_max_iter': 4416, 'svc_class_weight': None, 'svc_penalty': 'l2'}. Best is trial 508 with value: 0.7968488099228964.\n",
      "[I 2023-07-21 19:47:30,543] Trial 831 finished with value: 0.7854508883674154 and parameters: {'svc_c': 41.68153180624504, 'svc_tol': 0.03954194803002578, 'svc_max_iter': 4390, 'svc_class_weight': None, 'svc_penalty': 'l2'}. Best is trial 508 with value: 0.7968488099228964.\n",
      "[I 2023-07-21 19:47:30,664] Trial 828 finished with value: 0.7911498491451558 and parameters: {'svc_c': 45.12812108425419, 'svc_tol': 0.08975793580049879, 'svc_max_iter': 4419, 'svc_class_weight': None, 'svc_penalty': 'l2'}. Best is trial 508 with value: 0.7968488099228964.\n",
      "[I 2023-07-21 19:47:31,325] Trial 832 finished with value: 0.7856185048608784 and parameters: {'svc_c': 603.1697001650144, 'svc_tol': 0.07637124205035278, 'svc_max_iter': 4562, 'svc_class_weight': None, 'svc_penalty': 'l2'}. Best is trial 508 with value: 0.7968488099228964.\n",
      "[I 2023-07-21 19:47:31,347] Trial 821 finished with value: 0.7861213543412672 and parameters: {'svc_c': 491.5199825792774, 'svc_tol': 0.0682170012986893, 'svc_max_iter': 4413, 'svc_class_weight': None, 'svc_penalty': 'l2'}. Best is trial 508 with value: 0.7968488099228964.\n",
      "[I 2023-07-21 19:47:31,358] Trial 833 finished with value: 0.7889708347301374 and parameters: {'svc_c': 41.598173202953916, 'svc_tol': 0.053008079067016926, 'svc_max_iter': 1629, 'svc_class_weight': None, 'svc_penalty': 'l2'}. Best is trial 508 with value: 0.7968488099228964.\n",
      "[I 2023-07-21 19:47:31,519] Trial 827 finished with value: 0.7872946697955079 and parameters: {'svc_c': 508.6545440179825, 'svc_tol': 0.06999852068184412, 'svc_max_iter': 4396, 'svc_class_weight': None, 'svc_penalty': 'l2'}. Best is trial 508 with value: 0.7968488099228964.\n",
      "[I 2023-07-21 19:47:31,545] Trial 838 finished with value: 0.7862889708347301 and parameters: {'svc_c': 604.947120948789, 'svc_tol': 0.06854357060050603, 'svc_max_iter': 4447, 'svc_class_weight': None, 'svc_penalty': 'l2'}. Best is trial 508 with value: 0.7968488099228964.\n",
      "[I 2023-07-21 19:47:32,104] Trial 835 finished with value: 0.783271873952397 and parameters: {'svc_c': 895.189452031898, 'svc_tol': 0.0493320196676657, 'svc_max_iter': 4402, 'svc_class_weight': None, 'svc_penalty': 'l2'}. Best is trial 508 with value: 0.7968488099228964.\n",
      "[I 2023-07-21 19:47:32,632] Trial 841 finished with value: 0.7859537378478042 and parameters: {'svc_c': 42.055668933353765, 'svc_tol': 0.04783973064185032, 'svc_max_iter': 4547, 'svc_class_weight': None, 'svc_penalty': 'l2'}. Best is trial 508 with value: 0.7968488099228964.\n",
      "[I 2023-07-21 19:47:32,810] Trial 826 finished with value: 0.7701977874622863 and parameters: {'svc_c': 42.054929729637024, 'svc_tol': 0.011704744722660004, 'svc_max_iter': 4433, 'svc_class_weight': None, 'svc_penalty': 'l2'}. Best is trial 508 with value: 0.7968488099228964.\n",
      "[I 2023-07-21 19:47:32,907] Trial 837 finished with value: 0.7837747234327858 and parameters: {'svc_c': 510.4297909696536, 'svc_tol': 0.047288430227425, 'svc_max_iter': 2620, 'svc_class_weight': None, 'svc_penalty': 'l2'}. Best is trial 508 with value: 0.7968488099228964.\n",
      "[I 2023-07-21 19:47:33,872] Trial 836 finished with value: 0.7869594368085819 and parameters: {'svc_c': 35.608223512309266, 'svc_tol': 0.06380753013905921, 'svc_max_iter': 4412, 'svc_class_weight': None, 'svc_penalty': 'l2'}. Best is trial 508 with value: 0.7968488099228964.\n",
      "[I 2023-07-21 19:47:34,119] Trial 847 finished with value: 0.7864565873281931 and parameters: {'svc_c': 42.605858483027774, 'svc_tol': 0.06397930130194504, 'svc_max_iter': 4464, 'svc_class_weight': None, 'svc_penalty': 'l2'}. Best is trial 508 with value: 0.7968488099228964.\n",
      "[I 2023-07-21 19:47:34,141] Trial 839 finished with value: 0.7911498491451558 and parameters: {'svc_c': 42.64872395624491, 'svc_tol': 0.09336780825085367, 'svc_max_iter': 4436, 'svc_class_weight': None, 'svc_penalty': 'l2'}. Best is trial 508 with value: 0.7968488099228964.\n",
      "[I 2023-07-21 19:47:35,611] Trial 844 finished with value: 0.7844451894066377 and parameters: {'svc_c': 40.820681629261294, 'svc_tol': 0.047075617386426016, 'svc_max_iter': 4426, 'svc_class_weight': None, 'svc_penalty': 'l2'}. Best is trial 508 with value: 0.7968488099228964.\n",
      "[I 2023-07-21 19:47:35,636] Trial 849 finished with value: 0.7779081461615823 and parameters: {'svc_c': 747.9951543935105, 'svc_tol': 0.03249541969371565, 'svc_max_iter': 4432, 'svc_class_weight': None, 'svc_penalty': 'l2'}. Best is trial 508 with value: 0.7968488099228964.\n",
      "[I 2023-07-21 19:47:35,914] Trial 846 finished with value: 0.7866242038216561 and parameters: {'svc_c': 617.7577112912694, 'svc_tol': 0.05157085737142713, 'svc_max_iter': 4419, 'svc_class_weight': None, 'svc_penalty': 'l2'}. Best is trial 508 with value: 0.7968488099228964.\n",
      "[I 2023-07-21 19:47:35,943] Trial 851 finished with value: 0.7899765336909151 and parameters: {'svc_c': 902.9055239284326, 'svc_tol': 0.09870600264632484, 'svc_max_iter': 4413, 'svc_class_weight': None, 'svc_penalty': 'l2'}. Best is trial 508 with value: 0.7968488099228964.\n",
      "[I 2023-07-21 19:47:36,252] Trial 852 finished with value: 0.790646999664767 and parameters: {'svc_c': 26.98615614327953, 'svc_tol': 0.07415796581820382, 'svc_max_iter': 4575, 'svc_class_weight': None, 'svc_penalty': 'l2'}. Best is trial 508 with value: 0.7968488099228964.\n",
      "[I 2023-07-21 19:47:36,345] Trial 848 finished with value: 0.7864565873281931 and parameters: {'svc_c': 957.7719699993728, 'svc_tol': 0.05773450376677329, 'svc_max_iter': 4421, 'svc_class_weight': None, 'svc_penalty': 'l2'}. Best is trial 508 with value: 0.7968488099228964.\n",
      "[I 2023-07-21 19:47:36,777] Trial 842 finished with value: 0.786791820315119 and parameters: {'svc_c': 714.6216365532168, 'svc_tol': 0.07512090115208699, 'svc_max_iter': 4481, 'svc_class_weight': None, 'svc_penalty': 'l2'}. Best is trial 508 with value: 0.7968488099228964.\n",
      "[I 2023-07-21 19:47:37,695] Trial 830 finished with value: 0.7854508883674154 and parameters: {'svc_c': 42.16898504722714, 'svc_tol': 0.038398062008849015, 'svc_max_iter': 4425, 'svc_class_weight': None, 'svc_penalty': 'l2'}. Best is trial 508 with value: 0.7968488099228964.\n",
      "[I 2023-07-21 19:47:37,745] Trial 845 finished with value: 0.7893060677170634 and parameters: {'svc_c': 43.20560884449766, 'svc_tol': 0.0973893287494096, 'svc_max_iter': 4449, 'svc_class_weight': None, 'svc_penalty': 'l2'}. Best is trial 508 with value: 0.7968488099228964.\n",
      "[I 2023-07-21 19:47:38,058] Trial 850 finished with value: 0.7896413007039893 and parameters: {'svc_c': 503.6496084400376, 'svc_tol': 0.09335991579015036, 'svc_max_iter': 4422, 'svc_class_weight': None, 'svc_penalty': 'l2'}. Best is trial 508 with value: 0.7968488099228964.\n",
      "[I 2023-07-21 19:47:38,137] Trial 853 finished with value: 0.759470331880657 and parameters: {'svc_c': 698.8581933468175, 'svc_tol': 0.007088175802152374, 'svc_max_iter': 4426, 'svc_class_weight': None, 'svc_penalty': 'l2'}. Best is trial 508 with value: 0.7968488099228964.\n",
      "[I 2023-07-21 19:47:38,709] Trial 829 finished with value: 0.7819309420046933 and parameters: {'svc_c': 37.72053497561004, 'svc_tol': 0.033424396427371446, 'svc_max_iter': 4436, 'svc_class_weight': None, 'svc_penalty': 'l2'}. Best is trial 508 with value: 0.7968488099228964.\n",
      "[I 2023-07-21 19:47:38,752] Trial 834 finished with value: 0.7896413007039893 and parameters: {'svc_c': 41.16026914234103, 'svc_tol': 0.09409443590438672, 'svc_max_iter': 4558, 'svc_class_weight': None, 'svc_penalty': 'l2'}. Best is trial 508 with value: 0.7968488099228964.\n",
      "[I 2023-07-21 19:47:38,993] Trial 854 finished with value: 0.7866242038216561 and parameters: {'svc_c': 40.73786418657358, 'svc_tol': 0.07575108814313511, 'svc_max_iter': 4432, 'svc_class_weight': None, 'svc_penalty': 'l2'}. Best is trial 508 with value: 0.7968488099228964.\n",
      "[I 2023-07-21 19:47:39,221] Trial 860 finished with value: 0.7884679852497486 and parameters: {'svc_c': 43.97357700752565, 'svc_tol': 0.051811026832028866, 'svc_max_iter': 4406, 'svc_class_weight': None, 'svc_penalty': 'l2'}. Best is trial 508 with value: 0.7968488099228964.\n",
      "[I 2023-07-21 19:47:39,795] Trial 855 finished with value: 0.7876299027824338 and parameters: {'svc_c': 44.14679582036424, 'svc_tol': 0.0773411932130403, 'svc_max_iter': 4416, 'svc_class_weight': None, 'svc_penalty': 'l2'}. Best is trial 508 with value: 0.7968488099228964.\n",
      "[I 2023-07-21 19:47:39,903] Trial 856 finished with value: 0.7877975192758967 and parameters: {'svc_c': 41.63345197122935, 'svc_tol': 0.07254067673487645, 'svc_max_iter': 4437, 'svc_class_weight': None, 'svc_penalty': 'l2'}. Best is trial 508 with value: 0.7968488099228964.\n",
      "[I 2023-07-21 19:47:40,732] Trial 858 finished with value: 0.7876299027824338 and parameters: {'svc_c': 44.719505552453555, 'svc_tol': 0.07559839205228829, 'svc_max_iter': 4426, 'svc_class_weight': None, 'svc_penalty': 'l2'}. Best is trial 508 with value: 0.7968488099228964.\n",
      "[I 2023-07-21 19:47:40,886] Trial 857 finished with value: 0.7909822326516929 and parameters: {'svc_c': 44.15497085612285, 'svc_tol': 0.09335525281685392, 'svc_max_iter': 4385, 'svc_class_weight': None, 'svc_penalty': 'l2'}. Best is trial 508 with value: 0.7968488099228964.\n",
      "[I 2023-07-21 19:47:41,390] Trial 861 finished with value: 0.779081461615823 and parameters: {'svc_c': 47.069613609175825, 'svc_tol': 0.026427967444359216, 'svc_max_iter': 4563, 'svc_class_weight': None, 'svc_penalty': 'l2'}. Best is trial 508 with value: 0.7968488099228964.\n",
      "[I 2023-07-21 19:47:42,357] Trial 862 finished with value: 0.7918203151190077 and parameters: {'svc_c': 43.63846616824364, 'svc_tol': 0.09311986880722455, 'svc_max_iter': 4407, 'svc_class_weight': None, 'svc_penalty': 'l2'}. Best is trial 508 with value: 0.7968488099228964.\n",
      "[I 2023-07-21 19:47:42,437] Trial 859 finished with value: 0.7896413007039893 and parameters: {'svc_c': 42.62992586379159, 'svc_tol': 0.05742590594217688, 'svc_max_iter': 4452, 'svc_class_weight': None, 'svc_penalty': 'l2'}. Best is trial 508 with value: 0.7968488099228964.\n",
      "[I 2023-07-21 19:47:42,439] Trial 865 finished with value: 0.7894736842105263 and parameters: {'svc_c': 44.41987784646935, 'svc_tol': 0.051282302286368694, 'svc_max_iter': 4390, 'svc_class_weight': None, 'svc_penalty': 'l2'}. Best is trial 508 with value: 0.7968488099228964.\n",
      "[I 2023-07-21 19:47:42,507] Trial 863 finished with value: 0.7797519275896748 and parameters: {'svc_c': 755.6867255800252, 'svc_tol': 0.03354982397242855, 'svc_max_iter': 4424, 'svc_class_weight': None, 'svc_penalty': 'l2'}. Best is trial 508 with value: 0.7968488099228964.\n",
      "[I 2023-07-21 19:47:43,319] Trial 864 finished with value: 0.7883003687562856 and parameters: {'svc_c': 41.170334539164514, 'svc_tol': 0.07636403882618514, 'svc_max_iter': 4434, 'svc_class_weight': None, 'svc_penalty': 'l2'}. Best is trial 508 with value: 0.7968488099228964.\n",
      "[I 2023-07-21 19:47:43,444] Trial 867 finished with value: 0.79081461615823 and parameters: {'svc_c': 705.2682214477841, 'svc_tol': 0.09341857185838864, 'svc_max_iter': 4583, 'svc_class_weight': None, 'svc_penalty': 'l2'}. Best is trial 508 with value: 0.7968488099228964.\n",
      "[I 2023-07-21 19:47:44,780] Trial 870 finished with value: 0.7849480388870265 and parameters: {'svc_c': 43.89719027736488, 'svc_tol': 0.05893356450419337, 'svc_max_iter': 4466, 'svc_class_weight': None, 'svc_penalty': 'l2'}. Best is trial 508 with value: 0.7968488099228964.\n",
      "[I 2023-07-21 19:47:45,418] Trial 869 finished with value: 0.7901441501843781 and parameters: {'svc_c': 42.252492561660524, 'svc_tol': 0.0775938513387904, 'svc_max_iter': 4410, 'svc_class_weight': None, 'svc_penalty': 'l2'}. Best is trial 508 with value: 0.7968488099228964.\n",
      "[I 2023-07-21 19:47:45,706] Trial 871 finished with value: 0.7795843110962118 and parameters: {'svc_c': 44.48373537658044, 'svc_tol': 0.027822795953996744, 'svc_max_iter': 4421, 'svc_class_weight': None, 'svc_penalty': 'l2'}. Best is trial 508 with value: 0.7968488099228964.\n",
      "[I 2023-07-21 19:47:45,876] Trial 868 finished with value: 0.7769024472008046 and parameters: {'svc_c': 45.08423335146874, 'svc_tol': 0.025159651292772086, 'svc_max_iter': 4459, 'svc_class_weight': None, 'svc_penalty': 'l2'}. Best is trial 508 with value: 0.7968488099228964.\n",
      "[I 2023-07-21 19:47:46,470] Trial 866 finished with value: 0.7896413007039893 and parameters: {'svc_c': 44.19931177947386, 'svc_tol': 0.049855638367087354, 'svc_max_iter': 4439, 'svc_class_weight': None, 'svc_penalty': 'l2'}. Best is trial 508 with value: 0.7968488099228964.\n",
      "[I 2023-07-21 19:47:47,523] Trial 872 finished with value: 0.7901441501843781 and parameters: {'svc_c': 28.183425661185655, 'svc_tol': 0.07766489257562327, 'svc_max_iter': 4472, 'svc_class_weight': None, 'svc_penalty': 'l2'}. Best is trial 508 with value: 0.7968488099228964.\n",
      "[I 2023-07-21 19:47:47,621] Trial 874 finished with value: 0.7864565873281931 and parameters: {'svc_c': 47.77448593867057, 'svc_tol': 0.041790615850683874, 'svc_max_iter': 4470, 'svc_class_weight': None, 'svc_penalty': 'l2'}. Best is trial 508 with value: 0.7968488099228964.\n",
      "[I 2023-07-21 19:47:47,704] Trial 873 finished with value: 0.7849480388870265 and parameters: {'svc_c': 26.162645470903808, 'svc_tol': 0.05824749123599102, 'svc_max_iter': 4408, 'svc_class_weight': None, 'svc_penalty': 'l2'}. Best is trial 508 with value: 0.7968488099228964.\n",
      "[I 2023-07-21 19:47:48,764] Trial 875 finished with value: 0.7802547770700637 and parameters: {'svc_c': 42.87790691540194, 'svc_tol': 0.02376292808888608, 'svc_max_iter': 4427, 'svc_class_weight': None, 'svc_penalty': 'l2'}. Best is trial 508 with value: 0.7968488099228964.\n",
      "[I 2023-07-21 19:47:49,877] Trial 895 finished with value: 0.7903117666778411 and parameters: {'svc_c': 49.413366718463614, 'svc_tol': 0.09313891899694048, 'svc_max_iter': 4416, 'svc_class_weight': None, 'svc_penalty': 'l2'}. Best is trial 508 with value: 0.7968488099228964.\n",
      "[I 2023-07-21 19:47:50,486] Trial 877 finished with value: 0.7899765336909151 and parameters: {'svc_c': 723.1240405044744, 'svc_tol': 0.09314243885952649, 'svc_max_iter': 4437, 'svc_class_weight': None, 'svc_penalty': 'l2'}. Best is trial 508 with value: 0.7968488099228964.\n",
      "[I 2023-07-21 19:47:52,011] Trial 881 finished with value: 0.7903117666778411 and parameters: {'svc_c': 41.877764407042655, 'svc_tol': 0.09312862908483255, 'svc_max_iter': 4401, 'svc_class_weight': None, 'svc_penalty': 'l2'}. Best is trial 508 with value: 0.7968488099228964.\n",
      "[I 2023-07-21 19:47:52,052] Trial 878 finished with value: 0.7834394904458599 and parameters: {'svc_c': 40.1512467141657, 'svc_tol': 0.03293786694483575, 'svc_max_iter': 4441, 'svc_class_weight': None, 'svc_penalty': 'l2'}. Best is trial 508 with value: 0.7968488099228964.\n",
      "[I 2023-07-21 19:47:52,633] Trial 880 finished with value: 0.7891384512236004 and parameters: {'svc_c': 44.99721395230126, 'svc_tol': 0.07696576028526197, 'svc_max_iter': 4388, 'svc_class_weight': None, 'svc_penalty': 'l2'}. Best is trial 508 with value: 0.7968488099228964.\n",
      "[I 2023-07-21 19:47:52,648] Trial 876 finished with value: 0.7874622862889709 and parameters: {'svc_c': 42.295157446839546, 'svc_tol': 0.049233457453758935, 'svc_max_iter': 4478, 'svc_class_weight': None, 'svc_penalty': 'l2'}. Best is trial 508 with value: 0.7968488099228964.\n",
      "[I 2023-07-21 19:47:52,833] Trial 894 finished with value: 0.7701977874622863 and parameters: {'svc_c': 48.29551218627863, 'svc_tol': 0.013653686478238267, 'svc_max_iter': 4409, 'svc_class_weight': None, 'svc_penalty': 'l2'}. Best is trial 508 with value: 0.7968488099228964.\n",
      "[I 2023-07-21 19:47:54,136] Trial 882 finished with value: 0.7889708347301374 and parameters: {'svc_c': 46.115258728598, 'svc_tol': 0.05252050291771227, 'svc_max_iter': 4410, 'svc_class_weight': None, 'svc_penalty': 'l2'}. Best is trial 508 with value: 0.7968488099228964.\n",
      "[I 2023-07-21 19:47:54,285] Trial 883 finished with value: 0.7904793831713041 and parameters: {'svc_c': 45.179383892539924, 'svc_tol': 0.09793766433772538, 'svc_max_iter': 4437, 'svc_class_weight': None, 'svc_penalty': 'l2'}. Best is trial 508 with value: 0.7968488099228964.\n",
      "[I 2023-07-21 19:47:54,652] Trial 879 finished with value: 0.7856185048608784 and parameters: {'svc_c': 889.6433653206008, 'svc_tol': 0.07596582992382774, 'svc_max_iter': 4437, 'svc_class_weight': None, 'svc_penalty': 'l2'}. Best is trial 508 with value: 0.7968488099228964.\n",
      "[I 2023-07-21 19:47:55,060] Trial 885 finished with value: 0.782769024472008 and parameters: {'svc_c': 45.476709070550754, 'svc_tol': 0.034972048949438, 'svc_max_iter': 4429, 'svc_class_weight': None, 'svc_penalty': 'l2'}. Best is trial 508 with value: 0.7968488099228964.\n",
      "[I 2023-07-21 19:47:55,266] Trial 888 finished with value: 0.79081461615823 and parameters: {'svc_c': 43.73670888908257, 'svc_tol': 0.09804255568519395, 'svc_max_iter': 2593, 'svc_class_weight': None, 'svc_penalty': 'l2'}. Best is trial 508 with value: 0.7968488099228964.\n",
      "[I 2023-07-21 19:47:55,592] Trial 889 finished with value: 0.7909822326516929 and parameters: {'svc_c': 44.778305280304494, 'svc_tol': 0.09344838501494188, 'svc_max_iter': 4411, 'svc_class_weight': None, 'svc_penalty': 'l2'}. Best is trial 508 with value: 0.7968488099228964.\n",
      "[I 2023-07-21 19:47:56,366] Trial 892 finished with value: 0.7879651357693597 and parameters: {'svc_c': 45.48504443949858, 'svc_tol': 0.06783533175550668, 'svc_max_iter': 4426, 'svc_class_weight': None, 'svc_penalty': 'l2'}. Best is trial 508 with value: 0.7968488099228964.\n",
      "[I 2023-07-21 19:47:56,630] Trial 887 finished with value: 0.7708682534361381 and parameters: {'svc_c': 47.03558683559301, 'svc_tol': 0.01688898397853137, 'svc_max_iter': 4463, 'svc_class_weight': None, 'svc_penalty': 'l2'}. Best is trial 508 with value: 0.7968488099228964.\n",
      "[I 2023-07-21 19:47:57,481] Trial 884 finished with value: 0.7732148843446195 and parameters: {'svc_c': 45.86164236069464, 'svc_tol': 0.01960295012801846, 'svc_max_iter': 4449, 'svc_class_weight': None, 'svc_penalty': 'l2'}. Best is trial 508 with value: 0.7968488099228964.\n",
      "[I 2023-07-21 19:47:58,249] Trial 893 finished with value: 0.7824337914850822 and parameters: {'svc_c': 46.1875881587592, 'svc_tol': 0.029802108179526866, 'svc_max_iter': 4424, 'svc_class_weight': None, 'svc_penalty': 'l2'}. Best is trial 508 with value: 0.7968488099228964.\n",
      "[I 2023-07-21 19:47:58,251] Trial 891 finished with value: 0.7666778410995642 and parameters: {'svc_c': 745.8437637448384, 'svc_tol': 0.014971221572695974, 'svc_max_iter': 4407, 'svc_class_weight': None, 'svc_penalty': 'l2'}. Best is trial 508 with value: 0.7968488099228964.\n",
      "[I 2023-07-21 19:47:58,289] Trial 896 finished with value: 0.782769024472008 and parameters: {'svc_c': 46.2370408529435, 'svc_tol': 0.030884329948928858, 'svc_max_iter': 4449, 'svc_class_weight': None, 'svc_penalty': 'l2'}. Best is trial 508 with value: 0.7968488099228964.\n",
      "[I 2023-07-21 19:47:58,470] Trial 886 finished with value: 0.7896413007039893 and parameters: {'svc_c': 289.6046011362825, 'svc_tol': 0.09350697916784523, 'svc_max_iter': 4413, 'svc_class_weight': None, 'svc_penalty': 'l2'}. Best is trial 508 with value: 0.7968488099228964.\n",
      "[I 2023-07-21 19:47:59,245] Trial 899 finished with value: 0.7872946697955079 and parameters: {'svc_c': 51.12623521015789, 'svc_tol': 0.0484644579150419, 'svc_max_iter': 4444, 'svc_class_weight': None, 'svc_penalty': 'l2'}. Best is trial 508 with value: 0.7968488099228964.\n",
      "[I 2023-07-21 19:47:59,962] Trial 897 finished with value: 0.7872946697955079 and parameters: {'svc_c': 47.73575682501658, 'svc_tol': 0.047162774795306985, 'svc_max_iter': 1621, 'svc_class_weight': None, 'svc_penalty': 'l2'}. Best is trial 508 with value: 0.7968488099228964.\n",
      "[I 2023-07-21 19:48:00,400] Trial 890 finished with value: 0.779249078109286 and parameters: {'svc_c': 48.1533046108464, 'svc_tol': 0.027305239868502248, 'svc_max_iter': 4395, 'svc_class_weight': None, 'svc_penalty': 'l2'}. Best is trial 508 with value: 0.7968488099228964.\n",
      "[I 2023-07-21 19:48:00,697] Trial 901 finished with value: 0.7884679852497486 and parameters: {'svc_c': 46.05629954763747, 'svc_tol': 0.054129779948758526, 'svc_max_iter': 1652, 'svc_class_weight': None, 'svc_penalty': 'l2'}. Best is trial 508 with value: 0.7968488099228964.\n",
      "[I 2023-07-21 19:48:00,938] Trial 902 finished with value: 0.7877975192758967 and parameters: {'svc_c': 356.86570160470205, 'svc_tol': 0.05780196720126121, 'svc_max_iter': 4442, 'svc_class_weight': None, 'svc_penalty': 'l2'}. Best is trial 508 with value: 0.7968488099228964.\n",
      "[I 2023-07-21 19:48:01,201] Trial 898 finished with value: 0.7738853503184714 and parameters: {'svc_c': 49.70203480974904, 'svc_tol': 0.01976972608339711, 'svc_max_iter': 4430, 'svc_class_weight': None, 'svc_penalty': 'l2'}. Best is trial 508 with value: 0.7968488099228964.\n",
      "[I 2023-07-21 19:48:01,371] Trial 903 finished with value: 0.7876299027824338 and parameters: {'svc_c': 43.174962616807385, 'svc_tol': 0.06670777321216657, 'svc_max_iter': 4441, 'svc_class_weight': None, 'svc_penalty': 'l2'}. Best is trial 508 with value: 0.7968488099228964.\n",
      "[I 2023-07-21 19:48:01,664] Trial 904 finished with value: 0.7889708347301374 and parameters: {'svc_c': 57.183863035961686, 'svc_tol': 0.07729167449911509, 'svc_max_iter': 4575, 'svc_class_weight': None, 'svc_penalty': 'l2'}. Best is trial 508 with value: 0.7968488099228964.\n",
      "[I 2023-07-21 19:48:01,905] Trial 900 finished with value: 0.7708682534361381 and parameters: {'svc_c': 48.607681561614996, 'svc_tol': 0.016415035489400084, 'svc_max_iter': 4415, 'svc_class_weight': None, 'svc_penalty': 'l2'}. Best is trial 508 with value: 0.7968488099228964.\n",
      "[I 2023-07-21 19:48:02,835] Trial 905 finished with value: 0.7857861213543412 and parameters: {'svc_c': 48.715530010704505, 'svc_tol': 0.046254789138974864, 'svc_max_iter': 4573, 'svc_class_weight': None, 'svc_penalty': 'l2'}. Best is trial 508 with value: 0.7968488099228964.\n",
      "[I 2023-07-21 19:48:03,022] Trial 906 finished with value: 0.7904793831713041 and parameters: {'svc_c': 48.78732336151745, 'svc_tol': 0.09820943452348853, 'svc_max_iter': 4427, 'svc_class_weight': None, 'svc_penalty': 'l2'}. Best is trial 508 with value: 0.7968488099228964.\n",
      "[I 2023-07-21 19:48:03,034] Trial 907 finished with value: 0.7898089171974523 and parameters: {'svc_c': 884.3377954130358, 'svc_tol': 0.09813896278489585, 'svc_max_iter': 4560, 'svc_class_weight': None, 'svc_penalty': 'l2'}. Best is trial 508 with value: 0.7968488099228964.\n",
      "[I 2023-07-21 19:48:04,141] Trial 909 finished with value: 0.7901441501843781 and parameters: {'svc_c': 46.244142671677764, 'svc_tol': 0.09762800963180283, 'svc_max_iter': 4561, 'svc_class_weight': None, 'svc_penalty': 'l2'}. Best is trial 508 with value: 0.7968488099228964.\n",
      "[I 2023-07-21 19:48:04,239] Trial 922 finished with value: 0.7883003687562856 and parameters: {'svc_c': 51.96913671638707, 'svc_tol': 0.049770252872615245, 'svc_max_iter': 4559, 'svc_class_weight': None, 'svc_penalty': 'l2'}. Best is trial 508 with value: 0.7968488099228964.\n",
      "[I 2023-07-21 19:48:04,933] Trial 911 finished with value: 0.7903117666778411 and parameters: {'svc_c': 45.50648611167763, 'svc_tol': 0.0979642055315156, 'svc_max_iter': 4583, 'svc_class_weight': None, 'svc_penalty': 'l2'}. Best is trial 508 with value: 0.7968488099228964.\n",
      "[I 2023-07-21 19:48:05,231] Trial 908 finished with value: 0.7898089171974523 and parameters: {'svc_c': 283.5465048513628, 'svc_tol': 0.0971789429088239, 'svc_max_iter': 4530, 'svc_class_weight': None, 'svc_penalty': 'l2'}. Best is trial 508 with value: 0.7968488099228964.\n",
      "[I 2023-07-21 19:48:05,362] Trial 915 finished with value: 0.7805900100569896 and parameters: {'svc_c': 49.66829292839116, 'svc_tol': 0.03764369258337259, 'svc_max_iter': 4585, 'svc_class_weight': None, 'svc_penalty': 'l2'}. Best is trial 508 with value: 0.7968488099228964.\n",
      "[I 2023-07-21 19:48:06,286] Trial 913 finished with value: 0.79081461615823 and parameters: {'svc_c': 49.85518743943877, 'svc_tol': 0.09749087619874493, 'svc_max_iter': 1767, 'svc_class_weight': None, 'svc_penalty': 'l2'}. Best is trial 508 with value: 0.7968488099228964.\n",
      "[I 2023-07-21 19:48:06,311] Trial 912 finished with value: 0.7737177338250084 and parameters: {'svc_c': 710.2966437732107, 'svc_tol': 0.027792829836296804, 'svc_max_iter': 4546, 'svc_class_weight': None, 'svc_penalty': 'l2'}. Best is trial 508 with value: 0.7968488099228964.\n",
      "[I 2023-07-21 19:48:07,206] Trial 921 finished with value: 0.7864565873281931 and parameters: {'svc_c': 905.9453890369707, 'svc_tol': 0.06859784638575958, 'svc_max_iter': 4531, 'svc_class_weight': None, 'svc_penalty': 'l2'}. Best is trial 508 with value: 0.7968488099228964.\n",
      "[I 2023-07-21 19:48:07,549] Trial 916 finished with value: 0.7883003687562856 and parameters: {'svc_c': 59.31274339225675, 'svc_tol': 0.06442359190267062, 'svc_max_iter': 4571, 'svc_class_weight': None, 'svc_penalty': 'l2'}. Best is trial 508 with value: 0.7968488099228964.\n",
      "[I 2023-07-21 19:48:07,689] Trial 910 finished with value: 0.7888032182366745 and parameters: {'svc_c': 49.584356113147315, 'svc_tol': 0.053622903060832366, 'svc_max_iter': 4596, 'svc_class_weight': None, 'svc_penalty': 'l2'}. Best is trial 508 with value: 0.7968488099228964.\n",
      "[I 2023-07-21 19:48:07,704] Trial 919 finished with value: 0.7651692926583976 and parameters: {'svc_c': 53.81332565954267, 'svc_tol': 0.005139776313772465, 'svc_max_iter': 4528, 'svc_class_weight': None, 'svc_penalty': 'l2'}. Best is trial 508 with value: 0.7968488099228964.\n",
      "[I 2023-07-21 19:48:08,634] Trial 917 finished with value: 0.7909822326516929 and parameters: {'svc_c': 51.82093121425068, 'svc_tol': 0.08970204408056402, 'svc_max_iter': 4542, 'svc_class_weight': None, 'svc_penalty': 'l2'}. Best is trial 508 with value: 0.7968488099228964.\n",
      "[I 2023-07-21 19:48:08,778] Trial 920 finished with value: 0.79081461615823 and parameters: {'svc_c': 51.7261515010891, 'svc_tol': 0.09784846776776639, 'svc_max_iter': 4576, 'svc_class_weight': None, 'svc_penalty': 'l2'}. Best is trial 508 with value: 0.7968488099228964.\n",
      "[I 2023-07-21 19:48:08,805] Trial 923 finished with value: 0.7891384512236004 and parameters: {'svc_c': 56.70980192055231, 'svc_tol': 0.09838745624001174, 'svc_max_iter': 4536, 'svc_class_weight': None, 'svc_penalty': 'l2'}. Best is trial 508 with value: 0.7968488099228964.\n",
      "[I 2023-07-21 19:48:09,139] Trial 918 finished with value: 0.7779081461615823 and parameters: {'svc_c': 50.24401944612876, 'svc_tol': 0.02484167840437443, 'svc_max_iter': 4528, 'svc_class_weight': None, 'svc_penalty': 'l2'}. Best is trial 508 with value: 0.7968488099228964.\n",
      "[I 2023-07-21 19:48:10,309] Trial 934 finished with value: 0.783271873952397 and parameters: {'svc_c': 54.10544020214386, 'svc_tol': 0.039692144123042165, 'svc_max_iter': 4560, 'svc_class_weight': None, 'svc_penalty': 'l2'}. Best is trial 508 with value: 0.7968488099228964.\n",
      "[I 2023-07-21 19:48:10,550] Trial 928 finished with value: 0.7914850821320818 and parameters: {'svc_c': 54.62851051885061, 'svc_tol': 0.08967515965207538, 'svc_max_iter': 4569, 'svc_class_weight': None, 'svc_penalty': 'l2'}. Best is trial 508 with value: 0.7968488099228964.\n",
      "[I 2023-07-21 19:48:10,915] Trial 926 finished with value: 0.7730472678511565 and parameters: {'svc_c': 51.05407597942862, 'svc_tol': 0.021394960564497793, 'svc_max_iter': 4576, 'svc_class_weight': None, 'svc_penalty': 'l2'}. Best is trial 508 with value: 0.7968488099228964.\n",
      "[I 2023-07-21 19:48:11,029] Trial 914 finished with value: 0.7723768018773047 and parameters: {'svc_c': 45.23946377130748, 'svc_tol': 0.020834206940149966, 'svc_max_iter': 4576, 'svc_class_weight': None, 'svc_penalty': 'l2'}. Best is trial 508 with value: 0.7968488099228964.\n",
      "[I 2023-07-21 19:48:11,409] Trial 929 finished with value: 0.7909822326516929 and parameters: {'svc_c': 50.27599925729906, 'svc_tol': 0.0976568020389754, 'svc_max_iter': 4571, 'svc_class_weight': None, 'svc_penalty': 'l2'}. Best is trial 508 with value: 0.7968488099228964.\n",
      "[I 2023-07-21 19:48:11,570] Trial 924 finished with value: 0.7800871605766008 and parameters: {'svc_c': 513.274998917046, 'svc_tol': 0.03775591067014731, 'svc_max_iter': 2282, 'svc_class_weight': None, 'svc_penalty': 'l2'}. Best is trial 508 with value: 0.7968488099228964.\n",
      "[I 2023-07-21 19:48:12,832] Trial 930 finished with value: 0.7661749916191753 and parameters: {'svc_c': 50.03117427311469, 'svc_tol': 0.005017933119701855, 'svc_max_iter': 4563, 'svc_class_weight': None, 'svc_penalty': 'l2'}. Best is trial 508 with value: 0.7968488099228964.\n",
      "[I 2023-07-21 19:48:13,199] Trial 927 finished with value: 0.7683540060341938 and parameters: {'svc_c': 687.1599970695698, 'svc_tol': 0.021839870643455873, 'svc_max_iter': 4550, 'svc_class_weight': None, 'svc_penalty': 'l2'}. Best is trial 508 with value: 0.7968488099228964.\n",
      "[I 2023-07-21 19:48:13,960] Trial 925 finished with value: 0.7864565873281931 and parameters: {'svc_c': 52.06260926646035, 'svc_tol': 0.0559163771138543, 'svc_max_iter': 4562, 'svc_class_weight': None, 'svc_penalty': 'l2'}. Best is trial 508 with value: 0.7968488099228964.\n",
      "[I 2023-07-21 19:48:14,280] Trial 932 finished with value: 0.7874622862889709 and parameters: {'svc_c': 58.28388665599382, 'svc_tol': 0.05827541838090195, 'svc_max_iter': 4559, 'svc_class_weight': None, 'svc_penalty': 'l2'}. Best is trial 508 with value: 0.7968488099228964.\n",
      "[I 2023-07-21 19:48:14,735] Trial 931 finished with value: 0.7883003687562856 and parameters: {'svc_c': 52.448711739184766, 'svc_tol': 0.05917639222417288, 'svc_max_iter': 4549, 'svc_class_weight': None, 'svc_penalty': 'l2'}. Best is trial 508 with value: 0.7968488099228964.\n",
      "[I 2023-07-21 19:48:14,816] Trial 936 finished with value: 0.7918203151190077 and parameters: {'svc_c': 56.88482921420448, 'svc_tol': 0.08948809751046229, 'svc_max_iter': 4563, 'svc_class_weight': None, 'svc_penalty': 'l2'}. Best is trial 508 with value: 0.7968488099228964.\n",
      "[I 2023-07-21 19:48:16,225] Trial 935 finished with value: 0.7886356017432116 and parameters: {'svc_c': 55.78886155060173, 'svc_tol': 0.06718922444899772, 'svc_max_iter': 4543, 'svc_class_weight': None, 'svc_penalty': 'l2'}. Best is trial 508 with value: 0.7968488099228964.\n",
      "[I 2023-07-21 19:48:17,477] Trial 937 finished with value: 0.7748910492792491 and parameters: {'svc_c': 898.7045775750778, 'svc_tol': 0.025879686799759938, 'svc_max_iter': 4569, 'svc_class_weight': None, 'svc_penalty': 'l2'}. Best is trial 508 with value: 0.7968488099228964.\n",
      "[I 2023-07-21 19:48:17,689] Trial 933 finished with value: 0.783271873952397 and parameters: {'svc_c': 899.9124569020564, 'svc_tol': 0.049995309042214026, 'svc_max_iter': 4542, 'svc_class_weight': None, 'svc_penalty': 'l2'}. Best is trial 508 with value: 0.7968488099228964.\n",
      "[I 2023-07-21 19:48:18,117] Trial 939 finished with value: 0.767515923566879 and parameters: {'svc_c': 675.6846834958103, 'svc_tol': 0.016756468536729505, 'svc_max_iter': 4571, 'svc_class_weight': None, 'svc_penalty': 'l2'}. Best is trial 508 with value: 0.7968488099228964.\n",
      "[I 2023-07-21 19:48:18,878] Trial 942 finished with value: 0.7899765336909151 and parameters: {'svc_c': 276.5349056441133, 'svc_tol': 0.09800936681530183, 'svc_max_iter': 4574, 'svc_class_weight': None, 'svc_penalty': 'l2'}. Best is trial 508 with value: 0.7968488099228964.\n",
      "[I 2023-07-21 19:48:19,452] Trial 940 finished with value: 0.7872946697955079 and parameters: {'svc_c': 54.90687740488562, 'svc_tol': 0.057923307568797794, 'svc_max_iter': 4565, 'svc_class_weight': None, 'svc_penalty': 'l2'}. Best is trial 508 with value: 0.7968488099228964.\n",
      "[I 2023-07-21 19:48:19,815] Trial 941 finished with value: 0.7883003687562856 and parameters: {'svc_c': 74.0440062787568, 'svc_tol': 0.06494883159708612, 'svc_max_iter': 4576, 'svc_class_weight': None, 'svc_penalty': 'l2'}. Best is trial 508 with value: 0.7968488099228964.\n",
      "[I 2023-07-21 19:48:20,907] Trial 944 finished with value: 0.790646999664767 and parameters: {'svc_c': 283.7170647242252, 'svc_tol': 0.08954236153957872, 'svc_max_iter': 4573, 'svc_class_weight': None, 'svc_penalty': 'l2'}. Best is trial 508 with value: 0.7968488099228964.\n",
      "[I 2023-07-21 19:48:21,041] Trial 945 finished with value: 0.7901441501843781 and parameters: {'svc_c': 57.603523853606994, 'svc_tol': 0.09769222759191996, 'svc_max_iter': 4574, 'svc_class_weight': None, 'svc_penalty': 'l2'}. Best is trial 508 with value: 0.7968488099228964.\n",
      "[I 2023-07-21 19:48:21,159] Trial 947 finished with value: 0.7705330204492122 and parameters: {'svc_c': 59.30262992365877, 'svc_tol': 0.01823760905034865, 'svc_max_iter': 4583, 'svc_class_weight': None, 'svc_penalty': 'l2'}. Best is trial 508 with value: 0.7968488099228964.\n",
      "[I 2023-07-21 19:48:21,615] Trial 938 finished with value: 0.7862889708347301 and parameters: {'svc_c': 518.2008114080247, 'svc_tol': 0.06709874325572106, 'svc_max_iter': 4559, 'svc_class_weight': None, 'svc_penalty': 'l2'}. Best is trial 508 with value: 0.7968488099228964.\n",
      "[I 2023-07-21 19:48:21,661] Trial 948 finished with value: 0.7904793831713041 and parameters: {'svc_c': 74.22171781909928, 'svc_tol': 0.09743068353206484, 'svc_max_iter': 4566, 'svc_class_weight': None, 'svc_penalty': 'l2'}. Best is trial 508 with value: 0.7968488099228964.\n",
      "[I 2023-07-21 19:48:21,808] Trial 946 finished with value: 0.7883003687562856 and parameters: {'svc_c': 72.052878961797, 'svc_tol': 0.0664325947883634, 'svc_max_iter': 4549, 'svc_class_weight': None, 'svc_penalty': 'l2'}. Best is trial 508 with value: 0.7968488099228964.\n",
      "[I 2023-07-21 19:48:21,827] Trial 953 finished with value: 0.7903117666778411 and parameters: {'svc_c': 19.294756822484587, 'svc_tol': 0.09738116311674193, 'svc_max_iter': 4581, 'svc_class_weight': None, 'svc_penalty': 'l2'}. Best is trial 508 with value: 0.7968488099228964.\n",
      "[I 2023-07-21 19:48:22,167] Trial 950 finished with value: 0.7904793831713041 and parameters: {'svc_c': 70.93437178831164, 'svc_tol': 0.08964725247913916, 'svc_max_iter': 4579, 'svc_class_weight': None, 'svc_penalty': 'l2'}. Best is trial 508 with value: 0.7968488099228964.\n",
      "[I 2023-07-21 19:48:22,741] Trial 960 finished with value: 0.7898089171974523 and parameters: {'svc_c': 70.30835761408659, 'svc_tol': 0.08960492833012822, 'svc_max_iter': 4566, 'svc_class_weight': None, 'svc_penalty': 'l2'}. Best is trial 508 with value: 0.7968488099228964.\n",
      "[I 2023-07-21 19:48:22,806] Trial 952 finished with value: 0.7772376801877304 and parameters: {'svc_c': 707.4918796566717, 'svc_tol': 0.04045883542328502, 'svc_max_iter': 4602, 'svc_class_weight': None, 'svc_penalty': 'l2'}. Best is trial 508 with value: 0.7968488099228964.\n",
      "[I 2023-07-21 19:48:23,499] Trial 943 finished with value: 0.7898089171974523 and parameters: {'svc_c': 72.82248196757068, 'svc_tol': 0.09761058942345709, 'svc_max_iter': 4576, 'svc_class_weight': None, 'svc_penalty': 'l2'}. Best is trial 508 with value: 0.7968488099228964.\n",
      "[I 2023-07-21 19:48:23,699] Trial 949 finished with value: 0.7911498491451558 and parameters: {'svc_c': 73.55177591502762, 'svc_tol': 0.08960887604585496, 'svc_max_iter': 4570, 'svc_class_weight': None, 'svc_penalty': 'l2'}. Best is trial 508 with value: 0.7968488099228964.\n",
      "[I 2023-07-21 19:48:24,364] Trial 954 finished with value: 0.79081461615823 and parameters: {'svc_c': 66.88530551261294, 'svc_tol': 0.08925328506550222, 'svc_max_iter': 4589, 'svc_class_weight': None, 'svc_penalty': 'l2'}. Best is trial 508 with value: 0.7968488099228964.\n",
      "[I 2023-07-21 19:48:24,750] Trial 955 finished with value: 0.7886356017432116 and parameters: {'svc_c': 70.96382304901402, 'svc_tol': 0.05199566156021406, 'svc_max_iter': 4589, 'svc_class_weight': None, 'svc_penalty': 'l2'}. Best is trial 508 with value: 0.7968488099228964.\n",
      "[I 2023-07-21 19:48:24,792] Trial 958 finished with value: 0.7913174656386188 and parameters: {'svc_c': 74.0854483222165, 'svc_tol': 0.08940652682887826, 'svc_max_iter': 4579, 'svc_class_weight': None, 'svc_penalty': 'l2'}. Best is trial 508 with value: 0.7968488099228964.\n",
      "[I 2023-07-21 19:48:24,799] Trial 956 finished with value: 0.7851156553804894 and parameters: {'svc_c': 17.948665793069374, 'svc_tol': 0.043859384760841225, 'svc_max_iter': 4575, 'svc_class_weight': None, 'svc_penalty': 'l2'}. Best is trial 508 with value: 0.7968488099228964.\n",
      "[I 2023-07-21 19:48:25,513] Trial 951 finished with value: 0.79081461615823 and parameters: {'svc_c': 77.15201464017534, 'svc_tol': 0.0897637079966082, 'svc_max_iter': 4572, 'svc_class_weight': None, 'svc_penalty': 'l2'}. Best is trial 508 with value: 0.7968488099228964.\n",
      "[I 2023-07-21 19:48:25,998] Trial 959 finished with value: 0.7871270533020449 and parameters: {'svc_c': 73.49287869192804, 'svc_tol': 0.060476390086609925, 'svc_max_iter': 3461, 'svc_class_weight': None, 'svc_penalty': 'l2'}. Best is trial 508 with value: 0.7968488099228964.\n",
      "[I 2023-07-21 19:48:26,097] Trial 962 finished with value: 0.7872946697955079 and parameters: {'svc_c': 68.9678083863009, 'svc_tol': 0.061550302283008514, 'svc_max_iter': 4782, 'svc_class_weight': None, 'svc_penalty': 'l2'}. Best is trial 508 with value: 0.7968488099228964.\n",
      "[I 2023-07-21 19:48:26,411] Trial 963 finished with value: 0.7904793831713041 and parameters: {'svc_c': 671.376759024778, 'svc_tol': 0.08935834381157644, 'svc_max_iter': 4580, 'svc_class_weight': None, 'svc_penalty': 'l2'}. Best is trial 508 with value: 0.7968488099228964.\n",
      "[I 2023-07-21 19:48:26,418] Trial 957 finished with value: 0.7898089171974523 and parameters: {'svc_c': 266.59702304610744, 'svc_tol': 0.09815916631253487, 'svc_max_iter': 4600, 'svc_class_weight': None, 'svc_penalty': 'l2'}. Best is trial 508 with value: 0.7968488099228964.\n",
      "[I 2023-07-21 19:48:27,244] Trial 964 finished with value: 0.7913174656386188 and parameters: {'svc_c': 66.11077970125746, 'svc_tol': 0.08977790396644757, 'svc_max_iter': 4594, 'svc_class_weight': None, 'svc_penalty': 'l2'}. Best is trial 508 with value: 0.7968488099228964.\n",
      "[I 2023-07-21 19:48:27,507] Trial 961 finished with value: 0.7898089171974523 and parameters: {'svc_c': 74.57428847465816, 'svc_tol': 0.09762125902836738, 'svc_max_iter': 4581, 'svc_class_weight': None, 'svc_penalty': 'l2'}. Best is trial 508 with value: 0.7968488099228964.\n",
      "[I 2023-07-21 19:48:27,510] Trial 965 finished with value: 0.7904793831713041 and parameters: {'svc_c': 72.3645286837436, 'svc_tol': 0.09839667814506722, 'svc_max_iter': 2229, 'svc_class_weight': None, 'svc_penalty': 'l2'}. Best is trial 508 with value: 0.7968488099228964.\n",
      "[I 2023-07-21 19:48:28,670] Trial 972 finished with value: 0.790646999664767 and parameters: {'svc_c': 20.440210632075797, 'svc_tol': 0.08910020898852111, 'svc_max_iter': 4773, 'svc_class_weight': None, 'svc_penalty': 'l2'}. Best is trial 508 with value: 0.7968488099228964.\n",
      "[I 2023-07-21 19:48:28,926] Trial 966 finished with value: 0.7884679852497486 and parameters: {'svc_c': 71.13449570492826, 'svc_tol': 0.057400261854644856, 'svc_max_iter': 4780, 'svc_class_weight': None, 'svc_penalty': 'l2'}. Best is trial 508 with value: 0.7968488099228964.\n",
      "[I 2023-07-21 19:48:29,395] Trial 978 finished with value: 0.7698625544753603 and parameters: {'svc_c': 77.17384702181076, 'svc_tol': 0.014550698555987174, 'svc_max_iter': 4797, 'svc_class_weight': None, 'svc_penalty': 'l2'}. Best is trial 508 with value: 0.7968488099228964.\n",
      "[I 2023-07-21 19:48:29,398] Trial 971 finished with value: 0.7743881997988602 and parameters: {'svc_c': 687.7042237762942, 'svc_tol': 0.028123695320438166, 'svc_max_iter': 4560, 'svc_class_weight': None, 'svc_penalty': 'l2'}. Best is trial 508 with value: 0.7968488099228964.\n",
      "[I 2023-07-21 19:48:29,404] Trial 976 finished with value: 0.7893060677170634 and parameters: {'svc_c': 295.90176440988387, 'svc_tol': 0.0974588092473666, 'svc_max_iter': 4783, 'svc_class_weight': None, 'svc_penalty': 'l2'}. Best is trial 508 with value: 0.7968488099228964.\n",
      "[I 2023-07-21 19:48:29,567] Trial 969 finished with value: 0.7898089171974523 and parameters: {'svc_c': 74.93633144831307, 'svc_tol': 0.08932214383450948, 'svc_max_iter': 3448, 'svc_class_weight': None, 'svc_penalty': 'l2'}. Best is trial 508 with value: 0.7968488099228964.\n",
      "[I 2023-07-21 19:48:30,543] Trial 982 finished with value: 0.7901441501843781 and parameters: {'svc_c': 79.86396582733043, 'svc_tol': 0.09749766652029136, 'svc_max_iter': 4790, 'svc_class_weight': None, 'svc_penalty': 'l2'}. Best is trial 508 with value: 0.7968488099228964.\n",
      "[I 2023-07-21 19:48:31,181] Trial 967 finished with value: 0.7901441501843781 and parameters: {'svc_c': 77.77542805710355, 'svc_tol': 0.08965637079394317, 'svc_max_iter': 4594, 'svc_class_weight': None, 'svc_penalty': 'l2'}. Best is trial 508 with value: 0.7968488099228964.\n",
      "[I 2023-07-21 19:48:31,348] Trial 977 finished with value: 0.7913174656386188 and parameters: {'svc_c': 77.88723175514974, 'svc_tol': 0.0976376849318173, 'svc_max_iter': 2220, 'svc_class_weight': None, 'svc_penalty': 'l2'}. Best is trial 508 with value: 0.7968488099228964.\n",
      "[I 2023-07-21 19:48:31,382] Trial 973 finished with value: 0.79081461615823 and parameters: {'svc_c': 62.86449330953442, 'svc_tol': 0.09003844059259337, 'svc_max_iter': 4588, 'svc_class_weight': None, 'svc_penalty': 'l2'}. Best is trial 508 with value: 0.7968488099228964.\n",
      "[I 2023-07-21 19:48:31,589] Trial 981 finished with value: 0.7817633255112303 and parameters: {'svc_c': 74.11589121348734, 'svc_tol': 0.035794705233934646, 'svc_max_iter': 4598, 'svc_class_weight': None, 'svc_penalty': 'l2'}. Best is trial 508 with value: 0.7968488099228964.\n",
      "[I 2023-07-21 19:48:32,092] Trial 968 finished with value: 0.7894736842105263 and parameters: {'svc_c': 70.75977491548329, 'svc_tol': 0.0976515376856006, 'svc_max_iter': 4582, 'svc_class_weight': None, 'svc_penalty': 'l2'}. Best is trial 508 with value: 0.7968488099228964.\n",
      "[I 2023-07-21 19:48:32,227] Trial 975 finished with value: 0.7626550452564532 and parameters: {'svc_c': 64.32933431673733, 'svc_tol': 0.001965906906715671, 'svc_max_iter': 4790, 'svc_class_weight': None, 'svc_penalty': 'l2'}. Best is trial 508 with value: 0.7968488099228964.\n",
      "[I 2023-07-21 19:48:32,229] Trial 983 finished with value: 0.7804223935635266 and parameters: {'svc_c': 68.19352954704527, 'svc_tol': 0.036425688324629564, 'svc_max_iter': 4776, 'svc_class_weight': None, 'svc_penalty': 'l2'}. Best is trial 508 with value: 0.7968488099228964.\n",
      "[I 2023-07-21 19:48:32,231] Trial 974 finished with value: 0.7899765336909151 and parameters: {'svc_c': 73.07441933980732, 'svc_tol': 0.08948580787744694, 'svc_max_iter': 4582, 'svc_class_weight': None, 'svc_penalty': 'l2'}. Best is trial 508 with value: 0.7968488099228964.\n",
      "[I 2023-07-21 19:48:32,300] Trial 980 finished with value: 0.7861213543412672 and parameters: {'svc_c': 275.3806891189086, 'svc_tol': 0.060172324362707814, 'svc_max_iter': 2242, 'svc_class_weight': None, 'svc_penalty': 'l2'}. Best is trial 508 with value: 0.7968488099228964.\n",
      "[I 2023-07-21 19:48:32,338] Trial 985 finished with value: 0.7896413007039893 and parameters: {'svc_c': 652.4943648164501, 'svc_tol': 0.08937246793915841, 'svc_max_iter': 4597, 'svc_class_weight': None, 'svc_penalty': 'l2'}. Best is trial 508 with value: 0.7968488099228964.\n",
      "[I 2023-07-21 19:48:32,675] Trial 990 finished with value: 0.7903117666778411 and parameters: {'svc_c': 71.54446775384515, 'svc_tol': 0.0897557390377618, 'svc_max_iter': 4797, 'svc_class_weight': None, 'svc_penalty': 'l2'}. Best is trial 508 with value: 0.7968488099228964.\n",
      "[I 2023-07-21 19:48:32,865] Trial 989 finished with value: 0.7899765336909151 and parameters: {'svc_c': 272.73481234656606, 'svc_tol': 0.09768717337640476, 'svc_max_iter': 4779, 'svc_class_weight': None, 'svc_penalty': 'l2'}. Best is trial 508 with value: 0.7968488099228964.\n",
      "[I 2023-07-21 19:48:33,707] Trial 979 finished with value: 0.7901441501843781 and parameters: {'svc_c': 19.598446181156355, 'svc_tol': 0.09771516249213023, 'svc_max_iter': 4786, 'svc_class_weight': None, 'svc_penalty': 'l2'}. Best is trial 508 with value: 0.7968488099228964.\n",
      "[I 2023-07-21 19:48:33,720] Trial 986 finished with value: 0.7903117666778411 and parameters: {'svc_c': 283.8302236757141, 'svc_tol': 0.09795300451634026, 'svc_max_iter': 4577, 'svc_class_weight': None, 'svc_penalty': 'l2'}. Best is trial 508 with value: 0.7968488099228964.\n",
      "[I 2023-07-21 19:48:33,745] Trial 984 finished with value: 0.7896413007039893 and parameters: {'svc_c': 73.25994247449023, 'svc_tol': 0.08964449292300805, 'svc_max_iter': 4583, 'svc_class_weight': None, 'svc_penalty': 'l2'}. Best is trial 508 with value: 0.7968488099228964.\n",
      "[I 2023-07-21 19:48:33,818] Trial 988 finished with value: 0.7899765336909151 and parameters: {'svc_c': 78.12794502555116, 'svc_tol': 0.08987169164328383, 'svc_max_iter': 4788, 'svc_class_weight': None, 'svc_penalty': 'l2'}. Best is trial 508 with value: 0.7968488099228964.\n",
      "[I 2023-07-21 19:48:34,001] Trial 991 finished with value: 0.7898089171974523 and parameters: {'svc_c': 19.63007233788181, 'svc_tol': 0.059659646802031105, 'svc_max_iter': 4776, 'svc_class_weight': None, 'svc_penalty': 'l2'}. Best is trial 508 with value: 0.7968488099228964.\n",
      "[I 2023-07-21 19:48:34,575] Trial 987 finished with value: 0.782936640965471 and parameters: {'svc_c': 74.77970988270381, 'svc_tol': 0.042348026452371526, 'svc_max_iter': 4606, 'svc_class_weight': None, 'svc_penalty': 'l2'}. Best is trial 508 with value: 0.7968488099228964.\n",
      "[I 2023-07-21 19:48:34,605] Trial 993 finished with value: 0.7901441501843781 and parameters: {'svc_c': 68.46648654760355, 'svc_tol': 0.0894824508312528, 'svc_max_iter': 4587, 'svc_class_weight': None, 'svc_penalty': 'l2'}. Best is trial 508 with value: 0.7968488099228964.\n",
      "[I 2023-07-21 19:48:34,631] Trial 994 finished with value: 0.7904793831713041 and parameters: {'svc_c': 19.36920583830774, 'svc_tol': 0.08945712059489781, 'svc_max_iter': 4792, 'svc_class_weight': None, 'svc_penalty': 'l2'}. Best is trial 508 with value: 0.7968488099228964.\n",
      "[I 2023-07-21 19:48:34,655] Trial 995 finished with value: 0.7824337914850822 and parameters: {'svc_c': 680.2950753079508, 'svc_tol': 0.04310052688547398, 'svc_max_iter': 4773, 'svc_class_weight': None, 'svc_penalty': 'l2'}. Best is trial 508 with value: 0.7968488099228964.\n",
      "[I 2023-07-21 19:48:34,681] Trial 992 finished with value: 0.7787462286288971 and parameters: {'svc_c': 77.67752730943815, 'svc_tol': 0.02580437318284935, 'svc_max_iter': 4587, 'svc_class_weight': None, 'svc_penalty': 'l2'}. Best is trial 508 with value: 0.7968488099228964.\n",
      "[I 2023-07-21 19:48:34,861] Trial 970 finished with value: 0.7896413007039893 and parameters: {'svc_c': 286.5070858258681, 'svc_tol': 0.0899762400923781, 'svc_max_iter': 4576, 'svc_class_weight': None, 'svc_penalty': 'l2'}. Best is trial 508 with value: 0.7968488099228964.\n",
      "[I 2023-07-21 19:48:34,939] Trial 996 finished with value: 0.7631578947368421 and parameters: {'svc_c': 679.2690308638323, 'svc_tol': 0.010250492529658352, 'svc_max_iter': 4582, 'svc_class_weight': None, 'svc_penalty': 'l2'}. Best is trial 508 with value: 0.7968488099228964.\n",
      "[I 2023-07-21 19:48:35,396] Trial 998 finished with value: 0.7901441501843781 and parameters: {'svc_c': 76.33268242057571, 'svc_tol': 0.0894471915254912, 'svc_max_iter': 4783, 'svc_class_weight': None, 'svc_penalty': 'l2'}. Best is trial 508 with value: 0.7968488099228964.\n",
      "[I 2023-07-21 19:48:35,523] Trial 999 finished with value: 0.7901441501843781 and parameters: {'svc_c': 69.10797067500287, 'svc_tol': 0.09790050898733585, 'svc_max_iter': 4770, 'svc_class_weight': None, 'svc_penalty': 'l2'}. Best is trial 508 with value: 0.7968488099228964.\n",
      "[I 2023-07-21 19:48:35,962] Trial 997 finished with value: 0.7656721421387864 and parameters: {'svc_c': 76.4027765718622, 'svc_tol': 0.008802775257804318, 'svc_max_iter': 4576, 'svc_class_weight': None, 'svc_penalty': 'l2'}. Best is trial 508 with value: 0.7968488099228964.\n"
     ]
    }
   ],
   "source": [
    "study.optimize(objective, n_trials=1000, n_jobs=-1)"
   ]
  },
  {
   "cell_type": "code",
   "execution_count": 89,
   "metadata": {},
   "outputs": [
    {
     "name": "stdout",
     "output_type": "stream",
     "text": [
      "Best trial: {'svc_c': 1.970617278279593, 'svc_tol': 0.08535792011125493, 'svc_max_iter': 4692, 'svc_class_weight': None, 'svc_penalty': 'l2'}\n",
      "Best value: 0.7968488099228964\n"
     ]
    }
   ],
   "source": [
    "print('Best trial:', study.best_trial.params)\n",
    "print('Best value:', study.best_value)"
   ]
  },
  {
   "cell_type": "code",
   "execution_count": 91,
   "metadata": {},
   "outputs": [
    {
     "data": {
      "text/html": [
       "<style>#sk-container-id-7 {color: black;}#sk-container-id-7 pre{padding: 0;}#sk-container-id-7 div.sk-toggleable {background-color: white;}#sk-container-id-7 label.sk-toggleable__label {cursor: pointer;display: block;width: 100%;margin-bottom: 0;padding: 0.3em;box-sizing: border-box;text-align: center;}#sk-container-id-7 label.sk-toggleable__label-arrow:before {content: \"▸\";float: left;margin-right: 0.25em;color: #696969;}#sk-container-id-7 label.sk-toggleable__label-arrow:hover:before {color: black;}#sk-container-id-7 div.sk-estimator:hover label.sk-toggleable__label-arrow:before {color: black;}#sk-container-id-7 div.sk-toggleable__content {max-height: 0;max-width: 0;overflow: hidden;text-align: left;background-color: #f0f8ff;}#sk-container-id-7 div.sk-toggleable__content pre {margin: 0.2em;color: black;border-radius: 0.25em;background-color: #f0f8ff;}#sk-container-id-7 input.sk-toggleable__control:checked~div.sk-toggleable__content {max-height: 200px;max-width: 100%;overflow: auto;}#sk-container-id-7 input.sk-toggleable__control:checked~label.sk-toggleable__label-arrow:before {content: \"▾\";}#sk-container-id-7 div.sk-estimator input.sk-toggleable__control:checked~label.sk-toggleable__label {background-color: #d4ebff;}#sk-container-id-7 div.sk-label input.sk-toggleable__control:checked~label.sk-toggleable__label {background-color: #d4ebff;}#sk-container-id-7 input.sk-hidden--visually {border: 0;clip: rect(1px 1px 1px 1px);clip: rect(1px, 1px, 1px, 1px);height: 1px;margin: -1px;overflow: hidden;padding: 0;position: absolute;width: 1px;}#sk-container-id-7 div.sk-estimator {font-family: monospace;background-color: #f0f8ff;border: 1px dotted black;border-radius: 0.25em;box-sizing: border-box;margin-bottom: 0.5em;}#sk-container-id-7 div.sk-estimator:hover {background-color: #d4ebff;}#sk-container-id-7 div.sk-parallel-item::after {content: \"\";width: 100%;border-bottom: 1px solid gray;flex-grow: 1;}#sk-container-id-7 div.sk-label:hover label.sk-toggleable__label {background-color: #d4ebff;}#sk-container-id-7 div.sk-serial::before {content: \"\";position: absolute;border-left: 1px solid gray;box-sizing: border-box;top: 0;bottom: 0;left: 50%;z-index: 0;}#sk-container-id-7 div.sk-serial {display: flex;flex-direction: column;align-items: center;background-color: white;padding-right: 0.2em;padding-left: 0.2em;position: relative;}#sk-container-id-7 div.sk-item {position: relative;z-index: 1;}#sk-container-id-7 div.sk-parallel {display: flex;align-items: stretch;justify-content: center;background-color: white;position: relative;}#sk-container-id-7 div.sk-item::before, #sk-container-id-7 div.sk-parallel-item::before {content: \"\";position: absolute;border-left: 1px solid gray;box-sizing: border-box;top: 0;bottom: 0;left: 50%;z-index: -1;}#sk-container-id-7 div.sk-parallel-item {display: flex;flex-direction: column;z-index: 1;position: relative;background-color: white;}#sk-container-id-7 div.sk-parallel-item:first-child::after {align-self: flex-end;width: 50%;}#sk-container-id-7 div.sk-parallel-item:last-child::after {align-self: flex-start;width: 50%;}#sk-container-id-7 div.sk-parallel-item:only-child::after {width: 0;}#sk-container-id-7 div.sk-dashed-wrapped {border: 1px dashed gray;margin: 0 0.4em 0.5em 0.4em;box-sizing: border-box;padding-bottom: 0.4em;background-color: white;}#sk-container-id-7 div.sk-label label {font-family: monospace;font-weight: bold;display: inline-block;line-height: 1.2em;}#sk-container-id-7 div.sk-label-container {text-align: center;}#sk-container-id-7 div.sk-container {/* jupyter's `normalize.less` sets `[hidden] { display: none; }` but bootstrap.min.css set `[hidden] { display: none !important; }` so we also need the `!important` here to be able to override the default hidden behavior on the sphinx rendered scikit-learn.org. See: https://github.com/scikit-learn/scikit-learn/issues/21755 */display: inline-block !important;position: relative;}#sk-container-id-7 div.sk-text-repr-fallback {display: none;}</style><div id=\"sk-container-id-7\" class=\"sk-top-container\"><div class=\"sk-text-repr-fallback\"><pre>LinearSVC(C=1.970617278279593, dual=False, max_iter=4692, random_state=42,\n",
       "          tol=0.08535792011125493)</pre><b>In a Jupyter environment, please rerun this cell to show the HTML representation or trust the notebook. <br />On GitHub, the HTML representation is unable to render, please try loading this page with nbviewer.org.</b></div><div class=\"sk-container\" hidden><div class=\"sk-item\"><div class=\"sk-estimator sk-toggleable\"><input class=\"sk-toggleable__control sk-hidden--visually\" id=\"sk-estimator-id-7\" type=\"checkbox\" checked><label for=\"sk-estimator-id-7\" class=\"sk-toggleable__label sk-toggleable__label-arrow\">LinearSVC</label><div class=\"sk-toggleable__content\"><pre>LinearSVC(C=1.970617278279593, dual=False, max_iter=4692, random_state=42,\n",
       "          tol=0.08535792011125493)</pre></div></div></div></div></div>"
      ],
      "text/plain": [
       "LinearSVC(C=1.970617278279593, dual=False, max_iter=4692, random_state=42,\n",
       "          tol=0.08535792011125493)"
      ]
     },
     "execution_count": 91,
     "metadata": {},
     "output_type": "execute_result"
    }
   ],
   "source": [
    "tuned_tvlsvc = LinearSVC(C=1.970617278279593, tol=0.08535792011125493, max_iter=4692, class_weight=None, penalty='l2', random_state=42, dual=False)\n",
    "tuned_tvlsvc.fit(X_train, y_train)"
   ]
  },
  {
   "cell_type": "code",
   "execution_count": 93,
   "metadata": {},
   "outputs": [
    {
     "name": "stdout",
     "output_type": "stream",
     "text": [
      "Train Accuracy: 0.8498257964871951\n",
      "Validation Accuracy: 0.7968488099228964\n",
      "Test Accuracy: 0.7761018937489526\n"
     ]
    }
   ],
   "source": [
    "calc_acc(tuned_tvlsvc, X_train, y_train, X_val, y_val, X_test, y_test)"
   ]
  },
  {
   "cell_type": "code",
   "execution_count": 16,
   "metadata": {},
   "outputs": [],
   "source": [
    "def objective(trial):\n",
    "    c = trial.suggest_float('lr_c', 1e-10, 1e10)\n",
    "    tol = trial.suggest_float('lr_tol', 1e-6, 1e-1)\n",
    "    solver = trial.suggest_categorical('lr_solver', ['newton-cg', 'lbfgs', 'liblinear', 'sag', 'saga'])\n",
    "    penalty = trial.suggest_categorical('lr_penalty', [None, 'l1', 'l2', 'elasticnet'])\n",
    "    \n",
    "    if penalty == 'elasticnet':\n",
    "        l1_ratio = trial.suggest_float('lr_l1_ratio', 0, 1)\n",
    "    else:\n",
    "        l1_ratio = None\n",
    "\n",
    "    if solver == 'liblinear':\n",
    "        if penalty == 'elasticnet' or penalty is None:\n",
    "            raise optuna.TrialPruned()\n",
    "    elif solver == 'newton-cg' or solver == 'lbfgs' or solver == 'sag':\n",
    "        if penalty == 'elasticnet' or penalty == 'l1':\n",
    "            raise optuna.TrialPruned()\n",
    "\n",
    "    model = LogisticRegression(C=c, tol=tol, solver=solver, penalty=penalty, l1_ratio=l1_ratio, random_state=42)\n",
    "    model.fit(X_train, y_train)\n",
    "    y_pred = model.predict(X_val)\n",
    "    return accuracy_score(y_val, y_pred)"
   ]
  },
  {
   "cell_type": "code",
   "execution_count": 17,
   "metadata": {},
   "outputs": [
    {
     "name": "stderr",
     "output_type": "stream",
     "text": [
      "[I 2023-07-21 20:42:38,473] A new study created in memory with name: LR\n"
     ]
    }
   ],
   "source": [
    "study2 = optuna.create_study(study_name=\"LR\", load_if_exists=True, direction='maximize')"
   ]
  },
  {
   "cell_type": "code",
   "execution_count": 18,
   "metadata": {
    "scrolled": true
   },
   "outputs": [
    {
     "name": "stderr",
     "output_type": "stream",
     "text": [
      "/opt/conda/lib/python3.10/site-packages/sklearn/linear_model/_logistic.py:1192: UserWarning: Setting penalty=None will ignore the C and l1_ratio parameters\n",
      "  warnings.warn(\n",
      "[I 2023-07-21 20:42:39,796] Trial 3 pruned. \n",
      "[I 2023-07-21 20:42:39,800] Trial 4 pruned. \n",
      "/opt/conda/lib/python3.10/site-packages/sklearn/linear_model/_logistic.py:1192: UserWarning: Setting penalty=None will ignore the C and l1_ratio parameters\n",
      "  warnings.warn(\n",
      "[I 2023-07-21 20:42:39,819] Trial 5 pruned. \n",
      "[I 2023-07-21 20:42:40,170] Trial 8 pruned. \n",
      "[I 2023-07-21 20:42:40,479] Trial 9 pruned. \n",
      "/opt/conda/lib/python3.10/site-packages/sklearn/linear_model/_logistic.py:1192: UserWarning: Setting penalty=None will ignore the C and l1_ratio parameters\n",
      "  warnings.warn(\n",
      "[I 2023-07-21 20:42:42,197] Trial 49 pruned. \n",
      "[I 2023-07-21 20:42:42,719] Trial 17 pruned. \n",
      "/opt/conda/lib/python3.10/site-packages/sklearn/linear_model/_logistic.py:1192: UserWarning: Setting penalty=None will ignore the C and l1_ratio parameters\n",
      "  warnings.warn(\n",
      "/opt/conda/lib/python3.10/site-packages/sklearn/linear_model/_logistic.py:1192: UserWarning: Setting penalty=None will ignore the C and l1_ratio parameters\n",
      "  warnings.warn(\n",
      "/opt/conda/lib/python3.10/site-packages/sklearn/linear_model/_logistic.py:1192: UserWarning: Setting penalty=None will ignore the C and l1_ratio parameters\n",
      "  warnings.warn(\n",
      "[I 2023-07-21 20:42:44,294] Trial 30 pruned. \n",
      "/opt/conda/lib/python3.10/site-packages/sklearn/linear_model/_logistic.py:1192: UserWarning: Setting penalty=None will ignore the C and l1_ratio parameters\n",
      "  warnings.warn(\n",
      "[I 2023-07-21 20:42:44,304] Trial 14 pruned. \n",
      "[I 2023-07-21 20:42:44,432] Trial 47 pruned. \n",
      "[I 2023-07-21 20:42:45,367] Trial 7 finished with value: 0.7388535031847133 and parameters: {'lr_c': 1352700841.1452446, 'lr_tol': 0.015971135781531177, 'lr_solver': 'liblinear', 'lr_penalty': 'l1'}. Best is trial 7 with value: 0.7388535031847133.\n",
      "[I 2023-07-21 20:42:45,619] Trial 21 finished with value: 0.759973181361046 and parameters: {'lr_c': 4231669155.4624453, 'lr_tol': 0.07097232578183992, 'lr_solver': 'liblinear', 'lr_penalty': 'l1'}. Best is trial 21 with value: 0.759973181361046.\n",
      "/opt/conda/lib/python3.10/site-packages/sklearn/linear_model/_logistic.py:1192: UserWarning: Setting penalty=None will ignore the C and l1_ratio parameters\n",
      "  warnings.warn(\n",
      "[I 2023-07-21 20:42:47,549] Trial 10 finished with value: 0.7346630908481394 and parameters: {'lr_c': 7814017875.013552, 'lr_tol': 0.010927481342710484, 'lr_solver': 'liblinear', 'lr_penalty': 'l1'}. Best is trial 21 with value: 0.759973181361046.\n",
      "[I 2023-07-21 20:42:47,751] Trial 29 pruned. \n",
      "[I 2023-07-21 20:42:48,196] Trial 16 pruned. \n",
      "[I 2023-07-21 20:42:49,025] Trial 38 pruned. \n",
      "[I 2023-07-21 20:42:49,601] Trial 73 pruned. \n",
      "/opt/conda/lib/python3.10/site-packages/sklearn/linear_model/_logistic.py:1192: UserWarning: Setting penalty=None will ignore the C and l1_ratio parameters\n",
      "  warnings.warn(\n",
      "/opt/conda/lib/python3.10/site-packages/sklearn/linear_model/_logistic.py:1192: UserWarning: Setting penalty=None will ignore the C and l1_ratio parameters\n",
      "  warnings.warn(\n",
      "[I 2023-07-21 20:42:51,078] Trial 76 finished with value: 0.7609788803218237 and parameters: {'lr_c': 6929677792.707093, 'lr_tol': 0.07068077144610573, 'lr_solver': 'liblinear', 'lr_penalty': 'l1'}. Best is trial 76 with value: 0.7609788803218237.\n",
      "[I 2023-07-21 20:42:51,080] Trial 77 pruned. \n",
      "[I 2023-07-21 20:42:51,085] Trial 78 pruned. \n",
      "/opt/conda/lib/python3.10/site-packages/sklearn/linear_model/_logistic.py:1192: UserWarning: Setting penalty=None will ignore the C and l1_ratio parameters\n",
      "  warnings.warn(\n",
      "[I 2023-07-21 20:42:51,876] Trial 58 pruned. \n",
      "/opt/conda/lib/python3.10/site-packages/sklearn/linear_model/_logistic.py:1192: UserWarning: Setting penalty=None will ignore the C and l1_ratio parameters\n",
      "  warnings.warn(\n",
      "/opt/conda/lib/python3.10/site-packages/sklearn/linear_model/_logistic.py:1192: UserWarning: Setting penalty=None will ignore the C and l1_ratio parameters\n",
      "  warnings.warn(\n",
      "[I 2023-07-21 20:42:55,412] Trial 69 pruned. \n",
      "/opt/conda/lib/python3.10/site-packages/sklearn/linear_model/_logistic.py:1192: UserWarning: Setting penalty=None will ignore the C and l1_ratio parameters\n",
      "  warnings.warn(\n",
      "[I 2023-07-21 20:42:55,589] Trial 20 finished with value: 0.7507542742205833 and parameters: {'lr_c': 4994822735.591989, 'lr_tol': 0.040487814720290644, 'lr_solver': 'liblinear', 'lr_penalty': 'l1'}. Best is trial 76 with value: 0.7609788803218237.\n",
      "[I 2023-07-21 20:42:56,270] Trial 34 finished with value: 0.759805564867583 and parameters: {'lr_c': 6337562413.317099, 'lr_tol': 0.05792857465604613, 'lr_solver': 'liblinear', 'lr_penalty': 'l1'}. Best is trial 76 with value: 0.7609788803218237.\n",
      "[I 2023-07-21 20:42:56,289] Trial 52 pruned. \n",
      "[I 2023-07-21 20:42:57,337] Trial 24 finished with value: 0.7799195440831378 and parameters: {'lr_c': 8972857968.117245, 'lr_tol': 0.07974276496655092, 'lr_solver': 'liblinear', 'lr_penalty': 'l2'}. Best is trial 24 with value: 0.7799195440831378.\n",
      "/opt/conda/lib/python3.10/site-packages/sklearn/linear_model/_logistic.py:1192: UserWarning: Setting penalty=None will ignore the C and l1_ratio parameters\n",
      "  warnings.warn(\n",
      "/opt/conda/lib/python3.10/site-packages/sklearn/linear_model/_logistic.py:1192: UserWarning: Setting penalty=None will ignore the C and l1_ratio parameters\n",
      "  warnings.warn(\n",
      "[I 2023-07-21 20:43:00,223] Trial 64 pruned. \n",
      "[I 2023-07-21 20:43:01,807] Trial 70 pruned. \n",
      "/opt/conda/lib/python3.10/site-packages/sklearn/linear_model/_logistic.py:1192: UserWarning: Setting penalty=None will ignore the C and l1_ratio parameters\n",
      "  warnings.warn(\n",
      "[I 2023-07-21 20:43:02,122] Trial 53 pruned. \n",
      "[I 2023-07-21 20:43:02,171] Trial 54 pruned. \n",
      "[I 2023-07-21 20:43:03,620] Trial 85 finished with value: 0.7343278578612136 and parameters: {'lr_c': 6108405735.456334, 'lr_tol': 0.01185509988687356, 'lr_solver': 'liblinear', 'lr_penalty': 'l1'}. Best is trial 24 with value: 0.7799195440831378.\n",
      "/opt/conda/lib/python3.10/site-packages/sklearn/linear_model/_logistic.py:1192: UserWarning: Setting penalty=None will ignore the C and l1_ratio parameters\n",
      "  warnings.warn(\n",
      "[I 2023-07-21 20:43:04,188] Trial 50 pruned. \n",
      "[I 2023-07-21 20:43:04,295] Trial 68 pruned. \n",
      "[I 2023-07-21 20:43:04,355] Trial 51 pruned. \n",
      "[I 2023-07-21 20:43:04,365] Trial 25 finished with value: 0.7391887361716393 and parameters: {'lr_c': 5455146398.092263, 'lr_tol': 0.0012580015643112498, 'lr_solver': 'liblinear', 'lr_penalty': 'l2'}. Best is trial 24 with value: 0.7799195440831378.\n",
      "[I 2023-07-21 20:43:04,367] Trial 57 pruned. \n",
      "[I 2023-07-21 20:43:04,573] Trial 82 pruned. \n",
      "[I 2023-07-21 20:43:04,716] Trial 46 pruned. \n",
      "[I 2023-07-21 20:43:04,957] Trial 45 pruned. \n",
      "[I 2023-07-21 20:43:06,418] Trial 42 finished with value: 0.7624874287629902 and parameters: {'lr_c': 6159555415.485766, 'lr_tol': 0.0800252072187452, 'lr_solver': 'liblinear', 'lr_penalty': 'l1'}. Best is trial 24 with value: 0.7799195440831378.\n",
      "[I 2023-07-21 20:43:08,456] Trial 23 finished with value: 0.752095206168287 and parameters: {'lr_c': 1162078510.3610432, 'lr_tol': 0.041969368955838506, 'lr_solver': 'liblinear', 'lr_penalty': 'l1'}. Best is trial 24 with value: 0.7799195440831378.\n",
      "[I 2023-07-21 20:43:12,035] Trial 81 finished with value: 0.7705330204492122 and parameters: {'lr_c': 932133997.0840781, 'lr_tol': 0.02641777154769756, 'lr_solver': 'liblinear', 'lr_penalty': 'l2'}. Best is trial 24 with value: 0.7799195440831378.\n",
      "[I 2023-07-21 20:43:13,934] Trial 74 finished with value: 0.7477371773382501 and parameters: {'lr_c': 9189695394.503462, 'lr_tol': 0.030391356457775243, 'lr_solver': 'liblinear', 'lr_penalty': 'l1'}. Best is trial 24 with value: 0.7799195440831378.\n",
      "[I 2023-07-21 20:43:16,677] Trial 56 finished with value: 0.7738853503184714 and parameters: {'lr_c': 1541551371.5783436, 'lr_tol': 0.023269326005765836, 'lr_solver': 'liblinear', 'lr_penalty': 'l2'}. Best is trial 24 with value: 0.7799195440831378.\n",
      "[I 2023-07-21 20:43:43,854] Trial 67 finished with value: 0.7163928930606772 and parameters: {'lr_c': 9235944420.356005, 'lr_tol': 0.0009765422013773451, 'lr_solver': 'liblinear', 'lr_penalty': 'l1'}. Best is trial 24 with value: 0.7799195440831378.\n",
      "[I 2023-07-21 20:44:15,147] Trial 84 finished with value: 0.7891384512236004 and parameters: {'lr_c': 5175816423.101691, 'lr_tol': 0.054518796926466155, 'lr_solver': 'saga', 'lr_penalty': 'l2'}. Best is trial 84 with value: 0.7891384512236004.\n",
      "[I 2023-07-21 20:44:19,119] Trial 60 finished with value: 0.7894736842105263 and parameters: {'lr_c': 5551428012.517555, 'lr_tol': 0.08885829107871503, 'lr_solver': 'saga', 'lr_penalty': 'l2'}. Best is trial 60 with value: 0.7894736842105263.\n",
      "[I 2023-07-21 20:44:25,595] Trial 99 finished with value: 0.7894736842105263 and parameters: {'lr_c': 8373125351.262838, 'lr_tol': 0.07788705430401541, 'lr_solver': 'saga', 'lr_penalty': 'l2'}. Best is trial 60 with value: 0.7894736842105263.\n",
      "[I 2023-07-21 20:44:26,113] Trial 95 finished with value: 0.7891384512236004 and parameters: {'lr_c': 230257822.01895428, 'lr_tol': 0.07132183522880771, 'lr_solver': 'saga', 'lr_penalty': 'l2'}. Best is trial 60 with value: 0.7894736842105263.\n",
      "[I 2023-07-21 20:44:29,486] Trial 36 finished with value: 0.7604760308414348 and parameters: {'lr_c': 2490022204.7168365, 'lr_tol': 0.09785359415311998, 'lr_solver': 'sag', 'lr_penalty': 'l2'}. Best is trial 60 with value: 0.7894736842105263.\n",
      "[I 2023-07-21 20:44:49,096] Trial 41 finished with value: 0.7894736842105263 and parameters: {'lr_c': 4613933989.724438, 'lr_tol': 0.05313393587910084, 'lr_solver': 'saga', 'lr_penalty': 'l2'}. Best is trial 60 with value: 0.7894736842105263.\n",
      "[I 2023-07-21 20:44:55,765] Trial 65 finished with value: 0.7889708347301374 and parameters: {'lr_c': 6677329177.740952, 'lr_tol': 0.09760056811127549, 'lr_solver': 'saga', 'lr_penalty': 'l1'}. Best is trial 60 with value: 0.7894736842105263.\n",
      "[I 2023-07-21 20:45:04,106] Trial 15 finished with value: 0.7894736842105263 and parameters: {'lr_c': 6850627747.63894, 'lr_tol': 0.07794898274924585, 'lr_solver': 'saga', 'lr_penalty': 'l1'}. Best is trial 60 with value: 0.7894736842105263.\n",
      "[I 2023-07-21 20:45:07,477] Trial 11 finished with value: 0.7668454575930271 and parameters: {'lr_c': 6808810780.234872, 'lr_tol': 0.07295389425447527, 'lr_solver': 'sag', 'lr_penalty': None}. Best is trial 60 with value: 0.7894736842105263.\n",
      "[I 2023-07-21 20:45:08,929] Trial 66 finished with value: 0.7894736842105263 and parameters: {'lr_c': 4461291209.078845, 'lr_tol': 0.08536554474845932, 'lr_solver': 'saga', 'lr_penalty': 'elasticnet', 'lr_l1_ratio': 0.7708048959174288}. Best is trial 60 with value: 0.7894736842105263.\n",
      "[I 2023-07-21 20:45:10,517] Trial 22 finished with value: 0.7668454575930271 and parameters: {'lr_c': 6647680750.400029, 'lr_tol': 0.07212587072684908, 'lr_solver': 'sag', 'lr_penalty': None}. Best is trial 60 with value: 0.7894736842105263.\n",
      "[I 2023-07-21 20:45:21,376] Trial 98 finished with value: 0.7891384512236004 and parameters: {'lr_c': 354155120.7393341, 'lr_tol': 0.0351038208781458, 'lr_solver': 'saga', 'lr_penalty': 'l2'}. Best is trial 60 with value: 0.7894736842105263.\n",
      "[I 2023-07-21 20:45:21,586] Trial 72 finished with value: 0.7621521957760644 and parameters: {'lr_c': 150274297.88416424, 'lr_tol': 0.08095350238332605, 'lr_solver': 'sag', 'lr_penalty': None}. Best is trial 60 with value: 0.7894736842105263.\n",
      "[I 2023-07-21 20:45:29,900] Trial 44 finished with value: 0.7894736842105263 and parameters: {'lr_c': 4769320532.414131, 'lr_tol': 0.09200529340096583, 'lr_solver': 'saga', 'lr_penalty': 'l1'}. Best is trial 60 with value: 0.7894736842105263.\n",
      "[I 2023-07-21 20:45:31,460] Trial 87 finished with value: 0.7852832718739524 and parameters: {'lr_c': 62507050.81591129, 'lr_tol': 0.029700576356130513, 'lr_solver': 'saga', 'lr_penalty': 'l2'}. Best is trial 60 with value: 0.7894736842105263.\n",
      "[I 2023-07-21 20:45:33,109] Trial 18 finished with value: 0.7894736842105263 and parameters: {'lr_c': 1715626199.2980237, 'lr_tol': 0.08637027784579075, 'lr_solver': 'saga', 'lr_penalty': 'elasticnet', 'lr_l1_ratio': 0.1300528665668862}. Best is trial 60 with value: 0.7894736842105263.\n",
      "[I 2023-07-21 20:45:39,843] Trial 32 finished with value: 0.7891384512236004 and parameters: {'lr_c': 4032867444.1389313, 'lr_tol': 0.05740673034793613, 'lr_solver': 'saga', 'lr_penalty': 'l1'}. Best is trial 60 with value: 0.7894736842105263.\n",
      "[I 2023-07-21 20:45:41,743] Trial 13 finished with value: 0.7852832718739524 and parameters: {'lr_c': 3969859500.9562454, 'lr_tol': 0.031111044789842533, 'lr_solver': 'saga', 'lr_penalty': 'l2'}. Best is trial 60 with value: 0.7894736842105263.\n",
      "[I 2023-07-21 20:45:46,566] Trial 35 finished with value: 0.7891384512236004 and parameters: {'lr_c': 6973834535.5828, 'lr_tol': 0.06389476532201117, 'lr_solver': 'saga', 'lr_penalty': 'elasticnet', 'lr_l1_ratio': 0.4675446638651951}. Best is trial 60 with value: 0.7894736842105263.\n",
      "[I 2023-07-21 20:46:10,380] Trial 31 finished with value: 0.7894736842105263 and parameters: {'lr_c': 7060002011.662582, 'lr_tol': 0.049434280803598823, 'lr_solver': 'saga', 'lr_penalty': 'elasticnet', 'lr_l1_ratio': 0.09482628080891764}. Best is trial 60 with value: 0.7894736842105263.\n",
      "/opt/conda/lib/python3.10/site-packages/sklearn/linear_model/_logistic.py:460: ConvergenceWarning: lbfgs failed to converge (status=1):\n",
      "STOP: TOTAL NO. of ITERATIONS REACHED LIMIT.\n",
      "\n",
      "Increase the number of iterations (max_iter) or scale the data as shown in:\n",
      "    https://scikit-learn.org/stable/modules/preprocessing.html\n",
      "Please also refer to the documentation for alternative solver options:\n",
      "    https://scikit-learn.org/stable/modules/linear_model.html#logistic-regression\n",
      "  n_iter_i = _check_optimize_result(\n",
      "[I 2023-07-21 20:46:55,077] Trial 2 finished with value: 0.7820985584981562 and parameters: {'lr_c': 7621788527.353365, 'lr_tol': 0.0352223791483368, 'lr_solver': 'lbfgs', 'lr_penalty': 'l2'}. Best is trial 60 with value: 0.7894736842105263.\n",
      "/opt/conda/lib/python3.10/site-packages/sklearn/linear_model/_logistic.py:460: ConvergenceWarning: lbfgs failed to converge (status=1):\n",
      "STOP: TOTAL NO. of ITERATIONS REACHED LIMIT.\n",
      "\n",
      "Increase the number of iterations (max_iter) or scale the data as shown in:\n",
      "    https://scikit-learn.org/stable/modules/preprocessing.html\n",
      "Please also refer to the documentation for alternative solver options:\n",
      "    https://scikit-learn.org/stable/modules/linear_model.html#logistic-regression\n",
      "  n_iter_i = _check_optimize_result(\n",
      "[I 2023-07-21 20:47:00,342] Trial 6 finished with value: 0.7820985584981562 and parameters: {'lr_c': 46231951.036515005, 'lr_tol': 0.0671816600496335, 'lr_solver': 'lbfgs', 'lr_penalty': None}. Best is trial 60 with value: 0.7894736842105263.\n",
      "/opt/conda/lib/python3.10/site-packages/sklearn/linear_model/_logistic.py:460: ConvergenceWarning: lbfgs failed to converge (status=1):\n",
      "STOP: TOTAL NO. of ITERATIONS REACHED LIMIT.\n",
      "\n",
      "Increase the number of iterations (max_iter) or scale the data as shown in:\n",
      "    https://scikit-learn.org/stable/modules/preprocessing.html\n",
      "Please also refer to the documentation for alternative solver options:\n",
      "    https://scikit-learn.org/stable/modules/linear_model.html#logistic-regression\n",
      "  n_iter_i = _check_optimize_result(\n",
      "[I 2023-07-21 20:47:01,362] Trial 1 finished with value: 0.7820985584981562 and parameters: {'lr_c': 9570351042.804619, 'lr_tol': 0.039559955355228195, 'lr_solver': 'lbfgs', 'lr_penalty': 'l2'}. Best is trial 60 with value: 0.7894736842105263.\n",
      "/opt/conda/lib/python3.10/site-packages/sklearn/linear_model/_logistic.py:460: ConvergenceWarning: lbfgs failed to converge (status=1):\n",
      "STOP: TOTAL NO. of ITERATIONS REACHED LIMIT.\n",
      "\n",
      "Increase the number of iterations (max_iter) or scale the data as shown in:\n",
      "    https://scikit-learn.org/stable/modules/preprocessing.html\n",
      "Please also refer to the documentation for alternative solver options:\n",
      "    https://scikit-learn.org/stable/modules/linear_model.html#logistic-regression\n",
      "  n_iter_i = _check_optimize_result(\n",
      "[I 2023-07-21 20:47:11,198] Trial 26 finished with value: 0.7820985584981562 and parameters: {'lr_c': 9343240618.762213, 'lr_tol': 0.04475391040800668, 'lr_solver': 'lbfgs', 'lr_penalty': None}. Best is trial 60 with value: 0.7894736842105263.\n",
      "/opt/conda/lib/python3.10/site-packages/sklearn/linear_model/_logistic.py:460: ConvergenceWarning: lbfgs failed to converge (status=1):\n",
      "STOP: TOTAL NO. of ITERATIONS REACHED LIMIT.\n",
      "\n",
      "Increase the number of iterations (max_iter) or scale the data as shown in:\n",
      "    https://scikit-learn.org/stable/modules/preprocessing.html\n",
      "Please also refer to the documentation for alternative solver options:\n",
      "    https://scikit-learn.org/stable/modules/linear_model.html#logistic-regression\n",
      "  n_iter_i = _check_optimize_result(\n",
      "[I 2023-07-21 20:47:13,090] Trial 63 finished with value: 0.7820985584981562 and parameters: {'lr_c': 4272587298.408961, 'lr_tol': 0.08764189266304219, 'lr_solver': 'lbfgs', 'lr_penalty': None}. Best is trial 60 with value: 0.7894736842105263.\n",
      "/opt/conda/lib/python3.10/site-packages/sklearn/linear_model/_logistic.py:460: ConvergenceWarning: lbfgs failed to converge (status=1):\n",
      "STOP: TOTAL NO. of ITERATIONS REACHED LIMIT.\n",
      "\n",
      "Increase the number of iterations (max_iter) or scale the data as shown in:\n",
      "    https://scikit-learn.org/stable/modules/preprocessing.html\n",
      "Please also refer to the documentation for alternative solver options:\n",
      "    https://scikit-learn.org/stable/modules/linear_model.html#logistic-regression\n",
      "  n_iter_i = _check_optimize_result(\n",
      "[I 2023-07-21 20:47:13,571] Trial 55 finished with value: 0.7820985584981562 and parameters: {'lr_c': 653195859.3490006, 'lr_tol': 0.003201534627130592, 'lr_solver': 'lbfgs', 'lr_penalty': None}. Best is trial 60 with value: 0.7894736842105263.\n",
      "[I 2023-07-21 20:47:15,714] Trial 59 finished with value: 0.7794166946027489 and parameters: {'lr_c': 7627391825.5182905, 'lr_tol': 0.01613939223228174, 'lr_solver': 'saga', 'lr_penalty': None}. Best is trial 60 with value: 0.7894736842105263.\n",
      "/opt/conda/lib/python3.10/site-packages/sklearn/linear_model/_logistic.py:460: ConvergenceWarning: lbfgs failed to converge (status=1):\n",
      "STOP: TOTAL NO. of ITERATIONS REACHED LIMIT.\n",
      "\n",
      "Increase the number of iterations (max_iter) or scale the data as shown in:\n",
      "    https://scikit-learn.org/stable/modules/preprocessing.html\n",
      "Please also refer to the documentation for alternative solver options:\n",
      "    https://scikit-learn.org/stable/modules/linear_model.html#logistic-regression\n",
      "  n_iter_i = _check_optimize_result(\n",
      "[I 2023-07-21 20:47:17,608] Trial 27 finished with value: 0.7820985584981562 and parameters: {'lr_c': 2995135669.7299457, 'lr_tol': 0.06685802313032352, 'lr_solver': 'lbfgs', 'lr_penalty': None}. Best is trial 60 with value: 0.7894736842105263.\n",
      "/opt/conda/lib/python3.10/site-packages/sklearn/linear_model/_logistic.py:460: ConvergenceWarning: lbfgs failed to converge (status=1):\n",
      "STOP: TOTAL NO. of ITERATIONS REACHED LIMIT.\n",
      "\n",
      "Increase the number of iterations (max_iter) or scale the data as shown in:\n",
      "    https://scikit-learn.org/stable/modules/preprocessing.html\n",
      "Please also refer to the documentation for alternative solver options:\n",
      "    https://scikit-learn.org/stable/modules/linear_model.html#logistic-regression\n",
      "  n_iter_i = _check_optimize_result(\n",
      "[I 2023-07-21 20:47:18,852] Trial 28 finished with value: 0.7820985584981562 and parameters: {'lr_c': 1093950463.179303, 'lr_tol': 0.0854664521776235, 'lr_solver': 'lbfgs', 'lr_penalty': None}. Best is trial 60 with value: 0.7894736842105263.\n",
      "/opt/conda/lib/python3.10/site-packages/sklearn/linear_model/_logistic.py:460: ConvergenceWarning: lbfgs failed to converge (status=1):\n",
      "STOP: TOTAL NO. of ITERATIONS REACHED LIMIT.\n",
      "\n",
      "Increase the number of iterations (max_iter) or scale the data as shown in:\n",
      "    https://scikit-learn.org/stable/modules/preprocessing.html\n",
      "Please also refer to the documentation for alternative solver options:\n",
      "    https://scikit-learn.org/stable/modules/linear_model.html#logistic-regression\n",
      "  n_iter_i = _check_optimize_result(\n",
      "[I 2023-07-21 20:47:20,707] Trial 61 finished with value: 0.7820985584981562 and parameters: {'lr_c': 3348252594.251775, 'lr_tol': 0.02815227637695495, 'lr_solver': 'lbfgs', 'lr_penalty': None}. Best is trial 60 with value: 0.7894736842105263.\n",
      "/opt/conda/lib/python3.10/site-packages/sklearn/linear_model/_logistic.py:460: ConvergenceWarning: lbfgs failed to converge (status=1):\n",
      "STOP: TOTAL NO. of ITERATIONS REACHED LIMIT.\n",
      "\n",
      "Increase the number of iterations (max_iter) or scale the data as shown in:\n",
      "    https://scikit-learn.org/stable/modules/preprocessing.html\n",
      "Please also refer to the documentation for alternative solver options:\n",
      "    https://scikit-learn.org/stable/modules/linear_model.html#logistic-regression\n",
      "  n_iter_i = _check_optimize_result(\n",
      "[I 2023-07-21 20:47:21,428] Trial 62 finished with value: 0.7820985584981562 and parameters: {'lr_c': 4135037205.588622, 'lr_tol': 0.01292464319757753, 'lr_solver': 'lbfgs', 'lr_penalty': None}. Best is trial 60 with value: 0.7894736842105263.\n",
      "/opt/conda/lib/python3.10/site-packages/sklearn/linear_model/_logistic.py:460: ConvergenceWarning: lbfgs failed to converge (status=1):\n",
      "STOP: TOTAL NO. of ITERATIONS REACHED LIMIT.\n",
      "\n",
      "Increase the number of iterations (max_iter) or scale the data as shown in:\n",
      "    https://scikit-learn.org/stable/modules/preprocessing.html\n",
      "Please also refer to the documentation for alternative solver options:\n",
      "    https://scikit-learn.org/stable/modules/linear_model.html#logistic-regression\n",
      "  n_iter_i = _check_optimize_result(\n",
      "[I 2023-07-21 20:47:21,819] Trial 71 finished with value: 0.7820985584981562 and parameters: {'lr_c': 1651015197.279223, 'lr_tol': 0.06086496184828343, 'lr_solver': 'lbfgs', 'lr_penalty': None}. Best is trial 60 with value: 0.7894736842105263.\n",
      "/opt/conda/lib/python3.10/site-packages/sklearn/linear_model/_logistic.py:460: ConvergenceWarning: lbfgs failed to converge (status=1):\n",
      "STOP: TOTAL NO. of ITERATIONS REACHED LIMIT.\n",
      "\n",
      "Increase the number of iterations (max_iter) or scale the data as shown in:\n",
      "    https://scikit-learn.org/stable/modules/preprocessing.html\n",
      "Please also refer to the documentation for alternative solver options:\n",
      "    https://scikit-learn.org/stable/modules/linear_model.html#logistic-regression\n",
      "  n_iter_i = _check_optimize_result(\n",
      "[I 2023-07-21 20:47:22,097] Trial 48 finished with value: 0.7820985584981562 and parameters: {'lr_c': 653130601.3931837, 'lr_tol': 0.06398682040068113, 'lr_solver': 'lbfgs', 'lr_penalty': None}. Best is trial 60 with value: 0.7894736842105263.\n",
      "[I 2023-07-21 20:47:57,204] Trial 75 finished with value: 0.7546094535702313 and parameters: {'lr_c': 3447544717.281421, 'lr_tol': 0.04891820561412853, 'lr_solver': 'sag', 'lr_penalty': None}. Best is trial 60 with value: 0.7894736842105263.\n",
      "[I 2023-07-21 20:48:58,778] Trial 43 finished with value: 0.7842775729131747 and parameters: {'lr_c': 5967595507.689367, 'lr_tol': 0.024894055680208176, 'lr_solver': 'saga', 'lr_penalty': 'l1'}. Best is trial 60 with value: 0.7894736842105263.\n",
      "[I 2023-07-21 20:51:06,720] Trial 37 finished with value: 0.7458933959101576 and parameters: {'lr_c': 6767001232.989506, 'lr_tol': 0.03638585391245172, 'lr_solver': 'sag', 'lr_penalty': None}. Best is trial 60 with value: 0.7894736842105263.\n",
      "[I 2023-07-21 20:51:42,571] Trial 97 finished with value: 0.7418706000670466 and parameters: {'lr_c': 61728141.80822778, 'lr_tol': 0.030358630497483698, 'lr_solver': 'sag', 'lr_penalty': 'l2'}. Best is trial 60 with value: 0.7894736842105263.\n",
      "[I 2023-07-21 20:51:52,469] Trial 79 finished with value: 0.7443848474689909 and parameters: {'lr_c': 7646876195.97384, 'lr_tol': 0.03541713546358387, 'lr_solver': 'sag', 'lr_penalty': 'l2'}. Best is trial 60 with value: 0.7894736842105263.\n",
      "[I 2023-07-21 20:52:34,030] Trial 86 finished with value: 0.7658397586322494 and parameters: {'lr_c': 136723176.92859006, 'lr_tol': 0.007342708473879611, 'lr_solver': 'saga', 'lr_penalty': 'l2'}. Best is trial 60 with value: 0.7894736842105263.\n",
      "[I 2023-07-21 20:52:46,509] Trial 40 finished with value: 0.7658397586322494 and parameters: {'lr_c': 3020658113.2787414, 'lr_tol': 0.007561642987664265, 'lr_solver': 'saga', 'lr_penalty': 'l2'}. Best is trial 60 with value: 0.7894736842105263.\n",
      "[I 2023-07-21 20:54:42,032] Trial 96 finished with value: 0.7427086825343614 and parameters: {'lr_c': 4392946.188156128, 'lr_tol': 0.02922881405810355, 'lr_solver': 'sag', 'lr_penalty': 'l2'}. Best is trial 60 with value: 0.7894736842105263.\n",
      "/opt/conda/lib/python3.10/site-packages/sklearn/linear_model/_sag.py:350: ConvergenceWarning: The max_iter was reached which means the coef_ did not converge\n",
      "  warnings.warn(\n",
      "[I 2023-07-21 20:55:02,934] Trial 83 finished with value: 0.7381830372108615 and parameters: {'lr_c': 38442248.43340682, 'lr_tol': 0.02382789557641366, 'lr_solver': 'sag', 'lr_penalty': 'l2'}. Best is trial 60 with value: 0.7894736842105263.\n",
      "/opt/conda/lib/python3.10/site-packages/sklearn/linear_model/_sag.py:350: ConvergenceWarning: The max_iter was reached which means the coef_ did not converge\n",
      "  warnings.warn(\n",
      "[I 2023-07-21 20:56:14,383] Trial 90 finished with value: 0.7376801877304727 and parameters: {'lr_c': 85512100.48439693, 'lr_tol': 0.0004396047325449584, 'lr_solver': 'sag', 'lr_penalty': 'l2'}. Best is trial 60 with value: 0.7894736842105263.\n"
     ]
    },
    {
     "ename": "KeyboardInterrupt",
     "evalue": "",
     "output_type": "error",
     "traceback": [
      "\u001b[0;31m---------------------------------------------------------------------------\u001b[0m",
      "\u001b[0;31mKeyboardInterrupt\u001b[0m                         Traceback (most recent call last)",
      "Cell \u001b[0;32mIn[18], line 1\u001b[0m\n\u001b[0;32m----> 1\u001b[0m \u001b[43mstudy2\u001b[49m\u001b[38;5;241;43m.\u001b[39;49m\u001b[43moptimize\u001b[49m\u001b[43m(\u001b[49m\u001b[43mobjective\u001b[49m\u001b[43m,\u001b[49m\u001b[43m \u001b[49m\u001b[43mn_trials\u001b[49m\u001b[38;5;241;43m=\u001b[39;49m\u001b[38;5;241;43m100\u001b[39;49m\u001b[43m,\u001b[49m\u001b[43m \u001b[49m\u001b[43mn_jobs\u001b[49m\u001b[38;5;241;43m=\u001b[39;49m\u001b[38;5;241;43m-\u001b[39;49m\u001b[38;5;241;43m1\u001b[39;49m\u001b[43m)\u001b[49m\n",
      "File \u001b[0;32m/opt/conda/lib/python3.10/site-packages/optuna/study/study.py:443\u001b[0m, in \u001b[0;36mStudy.optimize\u001b[0;34m(self, func, n_trials, timeout, n_jobs, catch, callbacks, gc_after_trial, show_progress_bar)\u001b[0m\n\u001b[1;32m    339\u001b[0m \u001b[38;5;28;01mdef\u001b[39;00m \u001b[38;5;21moptimize\u001b[39m(\n\u001b[1;32m    340\u001b[0m     \u001b[38;5;28mself\u001b[39m,\n\u001b[1;32m    341\u001b[0m     func: ObjectiveFuncType,\n\u001b[0;32m   (...)\u001b[0m\n\u001b[1;32m    348\u001b[0m     show_progress_bar: \u001b[38;5;28mbool\u001b[39m \u001b[38;5;241m=\u001b[39m \u001b[38;5;28;01mFalse\u001b[39;00m,\n\u001b[1;32m    349\u001b[0m ) \u001b[38;5;241m-\u001b[39m\u001b[38;5;241m>\u001b[39m \u001b[38;5;28;01mNone\u001b[39;00m:\n\u001b[1;32m    350\u001b[0m \u001b[38;5;250m    \u001b[39m\u001b[38;5;124;03m\"\"\"Optimize an objective function.\u001b[39;00m\n\u001b[1;32m    351\u001b[0m \n\u001b[1;32m    352\u001b[0m \u001b[38;5;124;03m    Optimization is done by choosing a suitable set of hyperparameter values from a given\u001b[39;00m\n\u001b[0;32m   (...)\u001b[0m\n\u001b[1;32m    440\u001b[0m \u001b[38;5;124;03m            If nested invocation of this method occurs.\u001b[39;00m\n\u001b[1;32m    441\u001b[0m \u001b[38;5;124;03m    \"\"\"\u001b[39;00m\n\u001b[0;32m--> 443\u001b[0m     \u001b[43m_optimize\u001b[49m\u001b[43m(\u001b[49m\n\u001b[1;32m    444\u001b[0m \u001b[43m        \u001b[49m\u001b[43mstudy\u001b[49m\u001b[38;5;241;43m=\u001b[39;49m\u001b[38;5;28;43mself\u001b[39;49m\u001b[43m,\u001b[49m\n\u001b[1;32m    445\u001b[0m \u001b[43m        \u001b[49m\u001b[43mfunc\u001b[49m\u001b[38;5;241;43m=\u001b[39;49m\u001b[43mfunc\u001b[49m\u001b[43m,\u001b[49m\n\u001b[1;32m    446\u001b[0m \u001b[43m        \u001b[49m\u001b[43mn_trials\u001b[49m\u001b[38;5;241;43m=\u001b[39;49m\u001b[43mn_trials\u001b[49m\u001b[43m,\u001b[49m\n\u001b[1;32m    447\u001b[0m \u001b[43m        \u001b[49m\u001b[43mtimeout\u001b[49m\u001b[38;5;241;43m=\u001b[39;49m\u001b[43mtimeout\u001b[49m\u001b[43m,\u001b[49m\n\u001b[1;32m    448\u001b[0m \u001b[43m        \u001b[49m\u001b[43mn_jobs\u001b[49m\u001b[38;5;241;43m=\u001b[39;49m\u001b[43mn_jobs\u001b[49m\u001b[43m,\u001b[49m\n\u001b[1;32m    449\u001b[0m \u001b[43m        \u001b[49m\u001b[43mcatch\u001b[49m\u001b[38;5;241;43m=\u001b[39;49m\u001b[38;5;28;43mtuple\u001b[39;49m\u001b[43m(\u001b[49m\u001b[43mcatch\u001b[49m\u001b[43m)\u001b[49m\u001b[43m \u001b[49m\u001b[38;5;28;43;01mif\u001b[39;49;00m\u001b[43m \u001b[49m\u001b[38;5;28;43misinstance\u001b[39;49m\u001b[43m(\u001b[49m\u001b[43mcatch\u001b[49m\u001b[43m,\u001b[49m\u001b[43m \u001b[49m\u001b[43mIterable\u001b[49m\u001b[43m)\u001b[49m\u001b[43m \u001b[49m\u001b[38;5;28;43;01melse\u001b[39;49;00m\u001b[43m \u001b[49m\u001b[43m(\u001b[49m\u001b[43mcatch\u001b[49m\u001b[43m,\u001b[49m\u001b[43m)\u001b[49m\u001b[43m,\u001b[49m\n\u001b[1;32m    450\u001b[0m \u001b[43m        \u001b[49m\u001b[43mcallbacks\u001b[49m\u001b[38;5;241;43m=\u001b[39;49m\u001b[43mcallbacks\u001b[49m\u001b[43m,\u001b[49m\n\u001b[1;32m    451\u001b[0m \u001b[43m        \u001b[49m\u001b[43mgc_after_trial\u001b[49m\u001b[38;5;241;43m=\u001b[39;49m\u001b[43mgc_after_trial\u001b[49m\u001b[43m,\u001b[49m\n\u001b[1;32m    452\u001b[0m \u001b[43m        \u001b[49m\u001b[43mshow_progress_bar\u001b[49m\u001b[38;5;241;43m=\u001b[39;49m\u001b[43mshow_progress_bar\u001b[49m\u001b[43m,\u001b[49m\n\u001b[1;32m    453\u001b[0m \u001b[43m    \u001b[49m\u001b[43m)\u001b[49m\n",
      "File \u001b[0;32m/opt/conda/lib/python3.10/site-packages/optuna/study/_optimize.py:85\u001b[0m, in \u001b[0;36m_optimize\u001b[0;34m(study, func, n_trials, timeout, n_jobs, catch, callbacks, gc_after_trial, show_progress_bar)\u001b[0m\n\u001b[1;32m     82\u001b[0m time_start \u001b[38;5;241m=\u001b[39m datetime\u001b[38;5;241m.\u001b[39mdatetime\u001b[38;5;241m.\u001b[39mnow()\n\u001b[1;32m     83\u001b[0m futures: Set[Future] \u001b[38;5;241m=\u001b[39m \u001b[38;5;28mset\u001b[39m()\n\u001b[0;32m---> 85\u001b[0m \u001b[38;5;28;01mwith\u001b[39;00m ThreadPoolExecutor(max_workers\u001b[38;5;241m=\u001b[39mn_jobs) \u001b[38;5;28;01mas\u001b[39;00m executor:\n\u001b[1;32m     86\u001b[0m     \u001b[38;5;28;01mfor\u001b[39;00m n_submitted_trials \u001b[38;5;129;01min\u001b[39;00m itertools\u001b[38;5;241m.\u001b[39mcount():\n\u001b[1;32m     87\u001b[0m         \u001b[38;5;28;01mif\u001b[39;00m study\u001b[38;5;241m.\u001b[39m_stop_flag:\n",
      "File \u001b[0;32m/opt/conda/lib/python3.10/concurrent/futures/_base.py:649\u001b[0m, in \u001b[0;36mExecutor.__exit__\u001b[0;34m(self, exc_type, exc_val, exc_tb)\u001b[0m\n\u001b[1;32m    648\u001b[0m \u001b[38;5;28;01mdef\u001b[39;00m \u001b[38;5;21m__exit__\u001b[39m(\u001b[38;5;28mself\u001b[39m, exc_type, exc_val, exc_tb):\n\u001b[0;32m--> 649\u001b[0m     \u001b[38;5;28;43mself\u001b[39;49m\u001b[38;5;241;43m.\u001b[39;49m\u001b[43mshutdown\u001b[49m\u001b[43m(\u001b[49m\u001b[43mwait\u001b[49m\u001b[38;5;241;43m=\u001b[39;49m\u001b[38;5;28;43;01mTrue\u001b[39;49;00m\u001b[43m)\u001b[49m\n\u001b[1;32m    650\u001b[0m     \u001b[38;5;28;01mreturn\u001b[39;00m \u001b[38;5;28;01mFalse\u001b[39;00m\n",
      "File \u001b[0;32m/opt/conda/lib/python3.10/concurrent/futures/thread.py:235\u001b[0m, in \u001b[0;36mThreadPoolExecutor.shutdown\u001b[0;34m(self, wait, cancel_futures)\u001b[0m\n\u001b[1;32m    233\u001b[0m \u001b[38;5;28;01mif\u001b[39;00m wait:\n\u001b[1;32m    234\u001b[0m     \u001b[38;5;28;01mfor\u001b[39;00m t \u001b[38;5;129;01min\u001b[39;00m \u001b[38;5;28mself\u001b[39m\u001b[38;5;241m.\u001b[39m_threads:\n\u001b[0;32m--> 235\u001b[0m         \u001b[43mt\u001b[49m\u001b[38;5;241;43m.\u001b[39;49m\u001b[43mjoin\u001b[49m\u001b[43m(\u001b[49m\u001b[43m)\u001b[49m\n",
      "File \u001b[0;32m/opt/conda/lib/python3.10/threading.py:1096\u001b[0m, in \u001b[0;36mThread.join\u001b[0;34m(self, timeout)\u001b[0m\n\u001b[1;32m   1093\u001b[0m     \u001b[38;5;28;01mraise\u001b[39;00m \u001b[38;5;167;01mRuntimeError\u001b[39;00m(\u001b[38;5;124m\"\u001b[39m\u001b[38;5;124mcannot join current thread\u001b[39m\u001b[38;5;124m\"\u001b[39m)\n\u001b[1;32m   1095\u001b[0m \u001b[38;5;28;01mif\u001b[39;00m timeout \u001b[38;5;129;01mis\u001b[39;00m \u001b[38;5;28;01mNone\u001b[39;00m:\n\u001b[0;32m-> 1096\u001b[0m     \u001b[38;5;28;43mself\u001b[39;49m\u001b[38;5;241;43m.\u001b[39;49m\u001b[43m_wait_for_tstate_lock\u001b[49m\u001b[43m(\u001b[49m\u001b[43m)\u001b[49m\n\u001b[1;32m   1097\u001b[0m \u001b[38;5;28;01melse\u001b[39;00m:\n\u001b[1;32m   1098\u001b[0m     \u001b[38;5;66;03m# the behavior of a negative timeout isn't documented, but\u001b[39;00m\n\u001b[1;32m   1099\u001b[0m     \u001b[38;5;66;03m# historically .join(timeout=x) for x<0 has acted as if timeout=0\u001b[39;00m\n\u001b[1;32m   1100\u001b[0m     \u001b[38;5;28mself\u001b[39m\u001b[38;5;241m.\u001b[39m_wait_for_tstate_lock(timeout\u001b[38;5;241m=\u001b[39m\u001b[38;5;28mmax\u001b[39m(timeout, \u001b[38;5;241m0\u001b[39m))\n",
      "File \u001b[0;32m/opt/conda/lib/python3.10/threading.py:1116\u001b[0m, in \u001b[0;36mThread._wait_for_tstate_lock\u001b[0;34m(self, block, timeout)\u001b[0m\n\u001b[1;32m   1113\u001b[0m     \u001b[38;5;28;01mreturn\u001b[39;00m\n\u001b[1;32m   1115\u001b[0m \u001b[38;5;28;01mtry\u001b[39;00m:\n\u001b[0;32m-> 1116\u001b[0m     \u001b[38;5;28;01mif\u001b[39;00m \u001b[43mlock\u001b[49m\u001b[38;5;241;43m.\u001b[39;49m\u001b[43macquire\u001b[49m\u001b[43m(\u001b[49m\u001b[43mblock\u001b[49m\u001b[43m,\u001b[49m\u001b[43m \u001b[49m\u001b[43mtimeout\u001b[49m\u001b[43m)\u001b[49m:\n\u001b[1;32m   1117\u001b[0m         lock\u001b[38;5;241m.\u001b[39mrelease()\n\u001b[1;32m   1118\u001b[0m         \u001b[38;5;28mself\u001b[39m\u001b[38;5;241m.\u001b[39m_stop()\n",
      "\u001b[0;31mKeyboardInterrupt\u001b[0m: "
     ]
    }
   ],
   "source": [
    "study2.optimize(objective, n_trials=100, n_jobs=-1)"
   ]
  },
  {
   "cell_type": "code",
   "execution_count": 19,
   "metadata": {},
   "outputs": [
    {
     "name": "stdout",
     "output_type": "stream",
     "text": [
      "Best trial: {'lr_c': 5551428012.517555, 'lr_tol': 0.08885829107871503, 'lr_solver': 'saga', 'lr_penalty': 'l2'}\n",
      "Best value: 0.7894736842105263\n"
     ]
    },
    {
     "name": "stderr",
     "output_type": "stream",
     "text": [
      "/opt/conda/lib/python3.10/site-packages/sklearn/linear_model/_sag.py:350: ConvergenceWarning: The max_iter was reached which means the coef_ did not converge\n",
      "  warnings.warn(\n",
      "[I 2023-07-21 20:57:07,685] Trial 94 finished with value: 0.7383506537043245 and parameters: {'lr_c': 169734579.67837048, 'lr_tol': 0.0010748008145344146, 'lr_solver': 'sag', 'lr_penalty': 'l2'}. Best is trial 60 with value: 0.7894736842105263.\n"
     ]
    }
   ],
   "source": [
    "print('Best trial:', study2.best_trial.params)\n",
    "print('Best value:', study2.best_value)"
   ]
  },
  {
   "cell_type": "code",
   "execution_count": 31,
   "metadata": {},
   "outputs": [
    {
     "data": {
      "text/html": [
       "<style>#sk-container-id-3 {color: black;}#sk-container-id-3 pre{padding: 0;}#sk-container-id-3 div.sk-toggleable {background-color: white;}#sk-container-id-3 label.sk-toggleable__label {cursor: pointer;display: block;width: 100%;margin-bottom: 0;padding: 0.3em;box-sizing: border-box;text-align: center;}#sk-container-id-3 label.sk-toggleable__label-arrow:before {content: \"▸\";float: left;margin-right: 0.25em;color: #696969;}#sk-container-id-3 label.sk-toggleable__label-arrow:hover:before {color: black;}#sk-container-id-3 div.sk-estimator:hover label.sk-toggleable__label-arrow:before {color: black;}#sk-container-id-3 div.sk-toggleable__content {max-height: 0;max-width: 0;overflow: hidden;text-align: left;background-color: #f0f8ff;}#sk-container-id-3 div.sk-toggleable__content pre {margin: 0.2em;color: black;border-radius: 0.25em;background-color: #f0f8ff;}#sk-container-id-3 input.sk-toggleable__control:checked~div.sk-toggleable__content {max-height: 200px;max-width: 100%;overflow: auto;}#sk-container-id-3 input.sk-toggleable__control:checked~label.sk-toggleable__label-arrow:before {content: \"▾\";}#sk-container-id-3 div.sk-estimator input.sk-toggleable__control:checked~label.sk-toggleable__label {background-color: #d4ebff;}#sk-container-id-3 div.sk-label input.sk-toggleable__control:checked~label.sk-toggleable__label {background-color: #d4ebff;}#sk-container-id-3 input.sk-hidden--visually {border: 0;clip: rect(1px 1px 1px 1px);clip: rect(1px, 1px, 1px, 1px);height: 1px;margin: -1px;overflow: hidden;padding: 0;position: absolute;width: 1px;}#sk-container-id-3 div.sk-estimator {font-family: monospace;background-color: #f0f8ff;border: 1px dotted black;border-radius: 0.25em;box-sizing: border-box;margin-bottom: 0.5em;}#sk-container-id-3 div.sk-estimator:hover {background-color: #d4ebff;}#sk-container-id-3 div.sk-parallel-item::after {content: \"\";width: 100%;border-bottom: 1px solid gray;flex-grow: 1;}#sk-container-id-3 div.sk-label:hover label.sk-toggleable__label {background-color: #d4ebff;}#sk-container-id-3 div.sk-serial::before {content: \"\";position: absolute;border-left: 1px solid gray;box-sizing: border-box;top: 0;bottom: 0;left: 50%;z-index: 0;}#sk-container-id-3 div.sk-serial {display: flex;flex-direction: column;align-items: center;background-color: white;padding-right: 0.2em;padding-left: 0.2em;position: relative;}#sk-container-id-3 div.sk-item {position: relative;z-index: 1;}#sk-container-id-3 div.sk-parallel {display: flex;align-items: stretch;justify-content: center;background-color: white;position: relative;}#sk-container-id-3 div.sk-item::before, #sk-container-id-3 div.sk-parallel-item::before {content: \"\";position: absolute;border-left: 1px solid gray;box-sizing: border-box;top: 0;bottom: 0;left: 50%;z-index: -1;}#sk-container-id-3 div.sk-parallel-item {display: flex;flex-direction: column;z-index: 1;position: relative;background-color: white;}#sk-container-id-3 div.sk-parallel-item:first-child::after {align-self: flex-end;width: 50%;}#sk-container-id-3 div.sk-parallel-item:last-child::after {align-self: flex-start;width: 50%;}#sk-container-id-3 div.sk-parallel-item:only-child::after {width: 0;}#sk-container-id-3 div.sk-dashed-wrapped {border: 1px dashed gray;margin: 0 0.4em 0.5em 0.4em;box-sizing: border-box;padding-bottom: 0.4em;background-color: white;}#sk-container-id-3 div.sk-label label {font-family: monospace;font-weight: bold;display: inline-block;line-height: 1.2em;}#sk-container-id-3 div.sk-label-container {text-align: center;}#sk-container-id-3 div.sk-container {/* jupyter's `normalize.less` sets `[hidden] { display: none; }` but bootstrap.min.css set `[hidden] { display: none !important; }` so we also need the `!important` here to be able to override the default hidden behavior on the sphinx rendered scikit-learn.org. See: https://github.com/scikit-learn/scikit-learn/issues/21755 */display: inline-block !important;position: relative;}#sk-container-id-3 div.sk-text-repr-fallback {display: none;}</style><div id=\"sk-container-id-3\" class=\"sk-top-container\"><div class=\"sk-text-repr-fallback\"><pre>LogisticRegression(C=5551428012.51755, max_iter=1000, n_jobs=-1,\n",
       "                   random_state=42, solver=&#x27;saga&#x27;, tol=0.08885829107871503)</pre><b>In a Jupyter environment, please rerun this cell to show the HTML representation or trust the notebook. <br />On GitHub, the HTML representation is unable to render, please try loading this page with nbviewer.org.</b></div><div class=\"sk-container\" hidden><div class=\"sk-item\"><div class=\"sk-estimator sk-toggleable\"><input class=\"sk-toggleable__control sk-hidden--visually\" id=\"sk-estimator-id-3\" type=\"checkbox\" checked><label for=\"sk-estimator-id-3\" class=\"sk-toggleable__label sk-toggleable__label-arrow\">LogisticRegression</label><div class=\"sk-toggleable__content\"><pre>LogisticRegression(C=5551428012.51755, max_iter=1000, n_jobs=-1,\n",
       "                   random_state=42, solver=&#x27;saga&#x27;, tol=0.08885829107871503)</pre></div></div></div></div></div>"
      ],
      "text/plain": [
       "LogisticRegression(C=5551428012.51755, max_iter=1000, n_jobs=-1,\n",
       "                   random_state=42, solver='saga', tol=0.08885829107871503)"
      ]
     },
     "execution_count": 31,
     "metadata": {},
     "output_type": "execute_result"
    }
   ],
   "source": [
    "tuned_tvlr = LogisticRegression(max_iter=1000, C=5551428012.51755, tol=0.08885829107871503, solver='saga', penalty='l2', n_jobs=-1, random_state=42)\n",
    "tuned_tvlr.fit(X_train, y_train)"
   ]
  },
  {
   "cell_type": "code",
   "execution_count": 32,
   "metadata": {},
   "outputs": [
    {
     "name": "stdout",
     "output_type": "stream",
     "text": [
      "Train Accuracy: 0.8717359290255379\n",
      "Validation Accuracy: 0.7894736842105263\n",
      "Test Accuracy: 0.771409418468242\n"
     ]
    }
   ],
   "source": [
    "calc_acc(tuned_tvlr, X_train, y_train, X_val, y_val, X_test, y_test)"
   ]
  },
  {
   "cell_type": "markdown",
   "metadata": {},
   "source": [
    "## Ensemble Modell"
   ]
  },
  {
   "cell_type": "code",
   "execution_count": 53,
   "metadata": {},
   "outputs": [],
   "source": [
    "model1 = LogisticRegression(max_iter=1000, C=5551428012.51755, tol=0.08885829107871503, solver='saga', penalty='l2', n_jobs=-1, random_state=42)\n",
    "model2 = make_pipeline(StandardScaler(), CalibratedClassifierCV(LinearSVC(C=1.970617278279593, tol=0.08535792011125493, max_iter=4692, class_weight=None, penalty='l2', random_state=42, dual=False)))\n",
    "model3 = RandomForestClassifier(random_state=42, verbose=1, n_jobs=-1)"
   ]
  },
  {
   "cell_type": "code",
   "execution_count": 54,
   "metadata": {},
   "outputs": [],
   "source": [
    "ensemble_model = VotingClassifier(estimators=[('lr', model1), ('svc', model2), ('rf', model3)], voting='soft')"
   ]
  },
  {
   "cell_type": "code",
   "execution_count": 55,
   "metadata": {},
   "outputs": [
    {
     "name": "stderr",
     "output_type": "stream",
     "text": [
      "[Parallel(n_jobs=-1)]: Using backend ThreadingBackend with 128 concurrent workers.\n",
      "[Parallel(n_jobs=-1)]: Done  47 out of 100 | elapsed:    2.2s remaining:    2.5s\n",
      "[Parallel(n_jobs=-1)]: Done 100 out of 100 | elapsed:    2.5s finished\n"
     ]
    },
    {
     "data": {
      "text/html": [
       "<style>#sk-container-id-5 {color: black;}#sk-container-id-5 pre{padding: 0;}#sk-container-id-5 div.sk-toggleable {background-color: white;}#sk-container-id-5 label.sk-toggleable__label {cursor: pointer;display: block;width: 100%;margin-bottom: 0;padding: 0.3em;box-sizing: border-box;text-align: center;}#sk-container-id-5 label.sk-toggleable__label-arrow:before {content: \"▸\";float: left;margin-right: 0.25em;color: #696969;}#sk-container-id-5 label.sk-toggleable__label-arrow:hover:before {color: black;}#sk-container-id-5 div.sk-estimator:hover label.sk-toggleable__label-arrow:before {color: black;}#sk-container-id-5 div.sk-toggleable__content {max-height: 0;max-width: 0;overflow: hidden;text-align: left;background-color: #f0f8ff;}#sk-container-id-5 div.sk-toggleable__content pre {margin: 0.2em;color: black;border-radius: 0.25em;background-color: #f0f8ff;}#sk-container-id-5 input.sk-toggleable__control:checked~div.sk-toggleable__content {max-height: 200px;max-width: 100%;overflow: auto;}#sk-container-id-5 input.sk-toggleable__control:checked~label.sk-toggleable__label-arrow:before {content: \"▾\";}#sk-container-id-5 div.sk-estimator input.sk-toggleable__control:checked~label.sk-toggleable__label {background-color: #d4ebff;}#sk-container-id-5 div.sk-label input.sk-toggleable__control:checked~label.sk-toggleable__label {background-color: #d4ebff;}#sk-container-id-5 input.sk-hidden--visually {border: 0;clip: rect(1px 1px 1px 1px);clip: rect(1px, 1px, 1px, 1px);height: 1px;margin: -1px;overflow: hidden;padding: 0;position: absolute;width: 1px;}#sk-container-id-5 div.sk-estimator {font-family: monospace;background-color: #f0f8ff;border: 1px dotted black;border-radius: 0.25em;box-sizing: border-box;margin-bottom: 0.5em;}#sk-container-id-5 div.sk-estimator:hover {background-color: #d4ebff;}#sk-container-id-5 div.sk-parallel-item::after {content: \"\";width: 100%;border-bottom: 1px solid gray;flex-grow: 1;}#sk-container-id-5 div.sk-label:hover label.sk-toggleable__label {background-color: #d4ebff;}#sk-container-id-5 div.sk-serial::before {content: \"\";position: absolute;border-left: 1px solid gray;box-sizing: border-box;top: 0;bottom: 0;left: 50%;z-index: 0;}#sk-container-id-5 div.sk-serial {display: flex;flex-direction: column;align-items: center;background-color: white;padding-right: 0.2em;padding-left: 0.2em;position: relative;}#sk-container-id-5 div.sk-item {position: relative;z-index: 1;}#sk-container-id-5 div.sk-parallel {display: flex;align-items: stretch;justify-content: center;background-color: white;position: relative;}#sk-container-id-5 div.sk-item::before, #sk-container-id-5 div.sk-parallel-item::before {content: \"\";position: absolute;border-left: 1px solid gray;box-sizing: border-box;top: 0;bottom: 0;left: 50%;z-index: -1;}#sk-container-id-5 div.sk-parallel-item {display: flex;flex-direction: column;z-index: 1;position: relative;background-color: white;}#sk-container-id-5 div.sk-parallel-item:first-child::after {align-self: flex-end;width: 50%;}#sk-container-id-5 div.sk-parallel-item:last-child::after {align-self: flex-start;width: 50%;}#sk-container-id-5 div.sk-parallel-item:only-child::after {width: 0;}#sk-container-id-5 div.sk-dashed-wrapped {border: 1px dashed gray;margin: 0 0.4em 0.5em 0.4em;box-sizing: border-box;padding-bottom: 0.4em;background-color: white;}#sk-container-id-5 div.sk-label label {font-family: monospace;font-weight: bold;display: inline-block;line-height: 1.2em;}#sk-container-id-5 div.sk-label-container {text-align: center;}#sk-container-id-5 div.sk-container {/* jupyter's `normalize.less` sets `[hidden] { display: none; }` but bootstrap.min.css set `[hidden] { display: none !important; }` so we also need the `!important` here to be able to override the default hidden behavior on the sphinx rendered scikit-learn.org. See: https://github.com/scikit-learn/scikit-learn/issues/21755 */display: inline-block !important;position: relative;}#sk-container-id-5 div.sk-text-repr-fallback {display: none;}</style><div id=\"sk-container-id-5\" class=\"sk-top-container\"><div class=\"sk-text-repr-fallback\"><pre>VotingClassifier(estimators=[(&#x27;lr&#x27;,\n",
       "                              LogisticRegression(C=5551428012.51755,\n",
       "                                                 max_iter=1000, n_jobs=-1,\n",
       "                                                 random_state=42, solver=&#x27;saga&#x27;,\n",
       "                                                 tol=0.08885829107871503)),\n",
       "                             (&#x27;svc&#x27;,\n",
       "                              Pipeline(steps=[(&#x27;standardscaler&#x27;,\n",
       "                                               StandardScaler()),\n",
       "                                              (&#x27;calibratedclassifiercv&#x27;,\n",
       "                                               CalibratedClassifierCV(estimator=LinearSVC(C=1.970617278279593,\n",
       "                                                                                          dual=False,\n",
       "                                                                                          max_iter=4692,\n",
       "                                                                                          random_state=42,\n",
       "                                                                                          tol=0.08535792011125493)))])),\n",
       "                             (&#x27;rf&#x27;,\n",
       "                              RandomForestClassifier(n_jobs=-1, random_state=42,\n",
       "                                                     verbose=1))],\n",
       "                 voting=&#x27;soft&#x27;)</pre><b>In a Jupyter environment, please rerun this cell to show the HTML representation or trust the notebook. <br />On GitHub, the HTML representation is unable to render, please try loading this page with nbviewer.org.</b></div><div class=\"sk-container\" hidden><div class=\"sk-item sk-dashed-wrapped\"><div class=\"sk-label-container\"><div class=\"sk-label sk-toggleable\"><input class=\"sk-toggleable__control sk-hidden--visually\" id=\"sk-estimator-id-7\" type=\"checkbox\" ><label for=\"sk-estimator-id-7\" class=\"sk-toggleable__label sk-toggleable__label-arrow\">VotingClassifier</label><div class=\"sk-toggleable__content\"><pre>VotingClassifier(estimators=[(&#x27;lr&#x27;,\n",
       "                              LogisticRegression(C=5551428012.51755,\n",
       "                                                 max_iter=1000, n_jobs=-1,\n",
       "                                                 random_state=42, solver=&#x27;saga&#x27;,\n",
       "                                                 tol=0.08885829107871503)),\n",
       "                             (&#x27;svc&#x27;,\n",
       "                              Pipeline(steps=[(&#x27;standardscaler&#x27;,\n",
       "                                               StandardScaler()),\n",
       "                                              (&#x27;calibratedclassifiercv&#x27;,\n",
       "                                               CalibratedClassifierCV(estimator=LinearSVC(C=1.970617278279593,\n",
       "                                                                                          dual=False,\n",
       "                                                                                          max_iter=4692,\n",
       "                                                                                          random_state=42,\n",
       "                                                                                          tol=0.08535792011125493)))])),\n",
       "                             (&#x27;rf&#x27;,\n",
       "                              RandomForestClassifier(n_jobs=-1, random_state=42,\n",
       "                                                     verbose=1))],\n",
       "                 voting=&#x27;soft&#x27;)</pre></div></div></div><div class=\"sk-parallel\"><div class=\"sk-parallel-item\"><div class=\"sk-item\"><div class=\"sk-label-container\"><div class=\"sk-label sk-toggleable\"><label>lr</label></div></div><div class=\"sk-serial\"><div class=\"sk-item\"><div class=\"sk-estimator sk-toggleable\"><input class=\"sk-toggleable__control sk-hidden--visually\" id=\"sk-estimator-id-8\" type=\"checkbox\" ><label for=\"sk-estimator-id-8\" class=\"sk-toggleable__label sk-toggleable__label-arrow\">LogisticRegression</label><div class=\"sk-toggleable__content\"><pre>LogisticRegression(C=5551428012.51755, max_iter=1000, n_jobs=-1,\n",
       "                   random_state=42, solver=&#x27;saga&#x27;, tol=0.08885829107871503)</pre></div></div></div></div></div></div><div class=\"sk-parallel-item\"><div class=\"sk-item\"><div class=\"sk-label-container\"><div class=\"sk-label sk-toggleable\"><label>svc</label></div></div><div class=\"sk-serial\"><div class=\"sk-item\"><div class=\"sk-serial\"><div class=\"sk-item\"><div class=\"sk-estimator sk-toggleable\"><input class=\"sk-toggleable__control sk-hidden--visually\" id=\"sk-estimator-id-9\" type=\"checkbox\" ><label for=\"sk-estimator-id-9\" class=\"sk-toggleable__label sk-toggleable__label-arrow\">StandardScaler</label><div class=\"sk-toggleable__content\"><pre>StandardScaler()</pre></div></div></div><div class=\"sk-item sk-dashed-wrapped\"><div class=\"sk-label-container\"><div class=\"sk-label sk-toggleable\"><input class=\"sk-toggleable__control sk-hidden--visually\" id=\"sk-estimator-id-10\" type=\"checkbox\" ><label for=\"sk-estimator-id-10\" class=\"sk-toggleable__label sk-toggleable__label-arrow\">calibratedclassifiercv: CalibratedClassifierCV</label><div class=\"sk-toggleable__content\"><pre>CalibratedClassifierCV(estimator=LinearSVC(C=1.970617278279593, dual=False,\n",
       "                                           max_iter=4692, random_state=42,\n",
       "                                           tol=0.08535792011125493))</pre></div></div></div><div class=\"sk-parallel\"><div class=\"sk-parallel-item\"><div class=\"sk-item\"><div class=\"sk-label-container\"><div class=\"sk-label sk-toggleable\"><input class=\"sk-toggleable__control sk-hidden--visually\" id=\"sk-estimator-id-11\" type=\"checkbox\" ><label for=\"sk-estimator-id-11\" class=\"sk-toggleable__label sk-toggleable__label-arrow\">estimator: LinearSVC</label><div class=\"sk-toggleable__content\"><pre>LinearSVC(C=1.970617278279593, dual=False, max_iter=4692, random_state=42,\n",
       "          tol=0.08535792011125493)</pre></div></div></div><div class=\"sk-serial\"><div class=\"sk-item\"><div class=\"sk-estimator sk-toggleable\"><input class=\"sk-toggleable__control sk-hidden--visually\" id=\"sk-estimator-id-12\" type=\"checkbox\" ><label for=\"sk-estimator-id-12\" class=\"sk-toggleable__label sk-toggleable__label-arrow\">LinearSVC</label><div class=\"sk-toggleable__content\"><pre>LinearSVC(C=1.970617278279593, dual=False, max_iter=4692, random_state=42,\n",
       "          tol=0.08535792011125493)</pre></div></div></div></div></div></div></div></div></div></div></div></div></div><div class=\"sk-parallel-item\"><div class=\"sk-item\"><div class=\"sk-label-container\"><div class=\"sk-label sk-toggleable\"><label>rf</label></div></div><div class=\"sk-serial\"><div class=\"sk-item\"><div class=\"sk-estimator sk-toggleable\"><input class=\"sk-toggleable__control sk-hidden--visually\" id=\"sk-estimator-id-13\" type=\"checkbox\" ><label for=\"sk-estimator-id-13\" class=\"sk-toggleable__label sk-toggleable__label-arrow\">RandomForestClassifier</label><div class=\"sk-toggleable__content\"><pre>RandomForestClassifier(n_jobs=-1, random_state=42, verbose=1)</pre></div></div></div></div></div></div></div></div></div></div>"
      ],
      "text/plain": [
       "VotingClassifier(estimators=[('lr',\n",
       "                              LogisticRegression(C=5551428012.51755,\n",
       "                                                 max_iter=1000, n_jobs=-1,\n",
       "                                                 random_state=42, solver='saga',\n",
       "                                                 tol=0.08885829107871503)),\n",
       "                             ('svc',\n",
       "                              Pipeline(steps=[('standardscaler',\n",
       "                                               StandardScaler()),\n",
       "                                              ('calibratedclassifiercv',\n",
       "                                               CalibratedClassifierCV(estimator=LinearSVC(C=1.970617278279593,\n",
       "                                                                                          dual=False,\n",
       "                                                                                          max_iter=4692,\n",
       "                                                                                          random_state=42,\n",
       "                                                                                          tol=0.08535792011125493)))])),\n",
       "                             ('rf',\n",
       "                              RandomForestClassifier(n_jobs=-1, random_state=42,\n",
       "                                                     verbose=1))],\n",
       "                 voting='soft')"
      ]
     },
     "execution_count": 55,
     "metadata": {},
     "output_type": "execute_result"
    }
   ],
   "source": [
    "ensemble_model.fit(X_train, y_train)"
   ]
  },
  {
   "cell_type": "code",
   "execution_count": 56,
   "metadata": {},
   "outputs": [
    {
     "name": "stderr",
     "output_type": "stream",
     "text": [
      "[Parallel(n_jobs=100)]: Using backend ThreadingBackend with 100 concurrent workers.\n",
      "[Parallel(n_jobs=100)]: Done   2 out of 100 | elapsed:    0.1s remaining:    3.2s\n",
      "[Parallel(n_jobs=100)]: Done 100 out of 100 | elapsed:    0.2s finished\n",
      "[Parallel(n_jobs=100)]: Using backend ThreadingBackend with 100 concurrent workers.\n",
      "[Parallel(n_jobs=100)]: Done   2 out of 100 | elapsed:    0.0s remaining:    2.0s\n",
      "[Parallel(n_jobs=100)]: Done 100 out of 100 | elapsed:    0.1s finished\n"
     ]
    },
    {
     "name": "stdout",
     "output_type": "stream",
     "text": [
      "Train Accuracy: 0.9516899536654574\n",
      "Validation Accuracy: 0.8007039892725444\n",
      "Test Accuracy: 0.7809619574325457\n"
     ]
    },
    {
     "name": "stderr",
     "output_type": "stream",
     "text": [
      "[Parallel(n_jobs=100)]: Using backend ThreadingBackend with 100 concurrent workers.\n",
      "[Parallel(n_jobs=100)]: Done   2 out of 100 | elapsed:    0.0s remaining:    2.0s\n",
      "[Parallel(n_jobs=100)]: Done 100 out of 100 | elapsed:    0.1s finished\n"
     ]
    }
   ],
   "source": [
    "calc_acc(ensemble_model, X_train, y_train, X_val, y_val, X_test, y_test)"
   ]
  },
  {
   "cell_type": "markdown",
   "metadata": {},
   "source": [
    "<a id=\"section5\"></a>\n",
    "<div style=\"background-color: #30475e; padding: 20px; margin-top: 140px; color: white; border-radius: 15px;\">\n",
    "    <h2 style=\"color: #f8a07e;\"><center>5. Diskussion und Interpretation der Ergebnisse</center></h2>\n",
    "</div>"
   ]
  },
  {
   "cell_type": "code",
   "execution_count": 72,
   "metadata": {},
   "outputs": [],
   "source": [
    "table_data = {\n",
    "    'Model': ['Logistische Regression (One Hot)', 'Random Forest (One Hot)', 'Random Forest (Varianzschwellenwert)',\n",
    "              'Logistische Regression (Count Vectorizer)', 'Random Forest (Count Vectorizer)', 'SVC (Count Vectorizer)',\n",
    "              'Logitische Regression (Tfidf)', 'Random Forest (Tfidf)', 'Linear SVC (Tfidf)',\n",
    "              'Linear SVC (Tfidf & Tuned)', 'Logistische Regression (Tfidf & Tuned)', 'Ensemble (LR & LSVC & RF)'],\n",
    "    'Validation Accuracy': [0.769,  0.711, 0.702, 0.793, 0.754, 0.771,  0.786, 0.749, 0.793, 0.796, 0.789, 0.800],\n",
    "    'Test Accuracy': [0.769, 0.705, 0.703, 0.769, 0.747, 0.753, 0.771, 0.739, 0.776, 0.776, 0.771, 0.780]\n",
    "}\n",
    "\n",
    "table_df = pd.DataFrame(table_data)"
   ]
  },
  {
   "cell_type": "code",
   "execution_count": 70,
   "metadata": {},
   "outputs": [],
   "source": [
    "def highlight_max(s):\n",
    "    '''\n",
    "    Markiere das Maximum in einer Serie gelb.\n",
    "    '''\n",
    "    is_max = s == s.max()\n",
    "    return ['background-color: yellow' if v else '' for v in is_max]"
   ]
  },
  {
   "cell_type": "code",
   "execution_count": 77,
   "metadata": {},
   "outputs": [
    {
     "data": {
      "text/html": [
       "<style type=\"text/css\">\n",
       "#T_af47b_row11_col1, #T_af47b_row11_col2 {\n",
       "  background-color: yellow;\n",
       "}\n",
       "</style>\n",
       "<table id=\"T_af47b\">\n",
       "  <thead>\n",
       "    <tr>\n",
       "      <th class=\"blank level0\" >&nbsp;</th>\n",
       "      <th id=\"T_af47b_level0_col0\" class=\"col_heading level0 col0\" >Model</th>\n",
       "      <th id=\"T_af47b_level0_col1\" class=\"col_heading level0 col1\" >Validation Accuracy</th>\n",
       "      <th id=\"T_af47b_level0_col2\" class=\"col_heading level0 col2\" >Test Accuracy</th>\n",
       "    </tr>\n",
       "  </thead>\n",
       "  <tbody>\n",
       "    <tr>\n",
       "      <th id=\"T_af47b_level0_row0\" class=\"row_heading level0 row0\" >0</th>\n",
       "      <td id=\"T_af47b_row0_col0\" class=\"data row0 col0\" >Logistische Regression (One Hot)</td>\n",
       "      <td id=\"T_af47b_row0_col1\" class=\"data row0 col1\" >0.769</td>\n",
       "      <td id=\"T_af47b_row0_col2\" class=\"data row0 col2\" >0.769</td>\n",
       "    </tr>\n",
       "    <tr>\n",
       "      <th id=\"T_af47b_level0_row1\" class=\"row_heading level0 row1\" >1</th>\n",
       "      <td id=\"T_af47b_row1_col0\" class=\"data row1 col0\" >Random Forest (One Hot)</td>\n",
       "      <td id=\"T_af47b_row1_col1\" class=\"data row1 col1\" >0.711</td>\n",
       "      <td id=\"T_af47b_row1_col2\" class=\"data row1 col2\" >0.705</td>\n",
       "    </tr>\n",
       "    <tr>\n",
       "      <th id=\"T_af47b_level0_row2\" class=\"row_heading level0 row2\" >2</th>\n",
       "      <td id=\"T_af47b_row2_col0\" class=\"data row2 col0\" >Random Forest (Varianzschwellenwert)</td>\n",
       "      <td id=\"T_af47b_row2_col1\" class=\"data row2 col1\" >0.702</td>\n",
       "      <td id=\"T_af47b_row2_col2\" class=\"data row2 col2\" >0.703</td>\n",
       "    </tr>\n",
       "    <tr>\n",
       "      <th id=\"T_af47b_level0_row3\" class=\"row_heading level0 row3\" >3</th>\n",
       "      <td id=\"T_af47b_row3_col0\" class=\"data row3 col0\" >Logistische Regression (Count Vectorizer)</td>\n",
       "      <td id=\"T_af47b_row3_col1\" class=\"data row3 col1\" >0.793</td>\n",
       "      <td id=\"T_af47b_row3_col2\" class=\"data row3 col2\" >0.769</td>\n",
       "    </tr>\n",
       "    <tr>\n",
       "      <th id=\"T_af47b_level0_row4\" class=\"row_heading level0 row4\" >4</th>\n",
       "      <td id=\"T_af47b_row4_col0\" class=\"data row4 col0\" >Random Forest (Count Vectorizer)</td>\n",
       "      <td id=\"T_af47b_row4_col1\" class=\"data row4 col1\" >0.754</td>\n",
       "      <td id=\"T_af47b_row4_col2\" class=\"data row4 col2\" >0.747</td>\n",
       "    </tr>\n",
       "    <tr>\n",
       "      <th id=\"T_af47b_level0_row5\" class=\"row_heading level0 row5\" >5</th>\n",
       "      <td id=\"T_af47b_row5_col0\" class=\"data row5 col0\" >SVC (Count Vectorizer)</td>\n",
       "      <td id=\"T_af47b_row5_col1\" class=\"data row5 col1\" >0.771</td>\n",
       "      <td id=\"T_af47b_row5_col2\" class=\"data row5 col2\" >0.753</td>\n",
       "    </tr>\n",
       "    <tr>\n",
       "      <th id=\"T_af47b_level0_row6\" class=\"row_heading level0 row6\" >6</th>\n",
       "      <td id=\"T_af47b_row6_col0\" class=\"data row6 col0\" >Logitische Regression (Tfidf)</td>\n",
       "      <td id=\"T_af47b_row6_col1\" class=\"data row6 col1\" >0.786</td>\n",
       "      <td id=\"T_af47b_row6_col2\" class=\"data row6 col2\" >0.771</td>\n",
       "    </tr>\n",
       "    <tr>\n",
       "      <th id=\"T_af47b_level0_row7\" class=\"row_heading level0 row7\" >7</th>\n",
       "      <td id=\"T_af47b_row7_col0\" class=\"data row7 col0\" >Random Forest (Tfidf)</td>\n",
       "      <td id=\"T_af47b_row7_col1\" class=\"data row7 col1\" >0.749</td>\n",
       "      <td id=\"T_af47b_row7_col2\" class=\"data row7 col2\" >0.739</td>\n",
       "    </tr>\n",
       "    <tr>\n",
       "      <th id=\"T_af47b_level0_row8\" class=\"row_heading level0 row8\" >8</th>\n",
       "      <td id=\"T_af47b_row8_col0\" class=\"data row8 col0\" >Linear SVC (Tfidf)</td>\n",
       "      <td id=\"T_af47b_row8_col1\" class=\"data row8 col1\" >0.793</td>\n",
       "      <td id=\"T_af47b_row8_col2\" class=\"data row8 col2\" >0.776</td>\n",
       "    </tr>\n",
       "    <tr>\n",
       "      <th id=\"T_af47b_level0_row9\" class=\"row_heading level0 row9\" >9</th>\n",
       "      <td id=\"T_af47b_row9_col0\" class=\"data row9 col0\" >Linear SVC (Tfidf & Tuned)</td>\n",
       "      <td id=\"T_af47b_row9_col1\" class=\"data row9 col1\" >0.796</td>\n",
       "      <td id=\"T_af47b_row9_col2\" class=\"data row9 col2\" >0.776</td>\n",
       "    </tr>\n",
       "    <tr>\n",
       "      <th id=\"T_af47b_level0_row10\" class=\"row_heading level0 row10\" >10</th>\n",
       "      <td id=\"T_af47b_row10_col0\" class=\"data row10 col0\" >Logistische Regression (Tfidf & Tuned)</td>\n",
       "      <td id=\"T_af47b_row10_col1\" class=\"data row10 col1\" >0.789</td>\n",
       "      <td id=\"T_af47b_row10_col2\" class=\"data row10 col2\" >0.771</td>\n",
       "    </tr>\n",
       "    <tr>\n",
       "      <th id=\"T_af47b_level0_row11\" class=\"row_heading level0 row11\" >11</th>\n",
       "      <td id=\"T_af47b_row11_col0\" class=\"data row11 col0\" >Ensemble (LR & LSVC & RF)</td>\n",
       "      <td id=\"T_af47b_row11_col1\" class=\"data row11 col1\" >0.800</td>\n",
       "      <td id=\"T_af47b_row11_col2\" class=\"data row11 col2\" >0.780</td>\n",
       "    </tr>\n",
       "  </tbody>\n",
       "</table>\n"
      ],
      "text/plain": [
       "<pandas.io.formats.style.Styler at 0x7f8dd4595c00>"
      ]
     },
     "execution_count": 77,
     "metadata": {},
     "output_type": "execute_result"
    }
   ],
   "source": [
    "df.style.format({'Validation Accuracy': \"{:.3f}\", 'Test Accuracy': \"{:.3f}\"}).apply(highlight_max, subset=['Test Accuracy', 'Validation Accuracy'])"
   ]
  },
  {
   "cell_type": "markdown",
   "metadata": {},
   "source": [
    "<a id=\"section6\"></a>\n",
    "<div style=\"background-color: #30475e; padding: 20px; margin-top: 140px; color: white; border-radius: 15px;\">\n",
    "    <h2 style=\"color: #f8a07e;\"><center>6. Schlussfolgerung und zukünftige Arbeit</center></h2>\n",
    "</div>"
   ]
  },
  {
   "cell_type": "markdown",
   "metadata": {},
   "source": [
    "<a id=\"section7\"></a>\n",
    "<div style=\"background-color: #30475e; padding: 20px; margin-top: 140px; color: white; border-radius: 15px;\">\n",
    "    <h2 style=\"color: #f8a07e;\"><center>7. Referenzen</center></h2>\n",
    "</div>"
   ]
  },
  {
   "cell_type": "markdown",
   "metadata": {},
   "source": [
    "[1] Yummly, \"About Yummly,\" Yummly. [Online]. Verfügbar: https://www.yummly.com/about. Zugriff am: 10-Juli-2023.  \n",
    "[2] P. Bruce und A. Bruce, Practical Statistics for Data Scientists. Sebastopol, CA: O'Reilly Media, 2017, S. 46."
   ]
  },
  {
   "cell_type": "code",
   "execution_count": null,
   "metadata": {},
   "outputs": [],
   "source": []
  }
 ],
 "metadata": {
  "kernelspec": {
   "display_name": "Python 3",
   "language": "python",
   "name": "python3"
  },
  "language_info": {
   "codemirror_mode": {
    "name": "ipython",
    "version": 3
   },
   "file_extension": ".py",
   "mimetype": "text/x-python",
   "name": "python",
   "nbconvert_exporter": "python",
   "pygments_lexer": "ipython3",
   "version": "3.8.8"
  }
 },
 "nbformat": 4,
 "nbformat_minor": 4
}
